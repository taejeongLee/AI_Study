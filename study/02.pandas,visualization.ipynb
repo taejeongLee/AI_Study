{
 "cells": [
  {
   "cell_type": "code",
   "execution_count": 1,
   "metadata": {},
   "outputs": [],
   "source": [
    "import sys\n",
    "import numpy as np\n",
    "import pandas as pd\n",
    "from pandas import Series, DataFrame\n",
    "from numpy import nan as NA\n",
    "import matplotlib.pyplot as plt"
   ]
  },
  {
   "cell_type": "code",
   "execution_count": 26,
   "metadata": {},
   "outputs": [
    {
     "ename": "NameError",
     "evalue": "name 'font_manager' is not defined",
     "output_type": "error",
     "traceback": [
      "\u001b[1;31m---------------------------------------------------------------------------\u001b[0m",
      "\u001b[1;31mNameError\u001b[0m                                 Traceback (most recent call last)",
      "\u001b[1;32m<ipython-input-26-9d4e12520ba2>\u001b[0m in \u001b[0;36m<module>\u001b[1;34m\u001b[0m\n\u001b[0;32m      2\u001b[0m \u001b[1;33m\u001b[0m\u001b[0m\n\u001b[0;32m      3\u001b[0m \u001b[0mfont_fname\u001b[0m \u001b[1;33m=\u001b[0m \u001b[1;34m'C:/Windows/Fonts/NanumGothic.ttf'\u001b[0m\u001b[1;33m\u001b[0m\u001b[0m\n\u001b[1;32m----> 4\u001b[1;33m \u001b[0mfont_family\u001b[0m \u001b[1;33m=\u001b[0m \u001b[0mfont_manager\u001b[0m\u001b[1;33m.\u001b[0m\u001b[0mFontProperties\u001b[0m\u001b[1;33m(\u001b[0m\u001b[0mfname\u001b[0m\u001b[1;33m=\u001b[0m\u001b[0mfont_fname\u001b[0m\u001b[1;33m)\u001b[0m\u001b[1;33m.\u001b[0m\u001b[0mget_name\u001b[0m\u001b[1;33m(\u001b[0m\u001b[1;33m)\u001b[0m\u001b[1;33m\u001b[0m\u001b[0m\n\u001b[0m\u001b[0;32m      5\u001b[0m \u001b[1;33m\u001b[0m\u001b[0m\n\u001b[0;32m      6\u001b[0m \u001b[0mprint\u001b[0m\u001b[1;33m(\u001b[0m\u001b[0mfont_family\u001b[0m\u001b[1;33m)\u001b[0m\u001b[1;33m\u001b[0m\u001b[0m\n",
      "\u001b[1;31mNameError\u001b[0m: name 'font_manager' is not defined"
     ]
    }
   ],
   "source": [
    "import matplotlib.font_manager as fm\n",
    "\n",
    "font_fname = 'C:/Windows/Fonts/NanumGothic.ttf'\n",
    "font_family = font_manager.FontProperties(fname=font_fname).get_name()\n",
    "\n",
    "print(font_family)"
   ]
  },
  {
   "cell_type": "markdown",
   "metadata": {},
   "source": [
    "# 중요!!!!!!!!!!!!!!!!!!!!!!\n",
    "- Module2\n",
    "\n",
    "    -Part 02. 빅데이터 전처리 및 시각화\n",
    "    \n",
    "        02. pandas"
   ]
  },
  {
   "cell_type": "markdown",
   "metadata": {},
   "source": [
    "##### Series p.264"
   ]
  },
  {
   "cell_type": "code",
   "execution_count": 4,
   "metadata": {},
   "outputs": [
    {
     "name": "stdout",
     "output_type": "stream",
     "text": [
      "Series\n",
      "0    14\n",
      "1   -27\n",
      "2    35\n",
      "3    73\n",
      "dtype: int64\n",
      "value\n",
      "[ 14 -27  35  73]\n",
      "index\n",
      "RangeIndex(start=0, stop=4, step=1)\n"
     ]
    }
   ],
   "source": [
    "obj = Series([14, -27, 35, 73]) # 기본 색인은 인덱스 번호\n",
    "print(\"Series\\n{0}\\nvalue\\n{1}\\nindex\\n{2}\".format(obj, obj.values, obj.index))"
   ]
  },
  {
   "cell_type": "code",
   "execution_count": 6,
   "metadata": {},
   "outputs": [
    {
     "name": "stdout",
     "output_type": "stream",
     "text": [
      "Series\n",
      "kim    14\n",
      "lee   -27\n",
      "bae    35\n",
      "cho    73\n",
      "dtype: int64\n",
      "\n",
      "value\n",
      "[ 14 -27  35  73]\n",
      "index\n",
      "Index(['kim', 'lee', 'bae', 'cho'], dtype='object')\n",
      "\n",
      "Series['lee', 'cho']\n",
      "lee    59\n",
      "cho    73\n",
      "dtype: int64\n"
     ]
    }
   ],
   "source": [
    "obj = Series([14, -27, 35, 73], index = [\"kim\", \"lee\", \"bae\", \"cho\"]) # 색인은 index 인자로 입력\n",
    "print(\"Series\\n{0}\\n\\nvalue\\n{1}\\nindex\\n{2}\\n\".format(obj, obj.values, obj.index))\n",
    "obj[\"lee\"] = 59 # 색인을 이용하여 자료에 접근\n",
    "print(\"Series['lee', 'cho']\\n{0}\".format(obj[[\"lee\",\"cho\"]])) # 인덱스 접근은 괄호 2개 [[]]"
   ]
  },
  {
   "cell_type": "code",
   "execution_count": 8,
   "metadata": {},
   "outputs": [
    {
     "name": "stdout",
     "output_type": "stream",
     "text": [
      "obj\n",
      "kime    96\n",
      "lee     73\n",
      "bae     83\n",
      "cho     97\n",
      "jang    68\n",
      "kang    72\n",
      "dtype: int64\n",
      "\n",
      "obj1\n",
      "lee     83\n",
      "jang    78\n",
      "kang    82\n",
      "dtype: int64\n",
      "\n",
      "exp(obj1)\n",
      "lee     1.112864e+36\n",
      "jang    7.498417e+33\n",
      "kang    4.093997e+35\n",
      "dtype: float64\n"
     ]
    }
   ],
   "source": [
    "# Series 조건 추출\n",
    "obj = Series([96, 73, 83, 97, 68, 72], index = [\"kime\", \"lee\", \"bae\", \"cho\", \"jang\", \"kang\"])\n",
    "print(\"obj\\n{0}\\n\".format(obj))\n",
    "obj1 = obj[(obj>=60) & (obj<80)] + 10 # 인덱싱과 연산 후에도 Series 유지\n",
    "print(\"obj1\\n{0}\\n\\nexp(obj1)\\n{1}\".format(obj1, np.exp(obj1)))"
   ]
  },
  {
   "cell_type": "code",
   "execution_count": 9,
   "metadata": {},
   "outputs": [
    {
     "name": "stdout",
     "output_type": "stream",
     "text": [
      "obj\n",
      "econ    150.0\n",
      "stat    270.0\n",
      "engi      NaN\n",
      "math    210.0\n",
      "dtype: float64\n",
      "\n"
     ]
    }
   ],
   "source": [
    "# 사전을 Series 변환\n",
    "dic = {\"stat\" : 270, \"econ\" : 150, \"math\" : 210, \"comp\" : 175}\n",
    "obj2 = Series(dic, index = [\"econ\", \"stat\", \"engi\", \"math\"]) # index 인자를 추가하여 순서변경이나 색인 추가 가능\n",
    "print(\"obj\\n{0}\\n\".format(obj2))\n",
    "# 기존에 없던 색인 \"engi\"는 추가되나 결측값 처리"
   ]
  },
  {
   "cell_type": "markdown",
   "metadata": {},
   "source": [
    "      -isnull(), notnull()로 결측값 여부 체크"
   ]
  },
  {
   "cell_type": "code",
   "execution_count": 10,
   "metadata": {},
   "outputs": [
    {
     "name": "stdout",
     "output_type": "stream",
     "text": [
      "obj_sum = obj1 + obj2\n",
      "bae     166.0\n",
      "cho     155.0\n",
      "jang      NaN\n",
      "kang      NaN\n",
      "kim       NaN\n",
      "lee     140.0\n",
      "dtype: float64\n",
      "\n",
      "obj_sum\n",
      "choi\n",
      "bae     166.0\n",
      "cho     155.0\n",
      "jang      NaN\n",
      "kang      NaN\n",
      "kim       NaN\n",
      "lee     140.0\n",
      "Name: Total Score, dtype: float64\n"
     ]
    }
   ],
   "source": [
    "obj1 = Series([95, 75, 85, 95], index = [\"kim\", \"lee\", \"bae\", \"cho\"])\n",
    "obj2 = Series([65, 81, 73, 60, 91], index = ['lee', 'bae', 'jang', 'cho', 'kang'])\n",
    "obj_sum = obj1 + obj2\n",
    "print('obj_sum = obj1 + obj2\\n{0}\\n'.format(obj_sum))\n",
    "obj_sum.name = 'Total Score' # Series 이름\n",
    "obj_sum.index.name = 'choi' # 새로운 색인 추가(빈값)\n",
    "print('obj_sum\\n{0}'.format(obj_sum))\n",
    "# 색인을 기준으로 연산"
   ]
  },
  {
   "cell_type": "markdown",
   "metadata": {},
   "source": [
    "##### DataFrame p.268"
   ]
  },
  {
   "cell_type": "code",
   "execution_count": 17,
   "metadata": {},
   "outputs": [
    {
     "name": "stdout",
     "output_type": "stream",
     "text": [
      "DataFrame\n",
      "   mid  hw  fin gender\n",
      "0   30  10   29      M\n",
      "1   32   9   27      F\n",
      "2   28   7   31      M\n",
      "3   20   8   18      M\n",
      "4   19  10   21      F\n",
      "DataFrame\n",
      "  gender  hw  att  mid  fin\n",
      "0      M  10  NaN   30   29\n",
      "1      F   9  NaN   32   27\n",
      "2      M   7  NaN   28   31\n",
      "3      M   8  NaN   20   18\n",
      "4      F  10  NaN   19   21\n"
     ]
    }
   ],
   "source": [
    "data = {'mid':[30, 32, 28, 20, 19], 'hw':[10, 9, 7, 8, 10], 'fin':[29, 27, 31, 18, 21],\n",
    "       'gender':['M', 'F', 'M', 'M', 'F']} # 사전\n",
    "df = pd.DataFrame(data)\n",
    "print('DataFrame\\n{0}'.format(df))\n",
    "df = DataFrame(data, columns = ['gender', 'hw', 'att', 'mid', 'fin'])\n",
    "print(\"DataFrame\\n{0}\".format(df))\n",
    "# columns = []를 통해 순서 지정가능 / 없는 열이름은 결측값 처리"
   ]
  },
  {
   "cell_type": "code",
   "execution_count": 18,
   "metadata": {},
   "outputs": [
    {
     "name": "stdout",
     "output_type": "stream",
     "text": [
      "배열\n",
      "[[10 25 32 42]\n",
      " [85 75 96 45]\n",
      " [68 78 94 83]]\n",
      "\n",
      "DataFrame\n",
      "    0   1   2   3\n",
      "0  10  25  32  42\n",
      "1  85  75  96  45\n",
      "2  68  78  94  83\n",
      "\n",
      "DataFrame\n",
      "   V1  V2  V3  V4\n",
      "A  10  25  32  42\n",
      "B  85  75  96  45\n",
      "C  68  78  94  83\n",
      "\n"
     ]
    }
   ],
   "source": [
    "# 배열을 DataFrame으로 변환, 변수명 추가\n",
    "arr = np.array([[10, 25, 32, 42], [85, 75, 96, 45], [68, 78, 94, 83]]) # 배열\n",
    "print(\"배열\\n{0}\\n\".format(arr))\n",
    "df = DataFrame(arr) # 배열을 DataFrame으로 변경\n",
    "print(\"DataFrame\\n{0}\\n\".format(df))\n",
    "df = DataFrame(arr, columns = ['V1', 'V2', 'V3', 'V4'], index = ['A', 'B', 'C'])\n",
    "print(\"DataFrame\\n{0}\\n\".format(df))"
   ]
  },
  {
   "cell_type": "markdown",
   "metadata": {},
   "source": [
    "    - DataFrame 색인 p.269\n",
    "    - 행 추출 : loc[색인명], iloc[인덱스(n)], loc[[색인명]]\n",
    "    - 열 추출 : df[\"변수명\"] or df.변수명"
   ]
  },
  {
   "cell_type": "code",
   "execution_count": 21,
   "metadata": {
    "scrolled": true
   },
   "outputs": [
    {
     "name": "stdout",
     "output_type": "stream",
     "text": [
      "DataFrame\n",
      "         mid  hw  fin gender\n",
      "2017103   30  10   29      M\n",
      "2018212   32   9   27      F\n",
      "2017204   28   7   31      M\n",
      "2019137   20   8   18      M\n",
      "2018217   19  10   21      F\n",
      "\n",
      "행 색인 2017204\n",
      "mid       28\n",
      "hw         7\n",
      "fin       31\n",
      "gender     M\n",
      "Name: 2017204, dtype: object\n",
      "\n",
      "행 색인 2017204\n",
      "mid       28\n",
      "hw         7\n",
      "fin       31\n",
      "gender     M\n",
      "Name: 2017204, dtype: object\n",
      "\n",
      "행 인덱스 2\n",
      "mid       28\n",
      "hw         7\n",
      "fin       31\n",
      "gender     M\n",
      "Name: 2017204, dtype: object\n"
     ]
    },
    {
     "name": "stderr",
     "output_type": "stream",
     "text": [
      "C:\\ProgramData\\Anaconda3\\envs\\mypython\\lib\\site-packages\\ipykernel_launcher.py:5: DeprecationWarning: \n",
      ".ix is deprecated. Please use\n",
      ".loc for label based indexing or\n",
      ".iloc for positional indexing\n",
      "\n",
      "See the documentation here:\n",
      "http://pandas.pydata.org/pandas-docs/stable/indexing.html#ix-indexer-is-deprecated\n",
      "  \"\"\"\n"
     ]
    }
   ],
   "source": [
    "data = {'mid':[30, 32, 28, 20, 19], 'hw':[10, 9, 7, 8, 10], 'fin':[29, 27, 31, 18, 21],\n",
    "       'gender':['M', 'F', 'M', 'M', 'F']}\n",
    "df = pd.DataFrame(data, index = [2017103, 2018212, 2017204, 2019137, 2018217])\n",
    "print('DataFrame\\n{0}\\n'.format(df))\n",
    "print(\"행 색인 2017204\\n{0}\\n\".format(df.ix[2017204])) # 이건 곧 사라짐\n",
    "print(\"행 색인 2017204\\n{0}\\n\".format(df.loc[2017204])) # 어차피 결과값 같으니 이걸 사용\n",
    "print(\"행 인덱스 2\\n{0}\".format(df.iloc[2]))\n",
    "# loc[인덱스명]\n",
    "# iloc[n]"
   ]
  },
  {
   "cell_type": "code",
   "execution_count": 24,
   "metadata": {},
   "outputs": [
    {
     "name": "stdout",
     "output_type": "stream",
     "text": [
      "행 색인 2017204\n",
      "         mid  hw  fin gender\n",
      "2017204   28   7   31      M\n",
      "2017103   30  10   29      M\n",
      "\n",
      "열 색인 [gender]\n",
      "        gender  mid\n",
      "2017103      M   30\n",
      "2018212      F   32\n",
      "2017204      M   28\n",
      "2019137      M   20\n",
      "2018217      F   19\n"
     ]
    }
   ],
   "source": [
    "print(\"행 색인 2017204\\n{0}\\n\".format(df.loc[[2017204, 2017103]]))\n",
    "# 여러개 추출할 시 대괄호 2개 사용하기 [[]]\n",
    "print(\"열 색인 [gender]\\n{0}\".format(df[['gender','mid']])) # or df.gender 사용"
   ]
  },
  {
   "cell_type": "code",
   "execution_count": 28,
   "metadata": {},
   "outputs": [
    {
     "name": "stdout",
     "output_type": "stream",
     "text": [
      "DataFrame\n",
      "   mid  hw  fin gender   att\n",
      "0   30  10   29      M   8.0\n",
      "1   32   9   27      F  10.0\n",
      "2   28   7   31      M   NaN\n",
      "3   20   8   18      M   9.0\n",
      "4   19  10   21      F   NaN\n",
      "\n",
      "DataFrame 전치\n",
      "         0   1    2   3    4\n",
      "mid     30  32   28  20   19\n",
      "hw      10   9    7   8   10\n",
      "fin     29  27   31  18   21\n",
      "gender   M   F    M   M    F\n",
      "att      8  10  NaN   9  NaN\n",
      "\n",
      "mid, att열의 행 색인 [0,1,3]\n",
      "   mid   att\n",
      "1   32  10.0\n",
      "3   20   9.0\n",
      "0   30   8.0\n"
     ]
    }
   ],
   "source": [
    "val = Series([10, 9, 8, 7], index = [1, 3, 0, 5])\n",
    "df = DataFrame(data)\n",
    "df['att'] = val # DataFrame에 Series를 추가할 때 색인을 기준으로 추가\n",
    "print(\"DataFrame\\n{0}\\n\".format(df))\n",
    "print(\"DataFrame 전치\\n{0}\\n\".format(df.T))\n",
    "print(\"mid, att열의 행 색인 [0,1,3]\\n{0}\".format(df.iloc[[1, 3, 0]][['mid', 'att']]))"
   ]
  },
  {
   "cell_type": "markdown",
   "metadata": {},
   "source": [
    "    - 재색인 reindex() p.273\n",
    "    - mothod(행만 가능) = 'ffill', 'pad' -> 앞의 값 채우기 (sort된 인덱스의 순서에서 앞의 값)\n",
    "                       / 'bfill', 'packfill' -> 뒤의 값 채우기(행만 가능)\n",
    "    - 또는 fill_value = 숫자 (행, 열 둘다 가능)\n",
    "    - 행 색인만 가능"
   ]
  },
  {
   "cell_type": "code",
   "execution_count": 29,
   "metadata": {
    "scrolled": true
   },
   "outputs": [
    {
     "name": "stdout",
     "output_type": "stream",
     "text": [
      "obj\n",
      "kim    2.5\n",
      "cho    6.4\n",
      "bae    7.8\n",
      "lee    6.5\n",
      "dtype: float64\n",
      "\n",
      "obj\n",
      "bae     7.8\n",
      "cho     6.4\n",
      "choi    0.0\n",
      "kim     2.5\n",
      "lee     6.5\n",
      "dtype: float64\n",
      "\n",
      "obj3\n",
      "bae     7.8\n",
      "cho     6.4\n",
      "choi    0.0\n",
      "kang    2.5\n",
      "kim     2.5\n",
      "lee     6.5\n",
      "dtype: float64\n"
     ]
    }
   ],
   "source": [
    "obj = Series([2.5, 6.4, 7.8, 6.5,], index = ['kim', 'cho', 'bae', 'lee'])\n",
    "print('obj\\n{0}\\n'.format(obj))\n",
    "obj2 = obj.reindex(['bae', 'cho', 'choi', 'kim', 'lee'], fill_value = 0) #채우기 값 0\n",
    "print('obj\\n{0}\\n'.format(obj2))\n",
    "obj3 = obj2.reindex(['bae', 'cho', 'choi', 'kang', 'kim', 'lee'], method = 'bfill')\n",
    "print('obj3\\n{0}'.format(obj3))"
   ]
  },
  {
   "cell_type": "code",
   "execution_count": 32,
   "metadata": {
    "scrolled": true
   },
   "outputs": [
    {
     "name": "stdout",
     "output_type": "stream",
     "text": [
      "df\n",
      "         mid  hw  fin gender\n",
      "2017103   30  10   29      M\n",
      "2017204   32   9   27      F\n",
      "2018212   28   7   31      M\n",
      "2018217   20   8   18      M\n",
      "2019137   19  10   21      F\n",
      "\n",
      "df1\n",
      "         mid  hw  fin gender\n",
      "2017103   30  10   29      M\n",
      "2017204   32   9   27      F\n",
      "2018212   28   7   31      M\n",
      "2018217   20   8   18      M\n",
      "2019108    0   0    0      0\n",
      "2019137   19  10   21      F\n",
      "df2\n",
      "         att gender  hw  fin  mid\n",
      "2017103    0      M  10   29   30\n",
      "2017204    0      F   9   27   32\n",
      "2018212    0      M   7   31   28\n",
      "2018217    0      M   8   18   20\n",
      "2019108    0      0   0    0    0\n",
      "2019137    0      F  10   21   19\n",
      "\n",
      "df3\n",
      "         mid  hw  fin gender\n",
      "2017103   30  10   29      M\n",
      "2017204   32   9   27      F\n",
      "2018212   28   7   31      M\n",
      "2018217   20   8   18      M\n",
      "2019108   20   8   18      M\n",
      "2019137   19  10   21      F\n"
     ]
    }
   ],
   "source": [
    "data = {'mid':[30, 32, 28, 20, 19], 'hw':[10, 9, 7, 8, 10], 'fin':[29, 27, 31, 18, 21],\n",
    "       'gender':['M', 'F', 'M', 'M', 'F']}\n",
    "df = pd.DataFrame(data, index = [2017103, 2017204, 2018212, 2018217, 2019137])\n",
    "print('df\\n{0}\\n'.format(df))\n",
    "df1 = df.reindex([2017103, 2017204, 2018212, 2018217, 2019108, 2019137], fill_value = 0)\n",
    "print('df1\\n{0}'.format(df1))\n",
    "df2 = df.reindex([2017103, 2017204, 2018212, 2018217, 2019108, 2019137],\n",
    "                columns = ['att', 'gender', 'hw', 'fin', 'mid'], fill_value = 0)\n",
    "print('df2\\n{0}\\n'.format(df2))\n",
    "df3 = df.reindex([2017103, 2017204, 2018212, 2018217, 2019108, 2019137],method = 'ffill')\n",
    "print('df3\\n{0}'.format(df3))"
   ]
  },
  {
   "cell_type": "markdown",
   "metadata": {},
   "source": [
    "    - drop()메소드 : axis 옵션을 통해 행 또는 열 일부 제거 (디폴트 = 행)"
   ]
  },
  {
   "cell_type": "code",
   "execution_count": 39,
   "metadata": {
    "scrolled": true
   },
   "outputs": [
    {
     "name": "stdout",
     "output_type": "stream",
     "text": [
      "df\n",
      "        gender  att  hw  mid  fin\n",
      "2017103      M    9  10   30   29\n",
      "2017204      F   10   9   32   27\n",
      "2018212      M   10   7   28   31\n",
      "2018217      M    7   8   20   18\n",
      "2019137      F    8  10   19   21\n",
      "\n",
      "df1\n",
      "        gender  att  hw  mid  fin\n",
      "2017103      M    9  10   30   29\n",
      "2017204      F   10   9   32   27\n",
      "2018217      M    7   8   20   18\n",
      "2019137      F    8  10   19   21\n",
      "\n",
      "df2\n",
      "        gender  mid  fin\n",
      "2017103      M   30   29\n",
      "2017204      F   32   27\n",
      "2018212      M   28   31\n",
      "2018217      M   20   18\n",
      "2019137      F   19   21\n"
     ]
    }
   ],
   "source": [
    "data = {'gender':['M', 'F', 'M', 'M', 'F'], 'att':[9, 10, 10, 7, 8], 'hw':[10, 9, 7, 8, 10],\n",
    "       'mid':[30, 32, 28, 20, 19], 'fin':[29, 27, 31, 18, 21]}\n",
    "df = DataFrame(data, index = [2017103, 2017204, 2018212, 2018217, 2019137])\n",
    "df1 = df.drop(2018212) # 행 삭제\n",
    "df2 = df.drop(['att', 'hw'], axis = 1) # 열 삭제\n",
    "# 행렬과 DataFrame은 axis 0, 1이 서로 반대\n",
    "print('df\\n{0}\\n\\ndf1\\n{1}\\n\\ndf2\\n{2}'.format(df, df1, df2))"
   ]
  },
  {
   "cell_type": "markdown",
   "metadata": {},
   "source": [
    "    - 색인하기, 선택하기, 자르기\n",
    "    - 인덱스 선택시에는 대괄호 2개 [[]] / 슬라이싱 시에는 대괄호 1개 []"
   ]
  },
  {
   "cell_type": "code",
   "execution_count": 49,
   "metadata": {
    "scrolled": true
   },
   "outputs": [
    {
     "name": "stdout",
     "output_type": "stream",
     "text": [
      "[[0,2]]\n",
      "a    2.5\n",
      "e    7.8\n",
      "dtype: float64\n",
      "\n",
      "[2:5]\n",
      "e    7.8\n",
      "c    6.5\n",
      "f    8.5\n",
      "dtype: float64\n",
      "[['a','e']]\n",
      "a    2.5\n",
      "e    7.8\n",
      "dtype: float64\n",
      "\n",
      "['e':'f']\n",
      "e    7.8\n",
      "c    6.5\n",
      "f    8.5\n",
      "dtype: float64\n",
      "\n",
      "6이상의 값만 선택\n",
      "b    6.4\n",
      "e    7.8\n",
      "c    6.5\n",
      "f    8.5\n",
      "dtype: float64\n",
      "\n",
      "6이상의 값 NaN으로 변경\n",
      "a    2.5\n",
      "b    NaN\n",
      "e    NaN\n",
      "c    NaN\n",
      "f    NaN\n",
      "d    5.6\n",
      "dtype: float64\n"
     ]
    }
   ],
   "source": [
    "obj = Series([2.5, 6.4, 7.8, 6.5, 8.5, 5.6], index = ['a', 'b', 'e', 'c', 'f', 'd'])\n",
    "print('[[0,2]]\\n{0}\\n\\n[2:5]\\n{1}'.format(obj[[0,2]], obj[2:5]))\n",
    "print(\"[['a','e']]\\n{0}\\n\\n['e':'f']\\n{1}\\n\".format(obj[['a', 'e']], obj['e':'f']))\n",
    "# 인덱스 선택시에는 대괄호 2개 [[]] / 슬라이싱 시에는 대괄호 1개 []\n",
    "print(\"6이상의 값만 선택\\n{0}\\n\".format(obj[obj>=6]))\n",
    "obj[obj>=6] = float(\"NaN\") # 6이상의 자료를 NaN\n",
    "print(\"6이상의 값 NaN으로 변경\\n{0}\".format(obj))"
   ]
  },
  {
   "cell_type": "code",
   "execution_count": 106,
   "metadata": {
    "scrolled": true
   },
   "outputs": [
    {
     "data": {
      "text/html": [
       "<div>\n",
       "<style scoped>\n",
       "    .dataframe tbody tr th:only-of-type {\n",
       "        vertical-align: middle;\n",
       "    }\n",
       "\n",
       "    .dataframe tbody tr th {\n",
       "        vertical-align: top;\n",
       "    }\n",
       "\n",
       "    .dataframe thead th {\n",
       "        text-align: right;\n",
       "    }\n",
       "</style>\n",
       "<table border=\"1\" class=\"dataframe\">\n",
       "  <thead>\n",
       "    <tr style=\"text-align: right;\">\n",
       "      <th></th>\n",
       "      <th>gender</th>\n",
       "      <th>height</th>\n",
       "      <th>weight</th>\n",
       "    </tr>\n",
       "  </thead>\n",
       "  <tbody>\n",
       "    <tr>\n",
       "      <th>0</th>\n",
       "      <td>M</td>\n",
       "      <td>179.884953</td>\n",
       "      <td>68.086526</td>\n",
       "    </tr>\n",
       "    <tr>\n",
       "      <th>1</th>\n",
       "      <td>F</td>\n",
       "      <td>177.336024</td>\n",
       "      <td>73.974922</td>\n",
       "    </tr>\n",
       "    <tr>\n",
       "      <th>2</th>\n",
       "      <td>F</td>\n",
       "      <td>172.466535</td>\n",
       "      <td>64.857649</td>\n",
       "    </tr>\n",
       "    <tr>\n",
       "      <th>3</th>\n",
       "      <td>M</td>\n",
       "      <td>181.197575</td>\n",
       "      <td>69.430763</td>\n",
       "    </tr>\n",
       "    <tr>\n",
       "      <th>4</th>\n",
       "      <td>F</td>\n",
       "      <td>171.861083</td>\n",
       "      <td>71.137648</td>\n",
       "    </tr>\n",
       "    <tr>\n",
       "      <th>5</th>\n",
       "      <td>M</td>\n",
       "      <td>170.710363</td>\n",
       "      <td>71.712128</td>\n",
       "    </tr>\n",
       "    <tr>\n",
       "      <th>6</th>\n",
       "      <td>M</td>\n",
       "      <td>165.475344</td>\n",
       "      <td>72.550408</td>\n",
       "    </tr>\n",
       "    <tr>\n",
       "      <th>7</th>\n",
       "      <td>M</td>\n",
       "      <td>169.258562</td>\n",
       "      <td>68.149018</td>\n",
       "    </tr>\n",
       "    <tr>\n",
       "      <th>8</th>\n",
       "      <td>F</td>\n",
       "      <td>165.332423</td>\n",
       "      <td>70.355839</td>\n",
       "    </tr>\n",
       "    <tr>\n",
       "      <th>9</th>\n",
       "      <td>M</td>\n",
       "      <td>167.019815</td>\n",
       "      <td>66.228765</td>\n",
       "    </tr>\n",
       "    <tr>\n",
       "      <th>10</th>\n",
       "      <td>F</td>\n",
       "      <td>182.700104</td>\n",
       "      <td>63.956366</td>\n",
       "    </tr>\n",
       "    <tr>\n",
       "      <th>11</th>\n",
       "      <td>F</td>\n",
       "      <td>178.321956</td>\n",
       "      <td>66.905812</td>\n",
       "    </tr>\n",
       "    <tr>\n",
       "      <th>12</th>\n",
       "      <td>F</td>\n",
       "      <td>167.744721</td>\n",
       "      <td>70.295794</td>\n",
       "    </tr>\n",
       "    <tr>\n",
       "      <th>13</th>\n",
       "      <td>M</td>\n",
       "      <td>181.077187</td>\n",
       "      <td>72.074574</td>\n",
       "    </tr>\n",
       "    <tr>\n",
       "      <th>14</th>\n",
       "      <td>F</td>\n",
       "      <td>179.176950</td>\n",
       "      <td>72.496429</td>\n",
       "    </tr>\n",
       "    <tr>\n",
       "      <th>15</th>\n",
       "      <td>M</td>\n",
       "      <td>174.508258</td>\n",
       "      <td>73.469556</td>\n",
       "    </tr>\n",
       "    <tr>\n",
       "      <th>16</th>\n",
       "      <td>M</td>\n",
       "      <td>172.483406</td>\n",
       "      <td>66.872973</td>\n",
       "    </tr>\n",
       "    <tr>\n",
       "      <th>17</th>\n",
       "      <td>M</td>\n",
       "      <td>179.786752</td>\n",
       "      <td>67.797715</td>\n",
       "    </tr>\n",
       "    <tr>\n",
       "      <th>18</th>\n",
       "      <td>M</td>\n",
       "      <td>177.474859</td>\n",
       "      <td>67.902297</td>\n",
       "    </tr>\n",
       "    <tr>\n",
       "      <th>19</th>\n",
       "      <td>M</td>\n",
       "      <td>181.945893</td>\n",
       "      <td>64.656137</td>\n",
       "    </tr>\n",
       "    <tr>\n",
       "      <th>20</th>\n",
       "      <td>F</td>\n",
       "      <td>167.622165</td>\n",
       "      <td>66.257799</td>\n",
       "    </tr>\n",
       "    <tr>\n",
       "      <th>21</th>\n",
       "      <td>M</td>\n",
       "      <td>177.560591</td>\n",
       "      <td>62.864120</td>\n",
       "    </tr>\n",
       "    <tr>\n",
       "      <th>22</th>\n",
       "      <td>F</td>\n",
       "      <td>179.424048</td>\n",
       "      <td>67.761983</td>\n",
       "    </tr>\n",
       "    <tr>\n",
       "      <th>23</th>\n",
       "      <td>F</td>\n",
       "      <td>180.114118</td>\n",
       "      <td>66.493844</td>\n",
       "    </tr>\n",
       "    <tr>\n",
       "      <th>24</th>\n",
       "      <td>M</td>\n",
       "      <td>177.837736</td>\n",
       "      <td>65.234843</td>\n",
       "    </tr>\n",
       "    <tr>\n",
       "      <th>25</th>\n",
       "      <td>F</td>\n",
       "      <td>179.292791</td>\n",
       "      <td>66.357153</td>\n",
       "    </tr>\n",
       "    <tr>\n",
       "      <th>26</th>\n",
       "      <td>M</td>\n",
       "      <td>168.287796</td>\n",
       "      <td>64.821961</td>\n",
       "    </tr>\n",
       "    <tr>\n",
       "      <th>27</th>\n",
       "      <td>M</td>\n",
       "      <td>173.585386</td>\n",
       "      <td>65.496454</td>\n",
       "    </tr>\n",
       "    <tr>\n",
       "      <th>28</th>\n",
       "      <td>M</td>\n",
       "      <td>175.463589</td>\n",
       "      <td>73.922354</td>\n",
       "    </tr>\n",
       "    <tr>\n",
       "      <th>29</th>\n",
       "      <td>M</td>\n",
       "      <td>168.354332</td>\n",
       "      <td>72.486737</td>\n",
       "    </tr>\n",
       "    <tr>\n",
       "      <th>...</th>\n",
       "      <td>...</td>\n",
       "      <td>...</td>\n",
       "      <td>...</td>\n",
       "    </tr>\n",
       "    <tr>\n",
       "      <th>70</th>\n",
       "      <td>F</td>\n",
       "      <td>180.327874</td>\n",
       "      <td>70.505822</td>\n",
       "    </tr>\n",
       "    <tr>\n",
       "      <th>71</th>\n",
       "      <td>F</td>\n",
       "      <td>177.530741</td>\n",
       "      <td>71.949041</td>\n",
       "    </tr>\n",
       "    <tr>\n",
       "      <th>72</th>\n",
       "      <td>F</td>\n",
       "      <td>174.708030</td>\n",
       "      <td>70.918331</td>\n",
       "    </tr>\n",
       "    <tr>\n",
       "      <th>73</th>\n",
       "      <td>M</td>\n",
       "      <td>182.762819</td>\n",
       "      <td>71.195410</td>\n",
       "    </tr>\n",
       "    <tr>\n",
       "      <th>74</th>\n",
       "      <td>F</td>\n",
       "      <td>182.397415</td>\n",
       "      <td>68.644311</td>\n",
       "    </tr>\n",
       "    <tr>\n",
       "      <th>75</th>\n",
       "      <td>M</td>\n",
       "      <td>176.085796</td>\n",
       "      <td>67.445475</td>\n",
       "    </tr>\n",
       "    <tr>\n",
       "      <th>76</th>\n",
       "      <td>F</td>\n",
       "      <td>181.778315</td>\n",
       "      <td>71.293179</td>\n",
       "    </tr>\n",
       "    <tr>\n",
       "      <th>77</th>\n",
       "      <td>F</td>\n",
       "      <td>182.146510</td>\n",
       "      <td>70.770631</td>\n",
       "    </tr>\n",
       "    <tr>\n",
       "      <th>78</th>\n",
       "      <td>F</td>\n",
       "      <td>179.993468</td>\n",
       "      <td>67.870931</td>\n",
       "    </tr>\n",
       "    <tr>\n",
       "      <th>79</th>\n",
       "      <td>F</td>\n",
       "      <td>174.661601</td>\n",
       "      <td>66.931380</td>\n",
       "    </tr>\n",
       "    <tr>\n",
       "      <th>80</th>\n",
       "      <td>F</td>\n",
       "      <td>170.084510</td>\n",
       "      <td>75.026330</td>\n",
       "    </tr>\n",
       "    <tr>\n",
       "      <th>81</th>\n",
       "      <td>M</td>\n",
       "      <td>179.264395</td>\n",
       "      <td>67.512166</td>\n",
       "    </tr>\n",
       "    <tr>\n",
       "      <th>82</th>\n",
       "      <td>M</td>\n",
       "      <td>178.332888</td>\n",
       "      <td>75.664657</td>\n",
       "    </tr>\n",
       "    <tr>\n",
       "      <th>83</th>\n",
       "      <td>F</td>\n",
       "      <td>183.559413</td>\n",
       "      <td>71.528653</td>\n",
       "    </tr>\n",
       "    <tr>\n",
       "      <th>84</th>\n",
       "      <td>F</td>\n",
       "      <td>166.779733</td>\n",
       "      <td>67.416793</td>\n",
       "    </tr>\n",
       "    <tr>\n",
       "      <th>85</th>\n",
       "      <td>F</td>\n",
       "      <td>177.376901</td>\n",
       "      <td>70.565264</td>\n",
       "    </tr>\n",
       "    <tr>\n",
       "      <th>86</th>\n",
       "      <td>F</td>\n",
       "      <td>175.551644</td>\n",
       "      <td>66.824317</td>\n",
       "    </tr>\n",
       "    <tr>\n",
       "      <th>87</th>\n",
       "      <td>M</td>\n",
       "      <td>171.891553</td>\n",
       "      <td>64.835972</td>\n",
       "    </tr>\n",
       "    <tr>\n",
       "      <th>88</th>\n",
       "      <td>M</td>\n",
       "      <td>155.914469</td>\n",
       "      <td>69.527499</td>\n",
       "    </tr>\n",
       "    <tr>\n",
       "      <th>89</th>\n",
       "      <td>F</td>\n",
       "      <td>173.771759</td>\n",
       "      <td>66.286537</td>\n",
       "    </tr>\n",
       "    <tr>\n",
       "      <th>90</th>\n",
       "      <td>F</td>\n",
       "      <td>181.139535</td>\n",
       "      <td>70.520273</td>\n",
       "    </tr>\n",
       "    <tr>\n",
       "      <th>91</th>\n",
       "      <td>M</td>\n",
       "      <td>178.115909</td>\n",
       "      <td>73.871552</td>\n",
       "    </tr>\n",
       "    <tr>\n",
       "      <th>92</th>\n",
       "      <td>F</td>\n",
       "      <td>173.028013</td>\n",
       "      <td>63.817629</td>\n",
       "    </tr>\n",
       "    <tr>\n",
       "      <th>93</th>\n",
       "      <td>M</td>\n",
       "      <td>179.882033</td>\n",
       "      <td>63.979516</td>\n",
       "    </tr>\n",
       "    <tr>\n",
       "      <th>94</th>\n",
       "      <td>M</td>\n",
       "      <td>175.724357</td>\n",
       "      <td>66.182686</td>\n",
       "    </tr>\n",
       "    <tr>\n",
       "      <th>95</th>\n",
       "      <td>M</td>\n",
       "      <td>179.500440</td>\n",
       "      <td>65.511222</td>\n",
       "    </tr>\n",
       "    <tr>\n",
       "      <th>96</th>\n",
       "      <td>F</td>\n",
       "      <td>185.300660</td>\n",
       "      <td>71.548588</td>\n",
       "    </tr>\n",
       "    <tr>\n",
       "      <th>97</th>\n",
       "      <td>F</td>\n",
       "      <td>174.987135</td>\n",
       "      <td>67.017941</td>\n",
       "    </tr>\n",
       "    <tr>\n",
       "      <th>98</th>\n",
       "      <td>M</td>\n",
       "      <td>179.752484</td>\n",
       "      <td>70.714687</td>\n",
       "    </tr>\n",
       "    <tr>\n",
       "      <th>99</th>\n",
       "      <td>M</td>\n",
       "      <td>167.158097</td>\n",
       "      <td>70.810677</td>\n",
       "    </tr>\n",
       "  </tbody>\n",
       "</table>\n",
       "<p>100 rows × 3 columns</p>\n",
       "</div>"
      ],
      "text/plain": [
       "   gender      height     weight\n",
       "0       M  179.884953  68.086526\n",
       "1       F  177.336024  73.974922\n",
       "2       F  172.466535  64.857649\n",
       "3       M  181.197575  69.430763\n",
       "4       F  171.861083  71.137648\n",
       "5       M  170.710363  71.712128\n",
       "6       M  165.475344  72.550408\n",
       "7       M  169.258562  68.149018\n",
       "8       F  165.332423  70.355839\n",
       "9       M  167.019815  66.228765\n",
       "10      F  182.700104  63.956366\n",
       "11      F  178.321956  66.905812\n",
       "12      F  167.744721  70.295794\n",
       "13      M  181.077187  72.074574\n",
       "14      F  179.176950  72.496429\n",
       "15      M  174.508258  73.469556\n",
       "16      M  172.483406  66.872973\n",
       "17      M  179.786752  67.797715\n",
       "18      M  177.474859  67.902297\n",
       "19      M  181.945893  64.656137\n",
       "20      F  167.622165  66.257799\n",
       "21      M  177.560591  62.864120\n",
       "22      F  179.424048  67.761983\n",
       "23      F  180.114118  66.493844\n",
       "24      M  177.837736  65.234843\n",
       "25      F  179.292791  66.357153\n",
       "26      M  168.287796  64.821961\n",
       "27      M  173.585386  65.496454\n",
       "28      M  175.463589  73.922354\n",
       "29      M  168.354332  72.486737\n",
       "..    ...         ...        ...\n",
       "70      F  180.327874  70.505822\n",
       "71      F  177.530741  71.949041\n",
       "72      F  174.708030  70.918331\n",
       "73      M  182.762819  71.195410\n",
       "74      F  182.397415  68.644311\n",
       "75      M  176.085796  67.445475\n",
       "76      F  181.778315  71.293179\n",
       "77      F  182.146510  70.770631\n",
       "78      F  179.993468  67.870931\n",
       "79      F  174.661601  66.931380\n",
       "80      F  170.084510  75.026330\n",
       "81      M  179.264395  67.512166\n",
       "82      M  178.332888  75.664657\n",
       "83      F  183.559413  71.528653\n",
       "84      F  166.779733  67.416793\n",
       "85      F  177.376901  70.565264\n",
       "86      F  175.551644  66.824317\n",
       "87      M  171.891553  64.835972\n",
       "88      M  155.914469  69.527499\n",
       "89      F  173.771759  66.286537\n",
       "90      F  181.139535  70.520273\n",
       "91      M  178.115909  73.871552\n",
       "92      F  173.028013  63.817629\n",
       "93      M  179.882033  63.979516\n",
       "94      M  175.724357  66.182686\n",
       "95      M  179.500440  65.511222\n",
       "96      F  185.300660  71.548588\n",
       "97      F  174.987135  67.017941\n",
       "98      M  179.752484  70.714687\n",
       "99      M  167.158097  70.810677\n",
       "\n",
       "[100 rows x 3 columns]"
      ]
     },
     "execution_count": 106,
     "metadata": {},
     "output_type": "execute_result"
    }
   ],
   "source": [
    "x = np.random.rand(100)\n",
    "gender = np.where(x>0.5, \"M\", \"F\")\n",
    "height = np.random.normal(loc = 175, scale = 6, size = 100)\n",
    "weight = np.random.normal(loc = 68, scale = 3, size = 100)\n",
    "DF = DataFrame({\"gender\" : gender, \"height\" : height, \"weight\" : weight})\n",
    "# DF = DataFrame(np.array([gender, height, weight]).T, columns=[\"gender\", \"height\", \"weight\"])\n",
    "# array로 하면 데이터가 str으로 처리됨\n",
    "DF"
   ]
  },
  {
   "cell_type": "markdown",
   "metadata": {},
   "source": [
    "    - 난수 생성후 train set, test set 나누기"
   ]
  },
  {
   "cell_type": "code",
   "execution_count": 73,
   "metadata": {},
   "outputs": [
    {
     "data": {
      "text/plain": [
       "(array([False,  True,  True,  True,  True, False,  True, False,  True,\n",
       "         True,  True,  True,  True,  True, False,  True,  True,  True,\n",
       "         True,  True,  True,  True,  True,  True,  True,  True,  True,\n",
       "         True,  True,  True,  True,  True,  True,  True,  True,  True,\n",
       "         True, False,  True,  True,  True,  True,  True, False,  True,\n",
       "         True,  True,  True,  True,  True,  True,  True,  True,  True,\n",
       "         True, False,  True,  True,  True,  True,  True,  True,  True,\n",
       "        False,  True,  True,  True,  True,  True,  True,  True, False,\n",
       "         True,  True, False,  True,  True,  True,  True,  True, False,\n",
       "         True,  True,  True,  True,  True,  True, False,  True,  True,\n",
       "        False,  True,  True, False, False,  True,  True,  True,  True,\n",
       "         True]), 85)"
      ]
     },
     "execution_count": 73,
     "metadata": {},
     "output_type": "execute_result"
    }
   ],
   "source": [
    "np.random.seed(12298)\n",
    "rand_num = np.random.rand(100)\n",
    "select = rand_num < 0.9\n",
    "select, np.sum(select)"
   ]
  },
  {
   "cell_type": "code",
   "execution_count": 107,
   "metadata": {
    "scrolled": true
   },
   "outputs": [
    {
     "data": {
      "text/plain": [
       "(   gender      height     weight\n",
       " 1       F  177.336024  73.974922\n",
       " 2       F  172.466535  64.857649\n",
       " 3       M  181.197575  69.430763\n",
       " 4       F  171.861083  71.137648\n",
       " 6       M  165.475344  72.550408\n",
       " 8       F  165.332423  70.355839\n",
       " 9       M  167.019815  66.228765\n",
       " 10      F  182.700104  63.956366\n",
       " 11      F  178.321956  66.905812\n",
       " 12      F  167.744721  70.295794\n",
       " 13      M  181.077187  72.074574\n",
       " 15      M  174.508258  73.469556\n",
       " 16      M  172.483406  66.872973\n",
       " 17      M  179.786752  67.797715\n",
       " 18      M  177.474859  67.902297\n",
       " 19      M  181.945893  64.656137\n",
       " 20      F  167.622165  66.257799\n",
       " 21      M  177.560591  62.864120\n",
       " 22      F  179.424048  67.761983\n",
       " 23      F  180.114118  66.493844\n",
       " 24      M  177.837736  65.234843\n",
       " 25      F  179.292791  66.357153\n",
       " 26      M  168.287796  64.821961\n",
       " 27      M  173.585386  65.496454\n",
       " 28      M  175.463589  73.922354\n",
       " 29      M  168.354332  72.486737\n",
       " 30      F  178.956238  61.460417\n",
       " 31      M  173.968970  69.591167\n",
       " 32      M  182.153345  62.420733\n",
       " 33      M  174.420312  64.405056\n",
       " ..    ...         ...        ...\n",
       " 62      F  179.636800  72.367794\n",
       " 64      M  170.890674  69.301986\n",
       " 65      F  175.769226  65.561017\n",
       " 66      F  175.943453  69.335281\n",
       " 67      F  177.201528  63.466385\n",
       " 68      F  171.617014  69.804373\n",
       " 69      F  158.488585  67.414752\n",
       " 70      F  180.327874  70.505822\n",
       " 72      F  174.708030  70.918331\n",
       " 73      M  182.762819  71.195410\n",
       " 75      M  176.085796  67.445475\n",
       " 76      F  181.778315  71.293179\n",
       " 77      F  182.146510  70.770631\n",
       " 78      F  179.993468  67.870931\n",
       " 79      F  174.661601  66.931380\n",
       " 81      M  179.264395  67.512166\n",
       " 82      M  178.332888  75.664657\n",
       " 83      F  183.559413  71.528653\n",
       " 84      F  166.779733  67.416793\n",
       " 85      F  177.376901  70.565264\n",
       " 86      F  175.551644  66.824317\n",
       " 88      M  155.914469  69.527499\n",
       " 89      F  173.771759  66.286537\n",
       " 91      M  178.115909  73.871552\n",
       " 92      F  173.028013  63.817629\n",
       " 95      M  179.500440  65.511222\n",
       " 96      F  185.300660  71.548588\n",
       " 97      F  174.987135  67.017941\n",
       " 98      M  179.752484  70.714687\n",
       " 99      M  167.158097  70.810677\n",
       " \n",
       " [85 rows x 3 columns],    gender      height     weight\n",
       " 0       M  179.884953  68.086526\n",
       " 5       M  170.710363  71.712128\n",
       " 7       M  169.258562  68.149018\n",
       " 14      F  179.176950  72.496429\n",
       " 37      F  180.536101  70.139082\n",
       " 43      M  165.737345  74.376542\n",
       " 55      F  171.977674  68.680214\n",
       " 63      F  175.114835  68.935916\n",
       " 71      F  177.530741  71.949041\n",
       " 74      F  182.397415  68.644311\n",
       " 80      F  170.084510  75.026330\n",
       " 87      M  171.891553  64.835972\n",
       " 90      F  181.139535  70.520273\n",
       " 93      M  179.882033  63.979516\n",
       " 94      M  175.724357  66.182686)"
      ]
     },
     "execution_count": 107,
     "metadata": {},
     "output_type": "execute_result"
    }
   ],
   "source": [
    "trainDF = DF[select]\n",
    "testDF = DF[~select]\n",
    "trainDF, testDF"
   ]
  },
  {
   "cell_type": "code",
   "execution_count": 108,
   "metadata": {
    "scrolled": true
   },
   "outputs": [
    {
     "data": {
      "text/plain": [
       "gender     object\n",
       "height    float64\n",
       "weight    float64\n",
       "dtype: object"
      ]
     },
     "execution_count": 108,
     "metadata": {},
     "output_type": "execute_result"
    }
   ],
   "source": [
    "DF.dtypes"
   ]
  },
  {
   "cell_type": "code",
   "execution_count": 109,
   "metadata": {},
   "outputs": [
    {
     "data": {
      "text/html": [
       "<div>\n",
       "<style scoped>\n",
       "    .dataframe tbody tr th:only-of-type {\n",
       "        vertical-align: middle;\n",
       "    }\n",
       "\n",
       "    .dataframe tbody tr th {\n",
       "        vertical-align: top;\n",
       "    }\n",
       "\n",
       "    .dataframe thead th {\n",
       "        text-align: right;\n",
       "    }\n",
       "</style>\n",
       "<table border=\"1\" class=\"dataframe\">\n",
       "  <thead>\n",
       "    <tr style=\"text-align: right;\">\n",
       "      <th></th>\n",
       "      <th>gender</th>\n",
       "      <th>height</th>\n",
       "      <th>weight</th>\n",
       "    </tr>\n",
       "  </thead>\n",
       "  <tbody>\n",
       "    <tr>\n",
       "      <th>3</th>\n",
       "      <td>M</td>\n",
       "      <td>181.197575</td>\n",
       "      <td>69.430763</td>\n",
       "    </tr>\n",
       "    <tr>\n",
       "      <th>13</th>\n",
       "      <td>M</td>\n",
       "      <td>181.077187</td>\n",
       "      <td>72.074574</td>\n",
       "    </tr>\n",
       "    <tr>\n",
       "      <th>19</th>\n",
       "      <td>M</td>\n",
       "      <td>181.945893</td>\n",
       "      <td>64.656137</td>\n",
       "    </tr>\n",
       "    <tr>\n",
       "      <th>32</th>\n",
       "      <td>M</td>\n",
       "      <td>182.153345</td>\n",
       "      <td>62.420733</td>\n",
       "    </tr>\n",
       "    <tr>\n",
       "      <th>47</th>\n",
       "      <td>M</td>\n",
       "      <td>189.718406</td>\n",
       "      <td>68.493925</td>\n",
       "    </tr>\n",
       "    <tr>\n",
       "      <th>73</th>\n",
       "      <td>M</td>\n",
       "      <td>182.762819</td>\n",
       "      <td>71.195410</td>\n",
       "    </tr>\n",
       "  </tbody>\n",
       "</table>\n",
       "</div>"
      ],
      "text/plain": [
       "   gender      height     weight\n",
       "3       M  181.197575  69.430763\n",
       "13      M  181.077187  72.074574\n",
       "19      M  181.945893  64.656137\n",
       "32      M  182.153345  62.420733\n",
       "47      M  189.718406  68.493925\n",
       "73      M  182.762819  71.195410"
      ]
     },
     "execution_count": 109,
     "metadata": {},
     "output_type": "execute_result"
    }
   ],
   "source": [
    "NewData = DF[(DF.gender == 'M') &(DF.height >= 180)]\n",
    "NewData"
   ]
  },
  {
   "cell_type": "markdown",
   "metadata": {},
   "source": [
    "    - DataFrame type확인 : df.dtypes\n",
    "    - DataFrame type변환 : df['변수'].astype('float')\n",
    "    - 아니면 주로 이걸 씀 : pd.to_numeric(df['변수'], errors = 'ignore', 'coerce')"
   ]
  },
  {
   "cell_type": "markdown",
   "metadata": {},
   "source": [
    "    - 산술연산, 데이터 정렬( series 연산, dataframe 연산 )"
   ]
  },
  {
   "cell_type": "code",
   "execution_count": 115,
   "metadata": {
    "scrolled": true
   },
   "outputs": [
    {
     "name": "stdout",
     "output_type": "stream",
     "text": [
      "A    63\n",
      "B    62\n",
      "D    56\n",
      "E    59\n",
      "F    62\n",
      "H    58\n",
      "dtype: int32 \n",
      " B    19\n",
      "C    17\n",
      "A    21\n",
      "D    19\n",
      "F    20\n",
      "E    19\n",
      "dtype: int32 \n",
      " A    84.0\n",
      "B    81.0\n",
      "C     NaN\n",
      "D    75.0\n",
      "E    78.0\n",
      "F    82.0\n",
      "H     NaN\n",
      "dtype: float64\n",
      "A    63\n",
      "B    62\n",
      "D    56\n",
      "E    59\n",
      "F    62\n",
      "H    58\n",
      "dtype: int32 \n",
      " B    19\n",
      "C    17\n",
      "A    21\n",
      "D    19\n",
      "F    20\n",
      "E    19\n",
      "dtype: int32 \n",
      " A    84.0\n",
      "B    81.0\n",
      "C     NaN\n",
      "D    75.0\n",
      "E    78.0\n",
      "F    82.0\n",
      "H     NaN\n",
      "dtype: float64 \n",
      " A    84.0\n",
      "B    81.0\n",
      "C    17.0\n",
      "D    75.0\n",
      "E    78.0\n",
      "F    82.0\n",
      "H    58.0\n",
      "dtype: float64\n"
     ]
    }
   ],
   "source": [
    "Ex1 = Series(np.random.binomial(n = 100, p = 0.6, size = 6), index = ['A', 'B', 'D', 'E', 'F', 'H'])\n",
    "Ex2 = Series(np.random.binomial(n = 50, p = 0.4, size = 6), index = ['B', 'C', 'A', 'D', 'F', 'E'])\n",
    "print(Ex1,\"\\n\",Ex2,\"\\n\",Ex1 + Ex2)\n",
    "# 한쪽이라도 해당 인덱스가 없으면 결측값(NaN) 처리됨\n",
    "print(Ex1,\"\\n\",Ex2,\"\\n\",Ex1 + Ex2,\"\\n\", Ex1.add(Ex2, fill_value=0))\n",
    "# 수식이 아닌 연산 메소드를 이용함으로써 결측값을 채울 수가 있음"
   ]
  },
  {
   "cell_type": "code",
   "execution_count": 117,
   "metadata": {},
   "outputs": [
    {
     "name": "stdout",
     "output_type": "stream",
     "text": [
      "df1 + df2\n",
      "     att   fin  hw   mid\n",
      "st1  5.0  24.0 NaN  30.0\n",
      "st2  9.0  25.0 NaN  22.0\n",
      "st3  NaN   NaN NaN   NaN\n",
      "st4  3.0  24.0 NaN  22.0\n",
      "st5  NaN   NaN NaN   NaN\n",
      "\n",
      "df1.add(df2)\n",
      "     att   fin    hw   mid\n",
      "st1  5.0  24.0  10.0  30.0\n",
      "st2  9.0  25.0   7.0  22.0\n",
      "st3  3.0  13.0   6.0   9.0\n",
      "st4  3.0  24.0   4.0  22.0\n",
      "st5  1.0   9.0   2.0   7.0\n"
     ]
    }
   ],
   "source": [
    "data1 = {\"att\":[3, 4, 1], \"mid\":[15, 10, 12], \"fin\":[12, 15, 9]}\n",
    "data2 = {\"att\":[2,5,3,2,1], \"hw\":[10,7,6,4,2],\n",
    "        \"mid\":[15,12,9,10,7], \"fin\":[12,10,13,15,9]}\n",
    "df1 = DataFrame(data1, index = [\"st1\", \"st2\", \"st4\"])\n",
    "df2 = DataFrame(data2, index = [\"st1\", \"st2\", \"st3\", \"st4\", \"st5\"])\n",
    "\n",
    "print(\"df1 + df2\\n{0}\\n\".format(df1+df2))\n",
    "print(\"df1.add(df2)\\n{0}\".format(df1.add(df2, level=1, fill_value = 0)))"
   ]
  },
  {
   "cell_type": "code",
   "execution_count": 122,
   "metadata": {
    "scrolled": true
   },
   "outputs": [
    {
     "name": "stdout",
     "output_type": "stream",
     "text": [
      "Series 1\n",
      "att     5\n",
      "hw      3\n",
      "etc    10\n",
      "dtype: int64\n",
      "\n",
      "Series 2\n",
      "st1     5\n",
      "st4     3\n",
      "st2    10\n",
      "dtype: int64\n",
      "\n",
      "DataFrame\n",
      "     att  hw  mid  fin\n",
      "st1    3   5   15   12\n",
      "st2    4   3   10   15\n",
      "st3    1   4   12    9\n",
      "st4    2   1   16   10\n",
      "df+s\n",
      "     att  etc  fin   hw  mid\n",
      "st1  8.0  NaN  NaN  8.0  NaN\n",
      "st2  9.0  NaN  NaN  6.0  NaN\n",
      "st3  6.0  NaN  NaN  7.0  NaN\n",
      "st4  7.0  NaN  NaN  4.0  NaN\n",
      "df+s\n",
      "     att  etc  fin   hw  mid\n",
      "st1  8.0  NaN  NaN  8.0  NaN\n",
      "st2  9.0  NaN  NaN  6.0  NaN\n",
      "st3  6.0  NaN  NaN  7.0  NaN\n",
      "st4  7.0  NaN  NaN  4.0  NaN\n",
      "df+s\n",
      "      att    hw   mid   fin\n",
      "st1   8.0  10.0  20.0  17.0\n",
      "st2  14.0  13.0  20.0  25.0\n",
      "st3   NaN   NaN   NaN   NaN\n",
      "st4   5.0   4.0  19.0  13.0\n"
     ]
    }
   ],
   "source": [
    "s1 = Series([5,3,10], index = [\"att\", \"hw\", \"etc\"])\n",
    "s2 = Series([5,3,10], index = [\"st1\", \"st4\", \"st2\"])\n",
    "data1 = {\"att\":[3,4,1,2], \"hw\":[5,3,4,1], \"mid\":[15,10,12,16], \"fin\":[12,15,9,10]}\n",
    "df = DataFrame(data1, index = [\"st1\", \"st2\", \"st3\", \"st4\"])\n",
    "print(\"Series 1\\n{0}\\n\\nSeries 2\\n{1}\\n\\nDataFrame\\n{2}\".format(s1,s2,df))\n",
    "print(\"df+s\\n{0}\".format(df+s1)) # 시리즈에 있는 인덱스의 원소값들에 다 더해줌\n",
    "print(\"df+s\\n{0}\".format(df.add(s1))) # df.add()의 디폴트는 열 연산\n",
    "print(\"df+s\\n{0}\".format(df.add(s2, axis = 0))) # df.add()의 axis를 행으로 바꾸어 연산"
   ]
  },
  {
   "cell_type": "markdown",
   "metadata": {},
   "source": [
    "    - 함수 적용, 매핑"
   ]
  },
  {
   "cell_type": "code",
   "execution_count": 126,
   "metadata": {
    "scrolled": true
   },
   "outputs": [
    {
     "name": "stdout",
     "output_type": "stream",
     "text": [
      "Series 1\n",
      "case1    2.5\n",
      "case2    7.6\n",
      "case3    9.1\n",
      "dtype: float64\n",
      "\n",
      "Series 2\n",
      "case1    3.1\n",
      "case2    2.8\n",
      "case3    7.5\n",
      "dtype: float64\n",
      "\n",
      "DataFrame\n",
      "     att  hw  mid  fin\n",
      "st1    3   5   15   12\n",
      "st2    4   3   10   15\n",
      "st3    1   4   12    9\n",
      "st4    2   1   16   10\n",
      "\n",
      "df+s\n",
      "case1      12.182494\n",
      "case2    1998.195895\n",
      "case3    8955.292703\n",
      "dtype: float64\n",
      "\n",
      "df+s\n",
      "case1    2.5\n",
      "case2    2.8\n",
      "case3    7.5\n",
      "dtype: float64\n",
      "\n",
      "df+n\n",
      "          att        hw       mid       fin\n",
      "st1  1.098612  1.609438  2.708050  2.484907\n",
      "st2  1.386294  1.098612  2.302585  2.708050\n",
      "st3  0.000000  1.386294  2.484907  2.197225\n",
      "st4  0.693147  0.000000  2.772589  2.302585\n"
     ]
    }
   ],
   "source": [
    "s1 = Series([2.5, 7.6, 9.1], index = [\"case1\", \"case2\", \"case3\"])\n",
    "s2 = Series([3.1, 2.8, 7.5], index = [\"case1\", \"case2\", \"case3\"])\n",
    "data = {\"att\":[3,4,1,2], \"hw\":[5,3,4,1], \"mid\":[15,10,12,16], \"fin\":[12,15,9,10]}\n",
    "df = DataFrame(data, index = [\"st1\", \"st2\", \"st3\", \"st4\"])\n",
    "print(\"Series 1\\n{0}\\n\\nSeries 2\\n{1}\\n\\nDataFrame\\n{2}\\n\".format(s1, s2, df))\n",
    "print(\"df+s\\n{0}\\n\\ndf+s\\n{1}\\n\".format(np.exp(s1), np.minimum(s1, s2)))\n",
    "# np의 메소드를 쓰려면 size가 같아야함\n",
    "print(\"df+n\\n{0}\".format(np.log(df)))"
   ]
  },
  {
   "cell_type": "code",
   "execution_count": 132,
   "metadata": {},
   "outputs": [
    {
     "name": "stdout",
     "output_type": "stream",
     "text": [
      "apply 메소드 각 열별 연산\n",
      "att    3\n",
      "hw     4\n",
      "mid    6\n",
      "fin    6\n",
      "dtype: int64\n",
      "\n",
      "apply 메소드 각 행별 연산\n",
      "st1    12\n",
      "st2    12\n",
      "st3    11\n",
      "st4    15\n",
      "dtype: int64\n"
     ]
    }
   ],
   "source": [
    "f = lambda x: x.max()-x.min()\n",
    "print(\"apply 메소드 각 열별 연산\\n{0}\\n\".format(df.apply(f)))\n",
    "print(\"apply 메소드 각 행별 연산\\n{0}\".format(df.apply(f, axis = 1)))\n",
    "# apply 함수의 디폴트는 axis = 0 으로써 열 연산\n",
    "\n",
    "# print(Df, \"\\n\", Df.apply(np.sum(), axis = 1))"
   ]
  },
  {
   "cell_type": "code",
   "execution_count": 134,
   "metadata": {},
   "outputs": [
    {
     "name": "stdout",
     "output_type": "stream",
     "text": [
      "apply 메소드 각 열별 연산\n",
      "    att  hw  mid  fin\n",
      "최소    1   1   10    9\n",
      "최대    4   5   16   15\n",
      "범위    3   4    6    6\n",
      "\n",
      "applymap 메소드 각 원소별 연산\n",
      "     att   hw             mid            fin\n",
      "st1    6  120   1307674368000      479001600\n",
      "st2   24    6         3628800  1307674368000\n",
      "st3    1   24       479001600         362880\n",
      "st4    2    1  20922789888000        3628800\n"
     ]
    }
   ],
   "source": [
    "def f(x) :\n",
    "    return Series([x.min(), x.max(), x.max()-x.min()], index = [\"최소\", \"최대\", \"범위\"])\n",
    "print(\"apply 메소드 각 열별 연산\\n{0}\\n\".format(df.apply(f)))\n",
    "\n",
    "def g(x) : # factorial 계싼식\n",
    "    fa = 1\n",
    "    for i in range(1, (x+1)) :\n",
    "        fa *= i\n",
    "    return fa\n",
    "print(\"applymap 메소드 각 원소별 연산\\n{0}\".format(df.applymap(g)))\n",
    "# applymap()은 각 원소별 함수 적용\n",
    "# np.exp(df) = df.applymap(df) 이다.\n",
    "# 그러나 applymap을 사용하는 이유는 np.exp가 아닌 없는 새로운 함수 또는 메소드를 적용하고자 할때 사용"
   ]
  },
  {
   "cell_type": "markdown",
   "metadata": {},
   "source": [
    "    - 정렬과 순위\n",
    "    - sort_index() -> axis를 통해 행 또는 열 선택\n",
    "    - sort_values() -> by를 옵션으로 정렬 기준 변수 선택\n",
    "    - rank() -> ascending = True,False / method(동률 처리) = average,min,max,first\n",
    "                axis를 통해 행 또는 열 선택 가능"
   ]
  },
  {
   "cell_type": "code",
   "execution_count": 141,
   "metadata": {
    "scrolled": true
   },
   "outputs": [
    {
     "name": "stdout",
     "output_type": "stream",
     "text": [
      "Series\n",
      "case5    2.5\n",
      "case3    inf\n",
      "case2    3.1\n",
      "case3    NaN\n",
      "case1    7.5\n",
      "dtype: float64\n",
      "\n",
      "DataFrame\n",
      "     att  hw  mid  fin\n",
      "st3    3   5   15   15\n",
      "st2    4   3   10   10\n",
      "st4    1   4   12    9\n",
      "st1    2   1   16   10\n",
      "\n",
      "Series 색인 정렬\n",
      "case5    2.5\n",
      "case3    inf\n",
      "case3    NaN\n",
      "case2    3.1\n",
      "case1    7.5\n",
      "dtype: float64\n",
      "\n",
      "Series 값 정렬\n",
      "case5    2.5\n",
      "case2    3.1\n",
      "case1    7.5\n",
      "case3    inf\n",
      "case3    NaN\n",
      "dtype: float64\n",
      "\n",
      "Series 값 정렬\n",
      "case3    inf\n",
      "case1    7.5\n",
      "case2    3.1\n",
      "case5    2.5\n",
      "case3    NaN\n",
      "dtype: float64\n",
      "\n",
      "DataFrame 행 색인 정렬\n",
      "     att  hw  mid  fin\n",
      "st4    1   4   12    9\n",
      "st3    3   5   15   15\n",
      "st2    4   3   10   10\n",
      "st1    2   1   16   10\n",
      "\n",
      "DataFrame 열 색인 정렬\n",
      "     att  fin  hw  mid\n",
      "st3    3   15   5   15\n",
      "st2    4   10   3   10\n",
      "st4    1    9   4   12\n",
      "st1    2   10   1   16\n",
      "\n",
      "DataFrame fin 값 기준 정렬\n",
      "     att  hw  mid  fin\n",
      "st4    1   4   12    9\n",
      "st2    4   3   10   10\n",
      "st1    2   1   16   10\n",
      "st3    3   5   15   15\n",
      "\n",
      "DataFrame fin, mid 값 기준 정렬\n",
      "     att  hw  mid  fin\n",
      "st4    1   4   12    9\n",
      "st2    4   3   10   10\n",
      "st1    2   1   16   10\n",
      "st3    3   5   15   15\n"
     ]
    }
   ],
   "source": [
    "s = Series([ 2.5, np.inf, 3.1, np.nan, 7.5], index = [\"case5\", \"case3\", \"case2\", \"case3\", \"case1\"])\n",
    "data = {\"att\":[3,4,1,2], \"hw\":[5,3,4,1], \"mid\":[15,10,12,16], \"fin\":[15,10,9,10]}\n",
    "df = DataFrame(data, index = [\"st3\", \"st2\", \"st4\", \"st1\"])\n",
    "print(\"Series\\n{0}\\n\\nDataFrame\\n{1}\\n\".format(s,df))\n",
    "\n",
    "print(\"Series 색인 정렬\\n{0}\\n\".format(s.sort_index(ascending = False)))\n",
    "print(\"Series 값 정렬\\n{0}\\n\".format(s.sort_values()))\n",
    "print(\"Series 값 정렬\\n{0}\\n\".format(s.sort_values(ascending = False)))\n",
    "# NaN(결측값)은 무조건 맨 밑으로 감)\n",
    "print(\"DataFrame 행 색인 정렬\\n{0}\\n\".format(df.sort_index(ascending = False)))\n",
    "print(\"DataFrame 열 색인 정렬\\n{0}\\n\".format(df.sort_index(axis = 1)))\n",
    "\n",
    "print(\"DataFrame fin 값 기준 정렬\\n{0}\\n\".format(df.sort_values(by = \"fin\")))\n",
    "print(\"DataFrame fin, mid 값 기준 정렬\\n{0}\".format(df.sort_values(by = [\"fin\", \"mid\"])))"
   ]
  },
  {
   "cell_type": "code",
   "execution_count": 142,
   "metadata": {},
   "outputs": [
    {
     "name": "stdout",
     "output_type": "stream",
     "text": [
      "Series 순위\n",
      "case5    4.0\n",
      "case3    1.0\n",
      "case2    3.0\n",
      "case3    NaN\n",
      "case1    2.0\n",
      "dtype: float64\n",
      "\n",
      "DataFrame 열별 순위 \n",
      "     att   hw  mid  fin\n",
      "st3  3.0  4.0  3.0  4.0\n",
      "st2  4.0  2.0  1.0  3.0\n",
      "st4  1.0  3.0  2.0  1.0\n",
      "st1  2.0  1.0  4.0  3.0\n",
      "\n",
      "DataFrame 행별 순위 \n",
      "     att   hw  mid  fin\n",
      "st3  1.0  2.0  3.5  3.5\n",
      "st2  2.0  1.0  3.5  3.5\n",
      "st4  1.0  2.0  4.0  3.0\n",
      "st1  2.0  1.0  4.0  3.0\n"
     ]
    }
   ],
   "source": [
    "print(\"Series 순위\\n{0}\\n\".format(s.rank(ascending = False)))\n",
    "# Series는 index에 rank가 적용\n",
    "print(\"DataFrame 열별 순위 \\n{0}\\n\".format(df.rank(method = \"max\")))\n",
    "# max가 등수 낮은걸로 표시, min이 등수 높은걸로 표시\n",
    "print(\"DataFrame 행별 순위 \\n{0}\".format(df.rank(axis = 1, method = \"average\")))"
   ]
  },
  {
   "cell_type": "markdown",
   "metadata": {},
   "source": [
    "    - 중복색인\n",
    "    - index.is_unique"
   ]
  },
  {
   "cell_type": "code",
   "execution_count": 145,
   "metadata": {
    "scrolled": true
   },
   "outputs": [
    {
     "name": "stdout",
     "output_type": "stream",
     "text": [
      "Series\n",
      "case2    2.5\n",
      "case4    inf\n",
      "case2    3.1\n",
      "case3    NaN\n",
      "case1    7.5\n",
      "dtype: float64\n",
      "\n",
      "DataFrame\n",
      "     att  hw  mid  fin\n",
      "st3    3   5   15   15\n",
      "st1    4   3   10   10\n",
      "st2    1   4   12    9\n",
      "st1    2   1   16   10\n",
      "\n",
      "Series 같은 색인 \n",
      "False\n",
      "\n",
      "Series 색인 case2\n",
      "case2    2.5\n",
      "case2    3.1\n",
      "dtype: float64\n",
      "\n",
      "DataFrame 같은 색인\n",
      "False\n",
      "\n",
      "DataFrame 색인 st1\n",
      "     att  hw  mid  fin\n",
      "st1    4   3   10   10\n",
      "st1    2   1   16   10\n"
     ]
    }
   ],
   "source": [
    "s = Series([ 2.5, np.inf, 3.1, np.nan, 7.5], index = [\"case2\", \"case4\", \"case2\", \"case3\", \"case1\"])\n",
    "data = {\"att\":[3,4,1,2], \"hw\":[5,3,4,1], \"mid\":[15,10,12,16], \"fin\":[15,10,9,10]}\n",
    "df = DataFrame(data, index = [\"st3\", \"st1\", \"st2\", \"st1\"])\n",
    "print(\"Series\\n{0}\\n\\nDataFrame\\n{1}\\n\".format(s, df))\n",
    "\n",
    "print(\"Series 같은 색인 \\n{0}\\n\".format(s.index.is_unique))\n",
    "print(\"Series 색인 case2\\n{0}\\n\".format(s[\"case2\"]))\n",
    "print(\"DataFrame 같은 색인\\n{0}\\n\".format(df.index.is_unique))\n",
    "print(\"DataFrame 색인 st1\\n{0}\".format(df.loc[\"st1\"]))"
   ]
  },
  {
   "cell_type": "markdown",
   "metadata": {},
   "source": [
    "##### 기술통계 메소드 p.288"
   ]
  },
  {
   "cell_type": "markdown",
   "metadata": {},
   "source": [
    "    - count() : NA를 제외한 값의 개수\n",
    "    - describe() : 요약통계\n",
    "    - min(), max()\n",
    "    - argmin(), argmax() : 최소값과 최대값이 있는 색인 index(정수) 반환\n",
    "    - idxmin(), idxmax() : 최소값과 최대값이 있는 색인 반환\n",
    "    - quantile() : 옵션 ( q = [0.1, 0.5] )\n",
    "    - sum() : 행별 합계(axis = 1), 열별 합계(axis = 0)\n",
    "    - mean()\n",
    "    - median()\n",
    "    - mad() : 절대 평균편차\n",
    "    - var()\n",
    "    - std()\n",
    "    - skew() : 비대칭도 왜도\n",
    "    - kurt() : 첨도\n",
    "    - cumsum()\n",
    "    - cummin(), cummax() : 누적 최소값, 누적 최대값\n",
    "    - cumprod() : 누적곱\n",
    "    - diff : 1차 차분\n",
    "    - pct_change() : 퍼센트 변화율\n",
    "$${x_{i+1} - x_i} \\over {x_i}$$\n",
    "    - 공통 옵션 : axis, skipna(디폴트:True), level(계산하는 축이 계층적 색인이면 레벨에 따라 계산"
   ]
  },
  {
   "cell_type": "code",
   "execution_count": 147,
   "metadata": {
    "scrolled": true
   },
   "outputs": [
    {
     "name": "stdout",
     "output_type": "stream",
     "text": [
      "Series 평균(결측제외) : inf\n",
      "\n",
      "Series 평균(결측포함) : nan\n",
      "\n",
      "DataFrame 열별 평균(결측제외)\n",
      "att     2.50\n",
      "hw      3.25\n",
      "mid    13.25\n",
      "fin    11.00\n",
      "dtype: float64\n",
      "\n",
      "DataFrame 열별 평균(결측포함)\n",
      "att     2.50\n",
      "hw      3.25\n",
      "mid    13.25\n",
      "fin    11.00\n",
      "dtype: float64\n",
      "DataFrame 행별 합계(결측제외)\n",
      "st3    38\n",
      "st1    27\n",
      "st2    26\n",
      "st1    29\n",
      "dtype: int64\n",
      "\n",
      "DataFrame 열별 분위수(결측제외)\n",
      "     att   hw   mid   fin\n",
      "0.1  1.3  1.6  10.6   9.3\n",
      "0.5  2.5  3.5  13.5  10.0\n"
     ]
    }
   ],
   "source": [
    "# 바로 위에 s와 df 실행 돌리기\n",
    "print(\"Series 평균(결측제외) : {0}\\n\".format(s.mean()))\n",
    "print(\"Series 평균(결측포함) : {0}\\n\".format(s.mean(skipna = False)))\n",
    "print(\"DataFrame 열별 평균(결측제외)\\n{0}\\n\".format(df.mean()))\n",
    "print(\"DataFrame 열별 평균(결측포함)\\n{0}\".format(df.mean(skipna = False)))\n",
    "print(\"DataFrame 행별 합계(결측제외)\\n{0}\\n\".format(df.sum(axis = 1)))\n",
    "print(\"DataFrame 열별 분위수(결측제외)\\n{0}\".format(df.quantile(q = [0.1, 0.5])))"
   ]
  },
  {
   "cell_type": "code",
   "execution_count": 149,
   "metadata": {},
   "outputs": [
    {
     "name": "stdout",
     "output_type": "stream",
     "text": [
      "DataFrame 열별 기술통계(결측제외)\n",
      "            att        hw        mid        fin\n",
      "count  4.000000  4.000000   4.000000   4.000000\n",
      "mean   2.500000  3.250000  13.250000  11.000000\n",
      "std    1.290994  1.707825   2.753785   2.708013\n",
      "min    1.000000  1.000000  10.000000   9.000000\n",
      "25%    1.750000  2.500000  11.500000   9.750000\n",
      "50%    2.500000  3.500000  13.500000  10.000000\n",
      "75%    3.250000  4.250000  15.250000  11.250000\n",
      "max    4.000000  5.000000  16.000000  15.000000\n",
      "\n",
      "DataFrame 열별 기술통계(결측제외)\n",
      "count     6\n",
      "unique    3\n",
      "top       B\n",
      "freq      3\n",
      "dtype: object\n"
     ]
    }
   ],
   "source": [
    "print(\"DataFrame 열별 기술통계(결측제외)\\n{0}\\n\".format(df.describe()))\n",
    "\n",
    "s = Series([\"A\", \"B\", \"A\", \"C\", \"B\", \"B\", np.nan], \n",
    "          index = [\"case1\", \"case2\", \"case3\", \"case4\", \"case5\", \"case6\", \"case7\"])\n",
    "print(\"DataFrame 열별 기술통계(결측제외)\\n{0}\".format(s.describe()))"
   ]
  },
  {
   "cell_type": "markdown",
   "metadata": {},
   "source": [
    "##### 공분산과 상관계수 p.291"
   ]
  },
  {
   "cell_type": "markdown",
   "metadata": {},
   "source": [
    "    - cov() : 공분산 행렬\n",
    "    - corr() : 전체\n",
    "    - corrwith() : 특정 변수와 다른 변수들 간"
   ]
  },
  {
   "cell_type": "code",
   "execution_count": 3,
   "metadata": {},
   "outputs": [
    {
     "name": "stdout",
     "output_type": "stream",
     "text": [
      "DataFrame\n",
      "       y     x1    x2\n",
      "0   81.4  195.0  57.0\n",
      "1  122.2  179.0  61.0\n",
      "2  101.7  205.0  60.0\n",
      "3  175.6  204.0  62.0\n",
      "4  150.3  201.0  61.0\n",
      "5   64.8  184.0  54.0\n",
      "6   92.1  210.0  58.0\n",
      "7  113.8  209.0  61.0\n",
      "\n"
     ]
    }
   ],
   "source": [
    "steel_data = np.loadtxt(\"C:/Users/Affinity/Desktop/study/Python_Data/ch02_data/steel.txt\", \n",
    "                       skiprows = 5, delimiter = \"\\t\")\n",
    "df = DataFrame(steel_data, columns = [\"y\", \"x1\", \"x2\"])\n",
    "print(\"DataFrame\\n{0}\\n\".format(df))"
   ]
  },
  {
   "cell_type": "code",
   "execution_count": 4,
   "metadata": {
    "scrolled": false
   },
   "outputs": [
    {
     "name": "stdout",
     "output_type": "stream",
     "text": [
      "x1과 y의 공분산\n",
      "108.85535714285713\n",
      "\n",
      "공분산행렬\n",
      "              y          x1         x2\n",
      "y   1325.868393  108.855357  85.246429\n",
      "x1   108.855357  131.982143  11.178571\n",
      "x2    85.246429   11.178571   7.357143\n",
      "x1과 y의 상관계수\n",
      "0.2602208017100887\n",
      "\n",
      "상관계수행렬\n",
      "           y        x1        x2\n",
      "y   1.000000  0.260221  0.863120\n",
      "x1  0.260221  1.000000  0.358735\n",
      "x2  0.863120  0.358735  1.000000\n",
      "\n",
      "y와 x1, x2의 상관계수행렬\n",
      "y     1.000000\n",
      "x1    0.260221\n",
      "x2    0.863120\n",
      "dtype: float64\n"
     ]
    }
   ],
   "source": [
    "print(\"x1과 y의 공분산\\n{0}\\n\".format(df.x1.cov(df.y)))\n",
    "print(\"공분산행렬\\n{0}\".format(df.cov()))\n",
    "print(\"x1과 y의 상관계수\\n{0}\\n\".format(df.x1.corr(df.y)))\n",
    "print(\"상관계수행렬\\n{0}\\n\".format(df.corr()))\n",
    "print(\"y와 x1, x2의 상관계수행렬\\n{0}\".format(df.corrwith(df.y)))"
   ]
  },
  {
   "cell_type": "markdown",
   "metadata": {},
   "source": [
    "    - 유일 값, 값 세기, 값 있는지 확인(unique, isin, value_counts)"
   ]
  },
  {
   "cell_type": "code",
   "execution_count": 9,
   "metadata": {
    "scrolled": true
   },
   "outputs": [
    {
     "name": "stdout",
     "output_type": "stream",
     "text": [
      "Series\n",
      "0    22\n",
      "1    13\n",
      "2    14\n",
      "3    22\n",
      "4    14\n",
      "5    11\n",
      "6    14\n",
      "dtype: int64\n",
      "\n",
      "Series 유일값\n",
      "[22 13 14 11]\n",
      "\n",
      "Series 유일값 빈도\n",
      "14    3\n",
      "22    2\n",
      "13    1\n",
      "11    1\n",
      "dtype: int64\n",
      "\n",
      "Series [10, 14] 존재 여부\n",
      "0    False\n",
      "1    False\n",
      "2     True\n",
      "3    False\n",
      "4     True\n",
      "5    False\n",
      "6     True\n",
      "dtype: bool\n"
     ]
    }
   ],
   "source": [
    "s = Series([22, 13 ,14, 22, 14, 11, 14])\n",
    "print(\"Series\\n{0}\\n\".format(s))\n",
    "print(\"Series 유일값\\n{0}\\n\".format(s.unique()))\n",
    "print(\"Series 유일값 빈도\\n{0}\\n\".format(s.value_counts()))\n",
    "print(\"Series [10, 14] 존재 여부\\n{0}\".format(s.isin([10, 14])))"
   ]
  },
  {
   "cell_type": "code",
   "execution_count": 10,
   "metadata": {
    "scrolled": true
   },
   "outputs": [
    {
     "name": "stdout",
     "output_type": "stream",
     "text": [
      "DataFrame\n",
      "     att  hw  mid  fin\n",
      "st1   10  10   25   29\n",
      "st2    9   8   29   35\n",
      "st3   10  10   25   28\n",
      "st4   10  10   27   35\n",
      "st5    8   9   30   27\n",
      "\n",
      "열 att 유일값\n",
      "[10  9  8]\n",
      "\n",
      "열 att 유일값 빈도\n",
      "10    3\n",
      "9     1\n",
      "8     1\n",
      "Name: att, dtype: int64\n",
      "\n",
      "각 열별 유일값 빈도\n",
      "    att   hw  mid  fin\n",
      "8   1.0  1.0  NaN  NaN\n",
      "9   1.0  1.0  NaN  NaN\n",
      "10  3.0  3.0  NaN  NaN\n",
      "25  NaN  NaN  2.0  NaN\n",
      "27  NaN  NaN  1.0  1.0\n",
      "28  NaN  NaN  NaN  1.0\n",
      "29  NaN  NaN  1.0  1.0\n",
      "30  NaN  NaN  1.0  NaN\n",
      "35  NaN  NaN  NaN  2.0\n",
      "\n",
      "각 열별 유일값 빈도\n",
      "    att   hw  mid  fin\n",
      "8   1.0  1.0  0.0  0.0\n",
      "9   1.0  1.0  0.0  0.0\n",
      "10  3.0  3.0  0.0  0.0\n",
      "25  0.0  0.0  2.0  0.0\n",
      "27  0.0  0.0  1.0  1.0\n",
      "28  0.0  0.0  0.0  1.0\n",
      "29  0.0  0.0  1.0  1.0\n",
      "30  0.0  0.0  1.0  0.0\n",
      "35  0.0  0.0  0.0  2.0\n"
     ]
    }
   ],
   "source": [
    "data = {\"att\" : [10, 9, 10, 10, 8], \"hw\" : [10, 8, 10, 10, 9], \"mid\" : [25, 29, 25, 27, 30],\n",
    "       \"fin\" : [29, 35, 28, 35, 27]}\n",
    "df = DataFrame(data, index = [\"st1\", \"st2\", \"st3\", \"st4\", \"st5\"])\n",
    "print(\"DataFrame\\n{0}\\n\".format(df))\n",
    "print(\"열 att 유일값\\n{0}\\n\".format(df.att.unique()))\n",
    "print(\"열 att 유일값 빈도\\n{0}\\n\".format(df.att.value_counts()))\n",
    "print(\"각 열별 유일값 빈도\\n{0}\\n\".format(df.apply(pd.value_counts)))\n",
    "# dataframe 전체 데이터 빈도 확인 apply적용\n",
    "print(\"각 열별 유일값 빈도\\n{0}\".format(df.apply(pd.value_counts).fillna(0)))"
   ]
  },
  {
   "cell_type": "markdown",
   "metadata": {},
   "source": [
    "    - 누락된 데이터 처리(결측값 처리, NA, NaN)"
   ]
  },
  {
   "cell_type": "code",
   "execution_count": 14,
   "metadata": {},
   "outputs": [
    {
     "name": "stdout",
     "output_type": "stream",
     "text": [
      "Series\n",
      "0     kim\n",
      "1     NaN\n",
      "2     lee\n",
      "3    None\n",
      "4     cho\n",
      "5     bae\n",
      "dtype: object\n",
      "\n",
      "Series\n",
      "0    False\n",
      "1     True\n",
      "2    False\n",
      "3     True\n",
      "4    False\n",
      "5    False\n",
      "dtype: bool\n",
      "\n"
     ]
    }
   ],
   "source": [
    "s = Series([\"kim\", np.nan, \"lee\", None, \"cho\", \"bae\"])\n",
    "print(\"Series\\n{0}\\n\".format(s))\n",
    "print(\"Series\\n{0}\\n\".format(s.isnull()))"
   ]
  },
  {
   "cell_type": "code",
   "execution_count": 15,
   "metadata": {
    "scrolled": true
   },
   "outputs": [
    {
     "name": "stdout",
     "output_type": "stream",
     "text": [
      "Series\n",
      "0     7.5\n",
      "1     9.7\n",
      "2    10.0\n",
      "3     NaN\n",
      "4     5.4\n",
      "5     NaN\n",
      "6     NaN\n",
      "dtype: float64\n",
      "\n",
      "NA 제거\n",
      "0     7.5\n",
      "1     9.7\n",
      "2    10.0\n",
      "4     5.4\n",
      "dtype: float64\n"
     ]
    }
   ],
   "source": [
    "s = Series([7.5, 9.7, 10, NA, 5.4, NA, None])\n",
    "print(\"Series\\n{0}\\n\\nNA 제거\\n{1}\".format(s, s.dropna()))"
   ]
  },
  {
   "cell_type": "code",
   "execution_count": 26,
   "metadata": {},
   "outputs": [
    {
     "data": {
      "text/plain": [
       "0    10\n",
       "1    20\n",
       "3    40\n",
       "dtype: int64"
      ]
     },
     "execution_count": 26,
     "metadata": {},
     "output_type": "execute_result"
    }
   ],
   "source": [
    "gender = Series([\"남\", \"남\", \"여\", \"남\", \"여\"])\n",
    "s = Series([10, 20, 30, 40, 50])\n",
    "s[gender.isin([\"남\"])]\n",
    "# s[gender == \"남\"] -> 이 경우 조건이 하나라 간편, 빠름 / 그러나 조건 여려개이면 길어짐"
   ]
  },
  {
   "cell_type": "markdown",
   "metadata": {},
   "source": [
    "    - dropna() 메소드 (옵션)\n",
    "    - how = \"all\" 옵션을 적용하면 모든 열이 누락된 값인 행 삭제\n",
    "    - 몇 개 이상의 값이 들어 있는 행만 선택하려면 thresh 옵션으로 지정\n",
    "    - 행이 아닌 열을 삭제 하기 위해서 axis = 1 옵션을 적용"
   ]
  },
  {
   "cell_type": "code",
   "execution_count": 17,
   "metadata": {},
   "outputs": [
    {
     "name": "stdout",
     "output_type": "stream",
     "text": [
      "DataFrame\n",
      "      att    hw   mid   fin\n",
      "st1  10.0  10.0   NaN  29.0\n",
      "st2   9.0   8.0  29.0  35.0\n",
      "st3   NaN   NaN   NaN   NaN\n",
      "st4  10.0   NaN  27.0  35.0\n",
      "st5   8.0   9.0  30.0  27.0\n",
      "\n",
      "NA가 있는 행 제거\n",
      "     att   hw   mid   fin\n",
      "st2  9.0  8.0  29.0  35.0\n",
      "st5  8.0  9.0  30.0  27.0\n",
      "\n",
      "모든 열이 NA인 행 제거\n",
      "      att    hw   mid   fin\n",
      "st1  10.0  10.0   NaN  29.0\n",
      "st2   9.0   8.0  29.0  35.0\n",
      "st4  10.0   NaN  27.0  35.0\n",
      "st5   8.0   9.0  30.0  27.0\n",
      "\n",
      "값이 4개 이상 입력된 열\n",
      "      att   fin\n",
      "st1  10.0  29.0\n",
      "st2   9.0  35.0\n",
      "st3   NaN   NaN\n",
      "st4  10.0  35.0\n",
      "st5   8.0  27.0\n"
     ]
    }
   ],
   "source": [
    "data = {\"att\" : [10, 9, NA, 10, 8], \"hw\" : [10, 8, NA, NA, 9], \"mid\" : [NA, 29, NA, 27, 30],\n",
    "       \"fin\" : [29, 35, NA, 35, 27]}\n",
    "df = DataFrame(data, index = [\"st1\", \"st2\", \"st3\", \"st4\", \"st5\"])\n",
    "print(\"DataFrame\\n{0}\\n\\nNA가 있는 행 제거\\n{1}\\n\".format(df, df.dropna()))\n",
    "print(\"모든 열이 NA인 행 제거\\n{0}\\n\".format(df.dropna(how = \"all\")))\n",
    "print(\"값이 4개 이상 입력된 열\\n{0}\".format(df.dropna(axis = 1, thresh = 4)))"
   ]
  },
  {
   "cell_type": "markdown",
   "metadata": {},
   "source": [
    "    - fillna() 메소드\n",
    "    - method 옵션을 지정하여 앞쪽 값(\"ffill\") 또는 뒤쪽 값(\"bfill\") 채우기\n",
    "    - inplace = True 옵션으로 복사본을 생성하지 않고 현재 객체를 변경\n",
    "    - limit 옵션으로 앞 또는 뒤쪽에서 부터 몇 개까지 값을 채울지 지정"
   ]
  },
  {
   "cell_type": "code",
   "execution_count": 20,
   "metadata": {
    "scrolled": true
   },
   "outputs": [
    {
     "name": "stdout",
     "output_type": "stream",
     "text": [
      "Series\n",
      "0     7.5\n",
      "1     9.7\n",
      "2    10.0\n",
      "3     NaN\n",
      "4     5.4\n",
      "5     NaN\n",
      "6     NaN\n",
      "dtype: float64\n",
      "\n",
      "NA -> 0\n",
      "0     7.5\n",
      "1     9.7\n",
      "2    10.0\n",
      "3     0.0\n",
      "4     5.4\n",
      "5     0.0\n",
      "6     0.0\n",
      "dtype: float64\n",
      "\n",
      "NA -> 앞쪽 값(최대 1개)\n",
      "0     7.5\n",
      "1     9.7\n",
      "2    10.0\n",
      "3    10.0\n",
      "4     5.4\n",
      "5     5.4\n",
      "6     NaN\n",
      "dtype: float64\n",
      "\n",
      "NA -> 뒤쪽 값(최대 1개)\n",
      "0     7.5\n",
      "1     9.7\n",
      "2    10.0\n",
      "3     5.4\n",
      "4     5.4\n",
      "5     NaN\n",
      "6     NaN\n",
      "dtype: float64\n",
      "\n",
      "DataFrame\n",
      "      att    hw   mid   fin\n",
      "st1  10.0  10.0   NaN  29.0\n",
      "st2   9.0   8.0  29.0  35.0\n",
      "st3   NaN   NaN   NaN   NaN\n",
      "st4  10.0   NaN  27.0  35.0\n",
      "st5   8.0   9.0  30.0  27.0\n",
      "\n",
      "NA -> 0\n",
      "      att    hw   mid   fin\n",
      "st1  10.0  10.0   0.0  29.0\n",
      "st2   9.0   8.0  29.0  35.0\n",
      "st3   0.0   0.0   0.0   0.0\n",
      "st4  10.0   0.0  27.0  35.0\n",
      "st5   8.0   9.0  30.0  27.0\n",
      "\n",
      "열 att NA -> 0, mid NA -> 5\n",
      "      att    hw   mid   fin\n",
      "st1  10.0  10.0   5.0  29.0\n",
      "st2   9.0   8.0  29.0  35.0\n",
      "st3   0.0   NaN   5.0   NaN\n",
      "st4  10.0   NaN  27.0  35.0\n",
      "st5   8.0   9.0  30.0  27.0\n",
      "\n",
      "각 열의 평균값\n",
      "att     9.250000\n",
      "hw      9.000000\n",
      "mid    28.666667\n",
      "fin    31.500000\n",
      "dtype: float64\n",
      "\n",
      "NA -> 각 열의 평균값\n",
      "       att    hw        mid   fin\n",
      "st1  10.00  10.0  28.666667  29.0\n",
      "st2   9.00   8.0  29.000000  35.0\n",
      "st3   9.25   9.0  28.666667  31.5\n",
      "st4  10.00   9.0  27.000000  35.0\n",
      "st5   8.00   9.0  30.000000  27.0\n"
     ]
    }
   ],
   "source": [
    "# 위에 series와 DataFrame 실행 후 진행하기\n",
    "print(\"Series\\n{0}\\n\\nNA -> 0\\n{1}\\n\".format(s, s.fillna(value = 0)))\n",
    "print(\"NA -> 앞쪽 값(최대 1개)\\n{0}\\n\".format(s.fillna(method = \"ffill\", limit = 1)))\n",
    "print(\"NA -> 뒤쪽 값(최대 1개)\\n{0}\\n\".format(s.fillna(method = \"bfill\", limit = 1)))\n",
    "print(\"DataFrame\\n{0}\\n\\nNA -> 0\\n{1}\\n\".format(df, df.fillna(0)))\n",
    "print(\"열 att NA -> 0, mid NA -> 5\\n{0}\\n\".format(df.fillna({\"att\":0, \"mid\":5})))\n",
    "# fillna() 옵션으로 변수별 결측값 처리를 지정하려면 모든 변수 다 적어주어야함\n",
    "print(\"각 열의 평균값\\n{0}\\n\".format(df.mean()))\n",
    "print(\"NA -> 각 열의 평균값\\n{0}\".format(df.fillna(df.mean())))"
   ]
  },
  {
   "cell_type": "markdown",
   "metadata": {},
   "source": [
    "##### 계층적 색인 p.300"
   ]
  },
  {
   "cell_type": "code",
   "execution_count": 54,
   "metadata": {
    "scrolled": true
   },
   "outputs": [
    {
     "name": "stdout",
     "output_type": "stream",
     "text": [
      "Series\n",
      "stat  1    3\n",
      "      2    2\n",
      "      3    6\n",
      "econ  1    3\n",
      "      2    4\n",
      "comp  2    6\n",
      "      3    4\n",
      "      4    2\n",
      "math  3    4\n",
      "      4    4\n",
      "dtype: int32\n",
      "\n",
      "Series 색인\n",
      "MultiIndex(levels=[['comp', 'econ', 'math', 'stat'], [1, 2, 3, 4]],\n",
      "           codes=[[3, 3, 3, 1, 1, 0, 0, 0, 2, 2], [0, 1, 2, 0, 1, 1, 2, 3, 2, 3]])\n",
      "\n",
      "색인 comp\n",
      "2    6\n",
      "3    4\n",
      "4    2\n",
      "dtype: int32\n",
      "\n",
      "색인 stat, math\n",
      "stat  1    3\n",
      "      2    2\n",
      "      3    6\n",
      "math  3    4\n",
      "      4    4\n",
      "dtype: int32\n",
      "\n",
      "하위색인 2\n",
      "stat    2\n",
      "econ    4\n",
      "comp    6\n",
      "dtype: int32\n",
      "\n",
      "색인 stat, comp 하위색인 2\n",
      "stat    2\n",
      "comp    6\n",
      "dtype: int32\n",
      "\n",
      "색인 stat의 1,3\n",
      "stat  1    3\n",
      "      3    6\n",
      "dtype: int32\n",
      "\n",
      "중첩 해제\n",
      "        1    2    3    4\n",
      "comp  NaN  6.0  4.0  2.0\n",
      "econ  3.0  4.0  NaN  NaN\n",
      "math  NaN  NaN  4.0  4.0\n",
      "stat  3.0  2.0  6.0  NaN\n",
      "\n",
      "중첩 설정\n",
      "comp  2    6.0\n",
      "      3    4.0\n",
      "      4    2.0\n",
      "econ  1    3.0\n",
      "      2    4.0\n",
      "math  3    4.0\n",
      "      4    4.0\n",
      "stat  1    3.0\n",
      "      2    2.0\n",
      "      3    6.0\n",
      "dtype: float64\n"
     ]
    }
   ],
   "source": [
    "s = Series(np.random.binomial(n = 10, p = 0.4, size = 10),\n",
    "          index = [[\"stat\", \"stat\", \"stat\", \"econ\", \"econ\",\n",
    "                   \"comp\", \"comp\", \"comp\", \"math\", \"math\"],\n",
    "                  [1,2,3,1,2,2,3,4,3,4]])\n",
    "print(\"Series\\n{0}\\n\\nSeries 색인\\n{1}\\n\".format(s, s.index))\n",
    "\n",
    "print(\"색인 comp\\n{0}\\n\".format(s[\"comp\"]))\n",
    "print(\"색인 stat, math\\n{0}\\n\".format(s[[\"stat\", \"math\"]]))\n",
    "\n",
    "print(\"하위색인 2\\n{0}\\n\".format(s[:,2]))\n",
    "print(\"색인 stat, comp 하위색인 2\\n{0}\\n\".format(s[[\"stat\", \"comp\"]][:,2]))\n",
    "print(\"색인 stat의 1,3\\n{0}\\n\".format(s[[(\"stat\",1), (\"stat\", 3)]]))\n",
    "\n",
    "print(\"중첩 해제\\n{0}\\n\".format(s.unstack()))\n",
    "print(\"중첩 설정\\n{0}\".format(s.unstack().stack()))"
   ]
  },
  {
   "cell_type": "markdown",
   "metadata": {},
   "source": [
    "    - 계층적 데이터프레임"
   ]
  },
  {
   "cell_type": "code",
   "execution_count": 60,
   "metadata": {
    "scrolled": true
   },
   "outputs": [
    {
     "name": "stdout",
     "output_type": "stream",
     "text": [
      "DataFrame\n",
      "       서울    경기   \n",
      "        M  F  M  F\n",
      "stat 1  8  8  6  2\n",
      "     2  7  7  6  3\n",
      "     3  8  7  4  4\n",
      "econ 1  5  5  7  5\n",
      "     2  6  8  5  6\n",
      "comp 2  6  4  4  6\n",
      "     3  3  6  6  6\n",
      "     4  8  4  8  4\n",
      "math 3  6  5  7  8\n",
      "     4  2  9  5  6\n",
      "\n",
      "DataFrame 색인\n",
      "MultiIndex(levels=[['comp', 'econ', 'math', 'stat'], [1, 2, 3, 4]],\n",
      "           codes=[[3, 3, 3, 1, 1, 0, 0, 0, 2, 2], [0, 1, 2, 0, 1, 1, 2, 3, 2, 3]])\n",
      "DataFrame 열\n",
      "MultiIndex(levels=[['경기', '서울'], ['F', 'M']],\n",
      "           codes=[[1, 1, 0, 0], [1, 0, 1, 0]])\n",
      "\n",
      "DataFrame\n",
      "area     서울    경기   \n",
      "gender    M  F  M  F\n",
      "dept cls            \n",
      "stat 1    8  8  6  2\n",
      "     2    7  7  6  3\n",
      "     3    8  7  4  4\n",
      "econ 1    5  5  7  5\n",
      "     2    6  8  5  6\n",
      "comp 2    6  4  4  6\n",
      "     3    3  6  6  6\n",
      "     4    8  4  8  4\n",
      "math 3    6  5  7  8\n",
      "     4    2  9  5  6\n",
      "\n",
      "DataFrame 색인\n",
      "MultiIndex(levels=[['comp', 'econ', 'math', 'stat'], [1, 2, 3, 4]],\n",
      "           codes=[[3, 3, 3, 1, 1, 0, 0, 0, 2, 2], [0, 1, 2, 0, 1, 1, 2, 3, 2, 3]],\n",
      "           names=['dept', 'cls'])\n",
      "\n",
      "DataFrame 열\n",
      "MultiIndex(levels=[['경기', '서울'], ['F', 'M']],\n",
      "           codes=[[1, 1, 0, 0], [1, 0, 1, 0]],\n",
      "           names=['area', 'gender'])\n"
     ]
    }
   ],
   "source": [
    "np.random.seed(123789)\n",
    "data = np.random.binomial(n = 10, p = 0.6, size = 40).reshape(10, 4)\n",
    "df = DataFrame(data, index = [[\"stat\", \"stat\", \"stat\", \"econ\", \"econ\", \"comp\", \"comp\", \"comp\",\n",
    "                             \"math\", \"math\"], [1,2,3,1,2,2,3,4,3,4]],\n",
    "              columns = [[\"서울\", \"서울\", \"경기\", \"경기\"], [\"M\", \"F\", \"M\", \"F\"]])\n",
    "print(\"DataFrame\\n{0}\\n\\nDataFrame 색인\\n{1}\\nDataFrame 열\\n{2}\\n\".format(df, df.index, df.columns))\n",
    "\n",
    "df.index.names = [\"dept\", \"cls\"] # 행 색인 설명\n",
    "df.columns.names = [\"area\", \"gender\"] # 열 색인 설명\n",
    "# 바깥쪽 변수명을 먼저 지정해줌\n",
    "print(\"DataFrame\\n{0}\\n\".format(df))\n",
    "\n",
    "print(\"DataFrame 색인\\n{0}\\n\\nDataFrame 열\\n{1}\".format(df.index, df.columns))"
   ]
  },
  {
   "cell_type": "code",
   "execution_count": 45,
   "metadata": {
    "scrolled": true
   },
   "outputs": [
    {
     "name": "stdout",
     "output_type": "stream",
     "text": [
      "색인 stat\n",
      "area   서울    경기   \n",
      "gender  M  F  M  F\n",
      "cls               \n",
      "1       8  8  6  2\n",
      "2       7  7  6  3\n",
      "3       8  7  4  4\n",
      "\n",
      "열 서울\n",
      "gender    M  F\n",
      "dept cls      \n",
      "stat 1    8  8\n",
      "     2    7  7\n",
      "     3    8  7\n",
      "econ 1    5  5\n",
      "     2    6  8\n",
      "comp 2    6  4\n",
      "     3    3  6\n",
      "     4    8  4\n",
      "math 3    6  5\n",
      "     4    2  9\n",
      "\n",
      "색인 econ, 서울, F\n",
      "cls\n",
      "1    5\n",
      "2    8\n",
      "Name: F, dtype: int32\n",
      "\n",
      "색인 순서 변경\n",
      "area     서울    경기   \n",
      "gender    M  F  M  F\n",
      "cls dept            \n",
      "1   stat  8  8  6  2\n",
      "2   stat  7  7  6  3\n",
      "3   stat  8  7  4  4\n",
      "1   econ  5  5  7  5\n",
      "2   econ  6  8  5  6\n",
      "    comp  6  4  4  6\n",
      "3   comp  3  6  6  6\n",
      "4   comp  8  4  8  4\n",
      "3   math  6  5  7  8\n",
      "4   math  2  9  5  6\n",
      "\n",
      "색인 순서 변경 후 정렬\n",
      "area     서울    경기   \n",
      "gender    M  F  M  F\n",
      "cls dept            \n",
      "1   econ  5  5  7  5\n",
      "    stat  8  8  6  2\n",
      "2   comp  6  4  4  6\n",
      "    econ  6  8  5  6\n",
      "    stat  7  7  6  3\n",
      "3   comp  3  6  6  6\n",
      "    math  6  5  7  8\n",
      "    stat  8  7  4  4\n",
      "4   comp  8  4  8  4\n",
      "    math  2  9  5  6\n"
     ]
    }
   ],
   "source": [
    "# 조회\n",
    "print(\"색인 stat\\n{0}\\n\\n열 서울\\n{1}\\n\".format(df.loc[\"stat\"], df[\"서울\"]))\n",
    "print(\"색인 econ, 서울, F\\n{0}\\n\".format(df.loc[\"econ\"][\"서울\"][\"F\"]))\n",
    "# 그냥 이렇게 나열하면 됨\n",
    "print(\"색인 순서 변경\\n{0}\\n\".format(df.swaplevel(i = 1, j = 0)))\n",
    "# i = cls, j = dept\n",
    "print(\"색인 순서 변경 후 정렬\\n{0}\".format(df.swaplevel(i = 1, j = 0).sort_index(0)))\n",
    "# 색인 계층 변경 후 sort_index를 통해 재정렬 가능"
   ]
  },
  {
   "cell_type": "markdown",
   "metadata": {},
   "source": [
    "    - 단계별 요약 통계(단계별 기술통계)"
   ]
  },
  {
   "cell_type": "code",
   "execution_count": 61,
   "metadata": {
    "scrolled": true
   },
   "outputs": [
    {
     "name": "stdout",
     "output_type": "stream",
     "text": [
      "열별 전체 합계\n",
      "area  gender\n",
      "서울    M         59\n",
      "      F         63\n",
      "경기    M         58\n",
      "      F         50\n",
      "dtype: int64\n",
      "\n",
      "학과별 합계\n",
      "area    서울      경기    \n",
      "gender   M   F   M   F\n",
      "dept                  \n",
      "stat    23  22  16   9\n",
      "econ    11  13  12  11\n",
      "comp    17  14  18  16\n",
      "math     8  14  12  14\n",
      "\n",
      "학년별 합계\n",
      "area    서울      경기    \n",
      "gender   M   F   M   F\n",
      "cls                   \n",
      "1       13  13  13   7\n",
      "2       19  19  15  15\n",
      "3       17  18  17  18\n",
      "4       10  13  13  10\n",
      "\n",
      "행별 전체 합계\n",
      "dept  cls\n",
      "stat  1      24\n",
      "      2      23\n",
      "      3      23\n",
      "econ  1      22\n",
      "      2      25\n",
      "comp  2      20\n",
      "      3      21\n",
      "      4      24\n",
      "math  3      26\n",
      "      4      22\n",
      "dtype: int64\n",
      "\n",
      "지역별 합계\n",
      "area      서울  경기\n",
      "dept cls        \n",
      "stat 1    16   8\n",
      "     2    14   9\n",
      "     3    15   8\n",
      "econ 1    10  12\n",
      "     2    14  11\n",
      "comp 2    10  10\n",
      "     3     9  12\n",
      "     4    12  12\n",
      "math 3    11  15\n",
      "     4    11  11\n",
      "\n",
      "성별 합계\n",
      "gender     M   F\n",
      "dept cls        \n",
      "stat 1    14  10\n",
      "     2    13  10\n",
      "     3    12  11\n",
      "econ 1    12  10\n",
      "     2    11  14\n",
      "comp 2    10  10\n",
      "     3     9  12\n",
      "     4    16   8\n",
      "math 3    13  13\n",
      "     4     7  15\n",
      "\n",
      "지역과 성별 통계\n",
      "area           서울                    경기           \n",
      "gender          M          F          M          F\n",
      "count   10.000000  10.000000  10.000000  10.000000\n",
      "mean     5.900000   6.300000   5.800000   5.000000\n",
      "std      2.078995   1.766981   1.316561   1.763834\n",
      "min      2.000000   4.000000   4.000000   2.000000\n",
      "25%      5.250000   5.000000   5.000000   4.000000\n",
      "50%      6.000000   6.500000   6.000000   5.500000\n",
      "75%      7.750000   7.750000   6.750000   6.000000\n",
      "max      8.000000   9.000000   8.000000   8.000000\n"
     ]
    }
   ],
   "source": [
    "print(\"열별 전체 합계\\n{0}\\n\".format(df.sum()))\n",
    "print(\"학과별 합계\\n{0}\\n\".format(df.sum(level = 0)))\n",
    "# 또는 print(\"색인 순서 변경\\n{0}\\n\".format(df.sum(level = \"dept\")))\n",
    "print(\"학년별 합계\\n{0}\\n\".format(df.sum(level = \"cls\")))\n",
    "\n",
    "print(\"행별 전체 합계\\n{0}\\n\".format(df.sum(axis = 1)))\n",
    "# axis = 1 -> 행별\n",
    "print(\"지역별 합계\\n{0}\\n\".format(df.sum(level = 0, axis = 1)))\n",
    "# level=0 이므로 가장 바깥쪽을 말함 / axis = 1이므로 행별로 값을 다 나타냄 -> 따라서 지역별 통계량 산출\n",
    "print(\"성별 합계\\n{0}\\n\".format(df.sum(level = \"gender\", axis = 1)))\n",
    "# 그냥 level은 변수명을 통해서 나타내는게 가장 보기도, 이해하기도 편함\n",
    "print(\"지역과 성별 통계\\n{0}\".format(df.describe()))\n",
    "# 디폴트 axis = 0이므로 열 변수들의 통계량을 산출함"
   ]
  },
  {
   "cell_type": "markdown",
   "metadata": {},
   "source": [
    "    - dataframe의 열 사용\n",
    "    - set_index 메소드를 사용하여 열 색인을 행으로 옮기기\n",
    "    - reset_method를 사용하여 열 색인을 행으로 옮기기"
   ]
  },
  {
   "cell_type": "code",
   "execution_count": 57,
   "metadata": {
    "scrolled": true
   },
   "outputs": [
    {
     "name": "stdout",
     "output_type": "stream",
     "text": [
      "DataFrame\n",
      "   Y1  Y2  Y3 Y4\n",
      "0   8   8   6  M\n",
      "1   2   7   7  F\n",
      "2   6   3   8  M\n",
      "3   7   4   4  M\n",
      "4   5   5   7  M\n",
      "5   5   6   8  F\n",
      "6   5   6   6  M\n",
      "7   4   4   6  F\n",
      "8   3   6   6  F\n",
      "9   6   8   4  M\n",
      "\n",
      "Y2, Y4 열 색인 -> 행 색인\n",
      "       Y1  Y3\n",
      "Y2 Y4        \n",
      "3  M    6   8\n",
      "4  F    4   6\n",
      "   M    7   4\n",
      "5  M    5   7\n",
      "6  F    5   8\n",
      "   F    3   6\n",
      "   M    5   6\n",
      "7  F    2   7\n",
      "8  M    8   6\n",
      "   M    6   4\n",
      "\n",
      "Y4 열 색인 -> 행 색인\n",
      "   Y4  Y1  Y3\n",
      "Y2           \n",
      "3   M   6   8\n",
      "4   F   4   6\n",
      "4   M   7   4\n",
      "5   M   5   7\n",
      "6   F   5   8\n",
      "6   F   3   6\n",
      "6   M   5   6\n",
      "7   F   2   7\n",
      "8   M   8   6\n",
      "8   M   6   4\n"
     ]
    }
   ],
   "source": [
    "np.random.seed(123789)\n",
    "data = np.random.binomial(n = 10, p = 0.6, size = 30).reshape(10, 3)\n",
    "df = DataFrame(data, columns = [\"Y1\", \"Y2\", \"Y3\"])\n",
    "df[\"Y4\"] = [\"M\", \"F\", \"M\", \"M\", \"M\", \"F\", \"M\", \"F\", \"F\", \"M\"]\n",
    "print(\"DataFrame\\n{0}\\n\".format(df))\n",
    "\n",
    "df1 = df.set_index(keys = [\"Y2\", \"Y4\"]).sort_index()\n",
    "print(\"Y2, Y4 열 색인 -> 행 색인\\n{0}\\n\".format(df1))\n",
    "print(\"Y4 열 색인 -> 행 색인\\n{0}\".format(df1.reset_index(level = \"Y4\")))\n",
    "# 행색인 시켯던 열 하나를 다시 원래로 돌려놓을 떄"
   ]
  },
  {
   "cell_type": "markdown",
   "metadata": {},
   "source": [
    "# 중요!!!!!!!!!!!!!!!!!!!!!!\n",
    "- Module2\n",
    "\n",
    "    -Part 02. 빅데이터 전처리 및 시각화\n",
    "    \n",
    "        03. 자료 불러오기, 저장하기와 자료 다듬기, 변형, 병함"
   ]
  },
  {
   "cell_type": "markdown",
   "metadata": {},
   "source": [
    "##### 텍스트 파일 불러오기 p.310"
   ]
  },
  {
   "cell_type": "markdown",
   "metadata": {},
   "source": [
    "-메소드\n",
    "    - read_csv() : 기본 구분자 = \",\"\n",
    "    - read_table() : 기본 구분자 = \"\\t\"\n",
    "    - read_fwf() : 고정 열 입력방식 데이터 읽기\n",
    "    - read_clipboard() : 클립보드에 있는 데이터를 읽어오는 read_table 함수\n",
    "                         (웹페이지의 표 가져오기에 유용)"
   ]
  },
  {
   "cell_type": "markdown",
   "metadata": {},
   "source": [
    "-옵션\n",
    "    - path : 파일 위치\n",
    "    - sep, delimiter : 구분자\n",
    "    - header : 헤더가 없으면 None, 열 이름으로 사용할 skip 이후 줄 번호(기본값 : 0)\n",
    "    - index_col : 행 인덱스로 사용할 열 번호 또는 이름 또는 리스트\n",
    "    - names : 열 이름으로 사용할 리스트(header = None 일 떄 사용)\n",
    "    - skiprows : 무시할 행의 수 또는 행 번호가 담긴 리스트\n",
    "    - na_values : NA 값으로 처리할 값\n",
    "    - comment : 주석으로 분류되어 파싱하지 않을 문자열\n",
    "    - parse_date : 날짜를 datetime으로 변환할지 여부(기본값 : False)\n",
    "        - [1,2,3]은 각각의 열을 datetime으로 변환\n",
    "        - [[1,3]]은 1열과 3열을 조합하여 하나의 datetime으로 변환\n",
    "    - keep_date_col : 여러 열을 datetime으로 변환했을 때 원래 열을 남겨둘지 여부(디폴트 : False)\n",
    "    - converters : 열에 적용할 함수를 지정\n",
    "        - {\"age\".f}는 \"age\" 열에 f 함수를 적용(사전의 키는 열 이름이나 번호)\n",
    "    - date_parser : 날짜 변환 시 사용할 함수\n",
    "    - nrows : 파일을 몇 줄을 읽을 것인지 지정\n",
    "    - skip_footnote : 무시할 파일의 마지막 줄\n",
    "    - encoding : 유니코드 인코딩 종류를 지정\n",
    "    - thousands : 숫자의 천 단위 구분기호"
   ]
  },
  {
   "cell_type": "code",
   "execution_count": 62,
   "metadata": {},
   "outputs": [
    {
     "data": {
      "text/html": [
       "<div>\n",
       "<style scoped>\n",
       "    .dataframe tbody tr th:only-of-type {\n",
       "        vertical-align: middle;\n",
       "    }\n",
       "\n",
       "    .dataframe tbody tr th {\n",
       "        vertical-align: top;\n",
       "    }\n",
       "\n",
       "    .dataframe thead th {\n",
       "        text-align: right;\n",
       "    }\n",
       "</style>\n",
       "<table border=\"1\" class=\"dataframe\">\n",
       "  <thead>\n",
       "    <tr style=\"text-align: right;\">\n",
       "      <th></th>\n",
       "      <th>Area</th>\n",
       "      <th>UseDistrict</th>\n",
       "      <th>Option</th>\n",
       "      <th>FAR</th>\n",
       "      <th>Price</th>\n",
       "    </tr>\n",
       "    <tr>\n",
       "      <th>id</th>\n",
       "      <th></th>\n",
       "      <th></th>\n",
       "      <th></th>\n",
       "      <th></th>\n",
       "      <th></th>\n",
       "    </tr>\n",
       "  </thead>\n",
       "  <tbody>\n",
       "    <tr>\n",
       "      <th>apt01</th>\n",
       "      <td>도심권</td>\n",
       "      <td>제2종 일반주거지역</td>\n",
       "      <td>풀옵션형</td>\n",
       "      <td>132.72</td>\n",
       "      <td>515.0519492</td>\n",
       "    </tr>\n",
       "    <tr>\n",
       "      <th>apt02</th>\n",
       "      <td>도심권</td>\n",
       "      <td>제2종 일반주거지역</td>\n",
       "      <td>풀옵션형</td>\n",
       "      <td>184.99</td>\n",
       "      <td></td>\n",
       "    </tr>\n",
       "    <tr>\n",
       "      <th>apt03</th>\n",
       "      <td></td>\n",
       "      <td>상업지역</td>\n",
       "      <td>기본형</td>\n",
       "      <td></td>\n",
       "      <td>364.3195349</td>\n",
       "    </tr>\n",
       "    <tr>\n",
       "      <th>apt04</th>\n",
       "      <td>도심권</td>\n",
       "      <td>상업지역</td>\n",
       "      <td>풀옵션형</td>\n",
       "      <td>493.08</td>\n",
       "      <td>410.9455297</td>\n",
       "    </tr>\n",
       "    <tr>\n",
       "      <th>apt05</th>\n",
       "      <td>도심권</td>\n",
       "      <td>준주거지역</td>\n",
       "      <td>기본형</td>\n",
       "      <td>349.65</td>\n",
       "      <td>616.9759862</td>\n",
       "    </tr>\n",
       "    <tr>\n",
       "      <th>apt06</th>\n",
       "      <td>도심권</td>\n",
       "      <td>제3종 일반주거지역</td>\n",
       "      <td>풀옵션형</td>\n",
       "      <td>.</td>\n",
       "      <td>469.1517971</td>\n",
       "    </tr>\n",
       "    <tr>\n",
       "      <th>apt07</th>\n",
       "      <td>도심권</td>\n",
       "      <td>제3종 일반주거지역</td>\n",
       "      <td>풀옵션형</td>\n",
       "      <td>227.2</td>\n",
       "      <td>576.4762615</td>\n",
       "    </tr>\n",
       "  </tbody>\n",
       "</table>\n",
       "</div>"
      ],
      "text/plain": [
       "      Area UseDistrict Option     FAR        Price\n",
       "id                                                \n",
       "apt01  도심권  제2종 일반주거지역   풀옵션형  132.72  515.0519492\n",
       "apt02  도심권  제2종 일반주거지역   풀옵션형  184.99             \n",
       "apt03             상업지역    기본형          364.3195349\n",
       "apt04  도심권        상업지역   풀옵션형  493.08  410.9455297\n",
       "apt05  도심권       준주거지역    기본형  349.65  616.9759862\n",
       "apt06  도심권  제3종 일반주거지역   풀옵션형       .  469.1517971\n",
       "apt07  도심권  제3종 일반주거지역   풀옵션형   227.2  576.4762615"
      ]
     },
     "execution_count": 62,
     "metadata": {},
     "output_type": "execute_result"
    }
   ],
   "source": [
    "df = pd.read_csv(\"C:/Users/Affinity/Desktop/study/Python_Data/ch02_data/APT.csv\", header = 0,\n",
    "                skiprows = 7, index_col = \"id\", encoding = \"utf-8\")\n",
    "df.head(7)"
   ]
  },
  {
   "cell_type": "code",
   "execution_count": 64,
   "metadata": {},
   "outputs": [
    {
     "data": {
      "text/html": [
       "<div>\n",
       "<style scoped>\n",
       "    .dataframe tbody tr th:only-of-type {\n",
       "        vertical-align: middle;\n",
       "    }\n",
       "\n",
       "    .dataframe tbody tr th {\n",
       "        vertical-align: top;\n",
       "    }\n",
       "\n",
       "    .dataframe thead th {\n",
       "        text-align: right;\n",
       "    }\n",
       "</style>\n",
       "<table border=\"1\" class=\"dataframe\">\n",
       "  <thead>\n",
       "    <tr style=\"text-align: right;\">\n",
       "      <th></th>\n",
       "      <th>Area</th>\n",
       "      <th>UseDistrict</th>\n",
       "      <th>Option</th>\n",
       "      <th>FAR</th>\n",
       "      <th>Price</th>\n",
       "    </tr>\n",
       "    <tr>\n",
       "      <th>id</th>\n",
       "      <th></th>\n",
       "      <th></th>\n",
       "      <th></th>\n",
       "      <th></th>\n",
       "      <th></th>\n",
       "    </tr>\n",
       "  </thead>\n",
       "  <tbody>\n",
       "    <tr>\n",
       "      <th>apt01</th>\n",
       "      <td>도심권</td>\n",
       "      <td>제2종 일반주거지역</td>\n",
       "      <td>풀옵션형</td>\n",
       "      <td>132.72</td>\n",
       "      <td>515.051949</td>\n",
       "    </tr>\n",
       "    <tr>\n",
       "      <th>apt02</th>\n",
       "      <td>도심권</td>\n",
       "      <td>제2종 일반주거지역</td>\n",
       "      <td>풀옵션형</td>\n",
       "      <td>184.99</td>\n",
       "      <td>NaN</td>\n",
       "    </tr>\n",
       "    <tr>\n",
       "      <th>apt03</th>\n",
       "      <td>NaN</td>\n",
       "      <td>상업지역</td>\n",
       "      <td>기본형</td>\n",
       "      <td>NaN</td>\n",
       "      <td>364.319535</td>\n",
       "    </tr>\n",
       "    <tr>\n",
       "      <th>apt04</th>\n",
       "      <td>도심권</td>\n",
       "      <td>상업지역</td>\n",
       "      <td>풀옵션형</td>\n",
       "      <td>493.08</td>\n",
       "      <td>410.945530</td>\n",
       "    </tr>\n",
       "    <tr>\n",
       "      <th>apt05</th>\n",
       "      <td>도심권</td>\n",
       "      <td>준주거지역</td>\n",
       "      <td>기본형</td>\n",
       "      <td>349.65</td>\n",
       "      <td>616.975986</td>\n",
       "    </tr>\n",
       "    <tr>\n",
       "      <th>apt06</th>\n",
       "      <td>도심권</td>\n",
       "      <td>제3종 일반주거지역</td>\n",
       "      <td>풀옵션형</td>\n",
       "      <td>NaN</td>\n",
       "      <td>469.151797</td>\n",
       "    </tr>\n",
       "    <tr>\n",
       "      <th>apt07</th>\n",
       "      <td>도심권</td>\n",
       "      <td>제3종 일반주거지역</td>\n",
       "      <td>풀옵션형</td>\n",
       "      <td>227.20</td>\n",
       "      <td>576.476262</td>\n",
       "    </tr>\n",
       "  </tbody>\n",
       "</table>\n",
       "</div>"
      ],
      "text/plain": [
       "      Area UseDistrict Option     FAR       Price\n",
       "id                                               \n",
       "apt01  도심권  제2종 일반주거지역   풀옵션형  132.72  515.051949\n",
       "apt02  도심권  제2종 일반주거지역   풀옵션형  184.99         NaN\n",
       "apt03  NaN        상업지역    기본형     NaN  364.319535\n",
       "apt04  도심권        상업지역   풀옵션형  493.08  410.945530\n",
       "apt05  도심권       준주거지역    기본형  349.65  616.975986\n",
       "apt06  도심권  제3종 일반주거지역   풀옵션형     NaN  469.151797\n",
       "apt07  도심권  제3종 일반주거지역   풀옵션형  227.20  576.476262"
      ]
     },
     "execution_count": 64,
     "metadata": {},
     "output_type": "execute_result"
    }
   ],
   "source": [
    "# na_values = [] 에 결측값 유형들을 넣으면 NaN 값으로 바꿔줌\n",
    "df = pd.read_csv(\"C:/Users/Affinity/Desktop/study/Python_Data/ch02_data/APT.csv\", header = 0,\n",
    "                skiprows = 7, index_col = \"id\", encoding = \"utf-8\", na_values = [\" \", \".\"])\n",
    "df.head(7)"
   ]
  },
  {
   "cell_type": "code",
   "execution_count": 67,
   "metadata": {},
   "outputs": [
    {
     "data": {
      "text/html": [
       "<div>\n",
       "<style scoped>\n",
       "    .dataframe tbody tr th:only-of-type {\n",
       "        vertical-align: middle;\n",
       "    }\n",
       "\n",
       "    .dataframe tbody tr th {\n",
       "        vertical-align: top;\n",
       "    }\n",
       "\n",
       "    .dataframe thead th {\n",
       "        text-align: right;\n",
       "    }\n",
       "</style>\n",
       "<table border=\"1\" class=\"dataframe\">\n",
       "  <thead>\n",
       "    <tr style=\"text-align: right;\">\n",
       "      <th></th>\n",
       "      <th>Y1</th>\n",
       "      <th>Y2</th>\n",
       "      <th>Y3</th>\n",
       "      <th>Y4</th>\n",
       "      <th>Y5</th>\n",
       "    </tr>\n",
       "  </thead>\n",
       "  <tbody>\n",
       "    <tr>\n",
       "      <th>apt03</th>\n",
       "      <td>NaN</td>\n",
       "      <td>상업지역</td>\n",
       "      <td>기본형</td>\n",
       "      <td>NaN</td>\n",
       "      <td>364.319535</td>\n",
       "    </tr>\n",
       "    <tr>\n",
       "      <th>apt04</th>\n",
       "      <td>도심권</td>\n",
       "      <td>상업지역</td>\n",
       "      <td>풀옵션형</td>\n",
       "      <td>493.08</td>\n",
       "      <td>410.945530</td>\n",
       "    </tr>\n",
       "    <tr>\n",
       "      <th>apt05</th>\n",
       "      <td>도심권</td>\n",
       "      <td>준주거지역</td>\n",
       "      <td>기본형</td>\n",
       "      <td>349.65</td>\n",
       "      <td>616.975986</td>\n",
       "    </tr>\n",
       "    <tr>\n",
       "      <th>apt06</th>\n",
       "      <td>도심권</td>\n",
       "      <td>제3종 일반주거지역</td>\n",
       "      <td>풀옵션형</td>\n",
       "      <td>NaN</td>\n",
       "      <td>469.151797</td>\n",
       "    </tr>\n",
       "    <tr>\n",
       "      <th>apt07</th>\n",
       "      <td>도심권</td>\n",
       "      <td>제3종 일반주거지역</td>\n",
       "      <td>풀옵션형</td>\n",
       "      <td>227.20</td>\n",
       "      <td>576.476262</td>\n",
       "    </tr>\n",
       "    <tr>\n",
       "      <th>apt08</th>\n",
       "      <td>도심권</td>\n",
       "      <td>상업지역</td>\n",
       "      <td>풀옵션형</td>\n",
       "      <td>254.37</td>\n",
       "      <td>355.871886</td>\n",
       "    </tr>\n",
       "    <tr>\n",
       "      <th>apt09</th>\n",
       "      <td>동북권</td>\n",
       "      <td>NaN</td>\n",
       "      <td>기본형</td>\n",
       "      <td>199.93</td>\n",
       "      <td>423.812340</td>\n",
       "    </tr>\n",
       "  </tbody>\n",
       "</table>\n",
       "</div>"
      ],
      "text/plain": [
       "        Y1          Y2    Y3      Y4          Y5\n",
       "apt03  NaN        상업지역   기본형     NaN  364.319535\n",
       "apt04  도심권        상업지역  풀옵션형  493.08  410.945530\n",
       "apt05  도심권       준주거지역   기본형  349.65  616.975986\n",
       "apt06  도심권  제3종 일반주거지역  풀옵션형     NaN  469.151797\n",
       "apt07  도심권  제3종 일반주거지역  풀옵션형  227.20  576.476262\n",
       "apt08  도심권        상업지역  풀옵션형  254.37  355.871886\n",
       "apt09  동북권         NaN   기본형  199.93  423.812340"
      ]
     },
     "execution_count": 67,
     "metadata": {},
     "output_type": "execute_result"
    }
   ],
   "source": [
    "df = pd.read_csv(\"C:/Users/Affinity/Desktop/study/Python_Data/ch02_data/APT.csv\", header  = None,\n",
    "                 names = [\"Y1\", \"Y2\", \"Y3\", \"Y4\", \"Y5\"], skiprows = 10, nrows = 7, index_col = 0,\n",
    "                          encoding = \"utf-8\", na_values = [\" \", \".\"])\n",
    "# index_col은 행 인덱스로 사용할 열 지정\n",
    "df.head(10)"
   ]
  },
  {
   "cell_type": "markdown",
   "metadata": {},
   "source": [
    "##### 텍스트 파일 저장하기 p.313"
   ]
  },
  {
   "cell_type": "markdown",
   "metadata": {},
   "source": [
    "-메소드\n",
    "    - to_csv : dataframe을 구분자 형식으로 저장 ( 기본 구분자 : \",\" )"
   ]
  },
  {
   "cell_type": "markdown",
   "metadata": {},
   "source": [
    "-옵션\n",
    "     - path : 파일 위치\n",
    "     - sep / delimiter\n",
    "     - na_rep : 누랍된 값을 원하는 값으로 지정 ( 기본적으로 누락된 값은 빈 문자열 )\n",
    "     - index : 행 이름의 포함여부(기본값 = True)\n",
    "     - header : 열 이름 포함여부(기본값 = True)\n",
    "     - columns : 내보낼 열 이름을 리스트로 지정"
   ]
  },
  {
   "cell_type": "code",
   "execution_count": 71,
   "metadata": {},
   "outputs": [],
   "source": [
    "df.to_csv(\"C:/Users/Affinity/Desktop/study/Python_Data/ch02_data/APTSavee.txt\", sep = \"|\",\n",
    "         na_rep = \"NULL\", index = False, header = True, columns = [\"Y1\", \"Y4\", \"Y5\"])"
   ]
  },
  {
   "cell_type": "markdown",
   "metadata": {},
   "source": [
    "##### 데이터 합치기 p.314"
   ]
  },
  {
   "cell_type": "markdown",
   "metadata": {},
   "source": [
    "-메소드\n",
    "    - merge : 키를 기준으로 DataFrmae의 행 합치기"
   ]
  },
  {
   "cell_type": "markdown",
   "metadata": {},
   "source": [
    "-옵션\n",
    "    - left : 결합할 왼쪽 DataFrame\n",
    "    - right : 결합할 오른쪽 DataFrame\n",
    "    - how : 결합방법\n",
    "        - left : 왼쪽의 모든 데이터 결합\n",
    "        - right : 오른쪽의 모든 데이터 결합\n",
    "        - outer : 양쪽의 모든 데이터 결합\n",
    "        - inner : (기본값) 양쪽에 기준값이 모두 있는 경우 교차하여 결합\n",
    "    - on : 결합할 양쪽 DataFrame의 기준 변수\n",
    "    - left_on : 결합할 왼쪽 DataFrame의 기준 변수\n",
    "    - right_on : 결합할 오른쪽 DataFrame의 기준 변수\n",
    "    - left_index : 왼쪽 DataFrame의 인덱스를 기준변수로 사용\n",
    "    - right_index : 오른쪽 DataFrame의 인덱스를 기준변수로 사용\n",
    "    - sort : 병합된 데이터를 사전 순으로 정렬"
   ]
  },
  {
   "cell_type": "code",
   "execution_count": 76,
   "metadata": {
    "scrolled": true
   },
   "outputs": [
    {
     "name": "stdout",
     "output_type": "stream",
     "text": [
      "df1\n",
      "  key  V1\n",
      "0   b   0\n",
      "1   b   1\n",
      "2   a   2\n",
      "3   c   3\n",
      "4   a   4\n",
      "5   a   5\n",
      "6   b   6\n",
      "\n",
      "df2\n",
      "  key  V2\n",
      "0   a   2\n",
      "1   b   3\n",
      "2   d   4\n",
      "\n",
      "  key  V1  V2\n",
      "0   b   0   3\n",
      "1   b   1   3\n",
      "2   b   6   3\n",
      "3   a   2   2\n",
      "4   a   4   2\n",
      "5   a   5   2\n"
     ]
    }
   ],
   "source": [
    "df1 = DataFrame({\"key\" : [\"b\", \"b\", \"a\", \"c\", \"a\", \"a\", \"b\"], \"V1\" : range(7)})\n",
    "df2 = DataFrame({\"key\" : [\"a\", \"b\", \"d\"], \"V2\" : range(2, 5)})\n",
    "print(\"df1\\n{0}\\n\\ndf2\\n{1}\\n\".format(df1, df2))\n",
    "print(pd.merge(df1, df2))\n",
    "# 또는 명시적으로 pd.merge(df1, df2, on = key)"
   ]
  },
  {
   "cell_type": "code",
   "execution_count": 78,
   "metadata": {},
   "outputs": [
    {
     "name": "stdout",
     "output_type": "stream",
     "text": [
      "df1\n",
      "  key1  V1\n",
      "0    b   0\n",
      "1    b   1\n",
      "2    a   2\n",
      "3    c   3\n",
      "4    a   4\n",
      "5    a   5\n",
      "6    b   6\n",
      "\n",
      "df2\n",
      "  key2  V2\n",
      "0    a   2\n",
      "1    b   3\n",
      "2    d   4\n",
      "\n",
      "  key1  V1 key2  V2\n",
      "0    b   0    b   3\n",
      "1    b   1    b   3\n",
      "2    b   6    b   3\n",
      "3    a   2    a   2\n",
      "4    a   4    a   2\n",
      "5    a   5    a   2\n"
     ]
    }
   ],
   "source": [
    "df1 = DataFrame({\"key1\" : [\"b\", \"b\", \"a\", \"c\", \"a\", \"a\", \"b\"], \"V1\" : range(7)})\n",
    "df2 = DataFrame({\"key2\" : [\"a\", \"b\", \"d\"], \"V2\" : range(2, 5)})\n",
    "print(\"df1\\n{0}\\n\\ndf2\\n{1}\\n\".format(df1, df2))\n",
    "# 기준 변수이름이 다른 경우\n",
    "print(pd.merge(df1, df2, left_on = \"key1\", right_on = \"key2\"))"
   ]
  },
  {
   "cell_type": "code",
   "execution_count": 79,
   "metadata": {},
   "outputs": [
    {
     "data": {
      "text/html": [
       "<div>\n",
       "<style scoped>\n",
       "    .dataframe tbody tr th:only-of-type {\n",
       "        vertical-align: middle;\n",
       "    }\n",
       "\n",
       "    .dataframe tbody tr th {\n",
       "        vertical-align: top;\n",
       "    }\n",
       "\n",
       "    .dataframe thead th {\n",
       "        text-align: right;\n",
       "    }\n",
       "</style>\n",
       "<table border=\"1\" class=\"dataframe\">\n",
       "  <thead>\n",
       "    <tr style=\"text-align: right;\">\n",
       "      <th></th>\n",
       "      <th>key1</th>\n",
       "      <th>V1</th>\n",
       "      <th>key2</th>\n",
       "      <th>V2</th>\n",
       "    </tr>\n",
       "  </thead>\n",
       "  <tbody>\n",
       "    <tr>\n",
       "      <th>0</th>\n",
       "      <td>b</td>\n",
       "      <td>0.0</td>\n",
       "      <td>b</td>\n",
       "      <td>3.0</td>\n",
       "    </tr>\n",
       "    <tr>\n",
       "      <th>1</th>\n",
       "      <td>b</td>\n",
       "      <td>1.0</td>\n",
       "      <td>b</td>\n",
       "      <td>3.0</td>\n",
       "    </tr>\n",
       "    <tr>\n",
       "      <th>2</th>\n",
       "      <td>b</td>\n",
       "      <td>6.0</td>\n",
       "      <td>b</td>\n",
       "      <td>3.0</td>\n",
       "    </tr>\n",
       "    <tr>\n",
       "      <th>3</th>\n",
       "      <td>a</td>\n",
       "      <td>2.0</td>\n",
       "      <td>a</td>\n",
       "      <td>2.0</td>\n",
       "    </tr>\n",
       "    <tr>\n",
       "      <th>4</th>\n",
       "      <td>a</td>\n",
       "      <td>4.0</td>\n",
       "      <td>a</td>\n",
       "      <td>2.0</td>\n",
       "    </tr>\n",
       "    <tr>\n",
       "      <th>5</th>\n",
       "      <td>a</td>\n",
       "      <td>5.0</td>\n",
       "      <td>a</td>\n",
       "      <td>2.0</td>\n",
       "    </tr>\n",
       "    <tr>\n",
       "      <th>6</th>\n",
       "      <td>c</td>\n",
       "      <td>3.0</td>\n",
       "      <td>NaN</td>\n",
       "      <td>NaN</td>\n",
       "    </tr>\n",
       "    <tr>\n",
       "      <th>7</th>\n",
       "      <td>NaN</td>\n",
       "      <td>NaN</td>\n",
       "      <td>d</td>\n",
       "      <td>4.0</td>\n",
       "    </tr>\n",
       "  </tbody>\n",
       "</table>\n",
       "</div>"
      ],
      "text/plain": [
       "  key1   V1 key2   V2\n",
       "0    b  0.0    b  3.0\n",
       "1    b  1.0    b  3.0\n",
       "2    b  6.0    b  3.0\n",
       "3    a  2.0    a  2.0\n",
       "4    a  4.0    a  2.0\n",
       "5    a  5.0    a  2.0\n",
       "6    c  3.0  NaN  NaN\n",
       "7  NaN  NaN    d  4.0"
      ]
     },
     "execution_count": 79,
     "metadata": {},
     "output_type": "execute_result"
    }
   ],
   "source": [
    "# 양쪽 DataFrame에서 기준 값이 없는 경우에 결합 여부는 how 옵션으로 지정\n",
    "pd.merge(df1, df2, left_on = \"key1\", right_on = \"key2\", how = \"outer\")\n",
    "# left_on = [\"변수명\", \"변수명\"], right_on = [\"변수명\", \"변수명\"]\n",
    "# 이렇게 2개 이상의 키 변수를 가지고 merge 할 수 있음"
   ]
  },
  {
   "cell_type": "code",
   "execution_count": 95,
   "metadata": {
    "scrolled": true
   },
   "outputs": [
    {
     "name": "stdout",
     "output_type": "stream",
     "text": [
      "df1\n",
      "   key1  key2  V1\n",
      "0  stat     1   0\n",
      "1  stat     2   1\n",
      "2  stat     3   2\n",
      "3  math     1   3\n",
      "4  math     2   4\n",
      "5  math     4   5\n",
      "\n",
      "df2\n",
      "   key1  key2  V2\n",
      "0  stat     1  10\n",
      "1  stat     2  11\n",
      "2  econ     3  12\n",
      "3  math     1  13\n",
      "4  math     4  14\n",
      "\n"
     ]
    },
    {
     "data": {
      "text/html": [
       "<div>\n",
       "<style scoped>\n",
       "    .dataframe tbody tr th:only-of-type {\n",
       "        vertical-align: middle;\n",
       "    }\n",
       "\n",
       "    .dataframe tbody tr th {\n",
       "        vertical-align: top;\n",
       "    }\n",
       "\n",
       "    .dataframe thead th {\n",
       "        text-align: right;\n",
       "    }\n",
       "</style>\n",
       "<table border=\"1\" class=\"dataframe\">\n",
       "  <thead>\n",
       "    <tr style=\"text-align: right;\">\n",
       "      <th></th>\n",
       "      <th>key1</th>\n",
       "      <th>key2</th>\n",
       "      <th>V1</th>\n",
       "      <th>V2</th>\n",
       "    </tr>\n",
       "  </thead>\n",
       "  <tbody>\n",
       "    <tr>\n",
       "      <th>0</th>\n",
       "      <td>econ</td>\n",
       "      <td>3</td>\n",
       "      <td>NaN</td>\n",
       "      <td>12.0</td>\n",
       "    </tr>\n",
       "    <tr>\n",
       "      <th>1</th>\n",
       "      <td>math</td>\n",
       "      <td>1</td>\n",
       "      <td>3.0</td>\n",
       "      <td>13.0</td>\n",
       "    </tr>\n",
       "    <tr>\n",
       "      <th>2</th>\n",
       "      <td>math</td>\n",
       "      <td>2</td>\n",
       "      <td>4.0</td>\n",
       "      <td>NaN</td>\n",
       "    </tr>\n",
       "    <tr>\n",
       "      <th>3</th>\n",
       "      <td>math</td>\n",
       "      <td>4</td>\n",
       "      <td>5.0</td>\n",
       "      <td>14.0</td>\n",
       "    </tr>\n",
       "    <tr>\n",
       "      <th>4</th>\n",
       "      <td>stat</td>\n",
       "      <td>1</td>\n",
       "      <td>0.0</td>\n",
       "      <td>10.0</td>\n",
       "    </tr>\n",
       "    <tr>\n",
       "      <th>5</th>\n",
       "      <td>stat</td>\n",
       "      <td>2</td>\n",
       "      <td>1.0</td>\n",
       "      <td>11.0</td>\n",
       "    </tr>\n",
       "    <tr>\n",
       "      <th>6</th>\n",
       "      <td>stat</td>\n",
       "      <td>3</td>\n",
       "      <td>2.0</td>\n",
       "      <td>NaN</td>\n",
       "    </tr>\n",
       "  </tbody>\n",
       "</table>\n",
       "</div>"
      ],
      "text/plain": [
       "   key1  key2   V1    V2\n",
       "0  econ     3  NaN  12.0\n",
       "1  math     1  3.0  13.0\n",
       "2  math     2  4.0   NaN\n",
       "3  math     4  5.0  14.0\n",
       "4  stat     1  0.0  10.0\n",
       "5  stat     2  1.0  11.0\n",
       "6  stat     3  2.0   NaN"
      ]
     },
     "execution_count": 95,
     "metadata": {},
     "output_type": "execute_result"
    }
   ],
   "source": [
    "df1 = DataFrame({\"key1\" : [\"stat\", \"stat\", \"stat\", \"math\", \"math\", \"math\"],\n",
    "                \"key2\" : [1,2,3,1,2,4], \"V1\" : range(6)})\n",
    "df2 = DataFrame({\"key1\" : [\"stat\", \"stat\", \"econ\", \"math\", \"math\"],\n",
    "                \"key2\" : [1,2,3,1,4], \"V2\" : range(10, 15)})\n",
    "print(\"df1\\n{0}\\n\\ndf2\\n{1}\\n\".format(df1, df2))\n",
    "pd.merge(df1, df2, on = [\"key1\", \"key2\"], how = \"outer\", sort = True)"
   ]
  },
  {
   "cell_type": "code",
   "execution_count": 94,
   "metadata": {
    "scrolled": true
   },
   "outputs": [
    {
     "name": "stdout",
     "output_type": "stream",
     "text": [
      "df1\n",
      "  key1  V1\n",
      "0    b   0\n",
      "1    b   1\n",
      "2    a   2\n",
      "3    c   3\n",
      "4    a   4\n",
      "5    a   5\n",
      "6    b   6\n",
      "\n",
      "df2\n",
      "   V1  V2\n",
      "a  10   2\n",
      "b  11   3\n",
      "d  12   4\n",
      "\n"
     ]
    },
    {
     "data": {
      "text/html": [
       "<div>\n",
       "<style scoped>\n",
       "    .dataframe tbody tr th:only-of-type {\n",
       "        vertical-align: middle;\n",
       "    }\n",
       "\n",
       "    .dataframe tbody tr th {\n",
       "        vertical-align: top;\n",
       "    }\n",
       "\n",
       "    .dataframe thead th {\n",
       "        text-align: right;\n",
       "    }\n",
       "</style>\n",
       "<table border=\"1\" class=\"dataframe\">\n",
       "  <thead>\n",
       "    <tr style=\"text-align: right;\">\n",
       "      <th></th>\n",
       "      <th>key1</th>\n",
       "      <th>V1_x</th>\n",
       "      <th>V1_y</th>\n",
       "      <th>V2</th>\n",
       "    </tr>\n",
       "  </thead>\n",
       "  <tbody>\n",
       "    <tr>\n",
       "      <th>2</th>\n",
       "      <td>a</td>\n",
       "      <td>2.0</td>\n",
       "      <td>10.0</td>\n",
       "      <td>2.0</td>\n",
       "    </tr>\n",
       "    <tr>\n",
       "      <th>4</th>\n",
       "      <td>a</td>\n",
       "      <td>4.0</td>\n",
       "      <td>10.0</td>\n",
       "      <td>2.0</td>\n",
       "    </tr>\n",
       "    <tr>\n",
       "      <th>5</th>\n",
       "      <td>a</td>\n",
       "      <td>5.0</td>\n",
       "      <td>10.0</td>\n",
       "      <td>2.0</td>\n",
       "    </tr>\n",
       "    <tr>\n",
       "      <th>0</th>\n",
       "      <td>b</td>\n",
       "      <td>0.0</td>\n",
       "      <td>11.0</td>\n",
       "      <td>3.0</td>\n",
       "    </tr>\n",
       "    <tr>\n",
       "      <th>1</th>\n",
       "      <td>b</td>\n",
       "      <td>1.0</td>\n",
       "      <td>11.0</td>\n",
       "      <td>3.0</td>\n",
       "    </tr>\n",
       "    <tr>\n",
       "      <th>6</th>\n",
       "      <td>b</td>\n",
       "      <td>6.0</td>\n",
       "      <td>11.0</td>\n",
       "      <td>3.0</td>\n",
       "    </tr>\n",
       "    <tr>\n",
       "      <th>3</th>\n",
       "      <td>c</td>\n",
       "      <td>3.0</td>\n",
       "      <td>NaN</td>\n",
       "      <td>NaN</td>\n",
       "    </tr>\n",
       "    <tr>\n",
       "      <th>6</th>\n",
       "      <td>d</td>\n",
       "      <td>NaN</td>\n",
       "      <td>12.0</td>\n",
       "      <td>4.0</td>\n",
       "    </tr>\n",
       "  </tbody>\n",
       "</table>\n",
       "</div>"
      ],
      "text/plain": [
       "  key1  V1_x  V1_y   V2\n",
       "2    a   2.0  10.0  2.0\n",
       "4    a   4.0  10.0  2.0\n",
       "5    a   5.0  10.0  2.0\n",
       "0    b   0.0  11.0  3.0\n",
       "1    b   1.0  11.0  3.0\n",
       "6    b   6.0  11.0  3.0\n",
       "3    c   3.0   NaN  NaN\n",
       "6    d   NaN  12.0  4.0"
      ]
     },
     "execution_count": 94,
     "metadata": {},
     "output_type": "execute_result"
    }
   ],
   "source": [
    "df1 = DataFrame({\"key1\" : [\"b\", \"b\", \"a\", \"c\", \"a\", \"a\", \"b\"], \"V1\" : range(7)})\n",
    "df2 = DataFrame({\"V1\" : range(10, 13), \"V2\" : range(2, 5)}, index = [\"a\", \"b\", \"d\"])\n",
    "print(\"df1\\n{0}\\n\\ndf2\\n{1}\\n\".format(df1, df2))\n",
    "pd.merge(df1, df2, left_on = [\"key1\"], right_index = True, how = \"outer\", sort = True)\n",
    "# right_index = 오른쪽 인덱스를 기준변수로 사용\n",
    "# left_on <-> left_index / right_on <-> right_index 하나만 선택해서 사용"
   ]
  },
  {
   "cell_type": "markdown",
   "metadata": {},
   "source": [
    "    - join 메소드\n",
    "    - 디폴트가 인덱스 조인이며 옵션 lsuffix, rsuffix\n",
    "    - 왼쪽 오른쪽 변수명에 추가로 연결할 접미어 설정"
   ]
  },
  {
   "cell_type": "code",
   "execution_count": 93,
   "metadata": {
    "scrolled": false
   },
   "outputs": [
    {
     "name": "stdout",
     "output_type": "stream",
     "text": [
      "df1\n",
      "   V1\n",
      "b   0\n",
      "b   1\n",
      "a   2\n",
      "c   3\n",
      "a   4\n",
      "a   5\n",
      "b   6\n",
      "\n",
      "df2\n",
      "   V1  V2\n",
      "a  10   2\n",
      "b  11   3\n",
      "d  12   4\n"
     ]
    },
    {
     "data": {
      "text/html": [
       "<div>\n",
       "<style scoped>\n",
       "    .dataframe tbody tr th:only-of-type {\n",
       "        vertical-align: middle;\n",
       "    }\n",
       "\n",
       "    .dataframe tbody tr th {\n",
       "        vertical-align: top;\n",
       "    }\n",
       "\n",
       "    .dataframe thead th {\n",
       "        text-align: right;\n",
       "    }\n",
       "</style>\n",
       "<table border=\"1\" class=\"dataframe\">\n",
       "  <thead>\n",
       "    <tr style=\"text-align: right;\">\n",
       "      <th></th>\n",
       "      <th>V1_left</th>\n",
       "      <th>V1_right</th>\n",
       "      <th>V2</th>\n",
       "    </tr>\n",
       "  </thead>\n",
       "  <tbody>\n",
       "    <tr>\n",
       "      <th>a</th>\n",
       "      <td>2.0</td>\n",
       "      <td>10.0</td>\n",
       "      <td>2.0</td>\n",
       "    </tr>\n",
       "    <tr>\n",
       "      <th>a</th>\n",
       "      <td>4.0</td>\n",
       "      <td>10.0</td>\n",
       "      <td>2.0</td>\n",
       "    </tr>\n",
       "    <tr>\n",
       "      <th>a</th>\n",
       "      <td>5.0</td>\n",
       "      <td>10.0</td>\n",
       "      <td>2.0</td>\n",
       "    </tr>\n",
       "    <tr>\n",
       "      <th>b</th>\n",
       "      <td>0.0</td>\n",
       "      <td>11.0</td>\n",
       "      <td>3.0</td>\n",
       "    </tr>\n",
       "    <tr>\n",
       "      <th>b</th>\n",
       "      <td>1.0</td>\n",
       "      <td>11.0</td>\n",
       "      <td>3.0</td>\n",
       "    </tr>\n",
       "    <tr>\n",
       "      <th>b</th>\n",
       "      <td>6.0</td>\n",
       "      <td>11.0</td>\n",
       "      <td>3.0</td>\n",
       "    </tr>\n",
       "    <tr>\n",
       "      <th>c</th>\n",
       "      <td>3.0</td>\n",
       "      <td>NaN</td>\n",
       "      <td>NaN</td>\n",
       "    </tr>\n",
       "    <tr>\n",
       "      <th>d</th>\n",
       "      <td>NaN</td>\n",
       "      <td>12.0</td>\n",
       "      <td>4.0</td>\n",
       "    </tr>\n",
       "  </tbody>\n",
       "</table>\n",
       "</div>"
      ],
      "text/plain": [
       "   V1_left  V1_right   V2\n",
       "a      2.0      10.0  2.0\n",
       "a      4.0      10.0  2.0\n",
       "a      5.0      10.0  2.0\n",
       "b      0.0      11.0  3.0\n",
       "b      1.0      11.0  3.0\n",
       "b      6.0      11.0  3.0\n",
       "c      3.0       NaN  NaN\n",
       "d      NaN      12.0  4.0"
      ]
     },
     "execution_count": 93,
     "metadata": {},
     "output_type": "execute_result"
    }
   ],
   "source": [
    "df1 = DataFrame({\"V1\" : range(7)}, index = [\"b\", \"b\", \"a\", \"c\", \"a\", \"a\", \"b\"])\n",
    "df2 = DataFrame({\"V1\" : range(10, 13), \"V2\" : range(2, 5)}, index = [\"a\", \"b\", \"d\"])\n",
    "print(\"df1\\n{0}\\n\\ndf2\\n{1}\".format(df1, df2))\n",
    "df1.join(df2, lsuffix = '_left', rsuffix = '_right', how = \"outer\")"
   ]
  },
  {
   "cell_type": "markdown",
   "metadata": {},
   "source": [
    "    - 배열 연결 ( concatenate )"
   ]
  },
  {
   "cell_type": "code",
   "execution_count": 96,
   "metadata": {},
   "outputs": [
    {
     "name": "stdout",
     "output_type": "stream",
     "text": [
      "arr1\n",
      "[[ 0  1  2  3]\n",
      " [ 4  5  6  7]\n",
      " [ 8  9 10 11]]\n",
      "\n",
      "arr2\n",
      "[[0 1 2 3]\n",
      " [4 5 6 7]]\n",
      "\n",
      "arr1 + arr2\n",
      "[[ 0  1  2  3]\n",
      " [ 4  5  6  7]\n",
      " [ 8  9 10 11]\n",
      " [ 0  1  2  3]\n",
      " [ 4  5  6  7]]\n"
     ]
    }
   ],
   "source": [
    "arr1 = np.arange(12).reshape(3, 4)\n",
    "arr2 = np.arange(8).reshape(2, 4)\n",
    "print(\"arr1\\n{0}\\n\\narr2\\n{1}\\n\".format(arr1, arr2))\n",
    "print(\"arr1 + arr2\\n{0}\".format(np.concatenate([arr1, arr2], axis = 0)))"
   ]
  },
  {
   "cell_type": "markdown",
   "metadata": {},
   "source": [
    "-메소드\n",
    "    - concat() : 하나의 축을 따라 객체를 이어 붙이기"
   ]
  },
  {
   "cell_type": "markdown",
   "metadata": {},
   "source": [
    "-옵션\n",
    "    - objs : 이어붙일 pandas 객체의 리스트나 사전\n",
    "    - axis : 이어붙일 축 방향 (기본값 : 0, 행)\n",
    "    - join : 결합방식(inner, left, right, outer)\n",
    "    - join_axes : 합집합 / 교집합을 수행하는 대신 다른 n-1 축으로 사용할 색인 지정\n",
    "    - keys : 이어붙일 객체나 이어붙인 축에 대한 계층 색인을 생성하는데 연관된 값\n",
    "    - names : keys나 levels가 있는 경우 생성된 계층 레벨을 위한 이름\n",
    "    - verify_intergrity : 이어붙인(행 결합) 객체에 중복되는 색인이 있는지 검사하고 있다면 예외 발생\n",
    "    - ignore_index : 이어붙인 pandas 객체 축의 색인을 유지하지 않고 range(total length)로\n",
    "                     새로운 색인 생성"
   ]
  },
  {
   "cell_type": "code",
   "execution_count": 102,
   "metadata": {
    "scrolled": true
   },
   "outputs": [
    {
     "name": "stdout",
     "output_type": "stream",
     "text": [
      "s1\n",
      "a    0\n",
      "b    2\n",
      "c    3\n",
      "dtype: int64\n",
      "s2\n",
      "a    2\n",
      "c    3\n",
      "d    4\n",
      "e    5\n",
      "dtype: int64\n",
      "s3\n",
      "e    1\n",
      "f    3\n",
      "dtype: int64\n",
      "\n",
      "s1, s2, s3 행 이어붙이기\n",
      "a    0\n",
      "b    2\n",
      "c    3\n",
      "a    2\n",
      "c    3\n",
      "d    4\n",
      "e    5\n",
      "e    1\n",
      "f    3\n",
      "dtype: int64\n",
      "\n",
      "s1, s2, s3 행 이어붙이기\n",
      "a    0\n",
      "b    2\n",
      "c    3\n",
      "a    2\n",
      "c    3\n",
      "d    4\n",
      "e    5\n",
      "e    1\n",
      "f    3\n",
      "dtype: int64\n",
      "\n",
      "s1, s2, s3 열 이어붙이기\n",
      "     0    1    2\n",
      "a  0.0  2.0  NaN\n",
      "b  2.0  NaN  NaN\n",
      "c  3.0  3.0  NaN\n",
      "d  NaN  4.0  NaN\n",
      "e  NaN  5.0  1.0\n",
      "f  NaN  NaN  3.0\n"
     ]
    }
   ],
   "source": [
    "s1 = Series([0,2,3], index = ['a', 'b','c'])\n",
    "s2 = Series([2,3,4,5], index = ['a','c','d','e'])\n",
    "s3 = Series([1,3], index = ['e','f'])\n",
    "print(\"s1\\n{0}\\ns2\\n{1}\\ns3\\n{2}\\n\".format(s1,s2,s3))\n",
    "\n",
    "print(\"s1, s2, s3 행 이어붙이기\\n{0}\\n\".format(pd.concat([s1,s2,s3])))\n",
    "print(\"s1, s2, s3 행 이어붙이기\\n{0}\\n\".format(pd.concat([s1,s2,s3], sort = True)))\n",
    "# 어차피 시리즈별로만 sort되고 합친 시리즈에서는 따로 sort가 안됨\n",
    "print(\"s1, s2, s3 열 이어붙이기\\n{0}\".format(pd.concat([s1,s2,s3], axis = 1, sort = True)))"
   ]
  },
  {
   "cell_type": "code",
   "execution_count": 112,
   "metadata": {},
   "outputs": [
    {
     "name": "stdout",
     "output_type": "stream",
     "text": [
      "     0    1\n",
      "a  0.0  2.0\n",
      "b  2.0  NaN\n",
      "c  3.0  3.0\n",
      "d  NaN  4.0\n",
      "e  NaN  5.0 \n",
      "\n",
      "   0  1\n",
      "a  0  2\n",
      "c  3  3\n"
     ]
    }
   ],
   "source": [
    "print(pd.concat([s1, s2], axis = 1, join = 'outer', sort = True), \"\\n\")\n",
    "print(pd.concat([s1, s2], axis = 1, join = 'inner', sort = True))"
   ]
  },
  {
   "cell_type": "code",
   "execution_count": 108,
   "metadata": {},
   "outputs": [
    {
     "data": {
      "text/html": [
       "<div>\n",
       "<style scoped>\n",
       "    .dataframe tbody tr th:only-of-type {\n",
       "        vertical-align: middle;\n",
       "    }\n",
       "\n",
       "    .dataframe tbody tr th {\n",
       "        vertical-align: top;\n",
       "    }\n",
       "\n",
       "    .dataframe thead th {\n",
       "        text-align: right;\n",
       "    }\n",
       "</style>\n",
       "<table border=\"1\" class=\"dataframe\">\n",
       "  <thead>\n",
       "    <tr style=\"text-align: right;\">\n",
       "      <th></th>\n",
       "      <th>x</th>\n",
       "      <th>y</th>\n",
       "    </tr>\n",
       "  </thead>\n",
       "  <tbody>\n",
       "    <tr>\n",
       "      <th>a</th>\n",
       "      <td>0.0</td>\n",
       "      <td>2.0</td>\n",
       "    </tr>\n",
       "    <tr>\n",
       "      <th>b</th>\n",
       "      <td>2.0</td>\n",
       "      <td>NaN</td>\n",
       "    </tr>\n",
       "    <tr>\n",
       "      <th>e</th>\n",
       "      <td>NaN</td>\n",
       "      <td>5.0</td>\n",
       "    </tr>\n",
       "  </tbody>\n",
       "</table>\n",
       "</div>"
      ],
      "text/plain": [
       "     x    y\n",
       "a  0.0  2.0\n",
       "b  2.0  NaN\n",
       "e  NaN  5.0"
      ]
     },
     "execution_count": 108,
     "metadata": {},
     "output_type": "execute_result"
    }
   ],
   "source": [
    "pd.concat([s1, s2], axis = 1, join_axes = [['a','b','e']], keys = ['x', 'y'], sort = True)\n",
    "# join_axes는 합칠 행을 선택할 수 있음"
   ]
  },
  {
   "cell_type": "code",
   "execution_count": 113,
   "metadata": {},
   "outputs": [
    {
     "name": "stdout",
     "output_type": "stream",
     "text": [
      "S1  a    0\n",
      "    b    2\n",
      "    c    3\n",
      "S2  a    2\n",
      "    c    3\n",
      "    d    4\n",
      "    e    5\n",
      "S3  e    1\n",
      "    f    3\n",
      "dtype: int64 \n",
      "\n",
      "    V1   V2   V3\n",
      "a  0.0  2.0  NaN\n",
      "b  2.0  NaN  NaN\n",
      "c  3.0  3.0  NaN\n",
      "d  NaN  4.0  NaN\n",
      "e  NaN  5.0  1.0\n",
      "f  NaN  NaN  3.0\n"
     ]
    }
   ],
   "source": [
    "print(pd.concat([s1, s2, s3], axis = 0, keys = [\"S1\", \"S2\", \"S3\"], sort = True), \"\\n\")\n",
    "print(pd.concat([s1, s2, s3], axis = 1, keys = [\"V1\", \"V2\", \"V3\"], sort = True))\n",
    "# 이열 결합 (merge)에서 열 색인 생성"
   ]
  },
  {
   "cell_type": "markdown",
   "metadata": {},
   "source": [
    "    - DataFrame concat p.324"
   ]
  },
  {
   "cell_type": "code",
   "execution_count": 122,
   "metadata": {
    "scrolled": true
   },
   "outputs": [
    {
     "name": "stdout",
     "output_type": "stream",
     "text": [
      "df1\n",
      "   V1  V2  V3\n",
      "a  10  11  12\n",
      "b  13  14  15\n",
      "c  16  17  18\n",
      "df2\n",
      "    X1   X2\n",
      "a  100  101\n",
      "d  102  103\n",
      "\n",
      "행 결합\n",
      "      V1    V2    V3     X1     X2\n",
      "a  10.0  11.0  12.0    NaN    NaN\n",
      "b  13.0  14.0  15.0    NaN    NaN\n",
      "c  16.0  17.0  18.0    NaN    NaN\n",
      "a   NaN   NaN   NaN  100.0  101.0\n",
      "d   NaN   NaN   NaN  102.0  103.0 \n",
      "\n",
      "     V1    V2    V3     X1     X2\n",
      "0  10.0  11.0  12.0    NaN    NaN\n",
      "1  13.0  14.0  15.0    NaN    NaN\n",
      "2  16.0  17.0  18.0    NaN    NaN\n",
      "3   NaN   NaN   NaN  100.0  101.0\n",
      "4   NaN   NaN   NaN  102.0  103.0 \n",
      "\n",
      "열 결합\n",
      "      V1    V2    V3     X1     X2\n",
      "a  10.0  11.0  12.0  100.0  101.0\n",
      "b  13.0  14.0  15.0    NaN    NaN\n",
      "c  16.0  17.0  18.0    NaN    NaN\n",
      "d   NaN   NaN   NaN  102.0  103.0 \n",
      "\n",
      "f   DF1                DF2       \n",
      "s    V1    V2    V3     X1     X2\n",
      "a  10.0  11.0  12.0  100.0  101.0\n",
      "b  13.0  14.0  15.0    NaN    NaN\n",
      "c  16.0  17.0  18.0    NaN    NaN\n",
      "d   NaN   NaN   NaN  102.0  103.0\n"
     ]
    }
   ],
   "source": [
    "df1 = DataFrame(np.arange(10, 19).reshape(3, 3), index = ['a', 'b', 'c'],\n",
    "               columns = [\"V1\", \"V2\", \"V3\"])\n",
    "df2 = DataFrame(np.arange(100, 104).reshape(2, 2), index = ['a', 'd'],\n",
    "               columns = [\"X1\", \"X2\"])\n",
    "print(\"df1\\n{0}\\ndf2\\n{1}\\n\".format(df1, df2))\n",
    "\n",
    "print(\"행 결합\\n\", pd.concat([df1, df2], axis = 0, sort = True), \"\\n\") # 행 결합\n",
    "print(pd.concat([df1, df2], axis = 0, sort = True, ignore_index = True), \"\\n\")\n",
    "# ignore_index는 기존 색인을 사용하지 않고 기본 range 색인으로 다시 바꿈\n",
    "\n",
    "print(\"열 결합\\n\", pd.concat([df1, df2], axis = 1, sort = True), \"\\n\") # 열 결합\n",
    "print(pd.concat([df1, df2], axis = 1, sort = True, keys = [\"DF1\", \"DF2\"], names = [\"f\", \"s\"]))"
   ]
  },
  {
   "cell_type": "markdown",
   "metadata": {},
   "source": [
    "##### 중복제거 p.325"
   ]
  },
  {
   "cell_type": "markdown",
   "metadata": {},
   "source": [
    "-메소드\n",
    "    - duplicated() : 각 행이 중복인지 아닌지 확인\n",
    "    - drop_duplicates() : 중복된 행을 하나만 남기고 삭제"
   ]
  },
  {
   "cell_type": "markdown",
   "metadata": {},
   "source": [
    "-옵션\n",
    "    - subset : 중복을 체크할 열 이름(생략하면 모든 열)\n",
    "    - keep : first 또는 last를 제외하고 중복 값을 True로 표기하거나 제거"
   ]
  },
  {
   "cell_type": "code",
   "execution_count": 128,
   "metadata": {
    "scrolled": true
   },
   "outputs": [
    {
     "name": "stdout",
     "output_type": "stream",
     "text": [
      "  name  score\n",
      "0  kim      1\n",
      "1  kim      2\n",
      "2  lee      2\n",
      "3  lee      2\n",
      "4  lee      3\n",
      "5  kim      1 \n",
      "\n",
      "0    False\n",
      "1     True\n",
      "2    False\n",
      "3     True\n",
      "4     True\n",
      "5     True\n",
      "dtype: bool \n",
      "\n",
      "0     True\n",
      "1     True\n",
      "2     True\n",
      "3     True\n",
      "4    False\n",
      "5    False\n",
      "dtype: bool \n",
      "\n",
      "  name  score\n",
      "4  lee      3\n",
      "5  kim      1\n"
     ]
    }
   ],
   "source": [
    "df = DataFrame({\"name\" : [\"kim\", \"kim\", \"lee\", \"lee\", \"lee\", \"kim\"], \"score\" : [1,2,2,2,3,1]})\n",
    "print(df,\"\\n\")\n",
    "print(df.duplicated(subset = \"name\"),\"\\n\")\n",
    "print(df.duplicated(subset = \"name\", keep =\"last\"),\"\\n\")\n",
    "print(df.drop_duplicates(subset = \"name\", keep = \"last\"))"
   ]
  },
  {
   "cell_type": "markdown",
   "metadata": {},
   "source": [
    "##### 함수나 매핑 이용해 데이터 변형 p.327\n",
    "##### 데이터 범주화 및 편집\n",
    "##### map 함수 이용, 데이터 편집"
   ]
  },
  {
   "cell_type": "markdown",
   "metadata": {},
   "source": [
    "    - map(함수 or 사전, 객체) / 객체.map(함수 or 사전)"
   ]
  },
  {
   "cell_type": "code",
   "execution_count": 130,
   "metadata": {},
   "outputs": [
    {
     "data": {
      "text/html": [
       "<div>\n",
       "<style scoped>\n",
       "    .dataframe tbody tr th:only-of-type {\n",
       "        vertical-align: middle;\n",
       "    }\n",
       "\n",
       "    .dataframe tbody tr th {\n",
       "        vertical-align: top;\n",
       "    }\n",
       "\n",
       "    .dataframe thead th {\n",
       "        text-align: right;\n",
       "    }\n",
       "</style>\n",
       "<table border=\"1\" class=\"dataframe\">\n",
       "  <thead>\n",
       "    <tr style=\"text-align: right;\">\n",
       "      <th></th>\n",
       "      <th>name</th>\n",
       "      <th>sex</th>\n",
       "      <th>home</th>\n",
       "      <th>income</th>\n",
       "    </tr>\n",
       "  </thead>\n",
       "  <tbody>\n",
       "    <tr>\n",
       "      <th>0</th>\n",
       "      <td>kim</td>\n",
       "      <td>1</td>\n",
       "      <td>마포</td>\n",
       "      <td>250</td>\n",
       "    </tr>\n",
       "    <tr>\n",
       "      <th>1</th>\n",
       "      <td>lee</td>\n",
       "      <td>2</td>\n",
       "      <td>수지</td>\n",
       "      <td>195</td>\n",
       "    </tr>\n",
       "    <tr>\n",
       "      <th>2</th>\n",
       "      <td>bae</td>\n",
       "      <td>2</td>\n",
       "      <td>처인</td>\n",
       "      <td>325</td>\n",
       "    </tr>\n",
       "    <tr>\n",
       "      <th>3</th>\n",
       "      <td>cho</td>\n",
       "      <td>1</td>\n",
       "      <td>용산</td>\n",
       "      <td>210</td>\n",
       "    </tr>\n",
       "    <tr>\n",
       "      <th>4</th>\n",
       "      <td>kang</td>\n",
       "      <td>1</td>\n",
       "      <td>종로</td>\n",
       "      <td>274</td>\n",
       "    </tr>\n",
       "  </tbody>\n",
       "</table>\n",
       "</div>"
      ],
      "text/plain": [
       "   name  sex home  income\n",
       "0   kim    1   마포     250\n",
       "1   lee    2   수지     195\n",
       "2   bae    2   처인     325\n",
       "3   cho    1   용산     210\n",
       "4  kang    1   종로     274"
      ]
     },
     "execution_count": 130,
     "metadata": {},
     "output_type": "execute_result"
    }
   ],
   "source": [
    "df = DataFrame({\"name\" : ['kim', 'lee', 'bae', 'cho', 'kang'], \"sex\" : [1,2,2,1,1],\n",
    "               \"home\" : ['마포', '수지', '처인', '용산', '종로'],\n",
    "               \"income\" : [250, 195, 325, 210, 274]})\n",
    "num_to_str = {1 : \"남\", 2 : \"여\"}\n",
    "to_city = {\"마포\" : \"서울\", \"용산\" : \"서울\", \"종로\" : \"서울\", \"수지\" : \"용인\", \"처인\" : \"용인\"}\n",
    "df"
   ]
  },
  {
   "cell_type": "code",
   "execution_count": 131,
   "metadata": {},
   "outputs": [
    {
     "data": {
      "text/html": [
       "<div>\n",
       "<style scoped>\n",
       "    .dataframe tbody tr th:only-of-type {\n",
       "        vertical-align: middle;\n",
       "    }\n",
       "\n",
       "    .dataframe tbody tr th {\n",
       "        vertical-align: top;\n",
       "    }\n",
       "\n",
       "    .dataframe thead th {\n",
       "        text-align: right;\n",
       "    }\n",
       "</style>\n",
       "<table border=\"1\" class=\"dataframe\">\n",
       "  <thead>\n",
       "    <tr style=\"text-align: right;\">\n",
       "      <th></th>\n",
       "      <th>name</th>\n",
       "      <th>sex</th>\n",
       "      <th>home</th>\n",
       "      <th>income</th>\n",
       "      <th>gender</th>\n",
       "      <th>city</th>\n",
       "      <th>remium</th>\n",
       "    </tr>\n",
       "  </thead>\n",
       "  <tbody>\n",
       "    <tr>\n",
       "      <th>0</th>\n",
       "      <td>kim</td>\n",
       "      <td>1</td>\n",
       "      <td>마포</td>\n",
       "      <td>250</td>\n",
       "      <td>남</td>\n",
       "      <td>서울</td>\n",
       "      <td>3.750</td>\n",
       "    </tr>\n",
       "    <tr>\n",
       "      <th>1</th>\n",
       "      <td>lee</td>\n",
       "      <td>2</td>\n",
       "      <td>수지</td>\n",
       "      <td>195</td>\n",
       "      <td>여</td>\n",
       "      <td>용인</td>\n",
       "      <td>2.925</td>\n",
       "    </tr>\n",
       "    <tr>\n",
       "      <th>2</th>\n",
       "      <td>bae</td>\n",
       "      <td>2</td>\n",
       "      <td>처인</td>\n",
       "      <td>325</td>\n",
       "      <td>여</td>\n",
       "      <td>용인</td>\n",
       "      <td>4.875</td>\n",
       "    </tr>\n",
       "    <tr>\n",
       "      <th>3</th>\n",
       "      <td>cho</td>\n",
       "      <td>1</td>\n",
       "      <td>용산</td>\n",
       "      <td>210</td>\n",
       "      <td>남</td>\n",
       "      <td>서울</td>\n",
       "      <td>3.150</td>\n",
       "    </tr>\n",
       "    <tr>\n",
       "      <th>4</th>\n",
       "      <td>kang</td>\n",
       "      <td>1</td>\n",
       "      <td>종로</td>\n",
       "      <td>274</td>\n",
       "      <td>남</td>\n",
       "      <td>서울</td>\n",
       "      <td>4.110</td>\n",
       "    </tr>\n",
       "  </tbody>\n",
       "</table>\n",
       "</div>"
      ],
      "text/plain": [
       "   name  sex home  income gender city  remium\n",
       "0   kim    1   마포     250      남   서울   3.750\n",
       "1   lee    2   수지     195      여   용인   2.925\n",
       "2   bae    2   처인     325      여   용인   4.875\n",
       "3   cho    1   용산     210      남   서울   3.150\n",
       "4  kang    1   종로     274      남   서울   4.110"
      ]
     },
     "execution_count": 131,
     "metadata": {},
     "output_type": "execute_result"
    }
   ],
   "source": [
    "def f(x) :\n",
    "    return x * 0.015\n",
    "df[\"gender\"] = df[\"sex\"].map(num_to_str)\n",
    "df[\"city\"] = df[\"home\"].map(to_city)\n",
    "df[\"remium\"] = df[\"income\"].map(f)\n",
    "df"
   ]
  },
  {
   "cell_type": "markdown",
   "metadata": {},
   "source": [
    "##### 값 치환 p.328"
   ]
  },
  {
   "cell_type": "code",
   "execution_count": 135,
   "metadata": {},
   "outputs": [
    {
     "data": {
      "text/html": [
       "<div>\n",
       "<style scoped>\n",
       "    .dataframe tbody tr th:only-of-type {\n",
       "        vertical-align: middle;\n",
       "    }\n",
       "\n",
       "    .dataframe tbody tr th {\n",
       "        vertical-align: top;\n",
       "    }\n",
       "\n",
       "    .dataframe thead th {\n",
       "        text-align: right;\n",
       "    }\n",
       "</style>\n",
       "<table border=\"1\" class=\"dataframe\">\n",
       "  <thead>\n",
       "    <tr style=\"text-align: right;\">\n",
       "      <th></th>\n",
       "      <th>name</th>\n",
       "      <th>sex</th>\n",
       "      <th>home</th>\n",
       "      <th>income</th>\n",
       "    </tr>\n",
       "  </thead>\n",
       "  <tbody>\n",
       "    <tr>\n",
       "      <th>0</th>\n",
       "      <td>kim</td>\n",
       "      <td>1</td>\n",
       "      <td>마포</td>\n",
       "      <td>250.0</td>\n",
       "    </tr>\n",
       "    <tr>\n",
       "      <th>1</th>\n",
       "      <td>lee</td>\n",
       "      <td>2</td>\n",
       "      <td>NaN</td>\n",
       "      <td>-999.0</td>\n",
       "    </tr>\n",
       "    <tr>\n",
       "      <th>2</th>\n",
       "      <td>bae</td>\n",
       "      <td>3</td>\n",
       "      <td>처인</td>\n",
       "      <td>325.0</td>\n",
       "    </tr>\n",
       "    <tr>\n",
       "      <th>3</th>\n",
       "      <td>cho</td>\n",
       "      <td>4</td>\n",
       "      <td>용산</td>\n",
       "      <td>210.0</td>\n",
       "    </tr>\n",
       "    <tr>\n",
       "      <th>4</th>\n",
       "      <td>kang</td>\n",
       "      <td>1</td>\n",
       "      <td>종로</td>\n",
       "      <td>inf</td>\n",
       "    </tr>\n",
       "  </tbody>\n",
       "</table>\n",
       "</div>"
      ],
      "text/plain": [
       "   name  sex home  income\n",
       "0   kim    1   마포   250.0\n",
       "1   lee    2  NaN  -999.0\n",
       "2   bae    3   처인   325.0\n",
       "3   cho    4   용산   210.0\n",
       "4  kang    1   종로     inf"
      ]
     },
     "execution_count": 135,
     "metadata": {},
     "output_type": "execute_result"
    }
   ],
   "source": [
    "df = DataFrame({\"name\" : [\"kim\", \"lee\", \"bae\", \"cho\", \"kang\"], \"sex\" : [1,2,3,4,1],\n",
    "               \"home\" : [\"마포\", np.nan, \"처인\", \"용산\", \"종로\"],\n",
    "               \"income\" : [250, -999, 325, 210, np.inf]})\n",
    "num_to_str = { 1 : \"남\", 2 : \"여\"}\n",
    "to_city = {\"마포\" : \"서울\", \"용산\" : \"서울\", \"종로\" : \"서울\", \"수지\" : \"용인\", \"처인\" : \"용인\"}\n",
    "df"
   ]
  },
  {
   "cell_type": "code",
   "execution_count": 141,
   "metadata": {},
   "outputs": [
    {
     "name": "stdout",
     "output_type": "stream",
     "text": [
      "   name  sex  home  income\n",
      "0   kim    1    마포   250.0\n",
      "1   lee    2  9999  -999.0\n",
      "2   bae    1    처인   325.0\n",
      "3   cho    2    용산   210.0\n",
      "4  kang    1    종로     inf \n",
      "\n",
      "   name  sex home  income\n",
      "0   kim    1   마포   250.0\n",
      "1   lee    2  NaN     NaN\n",
      "2   bae    1   처인   325.0\n",
      "3   cho    2   용산   210.0\n",
      "4  kang    1   종로     NaN \n",
      "\n",
      "   name  sex home  income\n",
      "0   kim    1   마포   250.0\n",
      "1   lee    2  inf     inf\n",
      "2   bae    1   처인   325.0\n",
      "3   cho    2   용산   210.0\n",
      "4  kang    1   종로     inf\n"
     ]
    }
   ],
   "source": [
    "df1 = df.replace([np.nan, 3, 4], [9999, 1, 2])\n",
    "print(df1, \"\\n\")\n",
    "\n",
    "df1 = df.replace({\"sex\" : {3:1, 4:2}, \"income\" : {-999:np.nan, np.inf:np.nan}})\n",
    "print(df1, \"\\n\")\n",
    "\n",
    "df2 = df1.replace({\"home\" : np.nan, \"income\" : np.nan}, np.inf)\n",
    "print(df2)"
   ]
  },
  {
   "cell_type": "code",
   "execution_count": 146,
   "metadata": {},
   "outputs": [
    {
     "name": "stdout",
     "output_type": "stream",
     "text": [
      "   name  sex home  income\n",
      "0   kim    1   마포     250\n",
      "1   lee    2   수지     195\n",
      "2   bae    2   처인     325\n",
      "3   cho    1   용산     210\n",
      "4  kang    1   종로     274 \n",
      "\n",
      "       fn  gender house   ic\n",
      "st1   kim       1    마포  250\n",
      "st2   lee       2    수지  195\n",
      "st3   bae       2    처인  325\n",
      "st4   cho       1    용산  210\n",
      "st5  kang       1    종로  274 \n",
      "\n",
      "           name  gender house  income\n",
      "foreigner   kim       1    마포     250\n",
      "st2         lee       2    수지     195\n",
      "st3         bae       2    처인     325\n",
      "st4         cho       1    용산     210\n",
      "st5        kang       1    종로     274 \n",
      "\n"
     ]
    },
    {
     "data": {
      "text/html": [
       "<div>\n",
       "<style scoped>\n",
       "    .dataframe tbody tr th:only-of-type {\n",
       "        vertical-align: middle;\n",
       "    }\n",
       "\n",
       "    .dataframe tbody tr th {\n",
       "        vertical-align: top;\n",
       "    }\n",
       "\n",
       "    .dataframe thead th {\n",
       "        text-align: right;\n",
       "    }\n",
       "</style>\n",
       "<table border=\"1\" class=\"dataframe\">\n",
       "  <thead>\n",
       "    <tr style=\"text-align: right;\">\n",
       "      <th></th>\n",
       "      <th>name</th>\n",
       "      <th>gender</th>\n",
       "      <th>house</th>\n",
       "      <th>income</th>\n",
       "    </tr>\n",
       "  </thead>\n",
       "  <tbody>\n",
       "    <tr>\n",
       "      <th>foreigner</th>\n",
       "      <td>kim</td>\n",
       "      <td>1</td>\n",
       "      <td>마포</td>\n",
       "      <td>250</td>\n",
       "    </tr>\n",
       "    <tr>\n",
       "      <th>st2</th>\n",
       "      <td>lee</td>\n",
       "      <td>2</td>\n",
       "      <td>수지</td>\n",
       "      <td>195</td>\n",
       "    </tr>\n",
       "    <tr>\n",
       "      <th>st3</th>\n",
       "      <td>bae</td>\n",
       "      <td>2</td>\n",
       "      <td>처인</td>\n",
       "      <td>325</td>\n",
       "    </tr>\n",
       "    <tr>\n",
       "      <th>st4</th>\n",
       "      <td>cho</td>\n",
       "      <td>1</td>\n",
       "      <td>용산</td>\n",
       "      <td>210</td>\n",
       "    </tr>\n",
       "    <tr>\n",
       "      <th>st5</th>\n",
       "      <td>kang</td>\n",
       "      <td>1</td>\n",
       "      <td>종로</td>\n",
       "      <td>274</td>\n",
       "    </tr>\n",
       "  </tbody>\n",
       "</table>\n",
       "</div>"
      ],
      "text/plain": [
       "           name  gender house  income\n",
       "foreigner   kim       1    마포     250\n",
       "st2         lee       2    수지     195\n",
       "st3         bae       2    처인     325\n",
       "st4         cho       1    용산     210\n",
       "st5        kang       1    종로     274"
      ]
     },
     "execution_count": 146,
     "metadata": {},
     "output_type": "execute_result"
    }
   ],
   "source": [
    "df = DataFrame({\"name\" : ['kim', 'lee', 'bae', 'cho', 'kang'], \"sex\" : [1,2,2,1,1],\n",
    "               \"home\" : ['마포', '수지', '처인', '용산', '종로'],\n",
    "               \"income\" : [250, 195, 325, 210, 274]})\n",
    "print(df, \"\\n\")\n",
    "\n",
    "# map 메소드에 함수나 변경할 값을 입력\n",
    "df.index = df.index.map({0 : \"st1\", 1 : \"st2\", 2 : \"st3\", 3 : \"st4\", 4 : \"st5\"})\n",
    "df.columns = df.columns.map({\"name\" : \"fn\", \"sex\" : \"gender\", \"home\" : \"house\", \"income\" : \"ic\"})\n",
    "print(df, \"\\n\")\n",
    "\n",
    "# rename 메소드를 이용(일부변경 가능)\n",
    "df1 = df.rename(index = {\"st1\" : \"foreigner\"}, columns = {\"fn\" : \"name\", \"ic\" : \"income\"})\n",
    "print(df1, \"\\n\")\n",
    "\n",
    "df.rename(index = {\"st1\" : \"foreigner\"}, columns = {\"fn\" : \"name\", \"ic\" : \"income\"}, inplace = True)\n",
    "# inplace 옵션으로 원본을 수정\n",
    "df"
   ]
  },
  {
   "cell_type": "markdown",
   "metadata": {},
   "source": [
    "##### 숫자 자료의 계급화 (구간) p.332"
   ]
  },
  {
   "cell_type": "markdown",
   "metadata": {},
   "source": [
    "-메소드\n",
    "    - cut() : 숫자 자료를 bins의 범위에 따라서 계급화 (범위를 직접 지정)\n",
    "    - qcut() : 숫자 자료를 각 계급이 모두 동등한 백분율이 되도록 계급화"
   ]
  },
  {
   "cell_type": "markdown",
   "metadata": {},
   "source": [
    "-옵션\n",
    "    - x, : 수치 자료\n",
    "    - bins : 계급의 구간 하한과 상한 또는 계급의 수\n",
    "    - right : 계급 범위의 상한값 포함(이하) 또는 미포함(미만) (기본값 : True)\n",
    "    - labels : 각 계급의 이름(기본값 : None)\n",
    "    - include_lowest : 첫 번째 계급의 하한값 포함(이상) 또는 미포함(초과) (기본값 : False)\n",
    "    - q ( qcut()메소드의 옵션 ) : 동일한 백분율을 갖게 할 구간의 수 (동일한 갯수로 나뉘게)"
   ]
  },
  {
   "cell_type": "code",
   "execution_count": 3,
   "metadata": {},
   "outputs": [
    {
     "data": {
      "text/plain": [
       "array([5, 5, 6, 6, 4, 3, 4, 5, 4, 7, 4, 5, 6, 2, 5, 8, 5, 8, 7, 4, 4, 4,\n",
       "       2, 4, 6, 7, 2, 5, 5, 3, 6, 6, 5, 4, 6, 6, 5, 4, 6, 5, 3, 6, 1, 3,\n",
       "       3, 3, 7, 3, 3, 5, 7, 6, 4, 4, 6, 0, 7, 5, 6, 6, 5, 5, 6, 3, 4, 5,\n",
       "       8, 5, 5, 4, 7, 5, 6, 2, 7, 5, 7, 7, 7, 5, 4, 3, 6, 7, 5, 6, 4, 7,\n",
       "       4, 4, 7, 3, 5, 6, 7, 6, 4, 3, 3, 4])"
      ]
     },
     "execution_count": 3,
     "metadata": {},
     "output_type": "execute_result"
    }
   ],
   "source": [
    "# rename 메소드를 이용\n",
    "np.random.seed(951753)\n",
    "s = np.random.binomial(n = 10, p = 0.5, size = 100) # B(10, 0.5) 이항분포 난수 100개\n",
    "cls = [0,2,4,6,8,10]\n",
    "s"
   ]
  },
  {
   "cell_type": "code",
   "execution_count": 148,
   "metadata": {},
   "outputs": [
    {
     "name": "stdout",
     "output_type": "stream",
     "text": [
      "[(4.0, 6.0], (4.0, 6.0], (4.0, 6.0], (4.0, 6.0], (2.0, 4.0], ..., (4.0, 6.0], (2.0, 4.0], (2.0, 4.0], (2.0, 4.0], (2.0, 4.0]]\n",
      "Length: 100\n",
      "Categories (5, interval[float64]): [(-0.001, 2.0] < (2.0, 4.0] < (4.0, 6.0] < (6.0, 8.0] < (8.0, 10.0]]\n"
     ]
    },
    {
     "data": {
      "text/plain": [
       "(4.0, 6.0]       43\n",
       "(2.0, 4.0]       33\n",
       "(6.0, 8.0]       18\n",
       "(-0.001, 2.0]     6\n",
       "(8.0, 10.0]       0\n",
       "dtype: int64"
      ]
     },
     "execution_count": 148,
     "metadata": {},
     "output_type": "execute_result"
    }
   ],
   "source": [
    "s_cls1 = pd.cut(x = s, bins = cls, include_lowest = True, right = True)\n",
    "# False가 하한값 포함이다 -> True이므로 4면 4~6에 들가지 않고 2~4에 들어간다\n",
    "print(s_cls1)\n",
    "pd.value_counts(s_cls1)"
   ]
  },
  {
   "cell_type": "code",
   "execution_count": 4,
   "metadata": {},
   "outputs": [
    {
     "name": "stdout",
     "output_type": "stream",
     "text": [
      "[class3, class3, class3, class3, class2, ..., class3, class2, class2, class2, class2]\n",
      "Length: 100\n",
      "Categories (4, object): [class1 < class2 < class3 < class4]\n"
     ]
    },
    {
     "data": {
      "text/plain": [
       "class3    43\n",
       "class2    33\n",
       "class4    18\n",
       "class1     6\n",
       "dtype: int64"
      ]
     },
     "execution_count": 4,
     "metadata": {},
     "output_type": "execute_result"
    }
   ],
   "source": [
    "s_cls2 = pd.cut(x = s, bins = 4, labels = [\"class1\", \"class2\", \"class3\", \"class4\"])\n",
    "print(s_cls2)\n",
    "pd.value_counts(s_cls2)\n",
    "# 4구간으로 나눔"
   ]
  },
  {
   "cell_type": "code",
   "execution_count": 9,
   "metadata": {
    "scrolled": true
   },
   "outputs": [
    {
     "name": "stdout",
     "output_type": "stream",
     "text": [
      "[16.84597851  6.29559577 11.60574851 11.67380946  7.58254277  8.39198829\n",
      " 10.15034522  5.38470131 12.37676603  8.91763268  9.64793278  3.04427807\n",
      " 12.03370325 10.06961827 10.40436511 10.07587083  9.01736979 11.4294873\n",
      "  8.17514719  7.49739896 11.05917054 10.55357363  9.82037445  8.84826737\n",
      "  7.47786112 10.41103753 11.83004637 12.93475889  5.30444147 12.36234831\n",
      " 12.41362048 12.61208533  4.18394294 13.33372972 10.82784335 16.15882156\n",
      " 11.47323951  7.68598975  9.60429937  6.99866052 10.54014035 10.83996244\n",
      "  5.98393152  7.61904983 10.46724585 11.94271999 13.22173926 12.87336895\n",
      " 15.57682996 15.27831303  8.05765076 11.45312033 11.53477426  5.58659858\n",
      "  4.88037164 11.18161297 10.52452878 12.45181352  9.29095435 12.80998545\n",
      "  9.81803062 13.2706521  13.10513362 11.19156986 14.48817529 12.33468243\n",
      " 11.97457448  9.19837254  7.75809335  6.43837505 14.68050775  6.0993842\n",
      " 10.53120233 11.66809389  7.87051399  9.23185489 12.5942537   7.64129653\n",
      " 11.36163252  8.40153121  9.25634618  8.00795994 12.84720953  8.74020165\n",
      " 11.90596329 10.17009901  9.0735864   6.45117885  8.8401919   6.45806165\n",
      " 10.43935072 12.13705757  8.57579497 13.93119731 10.80806376 12.4919776\n",
      "  7.48602244  6.23773419  9.34389194 11.6549051 ] \n",
      "\n",
      "[(12.543, 16.846], (3.043, 7.54], (11.535, 12.543], (11.535, 12.543], (7.54, 9.017], ..., (11.535, 12.543], (3.043, 7.54], (3.043, 7.54], (9.017, 10.425], (11.535, 12.543]]\n",
      "Length: 100\n",
      "Categories (6, interval[float64]): [(3.043, 7.54] < (7.54, 9.017] < (9.017, 10.425] < (10.425, 11.535] < (11.535, 12.543] < (12.543, 16.846]] n\n"
     ]
    },
    {
     "data": {
      "text/plain": [
       "(12.543, 16.846]    17\n",
       "(10.425, 11.535]    17\n",
       "(7.54, 9.017]       17\n",
       "(3.043, 7.54]       17\n",
       "(11.535, 12.543]    16\n",
       "(9.017, 10.425]     16\n",
       "dtype: int64"
      ]
     },
     "execution_count": 9,
     "metadata": {},
     "output_type": "execute_result"
    }
   ],
   "source": [
    "# rename 메소드를 이용\n",
    "np.random.seed(951753)\n",
    "s = np.random.normal(loc = 10, scale = 3, size = 100) # N(10, 9) 정규분포 난수 100개\n",
    "# normal 함수는 평균, 표준편차를 지정해준다.\n",
    "# loc는 평균, scale은 표준편차\n",
    "print(s, \"\\n\")\n",
    "\n",
    "s_cls1 = pd.qcut(x = s, q = 6) # 각각 동일한 비율을 갖는 6개 계끕\n",
    "print(s_cls1, \"n\")\n",
    "pd.value_counts(s_cls1)"
   ]
  },
  {
   "cell_type": "markdown",
   "metadata": {},
   "source": [
    "    - 특이값 찾기, 특이값 제외하기"
   ]
  },
  {
   "cell_type": "code",
   "execution_count": 16,
   "metadata": {},
   "outputs": [
    {
     "data": {
      "text/html": [
       "<div>\n",
       "<style scoped>\n",
       "    .dataframe tbody tr th:only-of-type {\n",
       "        vertical-align: middle;\n",
       "    }\n",
       "\n",
       "    .dataframe tbody tr th {\n",
       "        vertical-align: top;\n",
       "    }\n",
       "\n",
       "    .dataframe thead th {\n",
       "        text-align: right;\n",
       "    }\n",
       "</style>\n",
       "<table border=\"1\" class=\"dataframe\">\n",
       "  <thead>\n",
       "    <tr style=\"text-align: right;\">\n",
       "      <th></th>\n",
       "      <th>V1</th>\n",
       "      <th>V2</th>\n",
       "      <th>V3</th>\n",
       "      <th>V4</th>\n",
       "    </tr>\n",
       "  </thead>\n",
       "  <tbody>\n",
       "    <tr>\n",
       "      <th>count</th>\n",
       "      <td>500.000000</td>\n",
       "      <td>500.000000</td>\n",
       "      <td>500.000000</td>\n",
       "      <td>500.000000</td>\n",
       "    </tr>\n",
       "    <tr>\n",
       "      <th>mean</th>\n",
       "      <td>0.044333</td>\n",
       "      <td>0.009873</td>\n",
       "      <td>-0.026111</td>\n",
       "      <td>0.024771</td>\n",
       "    </tr>\n",
       "    <tr>\n",
       "      <th>std</th>\n",
       "      <td>0.989134</td>\n",
       "      <td>0.987818</td>\n",
       "      <td>1.056958</td>\n",
       "      <td>1.014426</td>\n",
       "    </tr>\n",
       "    <tr>\n",
       "      <th>min</th>\n",
       "      <td>-3.456706</td>\n",
       "      <td>-3.399291</td>\n",
       "      <td>-3.112520</td>\n",
       "      <td>-2.923952</td>\n",
       "    </tr>\n",
       "    <tr>\n",
       "      <th>25%</th>\n",
       "      <td>-0.675159</td>\n",
       "      <td>-0.617382</td>\n",
       "      <td>-0.744096</td>\n",
       "      <td>-0.663011</td>\n",
       "    </tr>\n",
       "    <tr>\n",
       "      <th>50%</th>\n",
       "      <td>0.068773</td>\n",
       "      <td>-0.016895</td>\n",
       "      <td>-0.027211</td>\n",
       "      <td>0.008867</td>\n",
       "    </tr>\n",
       "    <tr>\n",
       "      <th>75%</th>\n",
       "      <td>0.664647</td>\n",
       "      <td>0.693727</td>\n",
       "      <td>0.709340</td>\n",
       "      <td>0.715803</td>\n",
       "    </tr>\n",
       "    <tr>\n",
       "      <th>max</th>\n",
       "      <td>3.128487</td>\n",
       "      <td>2.538271</td>\n",
       "      <td>3.262756</td>\n",
       "      <td>3.528537</td>\n",
       "    </tr>\n",
       "  </tbody>\n",
       "</table>\n",
       "</div>"
      ],
      "text/plain": [
       "               V1          V2          V3          V4\n",
       "count  500.000000  500.000000  500.000000  500.000000\n",
       "mean     0.044333    0.009873   -0.026111    0.024771\n",
       "std      0.989134    0.987818    1.056958    1.014426\n",
       "min     -3.456706   -3.399291   -3.112520   -2.923952\n",
       "25%     -0.675159   -0.617382   -0.744096   -0.663011\n",
       "50%      0.068773   -0.016895   -0.027211    0.008867\n",
       "75%      0.664647    0.693727    0.709340    0.715803\n",
       "max      3.128487    2.538271    3.262756    3.528537"
      ]
     },
     "execution_count": 16,
     "metadata": {},
     "output_type": "execute_result"
    }
   ],
   "source": [
    "np.random.seed(91736482) # randn : N(0,1) 표준정규분포 난수 500개\n",
    "df = DataFrame(np.random.randn(500, 4), columns = [\"V1\", \"V2\", \"V3\", \"V4\"])\n",
    "df.describe()"
   ]
  },
  {
   "cell_type": "code",
   "execution_count": 17,
   "metadata": {},
   "outputs": [
    {
     "name": "stdout",
     "output_type": "stream",
     "text": [
      "84   -3.112520\n",
      "90    3.262756\n",
      "Name: V3, dtype: float64 \n",
      "\n",
      "           V1        V2        V3        V4\n",
      "74   3.128487 -0.220302 -1.611062  0.143425\n",
      "84  -0.607007 -0.523714 -3.112520  0.448497\n",
      "90   0.367416 -1.196249  3.262756  0.071504\n",
      "131  1.465023  2.299033  0.212082  3.528537\n",
      "207  1.284202 -3.399291 -0.144366 -1.869674\n",
      "435 -3.456706 -0.569109 -0.966048 -1.557567 \n",
      "\n"
     ]
    },
    {
     "data": {
      "text/html": [
       "<div>\n",
       "<style scoped>\n",
       "    .dataframe tbody tr th:only-of-type {\n",
       "        vertical-align: middle;\n",
       "    }\n",
       "\n",
       "    .dataframe tbody tr th {\n",
       "        vertical-align: top;\n",
       "    }\n",
       "\n",
       "    .dataframe thead th {\n",
       "        text-align: right;\n",
       "    }\n",
       "</style>\n",
       "<table border=\"1\" class=\"dataframe\">\n",
       "  <thead>\n",
       "    <tr style=\"text-align: right;\">\n",
       "      <th></th>\n",
       "      <th>V1</th>\n",
       "      <th>V2</th>\n",
       "      <th>V3</th>\n",
       "      <th>V4</th>\n",
       "    </tr>\n",
       "  </thead>\n",
       "  <tbody>\n",
       "    <tr>\n",
       "      <th>count</th>\n",
       "      <td>500.000000</td>\n",
       "      <td>500.000000</td>\n",
       "      <td>500.000000</td>\n",
       "      <td>500.000000</td>\n",
       "    </tr>\n",
       "    <tr>\n",
       "      <th>mean</th>\n",
       "      <td>0.044990</td>\n",
       "      <td>0.010671</td>\n",
       "      <td>-0.026412</td>\n",
       "      <td>0.023714</td>\n",
       "    </tr>\n",
       "    <tr>\n",
       "      <th>std</th>\n",
       "      <td>0.985312</td>\n",
       "      <td>0.985214</td>\n",
       "      <td>1.054736</td>\n",
       "      <td>1.011037</td>\n",
       "    </tr>\n",
       "    <tr>\n",
       "      <th>min</th>\n",
       "      <td>-3.000000</td>\n",
       "      <td>-3.000000</td>\n",
       "      <td>-3.000000</td>\n",
       "      <td>-2.923952</td>\n",
       "    </tr>\n",
       "    <tr>\n",
       "      <th>25%</th>\n",
       "      <td>-0.675159</td>\n",
       "      <td>-0.617382</td>\n",
       "      <td>-0.744096</td>\n",
       "      <td>-0.663011</td>\n",
       "    </tr>\n",
       "    <tr>\n",
       "      <th>50%</th>\n",
       "      <td>0.068773</td>\n",
       "      <td>-0.016895</td>\n",
       "      <td>-0.027211</td>\n",
       "      <td>0.008867</td>\n",
       "    </tr>\n",
       "    <tr>\n",
       "      <th>75%</th>\n",
       "      <td>0.664647</td>\n",
       "      <td>0.693727</td>\n",
       "      <td>0.709340</td>\n",
       "      <td>0.715803</td>\n",
       "    </tr>\n",
       "    <tr>\n",
       "      <th>max</th>\n",
       "      <td>3.000000</td>\n",
       "      <td>2.538271</td>\n",
       "      <td>3.000000</td>\n",
       "      <td>3.000000</td>\n",
       "    </tr>\n",
       "  </tbody>\n",
       "</table>\n",
       "</div>"
      ],
      "text/plain": [
       "               V1          V2          V3          V4\n",
       "count  500.000000  500.000000  500.000000  500.000000\n",
       "mean     0.044990    0.010671   -0.026412    0.023714\n",
       "std      0.985312    0.985214    1.054736    1.011037\n",
       "min     -3.000000   -3.000000   -3.000000   -2.923952\n",
       "25%     -0.675159   -0.617382   -0.744096   -0.663011\n",
       "50%      0.068773   -0.016895   -0.027211    0.008867\n",
       "75%      0.664647    0.693727    0.709340    0.715803\n",
       "max      3.000000    2.538271    3.000000    3.000000"
      ]
     },
     "execution_count": 17,
     "metadata": {},
     "output_type": "execute_result"
    }
   ],
   "source": [
    "# V3 열 중에서 -3 미만 또는 3초과\n",
    "col = df[\"V3\"]\n",
    "print(col[np.abs(col) > 3], \"\\n\")\n",
    "\n",
    "# 변수 중에서 하나라도 -3 미만 또는 3 초과\n",
    "print(df[(np.abs(df) > 3).any(1)], \"\\n\")\n",
    "# all은 모두 조건에 해당 / any는 하나라도 만족하면 출력\n",
    "\n",
    "# -3미만 -> -3, 3초과 -> 3 으로 변환\n",
    "# sign() 함수는 부호를 출력하는 함수 (음수 : -1, 양수 : 1)\n",
    "df[(np.abs(df) > 3)] = np.sign(df) * 3\n",
    "df.describe()"
   ]
  },
  {
   "cell_type": "markdown",
   "metadata": {},
   "source": [
    "    - 더미변수 생성 p.336\n",
    "        - get_dummies()"
   ]
  },
  {
   "cell_type": "code",
   "execution_count": 18,
   "metadata": {},
   "outputs": [
    {
     "data": {
      "text/html": [
       "<div>\n",
       "<style scoped>\n",
       "    .dataframe tbody tr th:only-of-type {\n",
       "        vertical-align: middle;\n",
       "    }\n",
       "\n",
       "    .dataframe tbody tr th {\n",
       "        vertical-align: top;\n",
       "    }\n",
       "\n",
       "    .dataframe thead th {\n",
       "        text-align: right;\n",
       "    }\n",
       "</style>\n",
       "<table border=\"1\" class=\"dataframe\">\n",
       "  <thead>\n",
       "    <tr style=\"text-align: right;\">\n",
       "      <th></th>\n",
       "      <th>name</th>\n",
       "      <th>sex</th>\n",
       "      <th>home</th>\n",
       "      <th>income</th>\n",
       "    </tr>\n",
       "  </thead>\n",
       "  <tbody>\n",
       "    <tr>\n",
       "      <th>0</th>\n",
       "      <td>kim</td>\n",
       "      <td>M</td>\n",
       "      <td>Seoul</td>\n",
       "      <td>250</td>\n",
       "    </tr>\n",
       "    <tr>\n",
       "      <th>1</th>\n",
       "      <td>lee</td>\n",
       "      <td>F</td>\n",
       "      <td>Suwon</td>\n",
       "      <td>195</td>\n",
       "    </tr>\n",
       "    <tr>\n",
       "      <th>2</th>\n",
       "      <td>bae</td>\n",
       "      <td>M</td>\n",
       "      <td>Inchon</td>\n",
       "      <td>325</td>\n",
       "    </tr>\n",
       "    <tr>\n",
       "      <th>3</th>\n",
       "      <td>cho</td>\n",
       "      <td>F</td>\n",
       "      <td>Seoul</td>\n",
       "      <td>210</td>\n",
       "    </tr>\n",
       "    <tr>\n",
       "      <th>4</th>\n",
       "      <td>kang</td>\n",
       "      <td>M</td>\n",
       "      <td>Seoul</td>\n",
       "      <td>274</td>\n",
       "    </tr>\n",
       "  </tbody>\n",
       "</table>\n",
       "</div>"
      ],
      "text/plain": [
       "   name sex    home  income\n",
       "0   kim   M   Seoul     250\n",
       "1   lee   F   Suwon     195\n",
       "2   bae   M  Inchon     325\n",
       "3   cho   F   Seoul     210\n",
       "4  kang   M   Seoul     274"
      ]
     },
     "execution_count": 18,
     "metadata": {},
     "output_type": "execute_result"
    }
   ],
   "source": [
    "df = DataFrame({\"name\" : [\"kim\", \"lee\", \"bae\", \"cho\", \"kang\"], \"sex\" : [\"M\", \"F\", \"M\", \"F\", \"M\"],\n",
    "               \"home\" : [\"Seoul\", \"Suwon\", \"Inchon\", \"Seoul\", \"Seoul\"],\n",
    "               \"income\" : [250, 195, 325, 210, 274]})\n",
    "df"
   ]
  },
  {
   "cell_type": "code",
   "execution_count": 19,
   "metadata": {},
   "outputs": [
    {
     "data": {
      "text/html": [
       "<div>\n",
       "<style scoped>\n",
       "    .dataframe tbody tr th:only-of-type {\n",
       "        vertical-align: middle;\n",
       "    }\n",
       "\n",
       "    .dataframe tbody tr th {\n",
       "        vertical-align: top;\n",
       "    }\n",
       "\n",
       "    .dataframe thead th {\n",
       "        text-align: right;\n",
       "    }\n",
       "</style>\n",
       "<table border=\"1\" class=\"dataframe\">\n",
       "  <thead>\n",
       "    <tr style=\"text-align: right;\">\n",
       "      <th></th>\n",
       "      <th>F</th>\n",
       "      <th>M</th>\n",
       "    </tr>\n",
       "  </thead>\n",
       "  <tbody>\n",
       "    <tr>\n",
       "      <th>0</th>\n",
       "      <td>0</td>\n",
       "      <td>1</td>\n",
       "    </tr>\n",
       "    <tr>\n",
       "      <th>1</th>\n",
       "      <td>1</td>\n",
       "      <td>0</td>\n",
       "    </tr>\n",
       "    <tr>\n",
       "      <th>2</th>\n",
       "      <td>0</td>\n",
       "      <td>1</td>\n",
       "    </tr>\n",
       "    <tr>\n",
       "      <th>3</th>\n",
       "      <td>1</td>\n",
       "      <td>0</td>\n",
       "    </tr>\n",
       "    <tr>\n",
       "      <th>4</th>\n",
       "      <td>0</td>\n",
       "      <td>1</td>\n",
       "    </tr>\n",
       "  </tbody>\n",
       "</table>\n",
       "</div>"
      ],
      "text/plain": [
       "   F  M\n",
       "0  0  1\n",
       "1  1  0\n",
       "2  0  1\n",
       "3  1  0\n",
       "4  0  1"
      ]
     },
     "execution_count": 19,
     "metadata": {},
     "output_type": "execute_result"
    }
   ],
   "source": [
    "# 성별에 따라서 더미변수 생성\n",
    "sex_dummy = pd.get_dummies(df[\"sex\"])\n",
    "sex_dummy"
   ]
  },
  {
   "cell_type": "code",
   "execution_count": 20,
   "metadata": {},
   "outputs": [
    {
     "data": {
      "text/html": [
       "<div>\n",
       "<style scoped>\n",
       "    .dataframe tbody tr th:only-of-type {\n",
       "        vertical-align: middle;\n",
       "    }\n",
       "\n",
       "    .dataframe tbody tr th {\n",
       "        vertical-align: top;\n",
       "    }\n",
       "\n",
       "    .dataframe thead th {\n",
       "        text-align: right;\n",
       "    }\n",
       "</style>\n",
       "<table border=\"1\" class=\"dataframe\">\n",
       "  <thead>\n",
       "    <tr style=\"text-align: right;\">\n",
       "      <th></th>\n",
       "      <th>V_195</th>\n",
       "      <th>V_210</th>\n",
       "      <th>V_250</th>\n",
       "      <th>V_274</th>\n",
       "      <th>V_325</th>\n",
       "    </tr>\n",
       "  </thead>\n",
       "  <tbody>\n",
       "    <tr>\n",
       "      <th>0</th>\n",
       "      <td>0</td>\n",
       "      <td>0</td>\n",
       "      <td>1</td>\n",
       "      <td>0</td>\n",
       "      <td>0</td>\n",
       "    </tr>\n",
       "    <tr>\n",
       "      <th>1</th>\n",
       "      <td>1</td>\n",
       "      <td>0</td>\n",
       "      <td>0</td>\n",
       "      <td>0</td>\n",
       "      <td>0</td>\n",
       "    </tr>\n",
       "    <tr>\n",
       "      <th>2</th>\n",
       "      <td>0</td>\n",
       "      <td>0</td>\n",
       "      <td>0</td>\n",
       "      <td>0</td>\n",
       "      <td>1</td>\n",
       "    </tr>\n",
       "    <tr>\n",
       "      <th>3</th>\n",
       "      <td>0</td>\n",
       "      <td>1</td>\n",
       "      <td>0</td>\n",
       "      <td>0</td>\n",
       "      <td>0</td>\n",
       "    </tr>\n",
       "    <tr>\n",
       "      <th>4</th>\n",
       "      <td>0</td>\n",
       "      <td>0</td>\n",
       "      <td>0</td>\n",
       "      <td>1</td>\n",
       "      <td>0</td>\n",
       "    </tr>\n",
       "  </tbody>\n",
       "</table>\n",
       "</div>"
      ],
      "text/plain": [
       "   V_195  V_210  V_250  V_274  V_325\n",
       "0      0      0      1      0      0\n",
       "1      1      0      0      0      0\n",
       "2      0      0      0      0      1\n",
       "3      0      1      0      0      0\n",
       "4      0      0      0      1      0"
      ]
     },
     "execution_count": 20,
     "metadata": {},
     "output_type": "execute_result"
    }
   ],
   "source": [
    "# 접두어를 지정한 변수명 생성\n",
    "pd.get_dummies(df[\"income\"], prefix = \"V\")"
   ]
  },
  {
   "cell_type": "code",
   "execution_count": 21,
   "metadata": {},
   "outputs": [
    {
     "data": {
      "text/html": [
       "<div>\n",
       "<style scoped>\n",
       "    .dataframe tbody tr th:only-of-type {\n",
       "        vertical-align: middle;\n",
       "    }\n",
       "\n",
       "    .dataframe tbody tr th {\n",
       "        vertical-align: top;\n",
       "    }\n",
       "\n",
       "    .dataframe thead th {\n",
       "        text-align: right;\n",
       "    }\n",
       "</style>\n",
       "<table border=\"1\" class=\"dataframe\">\n",
       "  <thead>\n",
       "    <tr style=\"text-align: right;\">\n",
       "      <th></th>\n",
       "      <th>name</th>\n",
       "      <th>sex</th>\n",
       "      <th>home</th>\n",
       "      <th>income</th>\n",
       "      <th>F</th>\n",
       "      <th>M</th>\n",
       "    </tr>\n",
       "  </thead>\n",
       "  <tbody>\n",
       "    <tr>\n",
       "      <th>0</th>\n",
       "      <td>kim</td>\n",
       "      <td>M</td>\n",
       "      <td>Seoul</td>\n",
       "      <td>250</td>\n",
       "      <td>0</td>\n",
       "      <td>1</td>\n",
       "    </tr>\n",
       "    <tr>\n",
       "      <th>1</th>\n",
       "      <td>lee</td>\n",
       "      <td>F</td>\n",
       "      <td>Suwon</td>\n",
       "      <td>195</td>\n",
       "      <td>1</td>\n",
       "      <td>0</td>\n",
       "    </tr>\n",
       "    <tr>\n",
       "      <th>2</th>\n",
       "      <td>bae</td>\n",
       "      <td>M</td>\n",
       "      <td>Inchon</td>\n",
       "      <td>325</td>\n",
       "      <td>0</td>\n",
       "      <td>1</td>\n",
       "    </tr>\n",
       "    <tr>\n",
       "      <th>3</th>\n",
       "      <td>cho</td>\n",
       "      <td>F</td>\n",
       "      <td>Seoul</td>\n",
       "      <td>210</td>\n",
       "      <td>1</td>\n",
       "      <td>0</td>\n",
       "    </tr>\n",
       "    <tr>\n",
       "      <th>4</th>\n",
       "      <td>kang</td>\n",
       "      <td>M</td>\n",
       "      <td>Seoul</td>\n",
       "      <td>274</td>\n",
       "      <td>0</td>\n",
       "      <td>1</td>\n",
       "    </tr>\n",
       "  </tbody>\n",
       "</table>\n",
       "</div>"
      ],
      "text/plain": [
       "   name sex    home  income  F  M\n",
       "0   kim   M   Seoul     250  0  1\n",
       "1   lee   F   Suwon     195  1  0\n",
       "2   bae   M  Inchon     325  0  1\n",
       "3   cho   F   Seoul     210  1  0\n",
       "4  kang   M   Seoul     274  0  1"
      ]
     },
     "execution_count": 21,
     "metadata": {},
     "output_type": "execute_result"
    }
   ],
   "source": [
    "df.join(sex_dummy)"
   ]
  },
  {
   "cell_type": "markdown",
   "metadata": {},
   "source": [
    "# 중요!!!!!!!!!!!!!!!!!!!!!!\n",
    "- Module2\n",
    "\n",
    "    -Part 02. 빅데이터 전처리 및 시각화\n",
    "    \n",
    "        04. 자료의 시각화"
   ]
  },
  {
   "cell_type": "markdown",
   "metadata": {},
   "source": [
    "##### 기본그래프, 산점도"
   ]
  },
  {
   "cell_type": "markdown",
   "metadata": {},
   "source": [
    "    - Figure\n",
    "        - 우선 Figure를 그린 후, pltsubplots로 도화지를 분할해 각 부분에 그래프를 그리는 방식\n",
    "        - plt.figure 표현하는게 좋음, but plot 함수에서 자동 생성\n",
    "        - figure에 접근해야 한다면, plt.gcf()로 접근\n",
    "        - size 조절\n",
    "            - fig.set_size_inches(18.5, 10.5)\n",
    "            - plt.figure(figsize = (10, 5))\n",
    "            - plt.rcParams['figure.figsize'] = (10, 7)\n",
    "    - Axes : 그래프가 그려지는 공간\n",
    "    - Axis : 그래프의 축"
   ]
  },
  {
   "cell_type": "markdown",
   "metadata": {},
   "source": [
    "-메소드\n",
    "    - title()\n",
    "    - xlabel()\n",
    "    - ylabel()"
   ]
  },
  {
   "cell_type": "markdown",
   "metadata": {},
   "source": [
    "-옵션\n",
    "    - label : 제목 텍스트\n",
    "    - fontdict : {'fontsize':rcParams['axes.titlesize'],\n",
    "                  'fontweight':rcParams['axes.titleweight'],\n",
    "                  'verticalalignment':'baseline',\n",
    "                  'horizontalalignment':loc}\n",
    "    - loc : title 옵션으로 수평 정렬 (기본값 : \"center\" / left, right)\n",
    "    - labelpad : xlabel과 ylabel 옵션으로 축과 축 제목 사이의 간격 (기본값 : None)"
   ]
  },
  {
   "cell_type": "code",
   "execution_count": 25,
   "metadata": {
    "scrolled": true
   },
   "outputs": [
    {
     "name": "stderr",
     "output_type": "stream",
     "text": [
      "C:\\ProgramData\\Anaconda3\\envs\\mypython\\lib\\site-packages\\matplotlib\\backends\\backend_agg.py:211: RuntimeWarning: Glyph 49328 missing from current font.\n",
      "  font.set_text(s, 0.0, flags=flags)\n",
      "C:\\ProgramData\\Anaconda3\\envs\\mypython\\lib\\site-packages\\matplotlib\\backends\\backend_agg.py:211: RuntimeWarning: Glyph 51216 missing from current font.\n",
      "  font.set_text(s, 0.0, flags=flags)\n",
      "C:\\ProgramData\\Anaconda3\\envs\\mypython\\lib\\site-packages\\matplotlib\\backends\\backend_agg.py:211: RuntimeWarning: Glyph 46020 missing from current font.\n",
      "  font.set_text(s, 0.0, flags=flags)\n",
      "C:\\ProgramData\\Anaconda3\\envs\\mypython\\lib\\site-packages\\matplotlib\\backends\\backend_agg.py:211: RuntimeWarning: Glyph 51228 missing from current font.\n",
      "  font.set_text(s, 0.0, flags=flags)\n",
      "C:\\ProgramData\\Anaconda3\\envs\\mypython\\lib\\site-packages\\matplotlib\\backends\\backend_agg.py:211: RuntimeWarning: Glyph 47785 missing from current font.\n",
      "  font.set_text(s, 0.0, flags=flags)\n",
      "C:\\ProgramData\\Anaconda3\\envs\\mypython\\lib\\site-packages\\matplotlib\\backends\\backend_agg.py:211: RuntimeWarning: Glyph 52629 missing from current font.\n",
      "  font.set_text(s, 0.0, flags=flags)\n",
      "C:\\ProgramData\\Anaconda3\\envs\\mypython\\lib\\site-packages\\matplotlib\\backends\\backend_agg.py:180: RuntimeWarning: Glyph 52629 missing from current font.\n",
      "  font.set_text(s, 0, flags=flags)\n",
      "C:\\ProgramData\\Anaconda3\\envs\\mypython\\lib\\site-packages\\matplotlib\\backends\\backend_agg.py:180: RuntimeWarning: Glyph 49328 missing from current font.\n",
      "  font.set_text(s, 0, flags=flags)\n",
      "C:\\ProgramData\\Anaconda3\\envs\\mypython\\lib\\site-packages\\matplotlib\\backends\\backend_agg.py:180: RuntimeWarning: Glyph 51216 missing from current font.\n",
      "  font.set_text(s, 0, flags=flags)\n",
      "C:\\ProgramData\\Anaconda3\\envs\\mypython\\lib\\site-packages\\matplotlib\\backends\\backend_agg.py:180: RuntimeWarning: Glyph 46020 missing from current font.\n",
      "  font.set_text(s, 0, flags=flags)\n",
      "C:\\ProgramData\\Anaconda3\\envs\\mypython\\lib\\site-packages\\matplotlib\\backends\\backend_agg.py:180: RuntimeWarning: Glyph 51228 missing from current font.\n",
      "  font.set_text(s, 0, flags=flags)\n",
      "C:\\ProgramData\\Anaconda3\\envs\\mypython\\lib\\site-packages\\matplotlib\\backends\\backend_agg.py:180: RuntimeWarning: Glyph 47785 missing from current font.\n",
      "  font.set_text(s, 0, flags=flags)\n"
     ]
    },
    {
     "data": {
      "image/png": "[encoded data removed]",
      "text/plain": [
       "<Figure size 432x288 with 1 Axes>"
      ]
     },
     "metadata": {
      "needs_background": "light"
     },
     "output_type": "display_data"
    }
   ],
   "source": [
    "x = np.arange(1, 11)\n",
    "y = x*5 + np.random.randn(10)*5\n",
    "\n",
    "plt.plot(x, y, \"p\") # 산점도\n",
    "plt.title(\"산점도 제목\", fontdict = {'fontsize' : 25, 'fontweight' : \"bold\"}, loc = \"left\")\n",
    "plt.xlabel(\"x-축\", labelpad = 15)\n",
    "plt.ylabel(\"y-축\", fontdict = {'fontsize' : 10, 'fontweight' : \"bold\"})\n",
    "plt.show()"
   ]
  },
  {
   "cell_type": "markdown",
   "metadata": {},
   "source": [
    "-메소드 (범례) p.341\n",
    "    - legend()"
   ]
  },
  {
   "cell_type": "markdown",
   "metadata": {},
   "source": [
    "-옵션\n",
    "    - labels : 범례로 삽입할 제목을 순서대로 리스트로 입력\n",
    "    - loc : 범례 출력위치\n",
    "        - 'best' : 0, 'upper right' : 1, 'upper left' : 2,\n",
    "          'lower left' : 3, 'lower right' : 4, 'right' : 5,\n",
    "          'center left' : 6, 'center right' : 7,\n",
    "          'lower center' : 8, 'upper center' : 9, 'center' : 10"
   ]
  },
  {
   "cell_type": "code",
   "execution_count": 27,
   "metadata": {
    "scrolled": true
   },
   "outputs": [
    {
     "name": "stderr",
     "output_type": "stream",
     "text": [
      "C:\\ProgramData\\Anaconda3\\envs\\mypython\\lib\\site-packages\\matplotlib\\backends\\backend_agg.py:211: RuntimeWarning: Glyph 45224 missing from current font.\n",
      "  font.set_text(s, 0.0, flags=flags)\n",
      "C:\\ProgramData\\Anaconda3\\envs\\mypython\\lib\\site-packages\\matplotlib\\backends\\backend_agg.py:211: RuntimeWarning: Glyph 51088 missing from current font.\n",
      "  font.set_text(s, 0.0, flags=flags)\n",
      "C:\\ProgramData\\Anaconda3\\envs\\mypython\\lib\\site-packages\\matplotlib\\backends\\backend_agg.py:211: RuntimeWarning: Glyph 50668 missing from current font.\n",
      "  font.set_text(s, 0.0, flags=flags)\n",
      "C:\\ProgramData\\Anaconda3\\envs\\mypython\\lib\\site-packages\\matplotlib\\backends\\backend_agg.py:180: RuntimeWarning: Glyph 45224 missing from current font.\n",
      "  font.set_text(s, 0, flags=flags)\n",
      "C:\\ProgramData\\Anaconda3\\envs\\mypython\\lib\\site-packages\\matplotlib\\backends\\backend_agg.py:180: RuntimeWarning: Glyph 51088 missing from current font.\n",
      "  font.set_text(s, 0, flags=flags)\n",
      "C:\\ProgramData\\Anaconda3\\envs\\mypython\\lib\\site-packages\\matplotlib\\backends\\backend_agg.py:180: RuntimeWarning: Glyph 50668 missing from current font.\n",
      "  font.set_text(s, 0, flags=flags)\n"
     ]
    },
    {
     "data": {
      "image/png": "[encoded data removed]",
      "text/plain": [
       "<Figure size 432x288 with 1 Axes>"
      ]
     },
     "metadata": {
      "needs_background": "light"
     },
     "output_type": "display_data"
    }
   ],
   "source": [
    "x = np.arange(1, 11)\n",
    "y1 = x*5 + np.random.randn(10)*5\n",
    "y2 = 5 + x*5 + np.random.randn(10)*5\n",
    "\n",
    "plt.plot(x, y1, \"p\") # 산점도\n",
    "plt.plot(x, y2, \"rp\") # 산점도\n",
    "plt.title(\"x-y1, x-y2 산점도\")\n",
    "plt.xlabel(\"x-축\")\n",
    "plt.xlabel(\"y-축\")\n",
    "plt.legend([\"남자\", \"여자\"], loc = 'lower right')\n",
    "plt.show()"
   ]
  },
  {
   "cell_type": "markdown",
   "metadata": {},
   "source": [
    "-메소드\n",
    "    - 축크기\n",
    "    - axis() : x-축, y-축의 최소와 최대 범위\n",
    "    - 보조 눈금선\n",
    "    - plt.minorticks_on() : 그래프에 보조 눈금선 표시\n",
    "    - 격자\n",
    "    - grid() : 그래프에 주 눈금선과 보조 눈금선의 격자 표시"
   ]
  },
  {
   "cell_type": "markdown",
   "metadata": {},
   "source": [
    "-옵션\n",
    "    - b = False\n",
    "    - which : 주 눈금선과 보조 눈금선의 격자 (기본값 : 'major' / minor, both)\n",
    "    - axis : 격자를 표시할 축 (기본값 : 'both' / x, y)"
   ]
  },
  {
   "cell_type": "code",
   "execution_count": 28,
   "metadata": {},
   "outputs": [
    {
     "data": {
      "image/png": "[encoded data removed]",
      "text/plain": [
       "<Figure size 432x288 with 1 Axes>"
      ]
     },
     "metadata": {
      "needs_background": "light"
     },
     "output_type": "display_data"
    }
   ],
   "source": [
    "# size, family\n",
    "x = np.arange(1, 11)\n",
    "y1 = x*5 + np.random.randn(10)*5\n",
    "y2 = 5 + x*5 + np.random.randn(10)*5\n",
    "\n",
    "plt.plot(x, y1, \"p\") # 산점도\n",
    "plt.plot(x, y2, \"rp\") # 산점도\n",
    "plt.title(\"x-y1, x-y2 산점도\")\n",
    "plt.xlabel(\"x-축\")\n",
    "plt.xlabel(\"y-축\")\n",
    "plt.legend([\"남자\", \"여자\"], loc = 'lower right')\n",
    "# 여기가 다른 부분 ( 축 범위 지정 )\n",
    "plt.axis(xmin = 0, xmax = 15, ymin = 0, ymax = 100)\n",
    "plt.minorticks_on() # 보조눈금선\n",
    "plt.grid(b = True, which = 'major', axis = 'y') # 주, 보조 눈금선에 격자 표시\n",
    "plt.show()"
   ]
  },
  {
   "cell_type": "markdown",
   "metadata": {},
   "source": [
    "##### 막대그래프"
   ]
  },
  {
   "cell_type": "markdown",
   "metadata": {},
   "source": [
    "-bar()\n",
    "    - x : 범주\n",
    "    - height : 막대의 높이\n",
    "    - width : 막대의 넓이 (기본값 : 0.8)\n",
    "    - color : 막대 채우기 색\n",
    "    - edgecolor : 막대 외각선 색\n",
    "          'b' : blue / 'g' : green / 'r' : red / 'c' : cyan\n",
    "          'm' : megenta / 'y' : yellow / 'k' : black / 'w' : white"
   ]
  },
  {
   "cell_type": "code",
   "execution_count": 2,
   "metadata": {
    "scrolled": true
   },
   "outputs": [
    {
     "data": {
      "text/html": [
       "<div>\n",
       "<style scoped>\n",
       "    .dataframe tbody tr th:only-of-type {\n",
       "        vertical-align: middle;\n",
       "    }\n",
       "\n",
       "    .dataframe tbody tr th {\n",
       "        vertical-align: top;\n",
       "    }\n",
       "\n",
       "    .dataframe thead th {\n",
       "        text-align: right;\n",
       "    }\n",
       "</style>\n",
       "<table border=\"1\" class=\"dataframe\">\n",
       "  <thead>\n",
       "    <tr style=\"text-align: right;\">\n",
       "      <th></th>\n",
       "      <th>id</th>\n",
       "      <th>Area</th>\n",
       "      <th>UseDistrict</th>\n",
       "      <th>Option</th>\n",
       "      <th>FAR</th>\n",
       "      <th>Price</th>\n",
       "    </tr>\n",
       "  </thead>\n",
       "  <tbody>\n",
       "    <tr>\n",
       "      <th>0</th>\n",
       "      <td>apt01</td>\n",
       "      <td>도심권</td>\n",
       "      <td>제2종 일반주거지역</td>\n",
       "      <td>풀옵션형</td>\n",
       "      <td>132.72</td>\n",
       "      <td>515.051949</td>\n",
       "    </tr>\n",
       "    <tr>\n",
       "      <th>1</th>\n",
       "      <td>apt02</td>\n",
       "      <td>도심권</td>\n",
       "      <td>제2종 일반주거지역</td>\n",
       "      <td>풀옵션형</td>\n",
       "      <td>184.99</td>\n",
       "      <td>499.500499</td>\n",
       "    </tr>\n",
       "    <tr>\n",
       "      <th>2</th>\n",
       "      <td>apt03</td>\n",
       "      <td>도심권</td>\n",
       "      <td>상업지역</td>\n",
       "      <td>기본형</td>\n",
       "      <td>308.81</td>\n",
       "      <td>364.319535</td>\n",
       "    </tr>\n",
       "    <tr>\n",
       "      <th>3</th>\n",
       "      <td>apt04</td>\n",
       "      <td>도심권</td>\n",
       "      <td>상업지역</td>\n",
       "      <td>풀옵션형</td>\n",
       "      <td>493.08</td>\n",
       "      <td>410.945530</td>\n",
       "    </tr>\n",
       "    <tr>\n",
       "      <th>4</th>\n",
       "      <td>apt05</td>\n",
       "      <td>도심권</td>\n",
       "      <td>준주거지역</td>\n",
       "      <td>기본형</td>\n",
       "      <td>349.65</td>\n",
       "      <td>616.975986</td>\n",
       "    </tr>\n",
       "  </tbody>\n",
       "</table>\n",
       "</div>"
      ],
      "text/plain": [
       "      id Area UseDistrict Option     FAR       Price\n",
       "0  apt01  도심권  제2종 일반주거지역   풀옵션형  132.72  515.051949\n",
       "1  apt02  도심권  제2종 일반주거지역   풀옵션형  184.99  499.500499\n",
       "2  apt03  도심권        상업지역    기본형  308.81  364.319535\n",
       "3  apt04  도심권        상업지역   풀옵션형  493.08  410.945530\n",
       "4  apt05  도심권       준주거지역    기본형  349.65  616.975986"
      ]
     },
     "execution_count": 2,
     "metadata": {},
     "output_type": "execute_result"
    }
   ],
   "source": [
    "df = pd.read_csv(\"C:/Users/Affinity/Desktop/study/Module02/Python_Data/ch02_data/APTData.csv\", header = 0,\n",
    "                skiprows = 7, index_col = None, encoding = \"utf-8\")\n",
    "df.head(5)"
   ]
  },
  {
   "cell_type": "code",
   "execution_count": 40,
   "metadata": {
    "scrolled": true
   },
   "outputs": [
    {
     "name": "stdout",
     "output_type": "stream",
     "text": [
      "동북권    140\n",
      "동남권     92\n",
      "서북권     81\n",
      "서남권     76\n",
      "도심권     11\n",
      "Name: Area, dtype: int64\n"
     ]
    },
    {
     "data": {
      "image/png": "[encoded data removed]",
      "text/plain": [
       "<Figure size 432x288 with 1 Axes>"
      ]
     },
     "metadata": {
      "needs_background": "light"
     },
     "output_type": "display_data"
    }
   ],
   "source": [
    "AreaTbl = pd.value_counts(df[\"Area\"])\n",
    "print(AreaTbl)\n",
    "# 막대도표\n",
    "# counts 값을 넣고 싶을 때에는 df.index로 입력\n",
    "plt.bar(AreaTbl.index, AreaTbl, bottom = 10, color = \"c\", edgecolor = \"k\") # 산점도\n",
    "plt.xlabel(\"region\")\n",
    "plt.show()"
   ]
  },
  {
   "cell_type": "markdown",
   "metadata": {},
   "source": [
    "##### 원그래프"
   ]
  },
  {
   "cell_type": "markdown",
   "metadata": {},
   "source": [
    "-pie()\n",
    "    - x : 원조각의 값\n",
    "    - explode : 특정 조각 빼기 (기본값 : None)\n",
    "    - labels : 각 조각별 이름 (기본값 : None)\n",
    "    - colors : 각 조각의 색 (기본값 : None)\n",
    "        - 색깔의 약자나 이름 쓰면 됨\n",
    "    - autopct : 퍼센트 표기 (기본값 : None)\n",
    "        - \"format%pct\" 형식으로 입력\n",
    "    - shadow : 그림자 효과로 입체감 주기 (기본값 : None)"
   ]
  },
  {
   "cell_type": "code",
   "execution_count": 46,
   "metadata": {},
   "outputs": [
    {
     "name": "stdout",
     "output_type": "stream",
     "text": [
      "동북권    140\n",
      "동남권     92\n",
      "서북권     81\n",
      "서남권     76\n",
      "도심권     11\n",
      "Name: Area, dtype: int64\n"
     ]
    },
    {
     "data": {
      "image/png": "[encoded data removed]",
      "text/plain": [
       "<Figure size 432x288 with 1 Axes>"
      ]
     },
     "metadata": {},
     "output_type": "display_data"
    }
   ],
   "source": [
    "# 위에 막대도표꺼 데이터 불러오기\n",
    "print(AreaTbl)\n",
    "# 원도포\n",
    "plt.pie(AreaTbl, explode = (0, 0.2, 0, 0, 0), labels = AreaTbl.index,\n",
    "       colors = [\"r\", \"w\", \"b\", \"c\", \"m\"], autopct = \"%5.1f%%\", shadow = True)\n",
    "# autopct는 정규식으로 표현. 소수 첫째 자리까지 pct로 나타낸다는 뜻.\n",
    "plt.show()"
   ]
  },
  {
   "cell_type": "markdown",
   "metadata": {},
   "source": [
    "##### 상자그래프 (boxplot)"
   ]
  },
  {
   "cell_type": "markdown",
   "metadata": {},
   "source": [
    "-boxplot()\n",
    "    - x : 상자 그래프를 작성할 데이터\n",
    "    - notch : 중앙값의 신뢰구간 (기본값 : None)\n",
    "    - vert : 수직방향의 그래프 (기본값 : None)\n",
    "    - whis : 안쪽 울타리 값 (기본값 : 1.5)\n",
    "    - labels : 항목의 이름을 리스트로 입력 (기본값 : None)"
   ]
  },
  {
   "cell_type": "code",
   "execution_count": 3,
   "metadata": {
    "scrolled": true
   },
   "outputs": [
    {
     "name": "stderr",
     "output_type": "stream",
     "text": [
      "C:\\ProgramData\\Anaconda3\\envs\\mypython\\lib\\site-packages\\matplotlib\\backends\\backend_agg.py:211: RuntimeWarning: Glyph 51076 missing from current font.\n",
      "  font.set_text(s, 0.0, flags=flags)\n",
      "C:\\ProgramData\\Anaconda3\\envs\\mypython\\lib\\site-packages\\matplotlib\\backends\\backend_agg.py:211: RuntimeWarning: Glyph 45824 missing from current font.\n",
      "  font.set_text(s, 0.0, flags=flags)\n",
      "C:\\ProgramData\\Anaconda3\\envs\\mypython\\lib\\site-packages\\matplotlib\\backends\\backend_agg.py:211: RuntimeWarning: Glyph 44032 missing from current font.\n",
      "  font.set_text(s, 0.0, flags=flags)\n",
      "C:\\ProgramData\\Anaconda3\\envs\\mypython\\lib\\site-packages\\matplotlib\\backends\\backend_agg.py:180: RuntimeWarning: Glyph 51076 missing from current font.\n",
      "  font.set_text(s, 0, flags=flags)\n",
      "C:\\ProgramData\\Anaconda3\\envs\\mypython\\lib\\site-packages\\matplotlib\\backends\\backend_agg.py:180: RuntimeWarning: Glyph 45824 missing from current font.\n",
      "  font.set_text(s, 0, flags=flags)\n",
      "C:\\ProgramData\\Anaconda3\\envs\\mypython\\lib\\site-packages\\matplotlib\\backends\\backend_agg.py:180: RuntimeWarning: Glyph 44032 missing from current font.\n",
      "  font.set_text(s, 0, flags=flags)\n"
     ]
    },
    {
     "data": {
      "image/png": "[encoded data removed]",
      "text/plain": [
       "<Figure size 432x288 with 1 Axes>"
      ]
     },
     "metadata": {
      "needs_background": "light"
     },
     "output_type": "display_data"
    }
   ],
   "source": [
    "# 상자도표\n",
    "plt.boxplot(df.Price, notch = True, vert = False, meanline = True, whis = 3, showmeans = True,\n",
    "           labels = ['임대가'])\n",
    "plt.show()"
   ]
  },
  {
   "cell_type": "code",
   "execution_count": 4,
   "metadata": {
    "scrolled": true
   },
   "outputs": [
    {
     "name": "stderr",
     "output_type": "stream",
     "text": [
      "C:\\ProgramData\\Anaconda3\\envs\\mypython\\lib\\site-packages\\matplotlib\\backends\\backend_agg.py:211: RuntimeWarning: Glyph 50857 missing from current font.\n",
      "  font.set_text(s, 0.0, flags=flags)\n",
      "C:\\ProgramData\\Anaconda3\\envs\\mypython\\lib\\site-packages\\matplotlib\\backends\\backend_agg.py:211: RuntimeWarning: Glyph 51201 missing from current font.\n",
      "  font.set_text(s, 0.0, flags=flags)\n",
      "C:\\ProgramData\\Anaconda3\\envs\\mypython\\lib\\site-packages\\matplotlib\\backends\\backend_agg.py:211: RuntimeWarning: Glyph 47456 missing from current font.\n",
      "  font.set_text(s, 0.0, flags=flags)\n",
      "C:\\ProgramData\\Anaconda3\\envs\\mypython\\lib\\site-packages\\matplotlib\\backends\\backend_agg.py:211: RuntimeWarning: Glyph 51076 missing from current font.\n",
      "  font.set_text(s, 0.0, flags=flags)\n",
      "C:\\ProgramData\\Anaconda3\\envs\\mypython\\lib\\site-packages\\matplotlib\\backends\\backend_agg.py:211: RuntimeWarning: Glyph 45824 missing from current font.\n",
      "  font.set_text(s, 0.0, flags=flags)\n",
      "C:\\ProgramData\\Anaconda3\\envs\\mypython\\lib\\site-packages\\matplotlib\\backends\\backend_agg.py:211: RuntimeWarning: Glyph 44032 missing from current font.\n",
      "  font.set_text(s, 0.0, flags=flags)\n",
      "C:\\ProgramData\\Anaconda3\\envs\\mypython\\lib\\site-packages\\matplotlib\\backends\\backend_agg.py:180: RuntimeWarning: Glyph 50857 missing from current font.\n",
      "  font.set_text(s, 0, flags=flags)\n",
      "C:\\ProgramData\\Anaconda3\\envs\\mypython\\lib\\site-packages\\matplotlib\\backends\\backend_agg.py:180: RuntimeWarning: Glyph 51201 missing from current font.\n",
      "  font.set_text(s, 0, flags=flags)\n",
      "C:\\ProgramData\\Anaconda3\\envs\\mypython\\lib\\site-packages\\matplotlib\\backends\\backend_agg.py:180: RuntimeWarning: Glyph 47456 missing from current font.\n",
      "  font.set_text(s, 0, flags=flags)\n",
      "C:\\ProgramData\\Anaconda3\\envs\\mypython\\lib\\site-packages\\matplotlib\\backends\\backend_agg.py:180: RuntimeWarning: Glyph 51076 missing from current font.\n",
      "  font.set_text(s, 0, flags=flags)\n",
      "C:\\ProgramData\\Anaconda3\\envs\\mypython\\lib\\site-packages\\matplotlib\\backends\\backend_agg.py:180: RuntimeWarning: Glyph 45824 missing from current font.\n",
      "  font.set_text(s, 0, flags=flags)\n",
      "C:\\ProgramData\\Anaconda3\\envs\\mypython\\lib\\site-packages\\matplotlib\\backends\\backend_agg.py:180: RuntimeWarning: Glyph 44032 missing from current font.\n",
      "  font.set_text(s, 0, flags=flags)\n"
     ]
    },
    {
     "data": {
      "image/png": "[encoded data removed]",
      "text/plain": [
       "<Figure size 432x288 with 1 Axes>"
      ]
     },
     "metadata": {
      "needs_background": "light"
     },
     "output_type": "display_data"
    }
   ],
   "source": [
    "plt.boxplot([df.FAR, df.Price], notch = True, vert = False, whis = 3,\n",
    "           labels = [\"용적률\", \"임대가\"])\n",
    "plt.show()"
   ]
  },
  {
   "cell_type": "markdown",
   "metadata": {},
   "source": [
    "##### 히스토그램"
   ]
  },
  {
   "cell_type": "markdown",
   "metadata": {},
   "source": [
    "-hist()\n",
    "    - x : 히스토그램을 작성할 데이터\n",
    "    - bins : 계급의 수 또는 계급의 구간 (기본값 : None)\n",
    "    - range : x-축의 최소와 최대 설정 (기본값 : None)\n",
    "    - density : y-축 값을 빈도 또는 밀도로 작성 여부 (기본값 : None)\n",
    "    - cumulative : 누적값 도표 작성여부 (기본값 : None)"
   ]
  },
  {
   "cell_type": "code",
   "execution_count": 4,
   "metadata": {},
   "outputs": [
    {
     "data": {
      "image/png": "[encoded data removed]",
      "text/plain": [
       "<Figure size 432x288 with 1 Axes>"
      ]
     },
     "metadata": {
      "needs_background": "light"
     },
     "output_type": "display_data"
    }
   ],
   "source": [
    "plt.hist(df.Price, bins = 8, color = \"b\", density = True)\n",
    "plt.show()"
   ]
  },
  {
   "cell_type": "markdown",
   "metadata": {},
   "source": [
    "##### 산점도"
   ]
  },
  {
   "cell_type": "markdown",
   "metadata": {},
   "source": [
    "-plot()\n",
    "    - x : 산점도 x-축 데이터\n",
    "    - y : 산점도 y-축 데이터\n",
    "    - color : 색\n",
    "    - marker : 점 모양\n",
    "    - linestyle : 선 모양\n",
    "    - 색과 점모양, 선모양은 문자열로 형식으로 지정 가능\n",
    "        - 'b' : blue markers with default shape\n",
    "        - 'ro' : red circles\n",
    "        - 'g-' : green solid line\n",
    "        - '--' : dashed line with default color\n",
    "        - 'k^:' : black triangle_up markers connected by a dotted line\n",
    "    - 점모양, 선모양 p.349 도표 참조"
   ]
  },
  {
   "cell_type": "code",
   "execution_count": null,
   "metadata": {},
   "outputs": [],
   "source": []
  }
 ],
 "metadata": {
  "kernelspec": {
   "display_name": "MyPython",
   "language": "python",
   "name": "mypython"
  },
  "language_info": {
   "codemirror_mode": {
    "name": "ipython",
    "version": 3
   },
   "file_extension": ".py",
   "mimetype": "text/x-python",
   "name": "python",
   "nbconvert_exporter": "python",
   "pygments_lexer": "ipython3",
   "version": "3.6.8"
  },
  "widgets": {
   "state": {},
   "version": "1.1.2"
  }
 },
 "nbformat": 4,
 "nbformat_minor": 2
}
