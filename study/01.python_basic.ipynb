{
 "cells": [
  {
   "cell_type": "code",
   "execution_count": 5,
   "metadata": {},
   "outputs": [],
   "source": [
    "import sys\n",
    "import numpy as np"
   ]
  },
  {
   "cell_type": "code",
   "execution_count": 2,
   "metadata": {},
   "outputs": [
    {
     "name": "stdout",
     "output_type": "stream",
     "text": [
      "3.6.5 |Anaconda, Inc.| (default, Mar 29 2018, 13:32:41) [MSC v.1900 64 bit (AMD64)]\n"
     ]
    }
   ],
   "source": [
    "print (sys.version)"
   ]
  },
  {
   "cell_type": "markdown",
   "metadata": {},
   "source": [
    "- 가상환경 설치 경로 : conda info --envs"
   ]
  },
  {
   "cell_type": "markdown",
   "metadata": {},
   "source": [
    "# 파이썬\n",
    "## 입문\n",
    "\n",
    "- Module2\n",
    "\n",
    "    -Part 01. 파이썬 개요 및 기초\n",
    "    \n",
    "        01. Basic"
   ]
  },
  {
   "cell_type": "code",
   "execution_count": 9,
   "metadata": {},
   "outputs": [
    {
     "name": "stdout",
     "output_type": "stream",
     "text": [
      "4\n"
     ]
    }
   ],
   "source": [
    "A = 4\n",
    "print(A)"
   ]
  },
  {
   "cell_type": "code",
   "execution_count": 10,
   "metadata": {},
   "outputs": [
    {
     "name": "stdout",
     "output_type": "stream",
     "text": [
      "7\n"
     ]
    }
   ],
   "source": [
    "print(A+3)"
   ]
  },
  {
   "cell_type": "code",
   "execution_count": 14,
   "metadata": {},
   "outputs": [
    {
     "name": "stdout",
     "output_type": "stream",
     "text": [
      "A= 4\n",
      "A+3= 7\n",
      "A+3=7\n"
     ]
    }
   ],
   "source": [
    "print(\"A=\", A)\n",
    "print(\"A+3=\", A+3)\n",
    "print(\"A+3=\" + str(A+3))"
   ]
  },
  {
   "cell_type": "code",
   "execution_count": 17,
   "metadata": {},
   "outputs": [
    {
     "name": "stdout",
     "output_type": "stream",
     "text": [
      "파이썬 배우기\n",
      "100점\n",
      "성별 : 남자연령 : 27세\n",
      "성별 :  남자 연령 :  27 세\n",
      "성별 : 남자 , 연령 : 27세\n",
      "성별 : 남자 , 나이 : 27세\n",
      "이름 :   이병훈 \n",
      " 중간 : 27.2점 \t 기말 : 41.14\n",
      "이름 : 이병훈   \n",
      " 중간 : 27.2점 \t 기말 : 41.14\n"
     ]
    }
   ],
   "source": [
    "print(\"파이썬 배우기\")\n",
    "print(\"100점\")\n",
    "print(\"성별 : \" + \"남자\" + \"연령 : \" + str(27) + \"세\")\n",
    "print(\"성별 : \" , \"남자\", \"연령 : \", 27, \"세\")\n",
    "print(\"성별 : %s , 연령 : %d세\" % (\"남자\", 27))\n",
    "print(\"성별 : {0} , 나이 : {1}세\".format(\"남자\", 27))\n",
    "print(\"이름 : %5s \\n 중간 : %3.1f점 \\t 기말 : %3.2f\" % (\"이병훈\", 27.25, 41.14))\n",
    "print(\"이름 : {0:5s} \\n 중간 : {1:3.1f}점 \\t 기말 : {2:3.2f}\".format(\"이병훈\", 27.25, 41.14))"
   ]
  },
  {
   "cell_type": "markdown",
   "metadata": {},
   "source": [
    "- Module2\n",
    "\n",
    "    -Part 01. 파이썬 개요 및 기초\n",
    "    \n",
    "        02. 변수와 자료의 유형"
   ]
  },
  {
   "cell_type": "code",
   "execution_count": 28,
   "metadata": {},
   "outputs": [
    {
     "data": {
      "text/plain": [
       "(38, 71, 267)"
      ]
     },
     "execution_count": 28,
     "metadata": {},
     "output_type": "execute_result"
    }
   ],
   "source": [
    "# - 2진수 접두사 : 0b(Binary number)    \n",
    "# - 8진수 접두사 : 0o(Octal number)\n",
    "# - 16진수 접두사 : 0x(heXadecimal number)\n",
    "\n",
    "A = 0b100110\n",
    "B = 0o107\n",
    "C = 0x10B\n",
    "A, B, C"
   ]
  },
  {
   "cell_type": "code",
   "execution_count": 31,
   "metadata": {},
   "outputs": [
    {
     "data": {
      "text/plain": [
       "('0b10011000', '0o230', '0x98')"
      ]
     },
     "execution_count": 31,
     "metadata": {},
     "output_type": "execute_result"
    }
   ],
   "source": [
    "X = bin(152)\n",
    "Y = oct(152)\n",
    "Z = hex(152)\n",
    "X,Y,Z\n",
    "# 짧으 문구는 이렇게 : 로 한줄에 쓰기 가능\n",
    "# X = bin(152): Y = oct(152): Z = hex(152)"
   ]
  },
  {
   "cell_type": "code",
   "execution_count": 39,
   "metadata": {},
   "outputs": [
    {
     "name": "stdout",
     "output_type": "stream",
     "text": [
      "V : <class 'float'>\n",
      "W : <class 'int'>\n",
      "X : <class 'bool'>\n",
      "Y : <class 'complex'>\n",
      "Z : <class 'str'> \n"
     ]
    }
   ],
   "source": [
    "# 자료 유형 확인\n",
    "V = 15.364\n",
    "W = 15\n",
    "X = True\n",
    "Y = 2+3j\n",
    "Z = \"파이썬 이란?\"\n",
    "print(\"V : {0}\\nW : {1}\\nX : {2}\\nY : {3}\\nZ : {4} \".format(type(V), type(W), type(X), type(Y), type(Z)))"
   ]
  },
  {
   "cell_type": "markdown",
   "metadata": {},
   "source": [
    "- Module2\n",
    "\n",
    "    -Part 01. 파이썬 개요 및 기초\n",
    "    \n",
    "        03. 연산자"
   ]
  },
  {
   "cell_type": "code",
   "execution_count": 32,
   "metadata": {},
   "outputs": [],
   "source": [
    "# A=3 -> A+=3 하면 3을 더한값을 Aㅔ 덮어씌움"
   ]
  },
  {
   "cell_type": "code",
   "execution_count": 35,
   "metadata": {},
   "outputs": [
    {
     "data": {
      "text/plain": [
       "4"
      ]
     },
     "execution_count": 35,
     "metadata": {},
     "output_type": "execute_result"
    }
   ],
   "source": [
    "# += 이처럼 = 연산자를 붙이면 기존 변수값에 연산한 값을 덮어 씌움\n",
    "a = 3\n",
    "a += 1\n",
    "a\n",
    "# abs 절대값, divmod 몫과나머지, pow 제곱, round(x,y) x를 y번째에서 반올림"
   ]
  },
  {
   "cell_type": "code",
   "execution_count": 38,
   "metadata": {},
   "outputs": [],
   "source": [
    "# == 는 값만을 비교, is 는 값에 할당된 래퍼런스를 비교\n",
    "# 연산자 우선순위 p.147"
   ]
  },
  {
   "cell_type": "code",
   "execution_count": 1,
   "metadata": {},
   "outputs": [],
   "source": [
    "# p.142 문자열 연산 함수 표\n",
    "# S.split(\" \")\n",
    "# S.split(\" \", 2) -> 왼쪽부터 두개까지\n",
    "# S.rsplit(\" \", 2)\n",
    "# S.strip(\" \") -> S 양쪽 \" \" 안에 있는 문자를 제거"
   ]
  },
  {
   "cell_type": "markdown",
   "metadata": {},
   "source": [
    "- Module2\n",
    "\n",
    "    -Part 01. 파이썬 개요 및 기초\n",
    "    \n",
    "        03. 제어문장 (조건문, 반복문)"
   ]
  },
  {
   "cell_type": "code",
   "execution_count": 3,
   "metadata": {},
   "outputs": [
    {
     "name": "stdout",
     "output_type": "stream",
     "text": [
      "감사합니다.\n"
     ]
    }
   ],
   "source": [
    "a = 75\n",
    "if (a >= 80):\n",
    "    print (\"합격\")\n",
    "print (\"감사합니다.\")"
   ]
  },
  {
   "cell_type": "code",
   "execution_count": 4,
   "metadata": {},
   "outputs": [
    {
     "name": "stdout",
     "output_type": "stream",
     "text": [
      "합격\n",
      "축하합니다.\n",
      "감사합니다.\n"
     ]
    }
   ],
   "source": [
    "a = 85\n",
    "if (a >= 80):\n",
    "    print (\"합격\")\n",
    "    print (\"축하합니다.\")\n",
    "print (\"감사합니다.\")"
   ]
  },
  {
   "cell_type": "code",
   "execution_count": 9,
   "metadata": {},
   "outputs": [
    {
     "name": "stdout",
     "output_type": "stream",
     "text": [
      "점수 : 78\n",
      "재시험\n",
      "감사합니다.\n"
     ]
    }
   ],
   "source": [
    "a = 78\n",
    "if (a >= 80):\n",
    "    print(\"점수 : {point}\".format(point = a))\n",
    "    # print(\"점수 : {0}\".format(a)) -> 이렇게 간단하게도 표현 가능 {0}, {1} 일시 format(a, b)\n",
    "    print(\"합격\")\n",
    "elif (a >= 60):\n",
    "    print(\"점수 : {point}\".format(point = a))\n",
    "    print(\"재시험\")\n",
    "else:\n",
    "    print(\"점수 : {point}\".format(point = a))\n",
    "    print(\"불합격\")\n",
    "print(\"감사합니다.\")"
   ]
  },
  {
   "cell_type": "code",
   "execution_count": 10,
   "metadata": {},
   "outputs": [
    {
     "name": "stdout",
     "output_type": "stream",
     "text": [
      "점수 : 65\n",
      "재시험\n"
     ]
    }
   ],
   "source": [
    "a = 65\n",
    "res = \"합격\" if(a>=80) else \"재시험\" if(a>=60) else \"불합격\"\n",
    "print (\"점수 : {point}\\n{result}\".format(point = a, result = res))"
   ]
  },
  {
   "cell_type": "code",
   "execution_count": 13,
   "metadata": {},
   "outputs": [
    {
     "name": "stdout",
     "output_type": "stream",
     "text": [
      "1번 학생 성적처리...\n",
      "3번 학생 성적처리...\n",
      "5번 학생 성적처리...\n",
      "7번 학생 성적처리...\n",
      "9번 학생 성적처리...\n",
      "종료합니다.\n"
     ]
    }
   ],
   "source": [
    "# 제어문\n",
    "# for 변수 in [a1, a2, ..., ak]:\n",
    "# for 변수 in range[a, b, k]:\n",
    "for i in range(1,10,2):\n",
    "# for i in range(4): -> 이렇게만 할 경우 순환은 0, 1, 2, 3 까지\n",
    "    print(\"{0}번 학생 성적처리...\".format(i))\n",
    "print (\"종료합니다.\")"
   ]
  },
  {
   "cell_type": "code",
   "execution_count": 19,
   "metadata": {},
   "outputs": [
    {
     "name": "stdout",
     "output_type": "stream",
     "text": [
      "1부터 10까지의 합은 55입니다.\n"
     ]
    }
   ],
   "source": [
    "cums = 0\n",
    "for i in range(11):\n",
    "# for i in [1, 2, 3, 4, 5, 6, 7, 8, 9, 10]: 과 같은 뜻\n",
    "    cums+=i\n",
    "    # print 를 이 부분에 넣을 경우 순환과정을 모두 출력함\n",
    "print (\"1부터 10까지의 합은 {0}입니다.\".format(cums))"
   ]
  },
  {
   "cell_type": "code",
   "execution_count": 26,
   "metadata": {},
   "outputs": [
    {
     "name": "stdout",
     "output_type": "stream",
     "text": [
      "---------+---------+---------+---------+---------+"
     ]
    }
   ],
   "source": [
    "for i in range(1, 51): # 10열 위치마다 \"+\" 문자 출력\n",
    "    if (i%10 == 0):\n",
    "        print(\"+\", end = \"\")\n",
    "        # , end = \"\" 이걸 안넣을경우 if문에 만족할때마다 + 출력 후 다음줄부터 다시 출력\n",
    "    else:\n",
    "        print(\"-\", end = \"\")"
   ]
  },
  {
   "cell_type": "code",
   "execution_count": 36,
   "metadata": {},
   "outputs": [
    {
     "name": "stdout",
     "output_type": "stream",
     "text": [
      "1x2=2\t1x4=4\t1x6=6\t1x8=8\n",
      "2x2=4\t2x4=8\t2x6=12\t2x8=16\n",
      "3x2=6\t3x4=12\t3x6=18\t3x8=24\n",
      "4x2=8\t4x4=16\t4x6=24\t4x8=32\n",
      "5x2=10\t5x4=20\t5x6=30\t5x8=40\n",
      "6x2=12\t6x4=24\t6x6=36\t6x8=48\n",
      "7x2=14\t7x4=28\t7x6=42\t7x8=56\n",
      "8x2=16\t8x4=32\t8x6=48\t8x8=64\n",
      "9x2=18\t9x4=36\t9x6=54\t9x8=72\n"
     ]
    }
   ],
   "source": [
    "for i in range(1, 10):\n",
    "    for j in range(2, 10, 2):\n",
    "        if (j != 8):\n",
    "            print (\"{0}x{1}={2}\".format(i, j, i*j), end = \"\\t\")\n",
    "        else:\n",
    "            print (\"{0}x{1}={2}\".format(i, j, i*j))\n",
    "            # else 인 j = 8 일 때 print에 end 포인트가 없으므로 다음줄로 줄바꿔 출력 시작"
   ]
  },
  {
   "cell_type": "code",
   "execution_count": 39,
   "metadata": {},
   "outputs": [
    {
     "name": "stdout",
     "output_type": "stream",
     "text": [
      "4!=11\n"
     ]
    }
   ],
   "source": [
    "n = 4\n",
    "cmult = 1\n",
    "for i in range(1, (n+1)):\n",
    "    cmult+=i\n",
    "print(\"{0}!={1}\".format(n, cmult))"
   ]
  },
  {
   "cell_type": "code",
   "execution_count": null,
   "metadata": {},
   "outputs": [],
   "source": [
    "# for 변수 in range[a, b, k]:\n",
    "#    실행문장\n",
    "\n",
    "# 변수 = a\n",
    "# while (변수 < b):\n",
    "#    실행문장\n",
    "#    변수 += k\n",
    "\n",
    "# 같은 맥략"
   ]
  },
  {
   "cell_type": "code",
   "execution_count": 41,
   "metadata": {},
   "outputs": [
    {
     "name": "stdout",
     "output_type": "stream",
     "text": [
      "1~50까지 합계 1275\n",
      "1~50까지 합계 1275\n"
     ]
    }
   ],
   "source": [
    "fcsum = 0\n",
    "for i in range(1, 51):\n",
    "    fcsum+=i\n",
    "print(\"1~50까지 합계 {0}\".format(fcsum))\n",
    "\n",
    "wcsum = 0\n",
    "i = 1\n",
    "while(i < 51):\n",
    "    wcsum += i\n",
    "    i += 1\n",
    "print(\"1~50까지 합계 {0}\".format(wcsum))"
   ]
  },
  {
   "cell_type": "code",
   "execution_count": 37,
   "metadata": {},
   "outputs": [
    {
     "name": "stdout",
     "output_type": "stream",
     "text": [
      "1x2=2\t1x4=4\t1x6=6\t1x8=8\n",
      "2x2=4\t2x4=8\t2x6=12\t2x8=16\n",
      "3x2=6\t3x4=12\t3x6=18\t3x8=24\n",
      "4x2=8\t4x4=16\t4x6=24\t4x8=32\n",
      "5x2=10\t5x4=20\t5x6=30\t5x8=40\n",
      "6x2=12\t6x4=24\t6x6=36\t6x8=48\n",
      "7x2=14\t7x4=28\t7x6=42\t7x8=56\n",
      "8x2=16\t8x4=32\t8x6=48\t8x8=64\n",
      "9x2=18\t9x4=36\t9x6=54\t9x8=72\n"
     ]
    }
   ],
   "source": [
    "i = 1\n",
    "while(i < 10):\n",
    "    j = 2\n",
    "    while(j <= 8):\n",
    "        if (j != 8):\n",
    "            print (\"{0}x{1}={2}\".format(i, j, i*j), end = \"\\t\")\n",
    "        else:\n",
    "            print (\"{0}x{1}={2}\".format(i, j, i*j))\n",
    "        j+=2\n",
    "    i+=1"
   ]
  },
  {
   "cell_type": "code",
   "execution_count": 42,
   "metadata": {},
   "outputs": [
    {
     "name": "stdout",
     "output_type": "stream",
     "text": [
      "더하고자 하는 첫 번째 값을 입력하세요. (정수) : 2\n",
      "더하고자 하는 두 번째 값을 입력하세요. (정수) : 5\n",
      "2+5=7\n",
      "더하고자 하는 첫 번째 값을 입력하세요. (정수) : 0\n",
      "더하고자 하는 두 번째 값을 입력하세요. (정수) : 0\n",
      "0+0=0\n",
      "더하고자 하는 첫 번째 값을 입력하세요. (정수) : 3\n",
      "더하고자 하는 두 번째 값을 입력하세요. (정수) : 7\n",
      "3+7=10\n",
      "계산을 종료합니다.\n",
      "더하고자 하는 첫 번째 값을 입력하세요. (정수) : 2\n",
      "더하고자 하는 두 번째 값을 입력하세요. (정수) : 5\n",
      "2+5=7\n",
      "더하고자 하는 첫 번째 값을 입력하세요. (정수) : 0\n",
      "더하고자 하는 두 번째 값을 입력하세요. (정수) : 0\n",
      "계산을 종료합니다.\n",
      "더하고자 하는 첫 번째 값을 입력하세요. (정수) : 2\n",
      "더하고자 하는 두 번째 값을 입력하세요. (정수) : 5\n",
      "2+5=7\n",
      "더하고자 하는 첫 번째 값을 입력하세요. (정수) : 0\n",
      "더하고자 하는 두 번째 값을 입력하세요. (정수) : 0\n",
      "더하고자 하는 첫 번째 값을 입력하세요. (정수) : 3\n",
      "더하고자 하는 두 번째 값을 입력하세요. (정수) : 7\n",
      "3+7=10\n",
      "계산을 종료합니다.\n"
     ]
    }
   ],
   "source": [
    "# 변수 설명문에 i가 없을 경우 i번만큼만 설명문을 돌린다는 뜻\n",
    "for i in range(3):\n",
    "    a = int(input(\"더하고자 하는 첫 번째 값을 입력하세요. (정수) : \"))\n",
    "    b = int(input(\"더하고자 하는 두 번째 값을 입력하세요. (정수) : \"))\n",
    "    print(\"{0}+{1}={2}\".format(a, b, a+b))\n",
    "print(\"계산을 종료합니다.\")\n",
    "\n",
    "# 공통점 : break가 걸린 조건에 만족할 경우 결과값 출력 x\n",
    "# 다른점 : break가 걸린 조건에 만족할 경우 for문 중단\n",
    "for i in range(3):\n",
    "    c = int(input(\"더하고자 하는 첫 번째 값을 입력하세요. (정수) : \"))\n",
    "    d = int(input(\"더하고자 하는 두 번째 값을 입력하세요. (정수) : \"))\n",
    "    if (c==0 and d==0):\n",
    "        break\n",
    "    print(\"{0}+{1}={2}\".format(c, d, c+d))\n",
    "print(\"계산을 종료합니다.\")\n",
    "\n",
    "# 공통점 : continue가 걸린 조건에 만족할 경우 결과값 출력 x\n",
    "# 다른점 : continue가 걸린 조건에 만족할 경우 해당 조건만 결과출력을 안할뿐 for문은 진행 (continue문 아래쪽만 수행 안됨)\n",
    "for i in range(3):\n",
    "    e = int(input(\"더하고자 하는 첫 번째 값을 입력하세요. (정수) : \"))\n",
    "    f = int(input(\"더하고자 하는 두 번째 값을 입력하세요. (정수) : \"))\n",
    "    if (e==0 and f==0):\n",
    "        continue\n",
    "    print(\"{0}+{1}={2}\".format(e, f, e+f))\n",
    "print(\"계산을 종료합니다.\")"
   ]
  },
  {
   "cell_type": "code",
   "execution_count": 46,
   "metadata": {},
   "outputs": [
    {
     "data": {
      "text/plain": [
       "3"
      ]
     },
     "execution_count": 46,
     "metadata": {},
     "output_type": "execute_result"
    }
   ],
   "source": [
    "ls = [[3,8,4,6,9,10,8],[3,6,8,3,6,7],[4,3,6,8,0,2,3,2]]\n",
    "len(ls)"
   ]
  },
  {
   "cell_type": "code",
   "execution_count": 48,
   "metadata": {},
   "outputs": [
    {
     "data": {
      "text/plain": [
       "[6.857142857142857, 5.5, 3.5]"
      ]
     },
     "execution_count": 48,
     "metadata": {},
     "output_type": "execute_result"
    }
   ],
   "source": [
    "avg = []\n",
    "for i in range(len(ls)):\n",
    "    avg.append(sum(ls[i])/len(ls[i]))\n",
    "avg"
   ]
  },
  {
   "cell_type": "code",
   "execution_count": 52,
   "metadata": {
    "scrolled": true
   },
   "outputs": [
    {
     "name": "stdout",
     "output_type": "stream",
     "text": [
      "B : {1, 2, 3, 4, 7, 8}\tC : {8, 1, 3}\t BUC : None\n"
     ]
    }
   ],
   "source": [
    "a = {2,3,7,6,4,8,1}\n",
    "b = {7,2,4}\n",
    "c = {8,1,3}\n",
    "NewB = b.update(c)\n",
    "print(\"B : {0}\\tC : {1}\\t BUC : {2}\".format(b,c,NewB))"
   ]
  },
  {
   "cell_type": "markdown",
   "metadata": {},
   "source": [
    "# 중요!!!!!!!!!!!!!!!!!!!!!!\n",
    "- Module2\n",
    "\n",
    "    -Part 01. 파이썬 개요 및 기초\n",
    "    \n",
    "        06. 함수(Function) (def)"
   ]
  },
  {
   "cell_type": "code",
   "execution_count": 3,
   "metadata": {},
   "outputs": [
    {
     "name": "stdout",
     "output_type": "stream",
     "text": [
      "**********\n",
      "**********\n",
      "\n",
      "#######\n",
      "#######\n",
      "#######\n",
      "\n",
      "@@@@@@@\n",
      "@@@@@@@\n",
      "\n"
     ]
    }
   ],
   "source": [
    "def print_char(ch = \"*\", a = 2, b = 10):\n",
    "    for i in range(a):\n",
    "        print(ch*b)\n",
    "    print()\n",
    "\n",
    "print_char()\n",
    "print_char(\"#\", 3, 7)\n",
    "print_char(b=7, ch = \"@\")"
   ]
  },
  {
   "cell_type": "code",
   "execution_count": 12,
   "metadata": {},
   "outputs": [
    {
     "name": "stdout",
     "output_type": "stream",
     "text": [
      "12\n",
      "10\n",
      "1.4285714285714286\n",
      "0\n",
      "연산자 기호는 +, -, *, /\n",
      "None\n"
     ]
    }
   ],
   "source": [
    "def calc(a = 2, b = 10, op = \"+\"):\n",
    "    if (op == \"+\"):\n",
    "        c = a + b\n",
    "    elif (op == \"-\"):\n",
    "        c = a - b\n",
    "    elif (op == \"*\"):\n",
    "        c = a * b\n",
    "    elif (op == \"/\"):\n",
    "        c = a / b if (b != 0) else 0\n",
    "        # if(b!=0)은 elif의 하위 조건문을 추가한 것. 따라서, a/b를 반환. else일 경우에는 0을 반환\n",
    "    else:\n",
    "        print(\"연산자 기호는 +, -, *, /\")\n",
    "        return\n",
    "    return c  # 연산자 기호 4가지를 쓰지 않을 경우 print문 출력 후 c값 계산이 안됨으로 None이 다음 줄에 출력\n",
    "              # 그 말은 곧 print 문 맨 뒤에 end = \"\" 지정시 None이 다음 줄에 출력되지 않고 붙어서 출력 됨.\n",
    "print(calc())\n",
    "print(calc(3, 7, \"+\"))\n",
    "print(calc(10, 7, \"/\"))\n",
    "print(calc(15, 0, \"/\"))\n",
    "print(calc(15, 0, \"#\"))"
   ]
  },
  {
   "cell_type": "code",
   "execution_count": 15,
   "metadata": {},
   "outputs": [
    {
     "name": "stdout",
     "output_type": "stream",
     "text": [
      "입력자료 : (3, 6, 4, 6, 7)\n",
      "자료의 합계 : 26\n",
      "\n",
      "입력자료 : (25.3, 12.5, 41.3, 63.5, 22.9, 45.8, 77.6)\n",
      "자료의 합계 : 288.9\n",
      "\n",
      "입력자료 : {'name': '이진호', 'age': 25, 'area': '경기'}\n",
      "\n",
      "입력자료 : {'dept': '통계학과', 'att': 10, 'mid': 95, 'final': 87}\n",
      "\n"
     ]
    }
   ],
   "source": [
    "def func(*args): # 임의의 인수 / *args는 튜플로 묶어서 처리\n",
    "    v = args\n",
    "    print(\"입력자료 : {0}\\n자료의 합계 : {1}\\n\".format(v, sum(v)))\n",
    "\n",
    "func(3, 6, 4, 6, 7)\n",
    "func(25.3, 12.5, 41.3, 63.5, 22.9, 45.8, 77.6)\n",
    "\n",
    "def func(**kwargs): # 임의의 인수를 키워드 형식으로 삽입 / **kwargs는 사전으로 묶어서 처리\n",
    "    v = kwargs\n",
    "    print(\"입력자료 : {0}\\n\".format(v))\n",
    "\n",
    "func(name = \"이진호\", age = 25, area = \"경기\")\n",
    "func(dept = \"통계학과\", att = 10, mid = 95, final = 87)"
   ]
  },
  {
   "cell_type": "code",
   "execution_count": 2,
   "metadata": {},
   "outputs": [
    {
     "name": "stdout",
     "output_type": "stream",
     "text": [
      "(12, -8, 20, 0.2, 12)\n",
      "12 -8 20 0.2 12\n",
      "12 [-8, 20, 0.2, 12]\n",
      "12 [-8, 20, 0.2] 12\n"
     ]
    }
   ],
   "source": [
    "def calc(x = 2, y = 10):\n",
    "    add = x + y\n",
    "    dif = x - y\n",
    "    mul = x * y\n",
    "    div = x / y\n",
    "    rem = x + y\n",
    "    return add, dif, mul, div, rem\n",
    "    # 콤마로 구분되어 있기 때문에 결과값을 튜플로 출력\n",
    "\n",
    "z = calc() # 여러개의 반환값을 튜플로 저장\n",
    "print(z)\n",
    "v, w, x, y, z = calc() # 여러개의 반환 값을 각각 저장\n",
    "print(v, w, x, y, z)\n",
    "v, *w = calc() # *를 붙이면 나머지 모든 변수(리스트)\n",
    "print(v, w)\n",
    "v, *w, z = calc() # 양 끝의 데이터 하나씩을 제외한 나머지 모든 변수가 *w (리스트)\n",
    "print(v, w, z)"
   ]
  },
  {
   "cell_type": "code",
   "execution_count": 9,
   "metadata": {},
   "outputs": [
    {
     "name": "stdout",
     "output_type": "stream",
     "text": [
      "지역변수 a : 10\n",
      "전역변수 a : 15\n",
      "\n",
      "지역변수 a : 10\n",
      "전역변수 a : 10\n",
      "\n"
     ]
    }
   ],
   "source": [
    "a = 15\n",
    "def func1():\n",
    "    a = 10\n",
    "    print(\"지역변수 a : {0}\".format(a))\n",
    "def func2():\n",
    "    global a\n",
    "    a = 10\n",
    "    print(\"지역변수 a : {0}\".format(a))\n",
    "func1()\n",
    "print(\"전역변수 a : {0}\\n\".format(a))\n",
    "func2()\n",
    "print(\"전역변수 a : {0}\\n\".format(a))"
   ]
  },
  {
   "cell_type": "code",
   "execution_count": 14,
   "metadata": {},
   "outputs": [
    {
     "name": "stdout",
     "output_type": "stream",
     "text": [
      "5\n",
      "16\n"
     ]
    }
   ],
   "source": [
    "############ 람다합수 ################\n",
    "\n",
    "# lambda <인수들> : <반환할 식>\n",
    "print ((lambda x, y : x + y)(2, 3))\n",
    "# 함수이름 = lambda <인수들> : <반환할 식>\n",
    "f = lambda x, y : x + y\n",
    "print(f(7, 9))"
   ]
  },
  {
   "cell_type": "code",
   "execution_count": 21,
   "metadata": {
    "scrolled": true
   },
   "outputs": [
    {
     "name": "stdout",
     "output_type": "stream",
     "text": [
      "리스트 : [(0, 90), (1, 30), (2, 85), (3, 77), (4, 65)]\n",
      "튜플 : ((0, 90), (1, 30), (2, 85), (3, 77), (4, 65))\n",
      "사전 : {0: 90, 1: 30, 2: 85, 3: 77, 4: 65}\n",
      "\n",
      "{100: '서울', 101: '경기', 102: '인천'}\n",
      "{100: '서울', 101: '경기', 102: '인천'}\n",
      "\n",
      "<map object at 0x0000020A46680B00>\n",
      "[2, 6, 7, 4, 6, 9]\n",
      "[6, 8, 4]\n"
     ]
    }
   ],
   "source": [
    "score = [90, 30, 85, 77, 65]\n",
    "ls = list(enumerate(score)) # 숫자와 쌍이 되는 리스트 (score, n) 으로 인자 입력 시 번호가 n부터 시작\n",
    "tp = tuple(enumerate(score)) # 숫자와 쌍이 되는 튜플\n",
    "dic = dict(enumerate(score)) # 카룰 0부터 시작\n",
    "print(\"리스트 : {0}\\n튜플 : {1}\\n사전 : {2}\\n\".format(ls, tp, dic))\n",
    "\n",
    "area = [\"서울\", \"경기\", \"인천\"]\n",
    "dic = dict(enumerate(area, 100)) # 키를 100부터 시작\n",
    "print(dic)\n",
    "print(\"{0}\\n\".format(dic))\n",
    "\n",
    "point = [-2, 6, 7, -4, 6, 9]\n",
    "result = map(abs, point) # point의 각 원소의 절대값 반환 (리스트가 아닌 순수 값들만 순서대로 반환)\n",
    "print(result) # 이렇게만 출력하면 좌표만 나옴\n",
    "print(list(result))\n",
    "\n",
    "score = [9, 3, 7, 5, 6, 8, 4]\n",
    "result = filter(lambda x:x%2 == 0, score) # score에서 짝수인 원소 반환\n",
    "# map(lambda x:x%2) 도 가능한데 filter는 조건을 걸어 True인 값만 반환\n",
    "print(list(result))"
   ]
  },
  {
   "cell_type": "markdown",
   "metadata": {},
   "source": [
    "# 중요!!!!!!!!!!!!!!!!!!!!!!!!!!!!!!!!!!!!!!!!!!!!!\n",
    "- Module2\n",
    "\n",
    "    -Part 01. 파이썬 개요 및 기초\n",
    "    \n",
    "        06. 모듈"
   ]
  },
  {
   "cell_type": "code",
   "execution_count": null,
   "metadata": {},
   "outputs": [],
   "source": [
    "############################### 모듈 #################################\n",
    "# 내가 def 으로 만든 함수를 저장하기 위해서는 메뉴바 -> File -> Download as -> Python(.py)로 저장하기\n",
    "# 내가 def 으로 만든 함수는 anaconda 폴더에 test_module에 저장됨\n",
    "# 따라서 import test_module as tm 으로 불러온 후\n",
    "# tm.함수이름() 을 통해 언제든지 재사용 가능"
   ]
  },
  {
   "cell_type": "code",
   "execution_count": 25,
   "metadata": {},
   "outputs": [
    {
     "name": "stdout",
     "output_type": "stream",
     "text": [
      "('_ast', '_bisect', '_blake2', '_codecs', '_codecs_cn', '_codecs_hk', '_codecs_iso2022', '_codecs_jp', '_codecs_kr', '_codecs_tw', '_collections', '_csv', '_datetime', '_functools', '_heapq', '_imp', '_io', '_json', '_locale', '_lsprof', '_md5', '_multibytecodec', '_opcode', '_operator', '_pickle', '_random', '_sha1', '_sha256', '_sha3', '_sha512', '_signal', '_sre', '_stat', '_string', '_struct', '_symtable', '_thread', '_tracemalloc', '_warnings', '_weakref', '_winapi', 'array', 'atexit', 'audioop', 'binascii', 'builtins', 'cmath', 'errno', 'faulthandler', 'gc', 'itertools', 'marshal', 'math', 'mmap', 'msvcrt', 'nt', 'parser', 'sys', 'time', 'winreg', 'xxsubtype', 'zipimport', 'zlib')\n"
     ]
    }
   ],
   "source": [
    "import sys\n",
    "print(sys.builtin_module_names)"
   ]
  },
  {
   "cell_type": "code",
   "execution_count": 26,
   "metadata": {},
   "outputs": [
    {
     "name": "stdout",
     "output_type": "stream",
     "text": [
      "C:\\ProgramData\\Anaconda3\\envs\\mypython\\python36.zip\n",
      "C:\\ProgramData\\Anaconda3\\envs\\mypython\\DLLs\n",
      "C:\\ProgramData\\Anaconda3\\envs\\mypython\\lib\n",
      "C:\\ProgramData\\Anaconda3\\envs\\mypython\n",
      "\n",
      "C:\\ProgramData\\Anaconda3\\envs\\mypython\\lib\\site-packages\n",
      "C:\\ProgramData\\Anaconda3\\envs\\mypython\\lib\\site-packages\\IPython\\extensions\n",
      "C:\\Users\\Affinity\\.ipython\n"
     ]
    }
   ],
   "source": [
    "for path in sys.path:\n",
    "    print(path)"
   ]
  },
  {
   "cell_type": "code",
   "execution_count": 28,
   "metadata": {},
   "outputs": [
    {
     "name": "stdout",
     "output_type": "stream",
     "text": [
      "[25, 42, 82, 76, 94, 'p', 'y', 't', 'h', 'o', 'n', '서울', '경기', '인천', '세종']\n",
      "25\t42\t82\t76\t94\t서울\t경기\t인천\t세종\t\n"
     ]
    }
   ],
   "source": [
    "import itertools\n",
    "# dir(itertools)를 통해서 메소드 목록 보기\n",
    "\n",
    "ls = [25, 42, 82, 76, 94]\n",
    "str = \"python\"\n",
    "dic = {\"서울\":\"02\", \"경기\":\"031\", \"인천\":\"032\", \"세종\":\"044\"}\n",
    "\n",
    "# 리스트 연결\n",
    "print(list(itertools.chain(ls, str, dic)))\n",
    "\n",
    "# 리스트가 아닌 결과값으로만 출력하고 싶을 때\n",
    "for x in itertools.chain(ls, dic):\n",
    "    print(x, end = \"\\t\")\n",
    "print()"
   ]
  },
  {
   "cell_type": "code",
   "execution_count": 31,
   "metadata": {},
   "outputs": [
    {
     "name": "stdout",
     "output_type": "stream",
     "text": [
      "50\t55\t60\t65\t70\t75\t80\t85\t90\t95\t100\t\n",
      "\n",
      "[(1, 'A'), (2, 'B'), (3, 'C')]\n"
     ]
    }
   ],
   "source": [
    "for x in itertools.count(50, 5):\n",
    "# 50부터 5씩 증가한다는 뜻, 디폴트는 0부터 1씩 증가\n",
    "    if x > 100:\n",
    "        break\n",
    "    print(x, end = \"\\t\")\n",
    "print (\"\\n\")\n",
    "\n",
    "print(list(zip(itertools.count(1), [\"A\", \"B\", \"C\"])))"
   ]
  },
  {
   "cell_type": "markdown",
   "metadata": {},
   "source": [
    "### 중복 및 키워드 관련 모듈"
   ]
  },
  {
   "cell_type": "code",
   "execution_count": 51,
   "metadata": {},
   "outputs": [
    {
     "name": "stdout",
     "output_type": "stream",
     "text": [
      "v : 1\tk : [1, 1]\n",
      "v : 2\tk : [2, 2, 2, 2]\n",
      "v : 3\tk : [3, 3, 3]\n",
      "v : 4\tk : [4, 4, 4, 4, 4]\n",
      "\n",
      "범주 : 남자\t빈도 : 4\n",
      "범주 : 여자\t빈도 : 3\n"
     ]
    }
   ],
   "source": [
    "ls = [1,1,2,2,2,2,3,3,3,4,4,4,4,4]\n",
    "x = itertools.groupby(ls)\n",
    "# 인자로 ls 뒤에 함수가 없으므로 그냥 같은 것끼리 묶음\n",
    "# 함수의 결과를 키로 하여 그룹화\n",
    "for v, k in x:\n",
    "    # list(k)를 확인하고 싶거나 print()에 list(k)를 활용하고 싶다면 a = list(k)로 할당 저장 후 a로 이용하기\n",
    "    print(\"v : {0}\\tk : {1}\".format(v, list(k)))\n",
    "print()\n",
    "\n",
    "ls = [\"남자\", \"여자\", \"남자\", \"남자\", \"남자\", \"여자\", \"여자\"]\n",
    "x = itertools.groupby(sorted(ls))\n",
    "# sorted 안할 시 순서대로 뽑아내기 떄문에 sorted를 해야 원하는 빈도 추출 가능\n",
    "for v, k in x :\n",
    "    print(\"범주 : {0}\\t빈도 : {1}\".format(v,len(list(k))))"
   ]
  },
  {
   "cell_type": "markdown",
   "metadata": {},
   "source": [
    "### 자연어 사전 형태 정리 및 가공 (중요!!!!!!!!)"
   ]
  },
  {
   "cell_type": "code",
   "execution_count": 68,
   "metadata": {},
   "outputs": [
    {
     "name": "stdout",
     "output_type": "stream",
     "text": [
      "공 ['공기', '공집합']\n",
      "배 ['배움']\n",
      "백 ['백상예술대상']\n",
      "소 ['소나기', '소년']\n",
      "책 ['책걸상', '책상', '책장']\n"
     ]
    }
   ],
   "source": [
    "ls = [\"공기\", \"책상\", \"소년\", \"책장\", \"배움\", \"백상예술대상\", \"공집합\", \"소나기\", \"책걸상\"]\n",
    "d = {} # 빈 사전 생성\n",
    "# 사전의 인덱싱 : 사전이름[키값]\n",
    "for word in sorted(ls) :\n",
    "    if word[0] in d: # 단어 첫 글자가 d에 key로 있다면\n",
    "        d[word[0]].append(word) # d의 word[0] 키에 word를 값으로 추가\n",
    "    else: # 단어 첫 글자가 d에 key로 없다면\n",
    "        d[word[0]] = [] # 우선 값 없이 키만 저장한 후\n",
    "        d[word[0]].append(word) # 그 키에 데이터 값을 추가\n",
    "\n",
    "for k in d.keys() : # k는 d라는 사전의 키 이름만을 뽑기 위한 for문\n",
    "    d[k].sort()\n",
    "\n",
    "for k, v in d.items() : # 사전이름.items()는 key와 값을 튜플 형태로 반환하는 함수\n",
    "    print(k, v)"
   ]
  },
  {
   "cell_type": "code",
   "execution_count": 70,
   "metadata": {},
   "outputs": [
    {
     "name": "stdout",
     "output_type": "stream",
     "text": [
      "공 ['공기', '공집합']\n",
      "배 ['배움']\n",
      "백 ['백상예술대상']\n",
      "소 ['소나기', '소년']\n",
      "책 ['책걸상', '책상', '책장']\n"
     ]
    }
   ],
   "source": [
    "for k, group in itertools.groupby(sorted(ls), lambda w : w[0]): # groupby(x, f) : f 결과를 키로 사용하여 사전의 형태로 값을 반환\n",
    "    print(k, list(group))"
   ]
  },
  {
   "cell_type": "code",
   "execution_count": 72,
   "metadata": {},
   "outputs": [
    {
     "name": "stdout",
     "output_type": "stream",
     "text": [
      "이름을 입력해 주세요 : 이병진\n",
      "점수를 입력해 주세요 : 85\n",
      "이병진님의 점수는 85입니다.\n"
     ]
    }
   ],
   "source": [
    "#### input을 활용한 출력 ( 숫자 입력시에는  int(input())을 적용해야함)\n",
    "name = input(\"이름을 입력해 주세요 : \")\n",
    "point = int(input(\"점수를 입력해 주세요 : \"))\n",
    "print(\"{0}님의 점수는 {1}입니다.\".format(name, point))"
   ]
  },
  {
   "cell_type": "code",
   "execution_count": 79,
   "metadata": {
    "scrolled": true
   },
   "outputs": [
    {
     "name": "stdout",
     "output_type": "stream",
     "text": [
      "                                  2019\n",
      "\n",
      "      January                   February                   March\n",
      "Mo Tu We Th Fr Sa Su      Mo Tu We Th Fr Sa Su      Mo Tu We Th Fr Sa Su\n",
      "    1  2  3  4  5  6                   1  2  3                   1  2  3\n",
      " 7  8  9 10 11 12 13       4  5  6  7  8  9 10       4  5  6  7  8  9 10\n",
      "14 15 16 17 18 19 20      11 12 13 14 15 16 17      11 12 13 14 15 16 17\n",
      "21 22 23 24 25 26 27      18 19 20 21 22 23 24      18 19 20 21 22 23 24\n",
      "28 29 30 31               25 26 27 28               25 26 27 28 29 30 31\n",
      "\n",
      "       April                      May                       June\n",
      "Mo Tu We Th Fr Sa Su      Mo Tu We Th Fr Sa Su      Mo Tu We Th Fr Sa Su\n",
      " 1  2  3  4  5  6  7             1  2  3  4  5                      1  2\n",
      " 8  9 10 11 12 13 14       6  7  8  9 10 11 12       3  4  5  6  7  8  9\n",
      "15 16 17 18 19 20 21      13 14 15 16 17 18 19      10 11 12 13 14 15 16\n",
      "22 23 24 25 26 27 28      20 21 22 23 24 25 26      17 18 19 20 21 22 23\n",
      "29 30                     27 28 29 30 31            24 25 26 27 28 29 30\n",
      "\n",
      "        July                     August                  September\n",
      "Mo Tu We Th Fr Sa Su      Mo Tu We Th Fr Sa Su      Mo Tu We Th Fr Sa Su\n",
      " 1  2  3  4  5  6  7                1  2  3  4                         1\n",
      " 8  9 10 11 12 13 14       5  6  7  8  9 10 11       2  3  4  5  6  7  8\n",
      "15 16 17 18 19 20 21      12 13 14 15 16 17 18       9 10 11 12 13 14 15\n",
      "22 23 24 25 26 27 28      19 20 21 22 23 24 25      16 17 18 19 20 21 22\n",
      "29 30 31                  26 27 28 29 30 31         23 24 25 26 27 28 29\n",
      "                                                    30\n",
      "\n",
      "      October                   November                  December\n",
      "Mo Tu We Th Fr Sa Su      Mo Tu We Th Fr Sa Su      Mo Tu We Th Fr Sa Su\n",
      "    1  2  3  4  5  6                   1  2  3                         1\n",
      " 7  8  9 10 11 12 13       4  5  6  7  8  9 10       2  3  4  5  6  7  8\n",
      "14 15 16 17 18 19 20      11 12 13 14 15 16 17       9 10 11 12 13 14 15\n",
      "21 22 23 24 25 26 27      18 19 20 21 22 23 24      16 17 18 19 20 21 22\n",
      "28 29 30 31               25 26 27 28 29 30         23 24 25 26 27 28 29\n",
      "                                                    30 31\n",
      "\n"
     ]
    }
   ],
   "source": [
    "import calendar\n",
    "print(calendar.calendar(2019))"
   ]
  },
  {
   "cell_type": "markdown",
   "metadata": {},
   "source": [
    "- Module2\n",
    "\n",
    "    -Part 01. 파이썬 개요 및 기초\n",
    "    \n",
    "        07. 파일 읽기와 쓰기 p.219 ~"
   ]
  },
  {
   "cell_type": "code",
   "execution_count": 80,
   "metadata": {
    "scrolled": true
   },
   "outputs": [
    {
     "name": "stdout",
     "output_type": "stream",
     "text": [
      "height weight\n",
      "174.10 71.85\n",
      "171.17 65.46\n",
      "175.73 72.29\n",
      "178.83 72.49\n",
      "178.60 73.38\n",
      "180.20 75.40\n",
      "168.45 66.62\n",
      "174.30 70.84\n",
      "178.29 72.12\n",
      "171.74 69.66\n",
      "\n",
      "['height', 'weight', '174.10', '71.85', '171.17', '65.46', '175.73', '72.29', '178.83', '72.49', '178.60', '73.38', '180.20', '75.40', '168.45', '66.62', '174.30', '70.84', '178.29', '72.12', '171.74', '69.66']\n"
     ]
    }
   ],
   "source": [
    "# open으로 파일을 읽었다면 항상 작업 완료 후 close를 적용해주자!!!!!!!!!!!!!!!!!!!!!!!!!!!!!!!!!!!!!!!!!!!!\n",
    "fobj = open(\"C:/Users/Affinity/Desktop/study/Python_Data/ch01_data/data_space.txt\")\n",
    "robj = fobj.read() # read(n)으로 지정하면 n개의 문자열만 저장(줄바꿈 문자 포함)\n",
    "print(robj)\n",
    "data = robj.split()\n",
    "print(data)\n",
    "fobj.close()"
   ]
  },
  {
   "cell_type": "code",
   "execution_count": 100,
   "metadata": {
    "scrolled": true
   },
   "outputs": [
    {
     "data": {
      "text/plain": [
       "(['174.10',\n",
       "  '171.17',\n",
       "  '175.73',\n",
       "  '178.83',\n",
       "  '178.60',\n",
       "  '180.20',\n",
       "  '168.45',\n",
       "  '174.30',\n",
       "  '178.29',\n",
       "  '171.74'],\n",
       " ['71.85',\n",
       "  '65.46',\n",
       "  '72.29',\n",
       "  '72.49',\n",
       "  '73.38',\n",
       "  '75.40',\n",
       "  '66.62',\n",
       "  '70.84',\n",
       "  '72.12',\n",
       "  '69.66'])"
      ]
     },
     "execution_count": 100,
     "metadata": {},
     "output_type": "execute_result"
    }
   ],
   "source": [
    "# Height와 Weight 데이터 따로 저장하기\n",
    "fobj = open(\"C:/Users/Affinity/Desktop/study/Python_Data/ch01_data/data_space.txt\")\n",
    "robj = fobj.read()\n",
    "x = robj.split()\n",
    "Height = []\n",
    "Weight = []\n",
    "for i in range(2, len(x), 2) :\n",
    "    Height.append(x[i]) # char이 아닌 float형으로 저장하려면 이 부분에서 float(x[i])로 지정해야함\n",
    "    Weight.append(x[i+1])\n",
    "Height, Weight"
   ]
  },
  {
   "cell_type": "code",
   "execution_count": 84,
   "metadata": {},
   "outputs": [
    {
     "name": "stdout",
     "output_type": "stream",
     "text": [
      "1 : height weight\n",
      "\n",
      "2 : 174.10 71.85\n",
      "3 : 171.17\n",
      "4 :  65.46\n",
      "\n"
     ]
    }
   ],
   "source": [
    "fobj = open(\"C:/Users/Affinity/Desktop/study/Python_Data/ch01_data/data_space.txt\")\n",
    "robj = fobj.readline() # 줄 끝에 있는 \\n 까지 읽어옴\n",
    "print(\"1 : {0}\".format(robj))\n",
    "robj = fobj.readline().strip() # strip으로 양끝 공백을 제거하거나 [:-1]로 \\n을 빼고 읽음\n",
    "print(\"2 : {0}\".format(robj))\n",
    "robj = fobj.readline(6) # 한 줄에서 6글자\n",
    "print(\"3 : {0}\".format(robj))\n",
    "robj = fobj.readline(12) # 앞에서 종료한 위치로부터 12글자 (\"\\n 문자에서 종료\")\n",
    "print(\"4 : {0}\".format(robj))\n",
    "fobj.close()"
   ]
  },
  {
   "cell_type": "code",
   "execution_count": 7,
   "metadata": {},
   "outputs": [
    {
     "name": "stdout",
     "output_type": "stream",
     "text": [
      "height weight\n",
      "174.10 71.85\n",
      "171.17 65.46\n",
      "175.73 72.29\n",
      "178.83 72.49\n",
      "178.60 73.38\n",
      "180.20 75.40\n",
      "168.45 66.62\n",
      "174.30 70.84\n",
      "178.29 72.12\n",
      "171.74 69.66\n"
     ]
    }
   ],
   "source": [
    "fobj = open(\"C:/Users/Affinity/Desktop/study/Python_Data/ch01_data/data_space.txt\")\n",
    "robj = fobj.readline()\n",
    "while robj : # 빈 문자열이 있으면 종료\n",
    "    print(robj, end = \"\") # end 포인트 안잡아주면 \\n이 적용되어 한줄씩 띄어 출력\n",
    "    robj = fobj.readline() # 마지막 줄 까지 읽으면 빈 문자열 읽기\n",
    "fobj.close()"
   ]
  },
  {
   "cell_type": "code",
   "execution_count": 8,
   "metadata": {},
   "outputs": [],
   "source": [
    "fobj = open(\"C:/Users/Affinity/Desktop/study/Python_Data/ch01_data/NewFile.txt\", 'w')\n",
    "# 'w'는 기존의 내용 지우고 덮어쓰기, 'a'는 기존의 내용 보존하고 이어쓰기\n",
    "robj = fobj.write(\"파이썬 파일 쓰기\")\n",
    "fobj.close()"
   ]
  },
  {
   "cell_type": "code",
   "execution_count": 9,
   "metadata": {},
   "outputs": [],
   "source": [
    "rf = open(\"C:/Users/Affinity/Desktop/study/Python_Data/ch01_data/score.txt\")\n",
    "wf = open(\"C:/Users/Affinity/Desktop/study/Python_Data/ch01_data/stat.txt\", 'w')\n",
    "point = []\n",
    "for x in rf :\n",
    "    point.append(float(x))\n",
    "    wf.write(x)\n",
    "wf.write(\"\\n\")\n",
    "wf.write(str(sum(point) / len(point)))\n",
    "wf.close()\n",
    "rf.close()"
   ]
  },
  {
   "cell_type": "markdown",
   "metadata": {},
   "source": [
    "# 중요!!!!!!!!!!!!!!!!!!!!!!!!!!!!!!!!!!!!!!!!!!!!!\n",
    "- Module2\n",
    "\n",
    "    -Part 02. 빅데이터 전처리 및 시각화\n",
    "    \n",
    "        01. NumPy"
   ]
  },
  {
   "cell_type": "code",
   "execution_count": 2,
   "metadata": {},
   "outputs": [
    {
     "data": {
      "text/plain": [
       "(array([[-0.30343877,  1.03341586, -0.36612954],\n",
       "        [-0.12818703,  0.09681566, -0.82240921]]), (2, 3), dtype('float64'))"
      ]
     },
     "execution_count": 2,
     "metadata": {},
     "output_type": "execute_result"
    }
   ],
   "source": [
    "import numpy as np\n",
    "data = np.random.randn(2, 3)\n",
    "data, data.shape, data.dtype"
   ]
  },
  {
   "cell_type": "markdown",
   "metadata": {},
   "source": [
    "##### ndarray 메소드 p.234"
   ]
  },
  {
   "cell_type": "code",
   "execution_count": 12,
   "metadata": {},
   "outputs": [
    {
     "name": "stdout",
     "output_type": "stream",
     "text": [
      "[3 2 5 6 3] (5,) 1 int32\n",
      "[[3 2 5 6 3]\n",
      " [9 3 5 4 1]] (2, 5) 2 int32\n",
      "[3 2 5 6 3] 2284606915328 2284606915328\n",
      "[3 2 5 6 3] 2284606915328 2284606900224\n"
     ]
    }
   ],
   "source": [
    "ls1 = [3, 2, 5, 6, 3]\n",
    "ls2 = [9, 3, 5, 4, 1]\n",
    "\n",
    "vec_x = np.array(ls1) # 벡터\n",
    "mat_a = np.array([ls1, ls2]) # 행렬\n",
    "\n",
    "print(vec_x, vec_x.shape, vec_x.ndim, vec_x.dtype)\n",
    "print(mat_a, mat_a.shape, mat_a.ndim, mat_a.dtype)\n",
    "\n",
    "data3 = np.asarray(vec_x) # 기존의 ndarray는 객체를 공유\n",
    "print(data3, id(vec_x), id(data3)) # 행렬을 행렬로 변환 (ID가 같음)\n",
    "data3 = np.asarray(ls1) # 새로운 ndarray 생성\n",
    "print(data3, id(vec_x), id(data3)) # 벡터를 행렬로 변환 (ID가 다름)"
   ]
  },
  {
   "cell_type": "code",
   "execution_count": 11,
   "metadata": {},
   "outputs": [
    {
     "name": "stdout",
     "output_type": "stream",
     "text": [
      "range : [3 6 9]\n",
      "zeros(n) : [0. 0. 0. 0.]\n",
      "zeros((r,c)) : \n",
      "[[0. 0.]\n",
      " [0. 0.]\n",
      " [0. 0.]]\n",
      "zeros_like(obj) : [0 0 0 0 0]\n",
      "zeros_like(ndarray) : \n",
      "[[0 0 0 0 0]\n",
      " [0 0 0 0 0]]\n",
      "ones((r,c)) : \n",
      "[[1. 1.]\n",
      " [1. 1.]\n",
      " [1. 1.]]\n",
      "eye(n) : \n",
      "[[1. 0. 0.]\n",
      " [0. 1. 0.]\n",
      " [0. 0. 1.]]\n"
     ]
    }
   ],
   "source": [
    "print(\"range : {0}\".format(np.arange(3, 10, 3))) # range와 유사\n",
    "print(\"zeros(n) : {0}\".format(np.zeros(4))) # 지정한 크기의 ndarray(초기값 0)\n",
    "print(\"zeros((r,c)) : \\n{0}\".format(np.zeros((3,2)))) # 괄호 2개 넣으면 2차원 행렬을 생성\n",
    "print(\"zeros_like(obj) : {0}\".format(np.zeros_like(ls1))) # 기존 개체를 0으로 초기화\n",
    "print(\"zeros_like(ndarray) : \\n{0}\".format(np.zeros_like(data2)))\n",
    "print(\"ones((r,c)) : \\n{0}\".format(np.ones((3,2))))\n",
    "print(\"eye(n) : \\n{0}\".format(np.eye(3))) # 단위 행렬"
   ]
  },
  {
   "cell_type": "code",
   "execution_count": 13,
   "metadata": {},
   "outputs": [
    {
     "name": "stdout",
     "output_type": "stream",
     "text": [
      "ls[2:4] = [6] : [2, 6, 6, 5, 6]\n",
      "x[2:4] = 6 : [2 6 6 6 5 6]\n"
     ]
    }
   ],
   "source": [
    "ls = [2, 6, 8, 7, 5, 6]\n",
    "x = np.array([2, 6, 8, 7, 5, 6])\n",
    "\n",
    "ls[2:4] = [6] # 슬라이싱으로 리스트 원소 변경 (변경값은 []로 감싸주어야함)\n",
    "print(\"ls[2:4] = [6] : {0}\".format(ls))\n",
    "# ls[2]와 ls[3]이 [6] 하나의 값으로 변경됨\n",
    "x[2:4] = 6 # 슬라이싱으로 배열 원소 변경\n",
    "print(\"x[2:4] = 6 : {0}\".format(x))\n",
    "# x[2]와 x[3]이 각각 6으로 변경됨"
   ]
  },
  {
   "cell_type": "code",
   "execution_count": 15,
   "metadata": {},
   "outputs": [
    {
     "name": "stdout",
     "output_type": "stream",
     "text": [
      "name\n",
      "['남자' '여자' '남자' '남자' '남자' '여자']\n",
      "score\n",
      "[[10 20 30 40]\n",
      " [ 8 15 24 31]\n",
      " [ 5 11 20 25]\n",
      " [ 6  9 16 17]\n",
      " [10 17 21 27]\n",
      " [ 9 13 27 31]]\n",
      "female\n",
      "[[ 8 15 24 31]\n",
      " [ 9 13 27 31]]\n",
      "male\n",
      "[[10 20 30 40]\n",
      " [ 5 11 20 25]\n",
      " [ 6  9 16 17]\n",
      " [10 17 21 27]]\n"
     ]
    }
   ],
   "source": [
    "# 1차원과 2차원 배열의 bool\n",
    "name = np.array([\"남자\", \"여자\", \"남자\", \"남자\", \"남자\", \"여자\"])\n",
    "score = np.array([[10, 20, 30, 40], [8, 15, 24, 31], [5, 11, 20, 25], \n",
    "                 [6, 9, 16, 17], [10, 17, 21, 27], [9, 13, 27, 31]])\n",
    "name_bool = name==\"여자\"\n",
    "print(\"name\\n{0}\".format(name))\n",
    "print(\"score\\n{0}\".format(score))\n",
    "# [0, 0, ..., 1] 원소마다 부울이 적용됨\n",
    "\n",
    "female = score[name_bool]\n",
    "male = score[~name_bool]\n",
    "# & : and, | : or, ^ : and or, ~ : not\n",
    "print(\"female\\n{0}\".format(female))\n",
    "print(\"male\\n{0}\".format(male))"
   ]
  },
  {
   "cell_type": "code",
   "execution_count": 16,
   "metadata": {},
   "outputs": [
    {
     "name": "stdout",
     "output_type": "stream",
     "text": [
      "name\n",
      "['1학년' '2학년' '3학년' '1학년' '3학년' '2학년']\n",
      "score\n",
      "[[10 20 30 40]\n",
      " [ 8 15 24 31]\n",
      " [ 5 11 20 25]\n",
      " [ 6  9 16 17]\n",
      " [10 17 21 27]\n",
      " [ 9 13 27 31]]\n",
      "score(1학년 또는 2학년)\n",
      "[[10 20 30 40]\n",
      " [ 8 15 24 31]\n",
      " [ 6  9 16 17]\n",
      " [ 9 13 27 31]]\n"
     ]
    }
   ],
   "source": [
    "cls = np.array([\"1학년\", \"2학년\", \"3학년\", \"1학년\", \"3학년\", \"2학년\"])\n",
    "score = np.array([[10, 20, 30, 40], [8, 15, 24, 31], [5, 11, 20, 25], \n",
    "                 [6, 9, 16, 17], [10, 17, 21, 27], [9, 13, 27, 31]])\n",
    "print(\"name\\n{0}\".format(cls))\n",
    "print(\"score\\n{0}\".format(score))\n",
    "print(\"score(1학년 또는 2학년)\\n{0}\".format(score[(cls == \"1학년\") | (cls == \"2학년\")]))\n",
    "# array[(조건)]의 형태로 지정해주어야함\n",
    "# 또는 array[array>=n]의 형태로도 가능"
   ]
  },
  {
   "cell_type": "code",
   "execution_count": 17,
   "metadata": {},
   "outputs": [
    {
     "name": "stdout",
     "output_type": "stream",
     "text": [
      "arr\n",
      "[[[ 0  1  2]\n",
      "  [ 3  4  5]\n",
      "  [ 6  7  8]\n",
      "  [ 9 10 11]]\n",
      "\n",
      " [[12 13 14]\n",
      "  [15 16 17]\n",
      "  [18 19 20]\n",
      "  [21 22 23]]]\n",
      "arr1\n",
      "[[[ 0  3  6  9]\n",
      "  [12 15 18 21]]\n",
      "\n",
      " [[ 1  4  7 10]\n",
      "  [13 16 19 22]]\n",
      "\n",
      " [[ 2  5  8 11]\n",
      "  [14 17 20 23]]]\n"
     ]
    }
   ],
   "source": [
    "arr = np.arange(24).reshape(2, 4, 3)\n",
    "arr1 = arr.transpose(2, 0, 1)\n",
    "# 축 인덱스로 지정 (3x2x4) / 열을 층, 층을 행, 행을 열로 지정\n",
    "print(\"arr\\n{0}\\narr1\\n{1}\".format(arr, arr1))"
   ]
  },
  {
   "cell_type": "code",
   "execution_count": 18,
   "metadata": {},
   "outputs": [
    {
     "name": "stdout",
     "output_type": "stream",
     "text": [
      "arr2\n",
      "[[[ 0 12]\n",
      "  [ 3 15]\n",
      "  [ 6 18]\n",
      "  [ 9 21]]\n",
      "\n",
      " [[ 1 13]\n",
      "  [ 4 16]\n",
      "  [ 7 19]\n",
      "  [10 22]]\n",
      "\n",
      " [[ 2 14]\n",
      "  [ 5 17]\n",
      "  [ 8 20]\n",
      "  [11 23]]]\n"
     ]
    }
   ],
   "source": [
    "arr2 = arr.swapaxes(2, 0)\n",
    "# swapaxes 함수는 인자를 2개만 받는다\n",
    "# 층과 열을 swap한다는 뜻\n",
    "# 인자로 들어가지 않은 행은 고정\n",
    "print(\"arr2\\n{0}\".format(arr2))"
   ]
  },
  {
   "cell_type": "code",
   "execution_count": 19,
   "metadata": {},
   "outputs": [
    {
     "name": "stdout",
     "output_type": "stream",
     "text": [
      "sqrt(x) = [1.58113883 2.36643191 2.84604989 1.97484177 2.38746728]\n",
      "rint(exp(x)) = [  12.  270. 3294.   49.  299.]\n",
      "log(x) = [0.91629073 1.7227666  2.09186406 1.36097655 1.74046617]\n",
      "abs(y) = [2 6 3 5 5]\n",
      "sign(y) = [ 1  1 -1  1 -1]\n",
      "modf(A)\n",
      "[[ 0.5  0.6  0.1  0.9  0.7]\n",
      " [ 0.   0.  -0.   0.  -0. ]]\n",
      "[[ 2.  5.  8.  3.  5.]\n",
      " [ 2.  6. -3.  5. -5.]]\n"
     ]
    }
   ],
   "source": [
    "x = np.array([2.5, 5.6, 8.1, 3.9, 5.7])\n",
    "y = np.array([2, 6, -3, 5, -5])\n",
    "A = np.array([x, y])\n",
    "print(\"sqrt(x) = {0}\".format(np.sqrt(x))) # 제곱근\n",
    "print(\"rint(exp(x)) = {0}\".format(np.rint(np.exp(x)))) # 소수자리 반올림 -> 정수가 됨\n",
    "print(\"log(x) = {0}\".format(np.log(x))) # log2, log10 처럼 밑이 없으면 자연로그\n",
    "print(\"abs(y) = {0}\".format(np.abs(y)))\n",
    "print(\"sign(y) = {0}\".format(np.sign(y))) # 부호 출력(양수:1, 0:0, 음수:-1)\n",
    "\n",
    "r, q = np.modf(A) # 1로 나눈 목과 값을 배열로 출력\n",
    "#목행 따로 나머지 행 따로\n",
    "print(\"modf(A)\\n{0}\\n{1}\".format(r, q))"
   ]
  },
  {
   "cell_type": "code",
   "execution_count": 20,
   "metadata": {},
   "outputs": [
    {
     "name": "stdout",
     "output_type": "stream",
     "text": [
      "minimum(A,B)\n",
      "[[1.         2.         3.        ]\n",
      " [4.         5.         6.        ]\n",
      " [6.40770962 8.         7.19370544]\n",
      " [9.25636843 9.29073505 5.28218569]]\n",
      "A>=B\n",
      "[[ True  True  True]\n",
      " [ True  True  True]\n",
      " [False  True False]\n",
      " [False False False]]\n",
      "8<=A<10\n",
      "[[False False False]\n",
      " [ True False False]\n",
      " [False False False]\n",
      " [ True  True False]]\n"
     ]
    }
   ],
   "source": [
    "A = (10+3*np.random.randn(12)).reshape(4, 3)\n",
    "B = np.arange(1, 13).reshape(4, 3)\n",
    "print(\"minimum(A,B)\\n{0}\".format(np.minimum(A,B)))\n",
    "print(\"A>=B\\n{0}\".format(np.greater_equal(A,B)))\n",
    "AL = np.greater_equal(A,8)\n",
    "AU = np.less(A,10)\n",
    "print(\"8<=A<10\\n{0}\".format(np.logical_and(AL, AU)))"
   ]
  },
  {
   "cell_type": "markdown",
   "metadata": {},
   "source": [
    "##### 배열연산 조건절 (np.where)"
   ]
  },
  {
   "cell_type": "code",
   "execution_count": 22,
   "metadata": {},
   "outputs": [
    {
     "name": "stdout",
     "output_type": "stream",
     "text": [
      "[2.5, 6, 8.1, 4, -5]\n"
     ]
    }
   ],
   "source": [
    "xarr = np.array([2.5, 5.6, 8.1, 3.9, 5.7])\n",
    "yarr = np.array([2, 6, -3, 4, -5])\n",
    "zarr = np.array([\"서울\", \"경기\", \"서울\", \"인천\", \"경기\"])\n",
    "result = [(x if z == \"서울\" else y) for x, y, z in zip(xarr, yarr, zarr)]\n",
    "# z가 '서울'이면 x 그렇지 않으면 y값을 출력\n",
    "# zip으로 묶는이유는 (2.5, 2, \"서울\"), (5.6, 6, \"경기\") 이런식으로 만들어 함수적용하기 위해\n",
    "# 이렇듯 리스트를 이용한 방법은 1차원 배열에서만 가능 -> 다차원 불가능\n",
    "print(result)"
   ]
  },
  {
   "cell_type": "code",
   "execution_count": 23,
   "metadata": {},
   "outputs": [
    {
     "name": "stdout",
     "output_type": "stream",
     "text": [
      "[ 2.5  6.   8.1  4.  -5. ]\n"
     ]
    }
   ],
   "source": [
    "xarr = np.array([2.5, 5.6, 8.1, 3.9, 5.7])\n",
    "yarr = np.array([2, 6, -3, 4, -5])\n",
    "zarr = np.array([\"서울\", \"경기\", \"서울\", \"인천\", \"경기\"])\n",
    "result = np.where(zarr == '서울', xarr, yarr)\n",
    "# x if 조건 else y와 같은 삼항 연산자의 벡터화된 버전 (일차원 다차원 모두 가능)\n",
    "# np.where(조건, x, y)\n",
    "print(result)"
   ]
  },
  {
   "cell_type": "code",
   "execution_count": 24,
   "metadata": {},
   "outputs": [
    {
     "name": "stdout",
     "output_type": "stream",
     "text": [
      "arr1\n",
      "[[ 6.98958697 13.33251012  6.16443695]\n",
      " [ 3.09103761  3.85792427 22.5723202 ]\n",
      " [ 1.20052637 11.88229518  5.70159473]\n",
      " [14.96249731 11.41062885 14.81245052]]\n",
      "arr2\n",
      "[[ 6.89531182 10.24488729 16.57469517]\n",
      " [10.35785877 15.79171389  1.87926755]\n",
      " [12.31027846  7.3519881  12.52515881]\n",
      " [ 6.93417412 16.08758183  6.4184121 ]]\n",
      "result\n",
      "[[ 0.         13.33251012 16.57469517]\n",
      " [10.35785877 15.79171389 22.5723202 ]\n",
      " [12.31027846 11.88229518 12.52515881]\n",
      " [14.96249731 11.41062885 14.81245052]]\n"
     ]
    }
   ],
   "source": [
    "arr1 = (10+5*np.random.randn(12)).reshape(4, 3)\n",
    "arr2 = (10+5*np.random.randn(12)).reshape(4, 3)\n",
    "result = np.where(arr1 >= 10, arr1, np.where(arr2 >= 10, arr2, 0))\n",
    "print(\"arr1\\n{0}\\narr2\\n{1}\\nresult\\n{2}\".format(arr1, arr2, result))"
   ]
  },
  {
   "cell_type": "markdown",
   "metadata": {},
   "source": [
    "##### 통계 메소드"
   ]
  },
  {
   "cell_type": "code",
   "execution_count": 25,
   "metadata": {},
   "outputs": [
    {
     "name": "stdout",
     "output_type": "stream",
     "text": [
      "x.sum() = 25.799999999999997\tsum(x) = 25.799999999999997\n",
      "x.mean() = 5.159999999999999\tmean(x) = 5.159999999999999\n",
      "x.std() = 1.8863721796082553\tstd(x) = 1.8863721796082553\n",
      "x.std() = 2.109028212234251\tstd(x) = 2.109028212234251\n",
      "x.var() = 4.448\tvar(x) = 4.448\n",
      "x.min() = 2.5\tmin(x) = 2.5\n",
      "x.max() = 8.1\tmax(x) = 8.1\n",
      "x.argmin() = 0\targmin(x) = 0\n",
      "x.argamx() = 2\targmax(x) = 2\n",
      "x.cumsum() = [ 2.5  8.1 16.2 20.1 25.8]\tcumsum(x) = [ 2.5  8.1 16.2 20.1 25.8]\n",
      "x.cumprod() = [2.500000e+00 1.400000e+01 1.134000e+02 4.422600e+02 2.520882e+03]\tcumprod(x) = [2.500000e+00 1.400000e+01 1.134000e+02 4.422600e+02 2.520882e+03]\n"
     ]
    }
   ],
   "source": [
    "xarr = np.array([2.5, 5.6, 8.1, 3.9, 5.7])\n",
    "print(\"x.sum() = {0}\\tsum(x) = {1}\".format(xarr.sum(), np.sum(xarr))) # 합계\n",
    "print(\"x.mean() = {0}\\tmean(x) = {1}\".format(xarr.mean(), np.mean(xarr))) # 평균\n",
    "print(\"x.std() = {0}\\tstd(x) = {1}\".format(xarr.std(ddof = 0), np.std(xarr, ddof = 0))) # 표준편차 (n)\n",
    "print(\"x.std() = {0}\\tstd(x) = {1}\".format(xarr.std(ddof = 1), np.std(xarr, ddof = 1))) # 표준편차 (n-1)\n",
    "print(\"x.var() = {0}\\tvar(x) = {1}\".format(xarr.var(ddof = 1), np.var(xarr, ddof = 1))) # 분산 (n-1)\n",
    "print(\"x.min() = {0}\\tmin(x) = {1}\".format(xarr.min(), np.min(xarr))) # 최소값\n",
    "print(\"x.max() = {0}\\tmax(x) = {1}\".format(xarr.max(), np.max(xarr))) # 최대값\n",
    "print(\"x.argmin() = {0}\\targmin(x) = {1}\".format(xarr.argmin(), np.argmin(xarr))) # 최소값 인덱스\n",
    "print(\"x.argamx() = {0}\\targmax(x) = {1}\".format(xarr.argmax(), np.argmax(xarr))) # 최대값 인덱스\n",
    "print(\"x.cumsum() = {0}\\tcumsum(x) = {1}\".format(xarr.cumsum(), np.cumsum(xarr))) # 누적합\n",
    "# 열 누적합 -> 밑으로 가면서 더함 / 행 누적합 -> 오른쪽으로 가면서 더함\n",
    "print(\"x.cumprod() = {0}\\tcumprod(x) = {1}\".format(xarr.cumprod(), np.cumprod(xarr))) # 누적곱"
   ]
  },
  {
   "cell_type": "code",
   "execution_count": 28,
   "metadata": {
    "scrolled": false
   },
   "outputs": [
    {
     "name": "stdout",
     "output_type": "stream",
     "text": [
      "xrr\n",
      "[[2.5 5.6 8.1]\n",
      " [3.9 5.7 2.9]\n",
      " [6.1 9.7 5.4]\n",
      " [1.4 8.3 4.2]]\n",
      "전체평균 : 5.316666666666666\n",
      "열 평균\n",
      "[3.475 7.325 5.15 ]\n",
      "행 평균\n",
      "[5.4        4.16666667 7.06666667 4.63333333]\n",
      "열 편차\n",
      "[2.02710796 2.01721756 2.21585198]\n",
      "행 편차\n",
      "[2.80535203 1.41891978 2.307235   3.47035061]\n"
     ]
    }
   ],
   "source": [
    "xarr = np.array([[2.5, 5.6, 8.1], [3.9, 5.7, 2.9], [6.1, 9.7, 5.4], [1.4, 8.3, 4.2]])\n",
    "print(\"xrr\\n{0}\".format(xarr))\n",
    "print(\"전체평균 : {0}\".format(xarr.mean()))\n",
    "print(\"열 평균\\n{0}\\n행 평균\\n{1}\".format(xarr.mean(axis = 0), xarr.mean(axis = 1)))\n",
    "print(\"열 편차\\n{0}\\n행 편차\\n{1}\".format(xarr.std(axis = 0, ddof = 1), xarr.std(axis = 1, ddof = 1)))\n",
    "# 배열 array에서는 axis=0 -> 열 / axis=1 -> 행"
   ]
  },
  {
   "cell_type": "markdown",
   "metadata": {},
   "source": [
    "    배열 데이터 처리 (True값 갯수 찾기)"
   ]
  },
  {
   "cell_type": "code",
   "execution_count": 30,
   "metadata": {},
   "outputs": [
    {
     "name": "stdout",
     "output_type": "stream",
     "text": [
      "True의 개수 : 8\n",
      "True의 비율 : 0.6666666666666666\n",
      "True의 비율 : False\n",
      "True의 비율 : True\n"
     ]
    }
   ],
   "source": [
    "arr = (10+5*np.random.randn(12)).reshape(4,3)\n",
    "print(\"True의 개수 : {0}\".format((arr>=10).sum()))\n",
    "# 논리값 False = 0, True = 1\n",
    "print(\"True의 비율 : {0}\".format((arr>=10).mean()))\n",
    "arr = np.array([True, False, True, True, False])\n",
    "print(\"True의 비율 : {0}\".format(arr.all())) # 모두 True이면 True\n",
    "print(\"True의 비율 : {0}\".format(arr.any())) # 모두 False이면 False"
   ]
  },
  {
   "cell_type": "code",
   "execution_count": 31,
   "metadata": {},
   "outputs": [],
   "source": [
    "# for문 안돌리고 list 중복 원소만 추출하기 p.255\n",
    "# 교집합, 합집합, 차집합, xor, unique"
   ]
  },
  {
   "cell_type": "markdown",
   "metadata": {},
   "source": [
    "        배열 입출력 p.256\n",
    "        텍스트 파일 불러오기, 저장하기 p.257"
   ]
  },
  {
   "cell_type": "code",
   "execution_count": 8,
   "metadata": {},
   "outputs": [
    {
     "name": "stdout",
     "output_type": "stream",
     "text": [
      "steel_data\n",
      "[[ 81.4 122.2 101.7 175.6 150.3  64.8  92.1 113.8]\n",
      " [ 57.   61.   60.   62.   61.   54.   58.   61. ]]\n"
     ]
    }
   ],
   "source": [
    "steel_data = np.loadtxt(\"C:/Users/Affinity/Desktop/study/Python_Data/ch02_data/steel.txt\",\n",
    "                       skiprows = 5, delimiter = \"\\t\" , usecols=(0,2), unpack = True)\n",
    "# 줄 생략 = skiprows, 구분좌 = delimiter, 불러올 열 지정 = usecols, 전치시키기 = unpack\n",
    "# 아스키코드나 utf-8이어야 함\n",
    "print(\"steel_data\\n{0}\".format(steel_data))"
   ]
  },
  {
   "cell_type": "markdown",
   "metadata": {},
   "source": [
    "##### 선형대수학 메소드 p.258"
   ]
  },
  {
   "cell_type": "markdown",
   "metadata": {},
   "source": [
    "#### 중요!!!!!!!!!!!!!!!!!!!!!!!!!!!!!!!!!!!!!!!!!!!\n",
    "    - linarg.svd(특이값분해) 메소드로 정방이 아닌 행렬의 역행렬을 구할 수 있다.\n",
    "    - psuedo inverse 를 통해 SSE를 산출 할 수 있다."
   ]
  },
  {
   "cell_type": "code",
   "execution_count": 15,
   "metadata": {
    "scrolled": true
   },
   "outputs": [
    {
     "name": "stdout",
     "output_type": "stream",
     "text": [
      "A\n",
      "[[1 3 5 7]\n",
      " [5 3 4 7]]\n",
      "B\n",
      "[[1 3]\n",
      " [5 7]\n",
      " [5 3]\n",
      " [4 7]]\n",
      "C\n",
      "[[4 9 1 3]\n",
      " [7 5 2 7]\n",
      " [5 3 4 3]\n",
      " [1 4 7 9]]\n",
      "AB\n",
      "[[69 88]\n",
      " [68 97]]\n",
      "diag(C)\n",
      "[4 5 4 9]\n",
      "diag(A[1])\n",
      "[[5 0 0 0]\n",
      " [0 3 0 0]\n",
      " [0 0 4 0]\n",
      " [0 0 0 7]]\n",
      "trace(A)\n",
      "4\n",
      "det(C)\n",
      "-1549.999999999999\n",
      "inv(C)\n",
      "[[-0.0516129   0.08709677  0.13870968 -0.09677419]\n",
      " [ 0.15354839 -0.0716129  -0.02516129  0.01290323]\n",
      " [-0.00903226 -0.17225806  0.23677419  0.05806452]\n",
      " [-0.05548387  0.15612903 -0.1883871   0.07096774]]\n",
      "Cinv(C)\n",
      "[[ 1.  0.  0.  0.]\n",
      " [ 0.  1.  0.  0.]\n",
      " [-0.  0.  1. -0.]\n",
      " [-0.  0. -0.  1.]]\n",
      "고유값\n",
      "[18.95137965+0.j         -4.18786225+0.j          3.6182413 +2.53735307j\n",
      "  3.6182413 -2.53735307j]\n",
      "고유벡터\n",
      "[[ 0.47831238+0.j          0.64722509+0.j         -0.47647899-0.11511806j\n",
      "  -0.47647899+0.11511806j]\n",
      " [ 0.56955835+0.j         -0.65592208+0.j         -0.12915359-0.16898385j\n",
      "  -0.12915359+0.16898385j]\n",
      " [ 0.38401956+0.j         -0.26047634+0.j         -0.37310913+0.35580654j\n",
      "  -0.37310913-0.35580654j]\n",
      " [ 0.54712843+0.j          0.2881284 +0.j          0.66982886+0.j\n",
      "   0.66982886-0.j        ]]\n"
     ]
    }
   ],
   "source": [
    "A = np.array([[1, 3, 5, 7], [5, 3, 4, 7]])\n",
    "B = np.array([[1, 3], [5, 7], [5, 3], [4, 7]])\n",
    "C = np.array([[4, 9, 1, 3], [7, 5, 2, 7], [5, 3, 4, 3], [1, 4, 7, 9]])\n",
    "print(\"A\\n{0}\\nB\\n{1}\\nC\\n{2}\".format(A, B, C))\n",
    "print(\"AB\\n{0}\".format(np.dot(A, B))) # 행렬의 곱 (내적)\n",
    "print(\"diag(C)\\n{0}\".format(np.diag(C))) # 행렬 C의 대각 원소\n",
    "print(\"diag(A[1])\\n{0}\".format(np.diag(A[1]))) # 행렬 A의 1행을 대각 원소로 하는 행렬\n",
    "# diag()는 2가지 기능을 보유함 -> n x n 배열의 대각원소 반환 / 1차원 배열을 대각 원소로 하는 n x n 배열 반환\n",
    "print(\"trace(A)\\n{0}\".format(np.trace(A))) # 행렬 A의 대각 원소 합\n",
    "print(\"det(C)\\n{0}\".format(np.linalg.det(C))) # 행렬 C의 행렬식\n",
    "print(\"inv(C)\\n{0}\".format(np.linalg.inv(C))) # 행렬 C의 역행렬\n",
    "print(\"Cinv(C)\\n{0}\".format(np.rint(np.dot(C, np.linalg.inv(C))))) # Cinc(C)\n",
    "# linalg.inv() -> 인자의 역행렬 반환 / np.rint() -> 소수점자리에서 반올림\n",
    "eig_v, eig_vec = np.linalg.eig(C)\n",
    "print(\"고유값\\n{0}\\n고유벡터\\n{1}\".format(eig_v, eig_vec)) # 행렬 C의 고유값과 고유벡터"
   ]
  },
  {
   "cell_type": "code",
   "execution_count": 16,
   "metadata": {},
   "outputs": [
    {
     "name": "stdout",
     "output_type": "stream",
     "text": [
      "x\n",
      "[[1 2 3 7]\n",
      " [1 5 7 6]\n",
      " [1 6 7 3]\n",
      " [1 7 3 4]\n",
      " [1 8 4 3]\n",
      " [1 3 2 5]]\n",
      "y\n",
      "[2 4 6 3 7 1]\n",
      "최소제곱추정량\n",
      "(array([ 1.1991453 ,  0.44871795,  0.45854701, -0.35811966]), array([5.52948718]), 4, array([20.5718539 ,  5.90695272,  3.85261955,  0.25309904]))\n"
     ]
    },
    {
     "name": "stderr",
     "output_type": "stream",
     "text": [
      "C:\\ProgramData\\Anaconda3\\envs\\mypython\\lib\\site-packages\\ipykernel_launcher.py:4: FutureWarning: `rcond` parameter will change to the default of machine precision times ``max(M, N)`` where M and N are the input matrix dimensions.\n",
      "To use the future default and silence this warning we advise to pass `rcond=None`, to keep using the old, explicitly pass `rcond=-1`.\n",
      "  after removing the cwd from sys.path.\n"
     ]
    }
   ],
   "source": [
    "# p.260 같이보기\n",
    "y = np.array([2, 4, 6, 3, 7, 1]) # 종속변수\n",
    "x = np.array([[1, 2, 3, 7], [1, 5, 7, 6], [1, 6, 7, 3],[1, 7, 3, 4], [1, 8, 4, 3], [1, 3, 2, 5]]) #독립변수\n",
    "print(\"x\\n{0}\\ny\\n{1}\".format(x, y))\n",
    "print(\"최소제곱추정량\\n{0}\".format(np.linalg.lstsq(x,y)))"
   ]
  },
  {
   "cell_type": "code",
   "execution_count": 22,
   "metadata": {},
   "outputs": [
    {
     "data": {
      "text/plain": [
       "array([ 1.1991453 ,  0.44871795,  0.45854701, -0.35811966])"
      ]
     },
     "execution_count": 22,
     "metadata": {},
     "output_type": "execute_result"
    }
   ],
   "source": [
    "xt = x.T\n",
    "xpx = np.dot(xt, x)\n",
    "np.dot(np.dot(np.linalg.inv(xpx), xt), y) # 최소제곱추정량"
   ]
  },
  {
   "cell_type": "code",
   "execution_count": 7,
   "metadata": {},
   "outputs": [
    {
     "name": "stdout",
     "output_type": "stream",
     "text": [
      "[[ 81.4 195.   57. ]\n",
      " [122.2 179.   61. ]\n",
      " [101.7 205.   60. ]\n",
      " [175.6 204.   62. ]\n",
      " [150.3 201.   61. ]\n",
      " [ 64.8 184.   54. ]\n",
      " [ 92.1 210.   58. ]\n",
      " [113.8 209.   61. ]] [[  1. 195.  57.]\n",
      " [  1. 179.  61.]\n",
      " [  1. 205.  60.]\n",
      " [  1. 204.  62.]\n",
      " [  1. 201.  61.]\n",
      " [  1. 184.  54.]\n",
      " [  1. 210.  58.]\n",
      " [  1. 209.  61.]] [ 81.4 122.2 101.7 175.6 150.3  64.8  92.1 113.8]\n"
     ]
    }
   ],
   "source": [
    "steel = np.loadtxt(\"C:/Users/Affinity/Desktop/study/Python_Data/ch02_data/steel.txt\",\n",
    "                       skiprows = 5, delimiter = \"\\t\")\n",
    "y = steel[:,0].copy()\n",
    "X = steel.copy()\n",
    "X[:,0] = 1\n",
    "print(steel, x, y)\n",
    "# 작성하다맘"
   ]
  },
  {
   "cell_type": "markdown",
   "metadata": {},
   "source": [
    "##### 난수 생성 메소드 p.261\n",
    "    - ex)난수변수를 추가해 난수 값이 n이상인 부분은 실험용, 이하는 검증용으로 사용함"
   ]
  },
  {
   "cell_type": "markdown",
   "metadata": {},
   "source": [
    "    - np.random.seed\n",
    "    - np.random.randint : 균일 분포의 정수 난수 1개 생성\n",
    "    - np.random.rand : 0부터 1사이의 균일 분포에서 난수 matrix array 생성\n",
    "    - np.random.randn : 가우시안 표준 정규 분포에서 난수 matrix array 생성\n",
    "    - np.random.shuffle : 기존의 데이터의 순서 바꾸기\n",
    "    - np.random.choice : 기존의 데이터에서 sampling"
   ]
  },
  {
   "cell_type": "code",
   "execution_count": 12,
   "metadata": {},
   "outputs": [
    {
     "name": "stdout",
     "output_type": "stream",
     "text": [
      "randn\n",
      "[ 2.212902    2.1283978   1.8417114   0.08238248  0.85896368 -0.82601643\n",
      "  1.15727052  1.37591514  0.94302846  0.8478706   0.52969142 -0.56940469\n",
      "  0.83180456  0.23359639 -0.84767033 -1.67666183  0.03332262  0.38044469\n",
      " -0.80288458 -0.83511902]\n",
      "normal(20)\n",
      "[-1.06883444  0.18993115 -0.05553701  1.06244261  0.57964676 -0.32022184\n",
      " -0.26975584  0.32321392  1.3743362  -0.20494313  0.27613222  0.16255978\n",
      " -0.43567345  0.09642087 -1.88685108  0.58084648  3.28724603  0.20887862\n",
      " -0.5197155   2.02425663]\n",
      "normal(size=(4,5))\n",
      "[[10.63925044  8.9154161   9.0673001  10.73897138]\n",
      " [ 9.34684305 12.27415815  6.53727444  7.49462658]\n",
      " [ 9.96194907 11.70244161  9.13842665  9.7386879 ]\n",
      " [ 8.05728605  6.56209521  8.58631907  8.72643932]\n",
      " [10.24602117 11.38838356 12.11191519 10.76492175]]\n"
     ]
    }
   ],
   "source": [
    "np.random.seed(123456789) # 시드값 고정\n",
    "norm_sample1 = np.random.randn(20) # N(0,1)\n",
    "norm_sample2 = np.random.normal(size = 20) # N(0,1)\n",
    "norm_sample3 = np.random.normal(loc = 10, scale = 2, size=(5,4)) # N(10,4)\n",
    "print(\"randn\\n{0}\".format(norm_sample1))\n",
    "print(\"normal(20)\\n{0}\\nnormal(size=(4,5))\\n{1}\".format(norm_sample2, norm_sample3))"
   ]
  },
  {
   "cell_type": "code",
   "execution_count": 16,
   "metadata": {},
   "outputs": [
    {
     "name": "stdout",
     "output_type": "stream",
     "text": [
      "[[1 3 6]\n",
      " [1 5 4]\n",
      " [1 3 6]\n",
      " [1 4 6]\n",
      " [1 7 3]\n",
      " [1 8 4]\n",
      " [1 9 7]\n",
      " [1 3 6]\n",
      " [1 5 2]\n",
      " [1 7 6]] [10.  -2.5  5.5] [36.44287033 17.11804861 38.36541394 32.37469621  7.55882253 13.77432588\n",
      " 27.71917683 34.22695299  8.53139274 21.01463009]\n"
     ]
    },
    {
     "name": "stderr",
     "output_type": "stream",
     "text": [
      "C:\\ProgramData\\Anaconda3\\envs\\mypython\\lib\\site-packages\\ipykernel_launcher.py:7: FutureWarning: `rcond` parameter will change to the default of machine precision times ``max(M, N)`` where M and N are the input matrix dimensions.\n",
      "To use the future default and silence this warning we advise to pass `rcond=None`, to keep using the old, explicitly pass `rcond=-1`.\n",
      "  import sys\n"
     ]
    },
    {
     "data": {
      "text/plain": [
       "(array([ 9.14457203, -2.5512041 ,  5.66891263]),\n",
       " array([43.38911395]),\n",
       " 3,\n",
       " array([24.13008397,  6.1037028 ,  0.6956002 ]))"
      ]
     },
     "execution_count": 16,
     "metadata": {},
     "output_type": "execute_result"
    }
   ],
   "source": [
    "x = np.array([[1,3,6], [1,5,4], [1,3,6],[1,4,6],[1,7,3],[1,8,4],[1,9,7],[1,3,6],[1,5,2],[1,7,6]])\n",
    "beta = np.array([10,-2.5,5.5])\n",
    "np.random.seed(1234) # seed값을 지정해줌으로써 lstsq 메소드 실행했을 때 값이 동일하게 출력\n",
    "e = np.random.normal(loc = 0, scale = 2, size = 10)\n",
    "y = np.dot(x,beta) + e\n",
    "print(x, beta, y)\n",
    "np.linalg.lstsq(x, y) # 직접 입력한 beta값과 비교하기"
   ]
  }
 ],
 "metadata": {
  "kernelspec": {
   "display_name": "MyPython",
   "language": "python",
   "name": "mypython"
  },
  "language_info": {
   "codemirror_mode": {
    "name": "ipython",
    "version": 3
   },
   "file_extension": ".py",
   "mimetype": "text/x-python",
   "name": "python",
   "nbconvert_exporter": "python",
   "pygments_lexer": "ipython3",
   "version": "3.6.8"
  },
  "widgets": {
   "state": {},
   "version": "1.1.2"
  }
 },
 "nbformat": 4,
 "nbformat_minor": 2
}
