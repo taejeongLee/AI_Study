{
 "cells": [
  {
   "cell_type": "code",
   "execution_count": 1,
   "metadata": {},
   "outputs": [],
   "source": [
    "# 일부만 할당된 GPU 메모리를 실행하는 동안 필요한만큼 늘릴 수 있도록 함\n",
    "import tensorflow as tf\n",
    "\n",
    "config = tf.ConfigProto()\n",
    "config.gpu_options.allow_growth = True\n",
    "session = tf.Session(config=config)"
   ]
  },
  {
   "cell_type": "code",
   "execution_count": 2,
   "metadata": {},
   "outputs": [],
   "source": [
    "# 모델 학습 시 불필요한 출력을 끄도록 함 (warning)\n",
    "import tensorflow as tf\n",
    "\n",
    "tf.logging.set_verbosity(tf.logging.ERROR)"
   ]
  },
  {
   "cell_type": "code",
   "execution_count": 210,
   "metadata": {},
   "outputs": [],
   "source": [
    "import numpy as np\n",
    "import tensorflow as tf\n",
    "\n",
    "import matplotlib.pyplot as plt\n",
    "%matplotlib inline\n",
    "\n",
    "np.random.seed(20190730)\n",
    "tf.set_random_seed(20190730)"
   ]
  },
  {
   "cell_type": "markdown",
   "metadata": {},
   "source": [
    "# 데이터 전처리\n",
    "\n",
    "- 변수 설명\n",
    "    - y = 응답 변수로 이진 변수 인 기본 지불 (예 : 1, 아니오 = 0)을 사용했습니다\n",
    "    - X1 : 주어진 크레딧 금액 (NT 달러) : 개인 소비자 크레딧과 가족 (보충) 크레딧을 모두 포함합니다.\n",
    "    - X2 : 성별 (1 = 남성, 2 = 여성).\n",
    "    - X3 : 교육 (1 = 대학원, 2 = 대학, 3 = 고등학생, 4 = 기타).\n",
    "    - X4 : 결혼 상태 (1 = 결혼; 2 = 단일; 3 = 기타).\n",
    "    - X5 : 나이 (년).\n",
    "    - X6 - X11 : 과거 지불 내역. 우리는 과거의 월별 지불 기록 (2005 년 4 월에서 9 월까지)을 다음과 같이 추적했습니다 : X6 = 2005 년 9 월의 상환 상태; X7 = 2005 년 8 월 상환 상태; . . X11 = 2005 년 4 월의 상환 상태. 상환 상태의 측정 척도는 다음과 같습니다. -1 = 정당한 대가; 1 = 지불 지연 1 개월; 2 = 2 개월 지불 지연; . . .; 8 = 8 개월 지불 지연; 9 = 9 개월 이상 지불 지연.\n",
    "    - X12-X17 : 청구 명세서 금액 (NT 달러). X12 = 2005 년 9 월 청구서 명세서 금액; X13 = 2005 년 8 월 청구 명세서 명세서 금액; . . .; X17 = 2005 년 4 월 청구 명세서 금액\n",
    "    - X18 - X23 : 이전 지불 금액 (NT 달러). X18 = 2005 년 9 월 지급액; X19 = 2005 년 8 월 지급 된 금액; . . ; X23 = 2005 년 4 월 지급액.\n",
    "    \n",
    "- 연속형 범주형 분류\n",
    "    - 연속형 : X1, X12-23\n",
    "    - 범주형 : X2-X11"
   ]
  },
  {
   "cell_type": "code",
   "execution_count": 6,
   "metadata": {},
   "outputs": [
    {
     "data": {
      "text/plain": [
       "PAY_0    17496\n",
       "PAY_2    19512\n",
       "PAY_3    19849\n",
       "PAY_4    20803\n",
       "PAY_5    21493\n",
       "PAY_6    21181\n",
       "dtype: int64"
      ]
     },
     "execution_count": 6,
     "metadata": {},
     "output_type": "execute_result"
    }
   ],
   "source": [
    "data.iloc[:,6:12].isin([0,-2]).sum()"
   ]
  },
  {
   "cell_type": "code",
   "execution_count": 334,
   "metadata": {
    "scrolled": true
   },
   "outputs": [
    {
     "data": {
      "text/html": [
       "<div>\n",
       "<style scoped>\n",
       "    .dataframe tbody tr th:only-of-type {\n",
       "        vertical-align: middle;\n",
       "    }\n",
       "\n",
       "    .dataframe tbody tr th {\n",
       "        vertical-align: top;\n",
       "    }\n",
       "\n",
       "    .dataframe thead th {\n",
       "        text-align: right;\n",
       "    }\n",
       "</style>\n",
       "<table border=\"1\" class=\"dataframe\">\n",
       "  <thead>\n",
       "    <tr style=\"text-align: right;\">\n",
       "      <th></th>\n",
       "      <th>ID</th>\n",
       "      <th>LIMIT_BAL</th>\n",
       "      <th>SEX</th>\n",
       "      <th>EDUCATION</th>\n",
       "      <th>MARRIAGE</th>\n",
       "      <th>AGE</th>\n",
       "      <th>PAY_0</th>\n",
       "      <th>PAY_2</th>\n",
       "      <th>PAY_3</th>\n",
       "      <th>PAY_4</th>\n",
       "      <th>...</th>\n",
       "      <th>BILL_AMT4</th>\n",
       "      <th>BILL_AMT5</th>\n",
       "      <th>BILL_AMT6</th>\n",
       "      <th>PAY_AMT1</th>\n",
       "      <th>PAY_AMT2</th>\n",
       "      <th>PAY_AMT3</th>\n",
       "      <th>PAY_AMT4</th>\n",
       "      <th>PAY_AMT5</th>\n",
       "      <th>PAY_AMT6</th>\n",
       "      <th>default.payment.next.month</th>\n",
       "    </tr>\n",
       "  </thead>\n",
       "  <tbody>\n",
       "    <tr>\n",
       "      <th>0</th>\n",
       "      <td>1</td>\n",
       "      <td>20000.0</td>\n",
       "      <td>2</td>\n",
       "      <td>2</td>\n",
       "      <td>1</td>\n",
       "      <td>24</td>\n",
       "      <td>2</td>\n",
       "      <td>2</td>\n",
       "      <td>-1</td>\n",
       "      <td>-1</td>\n",
       "      <td>...</td>\n",
       "      <td>0.0</td>\n",
       "      <td>0.0</td>\n",
       "      <td>0.0</td>\n",
       "      <td>0.0</td>\n",
       "      <td>689.0</td>\n",
       "      <td>0.0</td>\n",
       "      <td>0.0</td>\n",
       "      <td>0.0</td>\n",
       "      <td>0.0</td>\n",
       "      <td>1</td>\n",
       "    </tr>\n",
       "    <tr>\n",
       "      <th>1</th>\n",
       "      <td>2</td>\n",
       "      <td>120000.0</td>\n",
       "      <td>2</td>\n",
       "      <td>2</td>\n",
       "      <td>2</td>\n",
       "      <td>26</td>\n",
       "      <td>-1</td>\n",
       "      <td>2</td>\n",
       "      <td>0</td>\n",
       "      <td>0</td>\n",
       "      <td>...</td>\n",
       "      <td>3272.0</td>\n",
       "      <td>3455.0</td>\n",
       "      <td>3261.0</td>\n",
       "      <td>0.0</td>\n",
       "      <td>1000.0</td>\n",
       "      <td>1000.0</td>\n",
       "      <td>1000.0</td>\n",
       "      <td>0.0</td>\n",
       "      <td>2000.0</td>\n",
       "      <td>1</td>\n",
       "    </tr>\n",
       "    <tr>\n",
       "      <th>2</th>\n",
       "      <td>3</td>\n",
       "      <td>90000.0</td>\n",
       "      <td>2</td>\n",
       "      <td>2</td>\n",
       "      <td>2</td>\n",
       "      <td>34</td>\n",
       "      <td>0</td>\n",
       "      <td>0</td>\n",
       "      <td>0</td>\n",
       "      <td>0</td>\n",
       "      <td>...</td>\n",
       "      <td>14331.0</td>\n",
       "      <td>14948.0</td>\n",
       "      <td>15549.0</td>\n",
       "      <td>1518.0</td>\n",
       "      <td>1500.0</td>\n",
       "      <td>1000.0</td>\n",
       "      <td>1000.0</td>\n",
       "      <td>1000.0</td>\n",
       "      <td>5000.0</td>\n",
       "      <td>0</td>\n",
       "    </tr>\n",
       "    <tr>\n",
       "      <th>3</th>\n",
       "      <td>4</td>\n",
       "      <td>50000.0</td>\n",
       "      <td>2</td>\n",
       "      <td>2</td>\n",
       "      <td>1</td>\n",
       "      <td>37</td>\n",
       "      <td>0</td>\n",
       "      <td>0</td>\n",
       "      <td>0</td>\n",
       "      <td>0</td>\n",
       "      <td>...</td>\n",
       "      <td>28314.0</td>\n",
       "      <td>28959.0</td>\n",
       "      <td>29547.0</td>\n",
       "      <td>2000.0</td>\n",
       "      <td>2019.0</td>\n",
       "      <td>1200.0</td>\n",
       "      <td>1100.0</td>\n",
       "      <td>1069.0</td>\n",
       "      <td>1000.0</td>\n",
       "      <td>0</td>\n",
       "    </tr>\n",
       "    <tr>\n",
       "      <th>4</th>\n",
       "      <td>5</td>\n",
       "      <td>50000.0</td>\n",
       "      <td>1</td>\n",
       "      <td>2</td>\n",
       "      <td>1</td>\n",
       "      <td>57</td>\n",
       "      <td>-1</td>\n",
       "      <td>0</td>\n",
       "      <td>-1</td>\n",
       "      <td>0</td>\n",
       "      <td>...</td>\n",
       "      <td>20940.0</td>\n",
       "      <td>19146.0</td>\n",
       "      <td>19131.0</td>\n",
       "      <td>2000.0</td>\n",
       "      <td>36681.0</td>\n",
       "      <td>10000.0</td>\n",
       "      <td>9000.0</td>\n",
       "      <td>689.0</td>\n",
       "      <td>679.0</td>\n",
       "      <td>0</td>\n",
       "    </tr>\n",
       "    <tr>\n",
       "      <th>5</th>\n",
       "      <td>6</td>\n",
       "      <td>50000.0</td>\n",
       "      <td>1</td>\n",
       "      <td>1</td>\n",
       "      <td>2</td>\n",
       "      <td>37</td>\n",
       "      <td>0</td>\n",
       "      <td>0</td>\n",
       "      <td>0</td>\n",
       "      <td>0</td>\n",
       "      <td>...</td>\n",
       "      <td>19394.0</td>\n",
       "      <td>19619.0</td>\n",
       "      <td>20024.0</td>\n",
       "      <td>2500.0</td>\n",
       "      <td>1815.0</td>\n",
       "      <td>657.0</td>\n",
       "      <td>1000.0</td>\n",
       "      <td>1000.0</td>\n",
       "      <td>800.0</td>\n",
       "      <td>0</td>\n",
       "    </tr>\n",
       "    <tr>\n",
       "      <th>6</th>\n",
       "      <td>7</td>\n",
       "      <td>500000.0</td>\n",
       "      <td>1</td>\n",
       "      <td>1</td>\n",
       "      <td>2</td>\n",
       "      <td>29</td>\n",
       "      <td>0</td>\n",
       "      <td>0</td>\n",
       "      <td>0</td>\n",
       "      <td>0</td>\n",
       "      <td>...</td>\n",
       "      <td>542653.0</td>\n",
       "      <td>483003.0</td>\n",
       "      <td>473944.0</td>\n",
       "      <td>55000.0</td>\n",
       "      <td>40000.0</td>\n",
       "      <td>38000.0</td>\n",
       "      <td>20239.0</td>\n",
       "      <td>13750.0</td>\n",
       "      <td>13770.0</td>\n",
       "      <td>0</td>\n",
       "    </tr>\n",
       "    <tr>\n",
       "      <th>7</th>\n",
       "      <td>8</td>\n",
       "      <td>100000.0</td>\n",
       "      <td>2</td>\n",
       "      <td>2</td>\n",
       "      <td>2</td>\n",
       "      <td>23</td>\n",
       "      <td>0</td>\n",
       "      <td>-1</td>\n",
       "      <td>-1</td>\n",
       "      <td>0</td>\n",
       "      <td>...</td>\n",
       "      <td>221.0</td>\n",
       "      <td>-159.0</td>\n",
       "      <td>567.0</td>\n",
       "      <td>380.0</td>\n",
       "      <td>601.0</td>\n",
       "      <td>0.0</td>\n",
       "      <td>581.0</td>\n",
       "      <td>1687.0</td>\n",
       "      <td>1542.0</td>\n",
       "      <td>0</td>\n",
       "    </tr>\n",
       "    <tr>\n",
       "      <th>8</th>\n",
       "      <td>9</td>\n",
       "      <td>140000.0</td>\n",
       "      <td>2</td>\n",
       "      <td>3</td>\n",
       "      <td>1</td>\n",
       "      <td>28</td>\n",
       "      <td>0</td>\n",
       "      <td>0</td>\n",
       "      <td>2</td>\n",
       "      <td>0</td>\n",
       "      <td>...</td>\n",
       "      <td>12211.0</td>\n",
       "      <td>11793.0</td>\n",
       "      <td>3719.0</td>\n",
       "      <td>3329.0</td>\n",
       "      <td>0.0</td>\n",
       "      <td>432.0</td>\n",
       "      <td>1000.0</td>\n",
       "      <td>1000.0</td>\n",
       "      <td>1000.0</td>\n",
       "      <td>0</td>\n",
       "    </tr>\n",
       "    <tr>\n",
       "      <th>9</th>\n",
       "      <td>10</td>\n",
       "      <td>20000.0</td>\n",
       "      <td>1</td>\n",
       "      <td>3</td>\n",
       "      <td>2</td>\n",
       "      <td>35</td>\n",
       "      <td>-2</td>\n",
       "      <td>-2</td>\n",
       "      <td>-2</td>\n",
       "      <td>-2</td>\n",
       "      <td>...</td>\n",
       "      <td>0.0</td>\n",
       "      <td>13007.0</td>\n",
       "      <td>13912.0</td>\n",
       "      <td>0.0</td>\n",
       "      <td>0.0</td>\n",
       "      <td>0.0</td>\n",
       "      <td>13007.0</td>\n",
       "      <td>1122.0</td>\n",
       "      <td>0.0</td>\n",
       "      <td>0</td>\n",
       "    </tr>\n",
       "  </tbody>\n",
       "</table>\n",
       "<p>10 rows × 25 columns</p>\n",
       "</div>"
      ],
      "text/plain": [
       "   ID  LIMIT_BAL  SEX  EDUCATION  MARRIAGE  AGE  PAY_0  PAY_2  PAY_3  PAY_4  \\\n",
       "0   1    20000.0    2          2         1   24      2      2     -1     -1   \n",
       "1   2   120000.0    2          2         2   26     -1      2      0      0   \n",
       "2   3    90000.0    2          2         2   34      0      0      0      0   \n",
       "3   4    50000.0    2          2         1   37      0      0      0      0   \n",
       "4   5    50000.0    1          2         1   57     -1      0     -1      0   \n",
       "5   6    50000.0    1          1         2   37      0      0      0      0   \n",
       "6   7   500000.0    1          1         2   29      0      0      0      0   \n",
       "7   8   100000.0    2          2         2   23      0     -1     -1      0   \n",
       "8   9   140000.0    2          3         1   28      0      0      2      0   \n",
       "9  10    20000.0    1          3         2   35     -2     -2     -2     -2   \n",
       "\n",
       "   ...  BILL_AMT4  BILL_AMT5  BILL_AMT6  PAY_AMT1  PAY_AMT2  PAY_AMT3  \\\n",
       "0  ...        0.0        0.0        0.0       0.0     689.0       0.0   \n",
       "1  ...     3272.0     3455.0     3261.0       0.0    1000.0    1000.0   \n",
       "2  ...    14331.0    14948.0    15549.0    1518.0    1500.0    1000.0   \n",
       "3  ...    28314.0    28959.0    29547.0    2000.0    2019.0    1200.0   \n",
       "4  ...    20940.0    19146.0    19131.0    2000.0   36681.0   10000.0   \n",
       "5  ...    19394.0    19619.0    20024.0    2500.0    1815.0     657.0   \n",
       "6  ...   542653.0   483003.0   473944.0   55000.0   40000.0   38000.0   \n",
       "7  ...      221.0     -159.0      567.0     380.0     601.0       0.0   \n",
       "8  ...    12211.0    11793.0     3719.0    3329.0       0.0     432.0   \n",
       "9  ...        0.0    13007.0    13912.0       0.0       0.0       0.0   \n",
       "\n",
       "   PAY_AMT4  PAY_AMT5  PAY_AMT6  default.payment.next.month  \n",
       "0       0.0       0.0       0.0                           1  \n",
       "1    1000.0       0.0    2000.0                           1  \n",
       "2    1000.0    1000.0    5000.0                           0  \n",
       "3    1100.0    1069.0    1000.0                           0  \n",
       "4    9000.0     689.0     679.0                           0  \n",
       "5    1000.0    1000.0     800.0                           0  \n",
       "6   20239.0   13750.0   13770.0                           0  \n",
       "7     581.0    1687.0    1542.0                           0  \n",
       "8    1000.0    1000.0    1000.0                           0  \n",
       "9   13007.0    1122.0       0.0                           0  \n",
       "\n",
       "[10 rows x 25 columns]"
      ]
     },
     "execution_count": 334,
     "metadata": {},
     "output_type": "execute_result"
    }
   ],
   "source": [
    "import pandas as pd\n",
    "data = pd.read_csv('UCI_Credit_Card.csv', header = 0)\n",
    "data.head(10)"
   ]
  },
  {
   "cell_type": "code",
   "execution_count": 335,
   "metadata": {},
   "outputs": [
    {
     "data": {
      "text/plain": [
       "(30000, 25)"
      ]
     },
     "execution_count": 335,
     "metadata": {},
     "output_type": "execute_result"
    }
   ],
   "source": [
    "data.shape"
   ]
  },
  {
   "cell_type": "code",
   "execution_count": 336,
   "metadata": {},
   "outputs": [
    {
     "name": "stdout",
     "output_type": "stream",
     "text": [
      "<class 'pandas.core.frame.DataFrame'>\n",
      "RangeIndex: 30000 entries, 0 to 29999\n",
      "Data columns (total 25 columns):\n",
      "ID                            30000 non-null int64\n",
      "LIMIT_BAL                     30000 non-null float64\n",
      "SEX                           30000 non-null int64\n",
      "EDUCATION                     30000 non-null int64\n",
      "MARRIAGE                      30000 non-null int64\n",
      "AGE                           30000 non-null int64\n",
      "PAY_0                         30000 non-null int64\n",
      "PAY_2                         30000 non-null int64\n",
      "PAY_3                         30000 non-null int64\n",
      "PAY_4                         30000 non-null int64\n",
      "PAY_5                         30000 non-null int64\n",
      "PAY_6                         30000 non-null int64\n",
      "BILL_AMT1                     30000 non-null float64\n",
      "BILL_AMT2                     30000 non-null float64\n",
      "BILL_AMT3                     30000 non-null float64\n",
      "BILL_AMT4                     30000 non-null float64\n",
      "BILL_AMT5                     30000 non-null float64\n",
      "BILL_AMT6                     30000 non-null float64\n",
      "PAY_AMT1                      30000 non-null float64\n",
      "PAY_AMT2                      30000 non-null float64\n",
      "PAY_AMT3                      30000 non-null float64\n",
      "PAY_AMT4                      30000 non-null float64\n",
      "PAY_AMT5                      30000 non-null float64\n",
      "PAY_AMT6                      30000 non-null float64\n",
      "default.payment.next.month    30000 non-null int64\n",
      "dtypes: float64(13), int64(12)\n",
      "memory usage: 5.7 MB\n"
     ]
    }
   ],
   "source": [
    "data.info()"
   ]
  },
  {
   "cell_type": "code",
   "execution_count": 337,
   "metadata": {
    "scrolled": true
   },
   "outputs": [
    {
     "data": {
      "text/html": [
       "<div>\n",
       "<style scoped>\n",
       "    .dataframe tbody tr th:only-of-type {\n",
       "        vertical-align: middle;\n",
       "    }\n",
       "\n",
       "    .dataframe tbody tr th {\n",
       "        vertical-align: top;\n",
       "    }\n",
       "\n",
       "    .dataframe thead th {\n",
       "        text-align: right;\n",
       "    }\n",
       "</style>\n",
       "<table border=\"1\" class=\"dataframe\">\n",
       "  <thead>\n",
       "    <tr style=\"text-align: right;\">\n",
       "      <th></th>\n",
       "      <th>count</th>\n",
       "      <th>mean</th>\n",
       "      <th>std</th>\n",
       "      <th>min</th>\n",
       "      <th>25%</th>\n",
       "      <th>50%</th>\n",
       "      <th>75%</th>\n",
       "      <th>max</th>\n",
       "    </tr>\n",
       "  </thead>\n",
       "  <tbody>\n",
       "    <tr>\n",
       "      <th>ID</th>\n",
       "      <td>30000.0</td>\n",
       "      <td>15000.500000</td>\n",
       "      <td>8660.398374</td>\n",
       "      <td>1.0</td>\n",
       "      <td>7500.75</td>\n",
       "      <td>15000.5</td>\n",
       "      <td>22500.25</td>\n",
       "      <td>30000.0</td>\n",
       "    </tr>\n",
       "    <tr>\n",
       "      <th>LIMIT_BAL</th>\n",
       "      <td>30000.0</td>\n",
       "      <td>167484.322667</td>\n",
       "      <td>129747.661567</td>\n",
       "      <td>10000.0</td>\n",
       "      <td>50000.00</td>\n",
       "      <td>140000.0</td>\n",
       "      <td>240000.00</td>\n",
       "      <td>1000000.0</td>\n",
       "    </tr>\n",
       "    <tr>\n",
       "      <th>SEX</th>\n",
       "      <td>30000.0</td>\n",
       "      <td>1.603733</td>\n",
       "      <td>0.489129</td>\n",
       "      <td>1.0</td>\n",
       "      <td>1.00</td>\n",
       "      <td>2.0</td>\n",
       "      <td>2.00</td>\n",
       "      <td>2.0</td>\n",
       "    </tr>\n",
       "    <tr>\n",
       "      <th>EDUCATION</th>\n",
       "      <td>30000.0</td>\n",
       "      <td>1.853133</td>\n",
       "      <td>0.790349</td>\n",
       "      <td>0.0</td>\n",
       "      <td>1.00</td>\n",
       "      <td>2.0</td>\n",
       "      <td>2.00</td>\n",
       "      <td>6.0</td>\n",
       "    </tr>\n",
       "    <tr>\n",
       "      <th>MARRIAGE</th>\n",
       "      <td>30000.0</td>\n",
       "      <td>1.551867</td>\n",
       "      <td>0.521970</td>\n",
       "      <td>0.0</td>\n",
       "      <td>1.00</td>\n",
       "      <td>2.0</td>\n",
       "      <td>2.00</td>\n",
       "      <td>3.0</td>\n",
       "    </tr>\n",
       "    <tr>\n",
       "      <th>AGE</th>\n",
       "      <td>30000.0</td>\n",
       "      <td>35.485500</td>\n",
       "      <td>9.217904</td>\n",
       "      <td>21.0</td>\n",
       "      <td>28.00</td>\n",
       "      <td>34.0</td>\n",
       "      <td>41.00</td>\n",
       "      <td>79.0</td>\n",
       "    </tr>\n",
       "    <tr>\n",
       "      <th>PAY_0</th>\n",
       "      <td>30000.0</td>\n",
       "      <td>-0.016700</td>\n",
       "      <td>1.123802</td>\n",
       "      <td>-2.0</td>\n",
       "      <td>-1.00</td>\n",
       "      <td>0.0</td>\n",
       "      <td>0.00</td>\n",
       "      <td>8.0</td>\n",
       "    </tr>\n",
       "    <tr>\n",
       "      <th>PAY_2</th>\n",
       "      <td>30000.0</td>\n",
       "      <td>-0.133767</td>\n",
       "      <td>1.197186</td>\n",
       "      <td>-2.0</td>\n",
       "      <td>-1.00</td>\n",
       "      <td>0.0</td>\n",
       "      <td>0.00</td>\n",
       "      <td>8.0</td>\n",
       "    </tr>\n",
       "    <tr>\n",
       "      <th>PAY_3</th>\n",
       "      <td>30000.0</td>\n",
       "      <td>-0.166200</td>\n",
       "      <td>1.196868</td>\n",
       "      <td>-2.0</td>\n",
       "      <td>-1.00</td>\n",
       "      <td>0.0</td>\n",
       "      <td>0.00</td>\n",
       "      <td>8.0</td>\n",
       "    </tr>\n",
       "    <tr>\n",
       "      <th>PAY_4</th>\n",
       "      <td>30000.0</td>\n",
       "      <td>-0.220667</td>\n",
       "      <td>1.169139</td>\n",
       "      <td>-2.0</td>\n",
       "      <td>-1.00</td>\n",
       "      <td>0.0</td>\n",
       "      <td>0.00</td>\n",
       "      <td>8.0</td>\n",
       "    </tr>\n",
       "    <tr>\n",
       "      <th>PAY_5</th>\n",
       "      <td>30000.0</td>\n",
       "      <td>-0.266200</td>\n",
       "      <td>1.133187</td>\n",
       "      <td>-2.0</td>\n",
       "      <td>-1.00</td>\n",
       "      <td>0.0</td>\n",
       "      <td>0.00</td>\n",
       "      <td>8.0</td>\n",
       "    </tr>\n",
       "    <tr>\n",
       "      <th>PAY_6</th>\n",
       "      <td>30000.0</td>\n",
       "      <td>-0.291100</td>\n",
       "      <td>1.149988</td>\n",
       "      <td>-2.0</td>\n",
       "      <td>-1.00</td>\n",
       "      <td>0.0</td>\n",
       "      <td>0.00</td>\n",
       "      <td>8.0</td>\n",
       "    </tr>\n",
       "    <tr>\n",
       "      <th>BILL_AMT1</th>\n",
       "      <td>30000.0</td>\n",
       "      <td>51223.330900</td>\n",
       "      <td>73635.860576</td>\n",
       "      <td>-165580.0</td>\n",
       "      <td>3558.75</td>\n",
       "      <td>22381.5</td>\n",
       "      <td>67091.00</td>\n",
       "      <td>964511.0</td>\n",
       "    </tr>\n",
       "    <tr>\n",
       "      <th>BILL_AMT2</th>\n",
       "      <td>30000.0</td>\n",
       "      <td>49179.075167</td>\n",
       "      <td>71173.768783</td>\n",
       "      <td>-69777.0</td>\n",
       "      <td>2984.75</td>\n",
       "      <td>21200.0</td>\n",
       "      <td>64006.25</td>\n",
       "      <td>983931.0</td>\n",
       "    </tr>\n",
       "    <tr>\n",
       "      <th>BILL_AMT3</th>\n",
       "      <td>30000.0</td>\n",
       "      <td>47013.154800</td>\n",
       "      <td>69349.387427</td>\n",
       "      <td>-157264.0</td>\n",
       "      <td>2666.25</td>\n",
       "      <td>20088.5</td>\n",
       "      <td>60164.75</td>\n",
       "      <td>1664089.0</td>\n",
       "    </tr>\n",
       "    <tr>\n",
       "      <th>BILL_AMT4</th>\n",
       "      <td>30000.0</td>\n",
       "      <td>43262.948967</td>\n",
       "      <td>64332.856134</td>\n",
       "      <td>-170000.0</td>\n",
       "      <td>2326.75</td>\n",
       "      <td>19052.0</td>\n",
       "      <td>54506.00</td>\n",
       "      <td>891586.0</td>\n",
       "    </tr>\n",
       "    <tr>\n",
       "      <th>BILL_AMT5</th>\n",
       "      <td>30000.0</td>\n",
       "      <td>40311.400967</td>\n",
       "      <td>60797.155770</td>\n",
       "      <td>-81334.0</td>\n",
       "      <td>1763.00</td>\n",
       "      <td>18104.5</td>\n",
       "      <td>50190.50</td>\n",
       "      <td>927171.0</td>\n",
       "    </tr>\n",
       "    <tr>\n",
       "      <th>BILL_AMT6</th>\n",
       "      <td>30000.0</td>\n",
       "      <td>38871.760400</td>\n",
       "      <td>59554.107537</td>\n",
       "      <td>-339603.0</td>\n",
       "      <td>1256.00</td>\n",
       "      <td>17071.0</td>\n",
       "      <td>49198.25</td>\n",
       "      <td>961664.0</td>\n",
       "    </tr>\n",
       "    <tr>\n",
       "      <th>PAY_AMT1</th>\n",
       "      <td>30000.0</td>\n",
       "      <td>5663.580500</td>\n",
       "      <td>16563.280354</td>\n",
       "      <td>0.0</td>\n",
       "      <td>1000.00</td>\n",
       "      <td>2100.0</td>\n",
       "      <td>5006.00</td>\n",
       "      <td>873552.0</td>\n",
       "    </tr>\n",
       "    <tr>\n",
       "      <th>PAY_AMT2</th>\n",
       "      <td>30000.0</td>\n",
       "      <td>5921.163500</td>\n",
       "      <td>23040.870402</td>\n",
       "      <td>0.0</td>\n",
       "      <td>833.00</td>\n",
       "      <td>2009.0</td>\n",
       "      <td>5000.00</td>\n",
       "      <td>1684259.0</td>\n",
       "    </tr>\n",
       "    <tr>\n",
       "      <th>PAY_AMT3</th>\n",
       "      <td>30000.0</td>\n",
       "      <td>5225.681500</td>\n",
       "      <td>17606.961470</td>\n",
       "      <td>0.0</td>\n",
       "      <td>390.00</td>\n",
       "      <td>1800.0</td>\n",
       "      <td>4505.00</td>\n",
       "      <td>896040.0</td>\n",
       "    </tr>\n",
       "    <tr>\n",
       "      <th>PAY_AMT4</th>\n",
       "      <td>30000.0</td>\n",
       "      <td>4826.076867</td>\n",
       "      <td>15666.159744</td>\n",
       "      <td>0.0</td>\n",
       "      <td>296.00</td>\n",
       "      <td>1500.0</td>\n",
       "      <td>4013.25</td>\n",
       "      <td>621000.0</td>\n",
       "    </tr>\n",
       "    <tr>\n",
       "      <th>PAY_AMT5</th>\n",
       "      <td>30000.0</td>\n",
       "      <td>4799.387633</td>\n",
       "      <td>15278.305679</td>\n",
       "      <td>0.0</td>\n",
       "      <td>252.50</td>\n",
       "      <td>1500.0</td>\n",
       "      <td>4031.50</td>\n",
       "      <td>426529.0</td>\n",
       "    </tr>\n",
       "    <tr>\n",
       "      <th>PAY_AMT6</th>\n",
       "      <td>30000.0</td>\n",
       "      <td>5215.502567</td>\n",
       "      <td>17777.465775</td>\n",
       "      <td>0.0</td>\n",
       "      <td>117.75</td>\n",
       "      <td>1500.0</td>\n",
       "      <td>4000.00</td>\n",
       "      <td>528666.0</td>\n",
       "    </tr>\n",
       "    <tr>\n",
       "      <th>default.payment.next.month</th>\n",
       "      <td>30000.0</td>\n",
       "      <td>0.221200</td>\n",
       "      <td>0.415062</td>\n",
       "      <td>0.0</td>\n",
       "      <td>0.00</td>\n",
       "      <td>0.0</td>\n",
       "      <td>0.00</td>\n",
       "      <td>1.0</td>\n",
       "    </tr>\n",
       "  </tbody>\n",
       "</table>\n",
       "</div>"
      ],
      "text/plain": [
       "                              count           mean            std       min  \\\n",
       "ID                          30000.0   15000.500000    8660.398374       1.0   \n",
       "LIMIT_BAL                   30000.0  167484.322667  129747.661567   10000.0   \n",
       "SEX                         30000.0       1.603733       0.489129       1.0   \n",
       "EDUCATION                   30000.0       1.853133       0.790349       0.0   \n",
       "MARRIAGE                    30000.0       1.551867       0.521970       0.0   \n",
       "AGE                         30000.0      35.485500       9.217904      21.0   \n",
       "PAY_0                       30000.0      -0.016700       1.123802      -2.0   \n",
       "PAY_2                       30000.0      -0.133767       1.197186      -2.0   \n",
       "PAY_3                       30000.0      -0.166200       1.196868      -2.0   \n",
       "PAY_4                       30000.0      -0.220667       1.169139      -2.0   \n",
       "PAY_5                       30000.0      -0.266200       1.133187      -2.0   \n",
       "PAY_6                       30000.0      -0.291100       1.149988      -2.0   \n",
       "BILL_AMT1                   30000.0   51223.330900   73635.860576 -165580.0   \n",
       "BILL_AMT2                   30000.0   49179.075167   71173.768783  -69777.0   \n",
       "BILL_AMT3                   30000.0   47013.154800   69349.387427 -157264.0   \n",
       "BILL_AMT4                   30000.0   43262.948967   64332.856134 -170000.0   \n",
       "BILL_AMT5                   30000.0   40311.400967   60797.155770  -81334.0   \n",
       "BILL_AMT6                   30000.0   38871.760400   59554.107537 -339603.0   \n",
       "PAY_AMT1                    30000.0    5663.580500   16563.280354       0.0   \n",
       "PAY_AMT2                    30000.0    5921.163500   23040.870402       0.0   \n",
       "PAY_AMT3                    30000.0    5225.681500   17606.961470       0.0   \n",
       "PAY_AMT4                    30000.0    4826.076867   15666.159744       0.0   \n",
       "PAY_AMT5                    30000.0    4799.387633   15278.305679       0.0   \n",
       "PAY_AMT6                    30000.0    5215.502567   17777.465775       0.0   \n",
       "default.payment.next.month  30000.0       0.221200       0.415062       0.0   \n",
       "\n",
       "                                 25%       50%        75%        max  \n",
       "ID                           7500.75   15000.5   22500.25    30000.0  \n",
       "LIMIT_BAL                   50000.00  140000.0  240000.00  1000000.0  \n",
       "SEX                             1.00       2.0       2.00        2.0  \n",
       "EDUCATION                       1.00       2.0       2.00        6.0  \n",
       "MARRIAGE                        1.00       2.0       2.00        3.0  \n",
       "AGE                            28.00      34.0      41.00       79.0  \n",
       "PAY_0                          -1.00       0.0       0.00        8.0  \n",
       "PAY_2                          -1.00       0.0       0.00        8.0  \n",
       "PAY_3                          -1.00       0.0       0.00        8.0  \n",
       "PAY_4                          -1.00       0.0       0.00        8.0  \n",
       "PAY_5                          -1.00       0.0       0.00        8.0  \n",
       "PAY_6                          -1.00       0.0       0.00        8.0  \n",
       "BILL_AMT1                    3558.75   22381.5   67091.00   964511.0  \n",
       "BILL_AMT2                    2984.75   21200.0   64006.25   983931.0  \n",
       "BILL_AMT3                    2666.25   20088.5   60164.75  1664089.0  \n",
       "BILL_AMT4                    2326.75   19052.0   54506.00   891586.0  \n",
       "BILL_AMT5                    1763.00   18104.5   50190.50   927171.0  \n",
       "BILL_AMT6                    1256.00   17071.0   49198.25   961664.0  \n",
       "PAY_AMT1                     1000.00    2100.0    5006.00   873552.0  \n",
       "PAY_AMT2                      833.00    2009.0    5000.00  1684259.0  \n",
       "PAY_AMT3                      390.00    1800.0    4505.00   896040.0  \n",
       "PAY_AMT4                      296.00    1500.0    4013.25   621000.0  \n",
       "PAY_AMT5                      252.50    1500.0    4031.50   426529.0  \n",
       "PAY_AMT6                      117.75    1500.0    4000.00   528666.0  \n",
       "default.payment.next.month      0.00       0.0       0.00        1.0  "
      ]
     },
     "execution_count": 337,
     "metadata": {},
     "output_type": "execute_result"
    }
   ],
   "source": [
    "data.describe().transpose()"
   ]
  },
  {
   "cell_type": "markdown",
   "metadata": {},
   "source": [
    "- 현 시점에서의 문제점 도출\n",
    "\n",
    "    1. EDUCATION, MARRIAGE의 이상치 처리 (0, 5, 6)\n",
    "    2. PAY 변수에서 설명되지 않은 -2와 0에 대한 처리 방법"
   ]
  },
  {
   "cell_type": "code",
   "execution_count": null,
   "metadata": {},
   "outputs": [],
   "source": []
  },
  {
   "cell_type": "markdown",
   "metadata": {},
   "source": [
    "#### EDUCATION, MARRIAGE의 이상치 처리\n",
    "\n",
    "    data description에 없는 0, 5, 6 데이터 관측치 수의 경우\n",
    "    30000개의 데이터중 1%정도의 불과하여 obs를 제거하는 방식 채택"
   ]
  },
  {
   "cell_type": "code",
   "execution_count": 338,
   "metadata": {},
   "outputs": [
    {
     "name": "stdout",
     "output_type": "stream",
     "text": [
      "ID : 0\n",
      "LIMIT_BAL : 0\n",
      "SEX : 0\n",
      "EDUCATION : 14\n",
      "MARRIAGE : 54\n",
      "AGE : 0\n",
      "PAY_0 : 14737\n",
      "PAY_2 : 15730\n",
      "PAY_3 : 15764\n",
      "PAY_4 : 16455\n",
      "PAY_5 : 16947\n",
      "PAY_6 : 16286\n",
      "BILL_AMT1 : 2008\n",
      "BILL_AMT2 : 2506\n",
      "BILL_AMT3 : 2870\n",
      "BILL_AMT4 : 3195\n",
      "BILL_AMT5 : 3506\n",
      "BILL_AMT6 : 4020\n",
      "PAY_AMT1 : 5249\n",
      "PAY_AMT2 : 5396\n",
      "PAY_AMT3 : 5968\n",
      "PAY_AMT4 : 6408\n",
      "PAY_AMT5 : 6703\n",
      "PAY_AMT6 : 7173\n",
      "default.payment.next.month : 23364\n"
     ]
    }
   ],
   "source": [
    "columns_list = data.columns\n",
    "\n",
    "for col in columns_list:\n",
    "    print(col, ':', sum(data[col] == 0))"
   ]
  },
  {
   "cell_type": "code",
   "execution_count": 339,
   "metadata": {
    "scrolled": true
   },
   "outputs": [
    {
     "name": "stdout",
     "output_type": "stream",
     "text": [
      "[2 1] [2 1 3 5 4 6 0] [1 2 3 0]\n"
     ]
    }
   ],
   "source": [
    "# 범주형 변수들의 class 조회\n",
    "print(data['SEX'].unique(),\n",
    "      data['EDUCATION'].unique(),\n",
    "      data['MARRIAGE'].unique())"
   ]
  },
  {
   "cell_type": "markdown",
   "metadata": {},
   "source": [
    "EDUCATION : (1 = 대학원, 2 = 대학, 3 = 고등학생, 4 = 기타).\n",
    "\n",
    "MARRIAGE : (1 = 결혼; 2 = 단일; 3 = 기타).\n",
    "\n",
    "하지만 EDUCATION에는 5,6,0\n",
    "\n",
    "MARRIAGE에는 0 이 들어있음"
   ]
  },
  {
   "cell_type": "code",
   "execution_count": 340,
   "metadata": {},
   "outputs": [
    {
     "data": {
      "text/plain": [
       "345"
      ]
     },
     "execution_count": 340,
     "metadata": {},
     "output_type": "execute_result"
    }
   ],
   "source": [
    "data['EDUCATION'].isin([5,6,0]).sum()"
   ]
  },
  {
   "cell_type": "code",
   "execution_count": 341,
   "metadata": {},
   "outputs": [
    {
     "data": {
      "text/plain": [
       "54"
      ]
     },
     "execution_count": 341,
     "metadata": {},
     "output_type": "execute_result"
    }
   ],
   "source": [
    "data['MARRIAGE'].isin([0]).sum()"
   ]
  },
  {
   "cell_type": "code",
   "execution_count": 342,
   "metadata": {},
   "outputs": [
    {
     "data": {
      "text/plain": [
       "0"
      ]
     },
     "execution_count": 342,
     "metadata": {},
     "output_type": "execute_result"
    }
   ],
   "source": [
    "# EDUCATION과 MARRIAGE의 결측값들 중 중복되는 관측값은 없는지 확인\n",
    "sum(data[(data['EDUCATION'] == 5)|(data['EDUCATION'] == 6) |(data['EDUCATION'] == 0)]['MARRIAGE'] == 0)"
   ]
  },
  {
   "cell_type": "markdown",
   "metadata": {},
   "source": [
    "dataset 전체의 obs대비 1.33%($\\frac{345+54}{30000} *100$)정도의 비율로 적은 갯수라 판단하여 관측값 제거 선택"
   ]
  },
  {
   "cell_type": "code",
   "execution_count": 343,
   "metadata": {},
   "outputs": [],
   "source": [
    "df = data[(data['EDUCATION'] != 5) & (data['EDUCATION'] != 6) & (data['EDUCATION'] != 0) &(data['MARRIAGE'] != 0)]"
   ]
  },
  {
   "cell_type": "markdown",
   "metadata": {},
   "source": [
    "    df = data에서 결측값을 제거한 DataFrame"
   ]
  },
  {
   "cell_type": "code",
   "execution_count": 344,
   "metadata": {
    "scrolled": true
   },
   "outputs": [
    {
     "data": {
      "text/plain": [
       "(29601, 25)"
      ]
     },
     "execution_count": 344,
     "metadata": {},
     "output_type": "execute_result"
    }
   ],
   "source": [
    "# 학습을 시작할 데이터셋의 shape\n",
    "df.shape"
   ]
  },
  {
   "cell_type": "code",
   "execution_count": 345,
   "metadata": {
    "scrolled": true
   },
   "outputs": [
    {
     "name": "stdout",
     "output_type": "stream",
     "text": [
      "22996 6605\n"
     ]
    }
   ],
   "source": [
    "print(df.iloc[:, -1].isin([0]).sum()\n",
    ",df.iloc[:, -1].isin([1]).sum())"
   ]
  },
  {
   "cell_type": "markdown",
   "metadata": {},
   "source": [
    "y = 응답 변수로 이진 변수 인 기본 지불 (예 : 1, 아니오 : 0)\n",
    "\n",
    "예 : 1 -> 6605\n",
    "\n",
    "아니오 : 0 -> 22996"
   ]
  },
  {
   "cell_type": "code",
   "execution_count": 346,
   "metadata": {},
   "outputs": [],
   "source": [
    "# ID 변수 제거\n",
    "df = df.iloc[:,1:]"
   ]
  },
  {
   "cell_type": "markdown",
   "metadata": {},
   "source": [
    "    연속형 : X1, X12-23\n",
    "    범주형 : X2-X11"
   ]
  },
  {
   "cell_type": "markdown",
   "metadata": {},
   "source": [
    "#### PAY 변수에서 설명되지 않은 -2와 0에 대한 처리 방법"
   ]
  },
  {
   "cell_type": "code",
   "execution_count": 347,
   "metadata": {},
   "outputs": [],
   "source": [
    "df_sub = df"
   ]
  },
  {
   "cell_type": "code",
   "execution_count": 20,
   "metadata": {
    "scrolled": true
   },
   "outputs": [],
   "source": [
    "df_sub[df_sub.iloc[:,5:11] == -2] = -1\n",
    "\n",
    "df_sub[df_sub.iloc[:,5:11] == 0] = -1"
   ]
  },
  {
   "cell_type": "code",
   "execution_count": 21,
   "metadata": {},
   "outputs": [
    {
     "data": {
      "text/plain": [
       "16"
      ]
     },
     "execution_count": 21,
     "metadata": {},
     "output_type": "execute_result"
    }
   ],
   "source": [
    "sum(df_sub.iloc[:,11] == -1)"
   ]
  },
  {
   "cell_type": "code",
   "execution_count": 22,
   "metadata": {
    "scrolled": true
   },
   "outputs": [],
   "source": [
    "df_dummy = df_sub.join(pd.get_dummies(df_sub['SEX'], prefix='SEX'))"
   ]
  },
  {
   "cell_type": "code",
   "execution_count": 23,
   "metadata": {},
   "outputs": [],
   "source": [
    "df_dummy = df_dummy.join(pd.get_dummies(df_sub['EDUCATION'], prefix='EDU'))"
   ]
  },
  {
   "cell_type": "code",
   "execution_count": 24,
   "metadata": {},
   "outputs": [],
   "source": [
    "df_dummy = df_dummy.join(pd.get_dummies(df_sub['MARRIAGE'], prefix='MERRY'))"
   ]
  },
  {
   "cell_type": "code",
   "execution_count": 25,
   "metadata": {},
   "outputs": [
    {
     "data": {
      "text/html": [
       "<div>\n",
       "<style scoped>\n",
       "    .dataframe tbody tr th:only-of-type {\n",
       "        vertical-align: middle;\n",
       "    }\n",
       "\n",
       "    .dataframe tbody tr th {\n",
       "        vertical-align: top;\n",
       "    }\n",
       "\n",
       "    .dataframe thead th {\n",
       "        text-align: right;\n",
       "    }\n",
       "</style>\n",
       "<table border=\"1\" class=\"dataframe\">\n",
       "  <thead>\n",
       "    <tr style=\"text-align: right;\">\n",
       "      <th></th>\n",
       "      <th>LIMIT_BAL</th>\n",
       "      <th>SEX</th>\n",
       "      <th>EDUCATION</th>\n",
       "      <th>MARRIAGE</th>\n",
       "      <th>AGE</th>\n",
       "      <th>PAY_0</th>\n",
       "      <th>PAY_2</th>\n",
       "      <th>PAY_3</th>\n",
       "      <th>PAY_4</th>\n",
       "      <th>PAY_5</th>\n",
       "      <th>...</th>\n",
       "      <th>default.payment.next.month</th>\n",
       "      <th>SEX_1</th>\n",
       "      <th>SEX_2</th>\n",
       "      <th>EDU_1</th>\n",
       "      <th>EDU_2</th>\n",
       "      <th>EDU_3</th>\n",
       "      <th>EDU_4</th>\n",
       "      <th>MERRY_1</th>\n",
       "      <th>MERRY_2</th>\n",
       "      <th>MERRY_3</th>\n",
       "    </tr>\n",
       "  </thead>\n",
       "  <tbody>\n",
       "    <tr>\n",
       "      <th>0</th>\n",
       "      <td>20000.0</td>\n",
       "      <td>2</td>\n",
       "      <td>2</td>\n",
       "      <td>1</td>\n",
       "      <td>24</td>\n",
       "      <td>2</td>\n",
       "      <td>2</td>\n",
       "      <td>-1</td>\n",
       "      <td>-1</td>\n",
       "      <td>-1</td>\n",
       "      <td>...</td>\n",
       "      <td>1</td>\n",
       "      <td>0</td>\n",
       "      <td>1</td>\n",
       "      <td>0</td>\n",
       "      <td>1</td>\n",
       "      <td>0</td>\n",
       "      <td>0</td>\n",
       "      <td>1</td>\n",
       "      <td>0</td>\n",
       "      <td>0</td>\n",
       "    </tr>\n",
       "    <tr>\n",
       "      <th>1</th>\n",
       "      <td>120000.0</td>\n",
       "      <td>2</td>\n",
       "      <td>2</td>\n",
       "      <td>2</td>\n",
       "      <td>26</td>\n",
       "      <td>-1</td>\n",
       "      <td>2</td>\n",
       "      <td>-1</td>\n",
       "      <td>-1</td>\n",
       "      <td>-1</td>\n",
       "      <td>...</td>\n",
       "      <td>1</td>\n",
       "      <td>0</td>\n",
       "      <td>1</td>\n",
       "      <td>0</td>\n",
       "      <td>1</td>\n",
       "      <td>0</td>\n",
       "      <td>0</td>\n",
       "      <td>0</td>\n",
       "      <td>1</td>\n",
       "      <td>0</td>\n",
       "    </tr>\n",
       "    <tr>\n",
       "      <th>2</th>\n",
       "      <td>90000.0</td>\n",
       "      <td>2</td>\n",
       "      <td>2</td>\n",
       "      <td>2</td>\n",
       "      <td>34</td>\n",
       "      <td>-1</td>\n",
       "      <td>-1</td>\n",
       "      <td>-1</td>\n",
       "      <td>-1</td>\n",
       "      <td>-1</td>\n",
       "      <td>...</td>\n",
       "      <td>0</td>\n",
       "      <td>0</td>\n",
       "      <td>1</td>\n",
       "      <td>0</td>\n",
       "      <td>1</td>\n",
       "      <td>0</td>\n",
       "      <td>0</td>\n",
       "      <td>0</td>\n",
       "      <td>1</td>\n",
       "      <td>0</td>\n",
       "    </tr>\n",
       "    <tr>\n",
       "      <th>3</th>\n",
       "      <td>50000.0</td>\n",
       "      <td>2</td>\n",
       "      <td>2</td>\n",
       "      <td>1</td>\n",
       "      <td>37</td>\n",
       "      <td>-1</td>\n",
       "      <td>-1</td>\n",
       "      <td>-1</td>\n",
       "      <td>-1</td>\n",
       "      <td>-1</td>\n",
       "      <td>...</td>\n",
       "      <td>0</td>\n",
       "      <td>0</td>\n",
       "      <td>1</td>\n",
       "      <td>0</td>\n",
       "      <td>1</td>\n",
       "      <td>0</td>\n",
       "      <td>0</td>\n",
       "      <td>1</td>\n",
       "      <td>0</td>\n",
       "      <td>0</td>\n",
       "    </tr>\n",
       "    <tr>\n",
       "      <th>4</th>\n",
       "      <td>50000.0</td>\n",
       "      <td>1</td>\n",
       "      <td>2</td>\n",
       "      <td>1</td>\n",
       "      <td>57</td>\n",
       "      <td>-1</td>\n",
       "      <td>-1</td>\n",
       "      <td>-1</td>\n",
       "      <td>-1</td>\n",
       "      <td>-1</td>\n",
       "      <td>...</td>\n",
       "      <td>0</td>\n",
       "      <td>1</td>\n",
       "      <td>0</td>\n",
       "      <td>0</td>\n",
       "      <td>1</td>\n",
       "      <td>0</td>\n",
       "      <td>0</td>\n",
       "      <td>1</td>\n",
       "      <td>0</td>\n",
       "      <td>0</td>\n",
       "    </tr>\n",
       "  </tbody>\n",
       "</table>\n",
       "<p>5 rows × 33 columns</p>\n",
       "</div>"
      ],
      "text/plain": [
       "   LIMIT_BAL  SEX  EDUCATION  MARRIAGE  AGE  PAY_0  PAY_2  PAY_3  PAY_4  \\\n",
       "0    20000.0    2          2         1   24      2      2     -1     -1   \n",
       "1   120000.0    2          2         2   26     -1      2     -1     -1   \n",
       "2    90000.0    2          2         2   34     -1     -1     -1     -1   \n",
       "3    50000.0    2          2         1   37     -1     -1     -1     -1   \n",
       "4    50000.0    1          2         1   57     -1     -1     -1     -1   \n",
       "\n",
       "   PAY_5  ...  default.payment.next.month  SEX_1  SEX_2  EDU_1  EDU_2  EDU_3  \\\n",
       "0     -1  ...                           1      0      1      0      1      0   \n",
       "1     -1  ...                           1      0      1      0      1      0   \n",
       "2     -1  ...                           0      0      1      0      1      0   \n",
       "3     -1  ...                           0      0      1      0      1      0   \n",
       "4     -1  ...                           0      1      0      0      1      0   \n",
       "\n",
       "   EDU_4  MERRY_1  MERRY_2  MERRY_3  \n",
       "0      0        1        0        0  \n",
       "1      0        0        1        0  \n",
       "2      0        0        1        0  \n",
       "3      0        1        0        0  \n",
       "4      0        1        0        0  \n",
       "\n",
       "[5 rows x 33 columns]"
      ]
     },
     "execution_count": 25,
     "metadata": {},
     "output_type": "execute_result"
    }
   ],
   "source": [
    "df_dummy.head()"
   ]
  },
  {
   "cell_type": "code",
   "execution_count": 26,
   "metadata": {},
   "outputs": [
    {
     "name": "stdout",
     "output_type": "stream",
     "text": [
      "9517 11096 8988\n"
     ]
    }
   ],
   "source": [
    "print(sum(df_dummy['AGE'] < 30),\n",
    "sum((df_dummy['AGE'] < 40) & (df_dummy['AGE'] >= 30)),\n",
    "      sum(df_dummy['AGE'] >= 40))"
   ]
  },
  {
   "cell_type": "markdown",
   "metadata": {},
   "source": [
    "- 연령 범주화\n",
    "\n",
    "    - 20대 -> 0\n",
    "    - 30대 -> 1\n",
    "    - 40대 -> 2"
   ]
  },
  {
   "cell_type": "code",
   "execution_count": 27,
   "metadata": {},
   "outputs": [],
   "source": [
    "df_sub[df_sub['AGE'] < 30] = 0\n",
    "df_sub[(df_sub['AGE'] < 40) & (df_sub['AGE'] >= 30)] = 1\n",
    "df_sub[df_sub['AGE'] >= 40] = 2"
   ]
  },
  {
   "cell_type": "code",
   "execution_count": 28,
   "metadata": {},
   "outputs": [],
   "source": [
    "df_dummy = df_dummy.join(pd.get_dummies(df_sub['AGE'], prefix='AGE'))"
   ]
  },
  {
   "cell_type": "code",
   "execution_count": 29,
   "metadata": {},
   "outputs": [
    {
     "data": {
      "text/html": [
       "<div>\n",
       "<style scoped>\n",
       "    .dataframe tbody tr th:only-of-type {\n",
       "        vertical-align: middle;\n",
       "    }\n",
       "\n",
       "    .dataframe tbody tr th {\n",
       "        vertical-align: top;\n",
       "    }\n",
       "\n",
       "    .dataframe thead th {\n",
       "        text-align: right;\n",
       "    }\n",
       "</style>\n",
       "<table border=\"1\" class=\"dataframe\">\n",
       "  <thead>\n",
       "    <tr style=\"text-align: right;\">\n",
       "      <th></th>\n",
       "      <th>LIMIT_BAL</th>\n",
       "      <th>SEX</th>\n",
       "      <th>EDUCATION</th>\n",
       "      <th>MARRIAGE</th>\n",
       "      <th>AGE</th>\n",
       "      <th>PAY_0</th>\n",
       "      <th>PAY_2</th>\n",
       "      <th>PAY_3</th>\n",
       "      <th>PAY_4</th>\n",
       "      <th>PAY_5</th>\n",
       "      <th>...</th>\n",
       "      <th>EDU_1</th>\n",
       "      <th>EDU_2</th>\n",
       "      <th>EDU_3</th>\n",
       "      <th>EDU_4</th>\n",
       "      <th>MERRY_1</th>\n",
       "      <th>MERRY_2</th>\n",
       "      <th>MERRY_3</th>\n",
       "      <th>AGE_0</th>\n",
       "      <th>AGE_1</th>\n",
       "      <th>AGE_2</th>\n",
       "    </tr>\n",
       "  </thead>\n",
       "  <tbody>\n",
       "    <tr>\n",
       "      <th>0</th>\n",
       "      <td>20000.0</td>\n",
       "      <td>2</td>\n",
       "      <td>2</td>\n",
       "      <td>1</td>\n",
       "      <td>24</td>\n",
       "      <td>2</td>\n",
       "      <td>2</td>\n",
       "      <td>-1</td>\n",
       "      <td>-1</td>\n",
       "      <td>-1</td>\n",
       "      <td>...</td>\n",
       "      <td>0</td>\n",
       "      <td>1</td>\n",
       "      <td>0</td>\n",
       "      <td>0</td>\n",
       "      <td>1</td>\n",
       "      <td>0</td>\n",
       "      <td>0</td>\n",
       "      <td>1</td>\n",
       "      <td>0</td>\n",
       "      <td>0</td>\n",
       "    </tr>\n",
       "    <tr>\n",
       "      <th>1</th>\n",
       "      <td>120000.0</td>\n",
       "      <td>2</td>\n",
       "      <td>2</td>\n",
       "      <td>2</td>\n",
       "      <td>26</td>\n",
       "      <td>-1</td>\n",
       "      <td>2</td>\n",
       "      <td>-1</td>\n",
       "      <td>-1</td>\n",
       "      <td>-1</td>\n",
       "      <td>...</td>\n",
       "      <td>0</td>\n",
       "      <td>1</td>\n",
       "      <td>0</td>\n",
       "      <td>0</td>\n",
       "      <td>0</td>\n",
       "      <td>1</td>\n",
       "      <td>0</td>\n",
       "      <td>1</td>\n",
       "      <td>0</td>\n",
       "      <td>0</td>\n",
       "    </tr>\n",
       "    <tr>\n",
       "      <th>2</th>\n",
       "      <td>90000.0</td>\n",
       "      <td>2</td>\n",
       "      <td>2</td>\n",
       "      <td>2</td>\n",
       "      <td>34</td>\n",
       "      <td>-1</td>\n",
       "      <td>-1</td>\n",
       "      <td>-1</td>\n",
       "      <td>-1</td>\n",
       "      <td>-1</td>\n",
       "      <td>...</td>\n",
       "      <td>0</td>\n",
       "      <td>1</td>\n",
       "      <td>0</td>\n",
       "      <td>0</td>\n",
       "      <td>0</td>\n",
       "      <td>1</td>\n",
       "      <td>0</td>\n",
       "      <td>0</td>\n",
       "      <td>1</td>\n",
       "      <td>0</td>\n",
       "    </tr>\n",
       "    <tr>\n",
       "      <th>3</th>\n",
       "      <td>50000.0</td>\n",
       "      <td>2</td>\n",
       "      <td>2</td>\n",
       "      <td>1</td>\n",
       "      <td>37</td>\n",
       "      <td>-1</td>\n",
       "      <td>-1</td>\n",
       "      <td>-1</td>\n",
       "      <td>-1</td>\n",
       "      <td>-1</td>\n",
       "      <td>...</td>\n",
       "      <td>0</td>\n",
       "      <td>1</td>\n",
       "      <td>0</td>\n",
       "      <td>0</td>\n",
       "      <td>1</td>\n",
       "      <td>0</td>\n",
       "      <td>0</td>\n",
       "      <td>0</td>\n",
       "      <td>1</td>\n",
       "      <td>0</td>\n",
       "    </tr>\n",
       "    <tr>\n",
       "      <th>4</th>\n",
       "      <td>50000.0</td>\n",
       "      <td>1</td>\n",
       "      <td>2</td>\n",
       "      <td>1</td>\n",
       "      <td>57</td>\n",
       "      <td>-1</td>\n",
       "      <td>-1</td>\n",
       "      <td>-1</td>\n",
       "      <td>-1</td>\n",
       "      <td>-1</td>\n",
       "      <td>...</td>\n",
       "      <td>0</td>\n",
       "      <td>1</td>\n",
       "      <td>0</td>\n",
       "      <td>0</td>\n",
       "      <td>1</td>\n",
       "      <td>0</td>\n",
       "      <td>0</td>\n",
       "      <td>0</td>\n",
       "      <td>0</td>\n",
       "      <td>1</td>\n",
       "    </tr>\n",
       "  </tbody>\n",
       "</table>\n",
       "<p>5 rows × 36 columns</p>\n",
       "</div>"
      ],
      "text/plain": [
       "   LIMIT_BAL  SEX  EDUCATION  MARRIAGE  AGE  PAY_0  PAY_2  PAY_3  PAY_4  \\\n",
       "0    20000.0    2          2         1   24      2      2     -1     -1   \n",
       "1   120000.0    2          2         2   26     -1      2     -1     -1   \n",
       "2    90000.0    2          2         2   34     -1     -1     -1     -1   \n",
       "3    50000.0    2          2         1   37     -1     -1     -1     -1   \n",
       "4    50000.0    1          2         1   57     -1     -1     -1     -1   \n",
       "\n",
       "   PAY_5  ...  EDU_1  EDU_2  EDU_3  EDU_4  MERRY_1  MERRY_2  MERRY_3  AGE_0  \\\n",
       "0     -1  ...      0      1      0      0        1        0        0      1   \n",
       "1     -1  ...      0      1      0      0        0        1        0      1   \n",
       "2     -1  ...      0      1      0      0        0        1        0      0   \n",
       "3     -1  ...      0      1      0      0        1        0        0      0   \n",
       "4     -1  ...      0      1      0      0        1        0        0      0   \n",
       "\n",
       "   AGE_1  AGE_2  \n",
       "0      0      0  \n",
       "1      0      0  \n",
       "2      1      0  \n",
       "3      1      0  \n",
       "4      0      1  \n",
       "\n",
       "[5 rows x 36 columns]"
      ]
     },
     "execution_count": 29,
     "metadata": {},
     "output_type": "execute_result"
    }
   ],
   "source": [
    "df_dummy.head()"
   ]
  },
  {
   "cell_type": "code",
   "execution_count": 30,
   "metadata": {
    "scrolled": true
   },
   "outputs": [],
   "source": [
    "df_dummy = df_dummy.drop(['SEX', 'EDUCATION', 'MARRIAGE', 'AGE'], axis = 1)"
   ]
  },
  {
   "cell_type": "code",
   "execution_count": null,
   "metadata": {},
   "outputs": [],
   "source": []
  },
  {
   "cell_type": "markdown",
   "metadata": {},
   "source": [
    "    PAY데이터는 dummy변환을 안한 상태"
   ]
  },
  {
   "cell_type": "code",
   "execution_count": 31,
   "metadata": {},
   "outputs": [
    {
     "data": {
      "image/png": "[encoded data removed]",
      "text/plain": [
       "<Figure size 1800x720 with 2 Axes>"
      ]
     },
     "metadata": {},
     "output_type": "display_data"
    }
   ],
   "source": [
    "import seaborn as sns\n",
    "\n",
    "sns.set(rc = {'figure.figsize' : (25,10)})\n",
    "cmap = sns.light_palette(\"darkgray\", as_cmap = True)\n",
    "sns.heatmap(df_dummy.corr(), annot = True, cmap = cmap)\n",
    "plt.show()"
   ]
  },
  {
   "cell_type": "markdown",
   "metadata": {},
   "source": [
    "    StandardScaler(X): 평균이 0과 표준편차가 1이 되도록 변환. (양쪽으로 나눈 분포 형태)\n",
    "    RobustScaler(X): 중앙값(median)이 0, IQR(interquartile range)이 1이 되도록 변환.\n",
    "    MinMaxScaler(X): 최대값이 각각 1, 최소값이 0이 되도록 변환 (정규분포 형태)\n",
    "    MaxAbsScaler(X): 0을 기준으로 절대값이 가장 큰 수가 1또는 -1이 되도록 변환 (중앙에 밀집한 분포 형태)"
   ]
  },
  {
   "cell_type": "code",
   "execution_count": 32,
   "metadata": {
    "scrolled": true
   },
   "outputs": [],
   "source": [
    "from sklearn.preprocessing import MaxAbsScaler\n",
    "\n",
    "scaler = MaxAbsScaler()\n",
    "df_dummy[['LIMIT_BAL', 'PAY_0', 'PAY_2', 'PAY_3', 'PAY_4', 'PAY_5', 'PAY_6',\n",
    "       'BILL_AMT1', 'BILL_AMT2', 'BILL_AMT3', 'BILL_AMT4', 'BILL_AMT5',\n",
    "       'BILL_AMT6', 'PAY_AMT1', 'PAY_AMT2', 'PAY_AMT3', 'PAY_AMT4', 'PAY_AMT5',\n",
    "       'PAY_AMT6']] = scaler.fit_transform(df_dummy[['LIMIT_BAL', 'PAY_0', 'PAY_2', 'PAY_3', 'PAY_4', 'PAY_5', 'PAY_6',\n",
    "       'BILL_AMT1', 'BILL_AMT2', 'BILL_AMT3', 'BILL_AMT4', 'BILL_AMT5',\n",
    "       'BILL_AMT6', 'PAY_AMT1', 'PAY_AMT2', 'PAY_AMT3', 'PAY_AMT4', 'PAY_AMT5',\n",
    "       'PAY_AMT6']])"
   ]
  },
  {
   "cell_type": "code",
   "execution_count": 33,
   "metadata": {},
   "outputs": [],
   "source": [
    "from sklearn.preprocessing import StandardScaler\n",
    "\n",
    "scaler = StandardScaler()\n",
    "df_dummy[['LIMIT_BAL', 'PAY_0', 'PAY_2', 'PAY_3', 'PAY_4', 'PAY_5', 'PAY_6',\n",
    "       'BILL_AMT1', 'BILL_AMT2', 'BILL_AMT3', 'BILL_AMT4', 'BILL_AMT5',\n",
    "       'BILL_AMT6', 'PAY_AMT1', 'PAY_AMT2', 'PAY_AMT3', 'PAY_AMT4', 'PAY_AMT5',\n",
    "       'PAY_AMT6']] = scaler.fit_transform(df_dummy[['LIMIT_BAL', 'PAY_0', 'PAY_2', 'PAY_3', 'PAY_4', 'PAY_5', 'PAY_6',\n",
    "       'BILL_AMT1', 'BILL_AMT2', 'BILL_AMT3', 'BILL_AMT4', 'BILL_AMT5',\n",
    "       'BILL_AMT6', 'PAY_AMT1', 'PAY_AMT2', 'PAY_AMT3', 'PAY_AMT4', 'PAY_AMT5',\n",
    "       'PAY_AMT6']])"
   ]
  },
  {
   "cell_type": "code",
   "execution_count": 117,
   "metadata": {},
   "outputs": [],
   "source": [
    "from sklearn.preprocessing import MinMaxScaler\n",
    "\n",
    "scaler = MinMaxScaler()\n",
    "df_dummy[['LIMIT_BAL', 'PAY_0', 'PAY_2', 'PAY_3', 'PAY_4', 'PAY_5', 'PAY_6',\n",
    "       'BILL_AMT1', 'BILL_AMT2', 'BILL_AMT3', 'BILL_AMT4', 'BILL_AMT5',\n",
    "       'BILL_AMT6', 'PAY_AMT1', 'PAY_AMT2', 'PAY_AMT3', 'PAY_AMT4', 'PAY_AMT5',\n",
    "       'PAY_AMT6']] = scaler.fit_transform(df_dummy[['LIMIT_BAL', 'PAY_0', 'PAY_2', 'PAY_3', 'PAY_4', 'PAY_5', 'PAY_6',\n",
    "       'BILL_AMT1', 'BILL_AMT2', 'BILL_AMT3', 'BILL_AMT4', 'BILL_AMT5',\n",
    "       'BILL_AMT6', 'PAY_AMT1', 'PAY_AMT2', 'PAY_AMT3', 'PAY_AMT4', 'PAY_AMT5',\n",
    "       'PAY_AMT6']])"
   ]
  },
  {
   "cell_type": "code",
   "execution_count": 133,
   "metadata": {},
   "outputs": [],
   "source": [
    "from sklearn.preprocessing import RobustScaler\n",
    "\n",
    "scaler = RobustScaler()\n",
    "df_dummy[['LIMIT_BAL', 'PAY_0', 'PAY_2', 'PAY_3', 'PAY_4', 'PAY_5', 'PAY_6',\n",
    "       'BILL_AMT1', 'BILL_AMT2', 'BILL_AMT3', 'BILL_AMT4', 'BILL_AMT5',\n",
    "       'BILL_AMT6', 'PAY_AMT1', 'PAY_AMT2', 'PAY_AMT3', 'PAY_AMT4', 'PAY_AMT5',\n",
    "       'PAY_AMT6']] = scaler.fit_transform(df_dummy[['LIMIT_BAL', 'PAY_0', 'PAY_2', 'PAY_3', 'PAY_4', 'PAY_5', 'PAY_6',\n",
    "       'BILL_AMT1', 'BILL_AMT2', 'BILL_AMT3', 'BILL_AMT4', 'BILL_AMT5',\n",
    "       'BILL_AMT6', 'PAY_AMT1', 'PAY_AMT2', 'PAY_AMT3', 'PAY_AMT4', 'PAY_AMT5',\n",
    "       'PAY_AMT6']])"
   ]
  },
  {
   "cell_type": "markdown",
   "metadata": {},
   "source": [
    "#### y값의 비율"
   ]
  },
  {
   "cell_type": "code",
   "execution_count": 34,
   "metadata": {},
   "outputs": [
    {
     "name": "stdout",
     "output_type": "stream",
     "text": [
      "6605 22996 29601\n"
     ]
    }
   ],
   "source": [
    "print(sum(df_dummy['default.payment.next.month'] == 1),\n",
    "      sum(df_dummy['default.payment.next.month'] == 0),\n",
    "      df_dummy['default.payment.next.month'].count())"
   ]
  },
  {
   "cell_type": "code",
   "execution_count": 35,
   "metadata": {},
   "outputs": [
    {
     "name": "stdout",
     "output_type": "stream",
     "text": [
      "0.2231343535691362 0.7768656464308639\n"
     ]
    }
   ],
   "source": [
    "print(6605/29601, 22996/29601)"
   ]
  },
  {
   "cell_type": "code",
   "execution_count": 36,
   "metadata": {},
   "outputs": [],
   "source": [
    "# 층화추출\n",
    "from sklearn.model_selection import StratifiedShuffleSplit\n",
    "\n",
    "split = StratifiedShuffleSplit(n_splits = 2, test_size = 0.2, random_state = 20190730)\n",
    "for train_index, test_index in split.split(df_dummy, df_dummy['default.payment.next.month']):\n",
    "    train_set = df_dummy.iloc[train_index]\n",
    "    test_set = df_dummy.iloc[test_index]"
   ]
  },
  {
   "cell_type": "code",
   "execution_count": 37,
   "metadata": {},
   "outputs": [
    {
     "data": {
      "text/plain": [
       "(5921, 32)"
      ]
     },
     "execution_count": 37,
     "metadata": {},
     "output_type": "execute_result"
    }
   ],
   "source": [
    "test_set.shape"
   ]
  },
  {
   "cell_type": "code",
   "execution_count": 38,
   "metadata": {},
   "outputs": [
    {
     "data": {
      "text/plain": [
       "(23680, 32)"
      ]
     },
     "execution_count": 38,
     "metadata": {},
     "output_type": "execute_result"
    }
   ],
   "source": [
    "train_set.shape"
   ]
  },
  {
   "cell_type": "code",
   "execution_count": 39,
   "metadata": {},
   "outputs": [],
   "source": [
    "y_train_set = train_set['default.payment.next.month']\n",
    "x_train_set = train_set.drop(['default.payment.next.month'], axis=1)\n",
    "\n",
    "y_test_set = test_set['default.payment.next.month']\n",
    "x_test_set = test_set.drop(['default.payment.next.month'], axis=1)"
   ]
  },
  {
   "cell_type": "code",
   "execution_count": null,
   "metadata": {},
   "outputs": [],
   "source": []
  },
  {
   "cell_type": "markdown",
   "metadata": {},
   "source": [
    "### PAY부분은 살린 후 회귀분석"
   ]
  },
  {
   "cell_type": "code",
   "execution_count": 40,
   "metadata": {},
   "outputs": [
    {
     "name": "stderr",
     "output_type": "stream",
     "text": [
      "C:\\ProgramData\\Anaconda3\\envs\\keras\\lib\\site-packages\\sklearn\\linear_model\\logistic.py:432: FutureWarning: Default solver will be changed to 'lbfgs' in 0.22. Specify a solver to silence this warning.\n",
      "  FutureWarning)\n"
     ]
    }
   ],
   "source": [
    "from sklearn.linear_model import LogisticRegression\n",
    "lr = LogisticRegression(random_state = 20190730)\n",
    "lr.fit(x_train_set, y_train_set)\n",
    "pred_y = lr.predict(x_test_set)"
   ]
  },
  {
   "cell_type": "code",
   "execution_count": 41,
   "metadata": {
    "scrolled": true
   },
   "outputs": [
    {
     "name": "stdout",
     "output_type": "stream",
     "text": [
      "Optimization terminated successfully.\n",
      "         Current function value: 0.444258\n",
      "         Iterations 8\n",
      "                               Logit Regression Results                               \n",
      "======================================================================================\n",
      "Dep. Variable:     default.payment.next.month   No. Observations:                23680\n",
      "Model:                                  Logit   Df Residuals:                    23652\n",
      "Method:                                   MLE   Df Model:                           27\n",
      "Date:                        Wed, 31 Jul 2019   Pseudo R-squ.:                  0.1631\n",
      "Time:                                09:14:30   Log-Likelihood:                -10520.\n",
      "converged:                               True   LL-Null:                       -12571.\n",
      "Covariance Type:                    nonrobust   LLR p-value:                     0.000\n",
      "==============================================================================\n",
      "                 coef    std err          z      P>|z|      [0.025      0.975]\n",
      "------------------------------------------------------------------------------\n",
      "LIMIT_BAL     -0.1759      0.023     -7.662      0.000      -0.221      -0.131\n",
      "PAY_0          0.6742      0.021     32.069      0.000       0.633       0.715\n",
      "PAY_2          0.0105      0.024      0.441      0.659      -0.036       0.057\n",
      "PAY_3          0.1032      0.024      4.261      0.000       0.056       0.151\n",
      "PAY_4          0.0742      0.026      2.885      0.004       0.024       0.125\n",
      "PAY_5          0.0667      0.026      2.562      0.010       0.016       0.118\n",
      "PAY_6          0.1173      0.022      5.309      0.000       0.074       0.161\n",
      "BILL_AMT1     -0.1087      0.084     -1.290      0.197      -0.274       0.056\n",
      "BILL_AMT2      0.1792      0.109      1.643      0.100      -0.035       0.393\n",
      "BILL_AMT3      0.0504      0.100      0.505      0.614      -0.145       0.246\n",
      "BILL_AMT4      0.0414      0.094      0.441      0.659      -0.142       0.225\n",
      "BILL_AMT5      0.0532      0.099      0.539      0.590      -0.140       0.247\n",
      "BILL_AMT6     -0.1444      0.078     -1.863      0.062      -0.296       0.008\n",
      "PAY_AMT1      -0.1740      0.040     -4.307      0.000      -0.253      -0.095\n",
      "PAY_AMT2      -0.2186      0.055     -3.974      0.000      -0.326      -0.111\n",
      "PAY_AMT3      -0.0303      0.032     -0.941      0.347      -0.093       0.033\n",
      "PAY_AMT4      -0.0417      0.031     -1.348      0.178      -0.102       0.019\n",
      "PAY_AMT5      -0.0225      0.030     -0.746      0.455      -0.082       0.037\n",
      "PAY_AMT6      -0.0331      0.025     -1.318      0.187      -0.082       0.016\n",
      "SEX_1         -0.5322   9.03e+05  -5.89e-07      1.000   -1.77e+06    1.77e+06\n",
      "SEX_2         -0.6636   1.66e+06     -4e-07      1.000   -3.25e+06    3.25e+06\n",
      "EDU_1          0.0034        nan        nan        nan         nan         nan\n",
      "EDU_2          0.0053        nan        nan        nan         nan         nan\n",
      "EDU_3         -0.0575        nan        nan        nan         nan         nan\n",
      "EDU_4         -1.1469        nan        nan        nan         nan         nan\n",
      "MERRY_1       -0.3169        nan        nan        nan         nan         nan\n",
      "MERRY_2       -0.5148        nan        nan        nan         nan         nan\n",
      "MERRY_3       -0.3640        nan        nan        nan         nan         nan\n",
      "AGE_0         -0.4116   1.27e+06  -3.24e-07      1.000   -2.49e+06    2.49e+06\n",
      "AGE_1         -0.4326   1.27e+06   -3.4e-07      1.000   -2.49e+06    2.49e+06\n",
      "AGE_2         -0.3515   1.27e+06  -2.76e-07      1.000   -2.49e+06    2.49e+06\n",
      "==============================================================================\n"
     ]
    },
    {
     "name": "stderr",
     "output_type": "stream",
     "text": [
      "C:\\ProgramData\\Anaconda3\\envs\\keras\\lib\\site-packages\\statsmodels\\base\\model.py:1286: RuntimeWarning: invalid value encountered in sqrt\n",
      "  bse_ = np.sqrt(np.diag(self.cov_params()))\n",
      "C:\\ProgramData\\Anaconda3\\envs\\keras\\lib\\site-packages\\scipy\\stats\\_distn_infrastructure.py:877: RuntimeWarning: invalid value encountered in greater\n",
      "  return (self.a < x) & (x < self.b)\n",
      "C:\\ProgramData\\Anaconda3\\envs\\keras\\lib\\site-packages\\scipy\\stats\\_distn_infrastructure.py:877: RuntimeWarning: invalid value encountered in less\n",
      "  return (self.a < x) & (x < self.b)\n",
      "C:\\ProgramData\\Anaconda3\\envs\\keras\\lib\\site-packages\\scipy\\stats\\_distn_infrastructure.py:1831: RuntimeWarning: invalid value encountered in less_equal\n",
      "  cond2 = cond0 & (x <= self.a)\n"
     ]
    }
   ],
   "source": [
    "import statsmodels.api as sm\n",
    "model_med = sm.Logit(y_train_set, x_train_set)\n",
    "# Logit.from_formula로 R처럼 입력 가능\n",
    "result_med = model_med.fit()\n",
    "print(result_med.summary())"
   ]
  },
  {
   "cell_type": "code",
   "execution_count": 42,
   "metadata": {
    "scrolled": true
   },
   "outputs": [
    {
     "name": "stdout",
     "output_type": "stream",
     "text": [
      "LIMIT_BAL    0.838700\n",
      "PAY_0        1.962373\n",
      "PAY_2        1.010590\n",
      "PAY_3        1.108696\n",
      "PAY_4        1.077029\n",
      "PAY_5        1.068944\n",
      "PAY_6        1.124504\n",
      "BILL_AMT1    0.896994\n",
      "BILL_AMT2    1.196244\n",
      "BILL_AMT3    1.051690\n",
      "BILL_AMT4    1.042265\n",
      "BILL_AMT5    1.054657\n",
      "BILL_AMT6    0.865511\n",
      "PAY_AMT1     0.840330\n",
      "PAY_AMT2     0.803611\n",
      "PAY_AMT3     0.970142\n",
      "PAY_AMT4     0.959115\n",
      "PAY_AMT5     0.977753\n",
      "PAY_AMT6     0.967457\n",
      "SEX_1        0.587335\n",
      "SEX_2        0.514985\n",
      "EDU_1        1.003454\n",
      "EDU_2        1.005273\n",
      "EDU_3        0.944088\n",
      "EDU_4        0.317604\n",
      "MERRY_1      0.728387\n",
      "MERRY_2      0.597599\n",
      "MERRY_3      0.694878\n",
      "AGE_0        0.662557\n",
      "AGE_1        0.648808\n",
      "AGE_2        0.703625\n",
      "dtype: float64\n"
     ]
    }
   ],
   "source": [
    "# 오즈비\n",
    "print (np.exp(result_med.params))"
   ]
  },
  {
   "cell_type": "code",
   "execution_count": 43,
   "metadata": {},
   "outputs": [
    {
     "name": "stdout",
     "output_type": "stream",
     "text": [
      "Misclassification samples : 1095\n"
     ]
    }
   ],
   "source": [
    "print(\"Misclassification samples : %d\" % (y_test_set != pred_y).sum())"
   ]
  },
  {
   "cell_type": "code",
   "execution_count": 44,
   "metadata": {},
   "outputs": [
    {
     "name": "stdout",
     "output_type": "stream",
     "text": [
      "              precision    recall  f1-score   support\n",
      "\n",
      "           0       0.83      0.95      0.89      4600\n",
      "           1       0.67      0.34      0.45      1321\n",
      "\n",
      "    accuracy                           0.82      5921\n",
      "   macro avg       0.75      0.65      0.67      5921\n",
      "weighted avg       0.80      0.82      0.79      5921\n",
      "\n"
     ]
    }
   ],
   "source": [
    "from sklearn.metrics import classification_report\n",
    "print(classification_report(y_test_set, pred_y))"
   ]
  },
  {
   "cell_type": "code",
   "execution_count": 45,
   "metadata": {},
   "outputs": [
    {
     "name": "stdout",
     "output_type": "stream",
     "text": [
      "accuracy: 0.82\n",
      "Precision : 0.667\n",
      "Recall :   0\n",
      "F1 : 0.452\n"
     ]
    }
   ],
   "source": [
    "from sklearn.metrics import precision_score, recall_score, f1_score\n",
    "from sklearn.metrics import accuracy_score\n",
    "\n",
    "print(\"accuracy: %.2f\" %accuracy_score(y_test_set, pred_y))\n",
    "print(\"Precision : %.3f\" % precision_score(y_test_set, pred_y))\n",
    "print(\"Recall : %3.f\" % recall_score(y_test_set, pred_y))\n",
    "print(\"F1 : %.3f\" % f1_score(y_test_set, pred_y))"
   ]
  },
  {
   "cell_type": "code",
   "execution_count": null,
   "metadata": {},
   "outputs": [],
   "source": []
  },
  {
   "cell_type": "markdown",
   "metadata": {},
   "source": [
    "#### PAY_2, BILL_AMT1,BILL_AMT2,BILL_AMT3,BILL_AMT4,BILL_AMT5,PAY_AMT3,PAY_AMT4,PAY_AMT5,PAY_AMT6\n",
    "\n",
    "     후진제거법을 통해 feature selection"
   ]
  },
  {
   "cell_type": "code",
   "execution_count": 46,
   "metadata": {},
   "outputs": [],
   "source": [
    "x_train_set_sub = x_train_set.drop(['PAY_2', 'BILL_AMT3', 'BILL_AMT4', 'BILL_AMT5','BILL_AMT1',\n",
    "                                   'PAY_AMT3','PAY_AMT4','PAY_AMT5','PAY_AMT6'], axis = 1)\n",
    "x_test_set_sub = x_test_set.drop(['PAY_2', 'BILL_AMT3', 'BILL_AMT4', 'BILL_AMT5','BILL_AMT1',\n",
    "                                   'PAY_AMT3','PAY_AMT4','PAY_AMT5','PAY_AMT6'], axis = 1)"
   ]
  },
  {
   "cell_type": "code",
   "execution_count": 47,
   "metadata": {},
   "outputs": [
    {
     "name": "stdout",
     "output_type": "stream",
     "text": [
      "              precision    recall  f1-score   support\n",
      "\n",
      "           0       0.83      0.95      0.89      4600\n",
      "           1       0.67      0.34      0.45      1321\n",
      "\n",
      "    accuracy                           0.82      5921\n",
      "   macro avg       0.75      0.65      0.67      5921\n",
      "weighted avg       0.80      0.82      0.79      5921\n",
      "\n"
     ]
    },
    {
     "name": "stderr",
     "output_type": "stream",
     "text": [
      "C:\\ProgramData\\Anaconda3\\envs\\keras\\lib\\site-packages\\sklearn\\linear_model\\logistic.py:432: FutureWarning: Default solver will be changed to 'lbfgs' in 0.22. Specify a solver to silence this warning.\n",
      "  FutureWarning)\n"
     ]
    }
   ],
   "source": [
    "from sklearn.linear_model import LogisticRegression\n",
    "lr = LogisticRegression(random_state = 20190730)\n",
    "lr.fit(x_train_set_sub, y_train_set)\n",
    "pred_y = lr.predict(x_test_set_sub)\n",
    "\n",
    "print(classification_report(y_test_set, pred_y))"
   ]
  },
  {
   "cell_type": "code",
   "execution_count": 48,
   "metadata": {
    "scrolled": true
   },
   "outputs": [
    {
     "name": "stdout",
     "output_type": "stream",
     "text": [
      "Optimization terminated successfully.\n",
      "         Current function value: 0.444531\n",
      "         Iterations 8\n",
      "                               Logit Regression Results                               \n",
      "======================================================================================\n",
      "Dep. Variable:     default.payment.next.month   No. Observations:                23680\n",
      "Model:                                  Logit   Df Residuals:                    23661\n",
      "Method:                                   MLE   Df Model:                           18\n",
      "Date:                        Wed, 31 Jul 2019   Pseudo R-squ.:                  0.1626\n",
      "Time:                                09:14:39   Log-Likelihood:                -10526.\n",
      "converged:                               True   LL-Null:                       -12571.\n",
      "Covariance Type:                    nonrobust   LLR p-value:                     0.000\n",
      "==============================================================================\n",
      "                 coef    std err          z      P>|z|      [0.025      0.975]\n",
      "------------------------------------------------------------------------------\n",
      "LIMIT_BAL     -0.1910      0.022     -8.506      0.000      -0.235      -0.147\n",
      "PAY_0          0.6822      0.018     38.371      0.000       0.647       0.717\n",
      "PAY_3          0.1093      0.022      4.978      0.000       0.066       0.152\n",
      "PAY_4          0.0767      0.026      2.992      0.003       0.026       0.127\n",
      "PAY_5          0.0697      0.026      2.692      0.007       0.019       0.120\n",
      "PAY_6          0.1181      0.022      5.367      0.000       0.075       0.161\n",
      "BILL_AMT2      0.1506      0.036      4.184      0.000       0.080       0.221\n",
      "BILL_AMT6     -0.0951      0.036     -2.615      0.009      -0.166      -0.024\n",
      "PAY_AMT1      -0.1785      0.038     -4.720      0.000      -0.253      -0.104\n",
      "PAY_AMT2      -0.2164      0.050     -4.324      0.000      -0.314      -0.118\n",
      "SEX_1         -0.5341        nan        nan        nan         nan         nan\n",
      "SEX_2         -0.6625        nan        nan        nan         nan         nan\n",
      "EDU_1          0.0068        nan        nan        nan         nan         nan\n",
      "EDU_2          0.0068        nan        nan        nan         nan         nan\n",
      "EDU_3         -0.0574        nan        nan        nan         nan         nan\n",
      "EDU_4         -1.1528        nan        nan        nan         nan         nan\n",
      "MERRY_1       -0.3138        nan        nan        nan         nan         nan\n",
      "MERRY_2       -0.5141        nan        nan        nan         nan         nan\n",
      "MERRY_3       -0.3686        nan        nan        nan         nan         nan\n",
      "AGE_0         -0.4122   9.95e+04  -4.14e-06      1.000   -1.95e+05    1.95e+05\n",
      "AGE_1         -0.4331   9.95e+04  -4.35e-06      1.000   -1.95e+05    1.95e+05\n",
      "AGE_2         -0.3513   9.95e+04  -3.53e-06      1.000   -1.95e+05    1.95e+05\n",
      "==============================================================================\n"
     ]
    },
    {
     "name": "stderr",
     "output_type": "stream",
     "text": [
      "C:\\ProgramData\\Anaconda3\\envs\\keras\\lib\\site-packages\\statsmodels\\base\\model.py:1286: RuntimeWarning: invalid value encountered in sqrt\n",
      "  bse_ = np.sqrt(np.diag(self.cov_params()))\n",
      "C:\\ProgramData\\Anaconda3\\envs\\keras\\lib\\site-packages\\scipy\\stats\\_distn_infrastructure.py:877: RuntimeWarning: invalid value encountered in greater\n",
      "  return (self.a < x) & (x < self.b)\n",
      "C:\\ProgramData\\Anaconda3\\envs\\keras\\lib\\site-packages\\scipy\\stats\\_distn_infrastructure.py:877: RuntimeWarning: invalid value encountered in less\n",
      "  return (self.a < x) & (x < self.b)\n",
      "C:\\ProgramData\\Anaconda3\\envs\\keras\\lib\\site-packages\\scipy\\stats\\_distn_infrastructure.py:1831: RuntimeWarning: invalid value encountered in less_equal\n",
      "  cond2 = cond0 & (x <= self.a)\n"
     ]
    }
   ],
   "source": [
    "model_med = sm.Logit(y_train_set, x_train_set_sub)\n",
    "# Logit.from_formula로 R처럼 입력 가능\n",
    "result_med = model_med.fit()\n",
    "print(result_med.summary())"
   ]
  },
  {
   "cell_type": "markdown",
   "metadata": {},
   "source": [
    "- 변수 제거 결과\n",
    "    - 설명력 0.04차이 (16.30 -> 16.26)\n",
    "    \n",
    "      따라서 상당히 낮은 설명력을 가진 변수들을 확인할 수 있음\n",
    "      \n",
    "    - 약 16%의 설명력을 가졌다는 점을 통해 모형의 타당성이 유의하지 않음\n",
    "    \n",
    "    - f1 score의 경우 변수 제거 전과 후가 같음\n",
    "    \n",
    "      다음 달에 기본 지불 -> 아니오(0) : 0.89, 예(1) : 0.45\n",
    "      \n",
    "      1의 score가 낮게 나왔다는 점을 고려했을 때 8:2비율이 class 비율이 영향을 미친 것으로 판단\n",
    "      \n",
    "      아래에 smote를 통해 데이터를 증식해서 다시 로지스틱 회귀분석을 진행할 계획\n",
    "      \n",
    "    - accuracy의 경우 81% -> 다소 높은 정확도를 보임\n",
    "    \n",
    "    - PAY변수의 경우 시계열성 특징을 띔\n",
    "    \n",
    "      서열척도(상대적인 정보), 구간척도(숫자 간의 간격이 산술적 의미를 가짐)의 성격을 모두 가짐\n",
    "      \n",
    "      PAY_1~6 변수를 더미변수로 변환시 feature의 특성이 sparse해지고 분석에 큰 방해요인으로 작용할 확률이 큼\n",
    "      \n",
    "      따라서, 특성 그대로 사용하는 것이 옳다고 판단\n",
    "\n",
    "- 해결 방안 추정\n",
    "    - smote를 통해 binary형 종속변수의 비율을 동등하게 맞추어 분석한다.\n",
    "    \n",
    "    - p값이 nan이 나온 더미변수의 경우 종속변수와의 frequency plot을 통해 EDA 진행\n",
    "    \n",
    "      그 후 독립성 검정을 통해 종속변수를 포함한 변수 간 상관성을 비교\n",
    "      \n",
    "    - 추가 : 서로의 상관성이 높게 나왔던 BILL_AMT의 경우 상당수가 계수로써의 유의성이 낮아 회귀식에서 제거함\n",
    "    \n",
    "      따라서, PCA를 통해 새로운 매개변수를 도출 시도"
   ]
  },
  {
   "cell_type": "markdown",
   "metadata": {},
   "source": [
    "    기존에 사용했던 4가지 scaler 대조 결과 StandardScaler를 사용한 결과만 정확도가 1% 향상하고\n",
    "    ANOVA Table에서 nan값으로 나왔던 더미 변수들이 제대로 측정되어 나옴(나머지는 동등)\n",
    "    하지만 계수의 유의성에 대한 p값이 1.0이 나와 종속변수에 유의한 영향을 미치지 않는다\n",
    "    F1 score 또한 변화가 없음"
   ]
  },
  {
   "cell_type": "code",
   "execution_count": null,
   "metadata": {},
   "outputs": [],
   "source": []
  },
  {
   "cell_type": "markdown",
   "metadata": {},
   "source": [
    "### SMOTE 적용"
   ]
  },
  {
   "cell_type": "code",
   "execution_count": 123,
   "metadata": {},
   "outputs": [],
   "source": [
    "from sklearn.decomposition import PCA\n",
    "from imblearn.over_sampling import SMOTE\n",
    "\n",
    "smote = SMOTE(ratio = 0.2, kind = 'regular')\n",
    "\n",
    "X_resampling, y_resampling = smote.fit_sample(df_dummy.drop(['default.payment.next.month'],axis=1),\n",
    "                                              list(df_dummy['default.payment.next.month']))"
   ]
  },
  {
   "cell_type": "code",
   "execution_count": 124,
   "metadata": {},
   "outputs": [
    {
     "name": "stdout",
     "output_type": "stream",
     "text": [
      "(39093, 31) (39093,)\n",
      "16097 22996\n"
     ]
    }
   ],
   "source": [
    "print(X_resampling.shape, y_resampling.shape)\n",
    "print(sum(y_resampling ==1), sum(y_resampling==0))"
   ]
  },
  {
   "cell_type": "code",
   "execution_count": 125,
   "metadata": {},
   "outputs": [],
   "source": [
    "resample_set = pd.DataFrame(X_resampling)"
   ]
  },
  {
   "cell_type": "code",
   "execution_count": 126,
   "metadata": {},
   "outputs": [],
   "source": [
    "resample_set.columns = df_dummy.drop(['default.payment.next.month'],axis=1).columns"
   ]
  },
  {
   "cell_type": "code",
   "execution_count": 127,
   "metadata": {},
   "outputs": [],
   "source": [
    "resample_set = resample_set.join(pd.DataFrame(y_resampling))"
   ]
  },
  {
   "cell_type": "code",
   "execution_count": 128,
   "metadata": {},
   "outputs": [],
   "source": [
    "resample_set.columns = ['LIMIT_BAL',     'PAY_0',     'PAY_2',     'PAY_3',     'PAY_4',\n",
    "           'PAY_5',     'PAY_6', 'BILL_AMT1', 'BILL_AMT2', 'BILL_AMT3',\n",
    "       'BILL_AMT4', 'BILL_AMT5', 'BILL_AMT6',  'PAY_AMT1',  'PAY_AMT2',\n",
    "        'PAY_AMT3',  'PAY_AMT4',  'PAY_AMT5',  'PAY_AMT6',     'SEX_1',\n",
    "           'SEX_2',     'EDU_1',     'EDU_2',     'EDU_3',     'EDU_4',\n",
    "         'MERRY_1',   'MERRY_2',   'MERRY_3',     'AGE_0',     'AGE_1',\n",
    "           'AGE_2',           'y']"
   ]
  },
  {
   "cell_type": "code",
   "execution_count": 129,
   "metadata": {},
   "outputs": [],
   "source": [
    "# 층화추출\n",
    "from sklearn.model_selection import StratifiedShuffleSplit\n",
    "\n",
    "split = StratifiedShuffleSplit(n_splits = 2, test_size = 0.2, random_state = 20190730)\n",
    "for train_index, test_index in split.split(resample_set, resample_set['y']):\n",
    "    train_set = resample_set.iloc[train_index]\n",
    "    test_set = resample_set.iloc[test_index]"
   ]
  },
  {
   "cell_type": "code",
   "execution_count": 130,
   "metadata": {},
   "outputs": [],
   "source": [
    "y_train_set = train_set['y']\n",
    "x_train_set = train_set.drop(['y'], axis=1)\n",
    "\n",
    "y_test_set = test_set['y']\n",
    "x_test_set = test_set.drop(['y'], axis=1)"
   ]
  },
  {
   "cell_type": "code",
   "execution_count": 131,
   "metadata": {},
   "outputs": [
    {
     "name": "stderr",
     "output_type": "stream",
     "text": [
      "C:\\ProgramData\\Anaconda3\\envs\\keras\\lib\\site-packages\\sklearn\\linear_model\\logistic.py:432: FutureWarning: Default solver will be changed to 'lbfgs' in 0.22. Specify a solver to silence this warning.\n",
      "  FutureWarning)\n"
     ]
    },
    {
     "name": "stdout",
     "output_type": "stream",
     "text": [
      "              precision    recall  f1-score   support\n",
      "\n",
      "           0       0.73      0.87      0.79      4599\n",
      "           1       0.74      0.53      0.62      3220\n",
      "\n",
      "    accuracy                           0.73      7819\n",
      "   macro avg       0.73      0.70      0.71      7819\n",
      "weighted avg       0.73      0.73      0.72      7819\n",
      "\n"
     ]
    }
   ],
   "source": [
    "from sklearn.linear_model import LogisticRegression\n",
    "lr = LogisticRegression(random_state = 20190730)\n",
    "lr.fit(x_train_set, y_train_set)\n",
    "pred_y = lr.predict(x_test_set)\n",
    "\n",
    "print(classification_report(y_test_set, pred_y))"
   ]
  },
  {
   "cell_type": "code",
   "execution_count": 104,
   "metadata": {
    "scrolled": true
   },
   "outputs": [
    {
     "name": "stdout",
     "output_type": "stream",
     "text": [
      "Optimization terminated successfully.\n",
      "         Current function value: 0.565085\n",
      "         Iterations 7\n",
      "                           Logit Regression Results                           \n",
      "==============================================================================\n",
      "Dep. Variable:                      y   No. Observations:                31274\n",
      "Model:                          Logit   Df Residuals:                    31246\n",
      "Method:                           MLE   Df Model:                           27\n",
      "Date:                Wed, 31 Jul 2019   Pseudo R-squ.:                  0.1659\n",
      "Time:                        09:53:06   Log-Likelihood:                -17672.\n",
      "converged:                       True   LL-Null:                       -21188.\n",
      "Covariance Type:            nonrobust   LLR p-value:                     0.000\n",
      "==============================================================================\n",
      "                 coef    std err          z      P>|z|      [0.025      0.975]\n",
      "------------------------------------------------------------------------------\n",
      "LIMIT_BAL     -0.2079      0.017    -12.305      0.000      -0.241      -0.175\n",
      "PAY_0          0.6350      0.016     38.811      0.000       0.603       0.667\n",
      "PAY_2          0.0300      0.019      1.616      0.106      -0.006       0.066\n",
      "PAY_3          0.1081      0.018      5.903      0.000       0.072       0.144\n",
      "PAY_4          0.0748      0.019      3.857      0.000       0.037       0.113\n",
      "PAY_5          0.0788      0.020      3.934      0.000       0.040       0.118\n",
      "PAY_6          0.0903      0.017      5.171      0.000       0.056       0.125\n",
      "BILL_AMT1     -0.2468      0.068     -3.631      0.000      -0.380      -0.114\n",
      "BILL_AMT2      0.2492      0.088      2.825      0.005       0.076       0.422\n",
      "BILL_AMT3      0.1045      0.076      1.370      0.171      -0.045       0.254\n",
      "BILL_AMT4      0.0002      0.073      0.003      0.998      -0.144       0.144\n",
      "BILL_AMT5     -0.0679      0.082     -0.829      0.407      -0.229       0.093\n",
      "BILL_AMT6      0.0552      0.065      0.850      0.395      -0.072       0.182\n",
      "PAY_AMT1      -0.2419      0.032     -7.601      0.000      -0.304      -0.180\n",
      "PAY_AMT2      -0.3119      0.045     -6.919      0.000      -0.400      -0.224\n",
      "PAY_AMT3      -0.0468      0.025     -1.888      0.059      -0.095       0.002\n",
      "PAY_AMT4      -0.0370      0.022     -1.672      0.095      -0.080       0.006\n",
      "PAY_AMT5      -0.0796      0.023     -3.395      0.001      -0.126      -0.034\n",
      "PAY_AMT6      -0.0242      0.018     -1.332      0.183      -0.060       0.011\n",
      "SEX_1         -0.2462        nan        nan        nan         nan         nan\n",
      "SEX_2         -0.3882        nan        nan        nan         nan         nan\n",
      "EDU_1          0.1939        nan        nan        nan         nan         nan\n",
      "EDU_2          0.1767        nan        nan        nan         nan         nan\n",
      "EDU_3          0.0993        nan        nan        nan         nan         nan\n",
      "EDU_4         -1.1042        nan        nan        nan         nan         nan\n",
      "MERRY_1       -0.1060   5.93e+05  -1.79e-07      1.000   -1.16e+06    1.16e+06\n",
      "MERRY_2       -0.2727   5.93e+05   -4.6e-07      1.000   -1.16e+06    1.16e+06\n",
      "MERRY_3       -0.2556   5.93e+05  -4.31e-07      1.000   -1.16e+06    1.16e+06\n",
      "AGE_0         -0.2359        nan        nan        nan         nan         nan\n",
      "AGE_1         -0.2575        nan        nan        nan         nan         nan\n",
      "AGE_2         -0.1409        nan        nan        nan         nan         nan\n",
      "==============================================================================\n"
     ]
    },
    {
     "name": "stderr",
     "output_type": "stream",
     "text": [
      "C:\\ProgramData\\Anaconda3\\envs\\keras\\lib\\site-packages\\statsmodels\\base\\model.py:1286: RuntimeWarning: invalid value encountered in sqrt\n",
      "  bse_ = np.sqrt(np.diag(self.cov_params()))\n",
      "C:\\ProgramData\\Anaconda3\\envs\\keras\\lib\\site-packages\\scipy\\stats\\_distn_infrastructure.py:877: RuntimeWarning: invalid value encountered in greater\n",
      "  return (self.a < x) & (x < self.b)\n",
      "C:\\ProgramData\\Anaconda3\\envs\\keras\\lib\\site-packages\\scipy\\stats\\_distn_infrastructure.py:877: RuntimeWarning: invalid value encountered in less\n",
      "  return (self.a < x) & (x < self.b)\n",
      "C:\\ProgramData\\Anaconda3\\envs\\keras\\lib\\site-packages\\scipy\\stats\\_distn_infrastructure.py:1831: RuntimeWarning: invalid value encountered in less_equal\n",
      "  cond2 = cond0 & (x <= self.a)\n"
     ]
    }
   ],
   "source": [
    "model_med = sm.Logit(y_train_set, x_train_set)\n",
    "# Logit.from_formula로 R처럼 입력 가능\n",
    "result_med = model_med.fit()\n",
    "print(result_med.summary())"
   ]
  },
  {
   "cell_type": "code",
   "execution_count": 92,
   "metadata": {},
   "outputs": [],
   "source": [
    "x_train_set_sub = x_train_set.drop(['BILL_AMT4','BILL_AMT5','BILL_AMT6','PAY_2'], axis = 1)\n",
    "x_test_set_sub = x_test_set.drop(['BILL_AMT4','BILL_AMT5','BILL_AMT6','PAY_2'], axis = 1)"
   ]
  },
  {
   "cell_type": "code",
   "execution_count": 93,
   "metadata": {},
   "outputs": [
    {
     "name": "stderr",
     "output_type": "stream",
     "text": [
      "C:\\ProgramData\\Anaconda3\\envs\\keras\\lib\\site-packages\\sklearn\\linear_model\\logistic.py:432: FutureWarning: Default solver will be changed to 'lbfgs' in 0.22. Specify a solver to silence this warning.\n",
      "  FutureWarning)\n"
     ]
    },
    {
     "name": "stdout",
     "output_type": "stream",
     "text": [
      "              precision    recall  f1-score   support\n",
      "\n",
      "           0       0.66      0.84      0.74      4599\n",
      "           1       0.78      0.56      0.65      4600\n",
      "\n",
      "    accuracy                           0.70      9199\n",
      "   macro avg       0.72      0.70      0.69      9199\n",
      "weighted avg       0.72      0.70      0.69      9199\n",
      "\n"
     ]
    }
   ],
   "source": [
    "from sklearn.linear_model import LogisticRegression\n",
    "lr = LogisticRegression(random_state = 20190730)\n",
    "lr.fit(x_train_set_sub, y_train_set)\n",
    "pred_y = lr.predict(x_test_set_sub)\n",
    "\n",
    "print(classification_report(y_test_set, pred_y))"
   ]
  },
  {
   "cell_type": "code",
   "execution_count": 94,
   "metadata": {
    "scrolled": true
   },
   "outputs": [
    {
     "name": "stdout",
     "output_type": "stream",
     "text": [
      "Optimization terminated successfully.\n",
      "         Current function value: 0.577548\n",
      "         Iterations 6\n",
      "                           Logit Regression Results                           \n",
      "==============================================================================\n",
      "Dep. Variable:                      y   No. Observations:                36793\n",
      "Model:                          Logit   Df Residuals:                    36769\n",
      "Method:                           MLE   Df Model:                           23\n",
      "Date:                Wed, 31 Jul 2019   Pseudo R-squ.:                  0.1668\n",
      "Time:                        09:50:43   Log-Likelihood:                -21250.\n",
      "converged:                       True   LL-Null:                       -25503.\n",
      "Covariance Type:            nonrobust   LLR p-value:                     0.000\n",
      "==============================================================================\n",
      "                 coef    std err          z      P>|z|      [0.025      0.975]\n",
      "------------------------------------------------------------------------------\n",
      "LIMIT_BAL     -0.2053      0.015    -13.607      0.000      -0.235      -0.176\n",
      "PAY_0          0.6534      0.013     50.100      0.000       0.628       0.679\n",
      "PAY_3          0.1189      0.015      7.710      0.000       0.089       0.149\n",
      "PAY_4          0.0843      0.018      4.759      0.000       0.050       0.119\n",
      "PAY_5          0.1031      0.019      5.486      0.000       0.066       0.140\n",
      "PAY_6          0.0748      0.016      4.563      0.000       0.043       0.107\n",
      "BILL_AMT1     -0.3450      0.062     -5.525      0.000      -0.467      -0.223\n",
      "BILL_AMT2      0.2360      0.080      2.942      0.003       0.079       0.393\n",
      "BILL_AMT3      0.1856      0.053      3.487      0.000       0.081       0.290\n",
      "PAY_AMT1      -0.2119      0.025     -8.537      0.000      -0.261      -0.163\n",
      "PAY_AMT2      -0.2077      0.032     -6.492      0.000      -0.270      -0.145\n",
      "PAY_AMT3      -0.0358      0.017     -2.074      0.038      -0.070      -0.002\n",
      "PAY_AMT4      -0.0577      0.017     -3.360      0.001      -0.091      -0.024\n",
      "PAY_AMT5      -0.0857      0.018     -4.644      0.000      -0.122      -0.050\n",
      "PAY_AMT6      -0.0558      0.017     -3.221      0.001      -0.090      -0.022\n",
      "SEX_1         -0.1463        nan        nan        nan         nan         nan\n",
      "SEX_2         -0.2869        nan        nan        nan         nan         nan\n",
      "EDU_1          0.2826   7.61e+05   3.71e-07      1.000   -1.49e+06    1.49e+06\n",
      "EDU_2          0.2913   7.37e+05   3.96e-07      1.000   -1.44e+06    1.44e+06\n",
      "EDU_3          0.2290        nan        nan        nan         nan         nan\n",
      "EDU_4         -1.2361   7.98e+05  -1.55e-06      1.000   -1.56e+06    1.56e+06\n",
      "MERRY_1       -0.0077   5.37e+05  -1.44e-08      1.000   -1.05e+06    1.05e+06\n",
      "MERRY_2       -0.2017   5.31e+05   -3.8e-07      1.000   -1.04e+06    1.04e+06\n",
      "MERRY_3       -0.2238   5.45e+05  -4.11e-07      1.000   -1.07e+06    1.07e+06\n",
      "AGE_0         -0.1740   9.75e+05  -1.78e-07      1.000   -1.91e+06    1.91e+06\n",
      "AGE_1         -0.1811   9.75e+05  -1.86e-07      1.000   -1.91e+06    1.91e+06\n",
      "AGE_2         -0.0781   9.75e+05  -8.01e-08      1.000   -1.91e+06    1.91e+06\n",
      "==============================================================================\n"
     ]
    },
    {
     "name": "stderr",
     "output_type": "stream",
     "text": [
      "C:\\ProgramData\\Anaconda3\\envs\\keras\\lib\\site-packages\\statsmodels\\base\\model.py:1286: RuntimeWarning: invalid value encountered in sqrt\n",
      "  bse_ = np.sqrt(np.diag(self.cov_params()))\n",
      "C:\\ProgramData\\Anaconda3\\envs\\keras\\lib\\site-packages\\scipy\\stats\\_distn_infrastructure.py:877: RuntimeWarning: invalid value encountered in greater\n",
      "  return (self.a < x) & (x < self.b)\n",
      "C:\\ProgramData\\Anaconda3\\envs\\keras\\lib\\site-packages\\scipy\\stats\\_distn_infrastructure.py:877: RuntimeWarning: invalid value encountered in less\n",
      "  return (self.a < x) & (x < self.b)\n",
      "C:\\ProgramData\\Anaconda3\\envs\\keras\\lib\\site-packages\\scipy\\stats\\_distn_infrastructure.py:1831: RuntimeWarning: invalid value encountered in less_equal\n",
      "  cond2 = cond0 & (x <= self.a)\n"
     ]
    }
   ],
   "source": [
    "model_med = sm.Logit(y_train_set, x_train_set_sub)\n",
    "# Logit.from_formula로 R처럼 입력 가능\n",
    "result_med = model_med.fit()\n",
    "print(result_med.summary())"
   ]
  },
  {
   "cell_type": "markdown",
   "metadata": {},
   "source": [
    "- SMOTE 돌린 결과\n",
    "    - 1:1 비율\n",
    "        - f1 score기준 0이 0.74, 1이 0.65, accuracy:70\n",
    "    - y값이 1인 비율을 점차 줄일시\n",
    "        - 0과 1의 f1 score가 명확한 trade-off관계를 보이며 1이 점차 낮아짐\n",
    "        - accuracy는 증가하는 것을 볼 수 있음"
   ]
  },
  {
   "cell_type": "code",
   "execution_count": null,
   "metadata": {},
   "outputs": [],
   "source": []
  },
  {
   "cell_type": "markdown",
   "metadata": {},
   "source": [
    "## Random Forest"
   ]
  },
  {
   "cell_type": "code",
   "execution_count": 351,
   "metadata": {},
   "outputs": [
    {
     "data": {
      "text/html": [
       "<div>\n",
       "<style scoped>\n",
       "    .dataframe tbody tr th:only-of-type {\n",
       "        vertical-align: middle;\n",
       "    }\n",
       "\n",
       "    .dataframe tbody tr th {\n",
       "        vertical-align: top;\n",
       "    }\n",
       "\n",
       "    .dataframe thead th {\n",
       "        text-align: right;\n",
       "    }\n",
       "</style>\n",
       "<table border=\"1\" class=\"dataframe\">\n",
       "  <thead>\n",
       "    <tr style=\"text-align: right;\">\n",
       "      <th></th>\n",
       "      <th>LIMIT_BAL</th>\n",
       "      <th>SEX</th>\n",
       "      <th>EDUCATION</th>\n",
       "      <th>MARRIAGE</th>\n",
       "      <th>AGE</th>\n",
       "      <th>PAY_0</th>\n",
       "      <th>PAY_2</th>\n",
       "      <th>PAY_3</th>\n",
       "      <th>PAY_4</th>\n",
       "      <th>PAY_5</th>\n",
       "      <th>...</th>\n",
       "      <th>BILL_AMT4</th>\n",
       "      <th>BILL_AMT5</th>\n",
       "      <th>BILL_AMT6</th>\n",
       "      <th>PAY_AMT1</th>\n",
       "      <th>PAY_AMT2</th>\n",
       "      <th>PAY_AMT3</th>\n",
       "      <th>PAY_AMT4</th>\n",
       "      <th>PAY_AMT5</th>\n",
       "      <th>PAY_AMT6</th>\n",
       "      <th>default.payment.next.month</th>\n",
       "    </tr>\n",
       "  </thead>\n",
       "  <tbody>\n",
       "    <tr>\n",
       "      <th>0</th>\n",
       "      <td>20000.0</td>\n",
       "      <td>2</td>\n",
       "      <td>2</td>\n",
       "      <td>1</td>\n",
       "      <td>24</td>\n",
       "      <td>2</td>\n",
       "      <td>2</td>\n",
       "      <td>-1</td>\n",
       "      <td>-1</td>\n",
       "      <td>-2</td>\n",
       "      <td>...</td>\n",
       "      <td>0.0</td>\n",
       "      <td>0.0</td>\n",
       "      <td>0.0</td>\n",
       "      <td>0.0</td>\n",
       "      <td>689.0</td>\n",
       "      <td>0.0</td>\n",
       "      <td>0.0</td>\n",
       "      <td>0.0</td>\n",
       "      <td>0.0</td>\n",
       "      <td>1</td>\n",
       "    </tr>\n",
       "    <tr>\n",
       "      <th>1</th>\n",
       "      <td>120000.0</td>\n",
       "      <td>2</td>\n",
       "      <td>2</td>\n",
       "      <td>2</td>\n",
       "      <td>26</td>\n",
       "      <td>-1</td>\n",
       "      <td>2</td>\n",
       "      <td>0</td>\n",
       "      <td>0</td>\n",
       "      <td>0</td>\n",
       "      <td>...</td>\n",
       "      <td>3272.0</td>\n",
       "      <td>3455.0</td>\n",
       "      <td>3261.0</td>\n",
       "      <td>0.0</td>\n",
       "      <td>1000.0</td>\n",
       "      <td>1000.0</td>\n",
       "      <td>1000.0</td>\n",
       "      <td>0.0</td>\n",
       "      <td>2000.0</td>\n",
       "      <td>1</td>\n",
       "    </tr>\n",
       "    <tr>\n",
       "      <th>2</th>\n",
       "      <td>90000.0</td>\n",
       "      <td>2</td>\n",
       "      <td>2</td>\n",
       "      <td>2</td>\n",
       "      <td>34</td>\n",
       "      <td>0</td>\n",
       "      <td>0</td>\n",
       "      <td>0</td>\n",
       "      <td>0</td>\n",
       "      <td>0</td>\n",
       "      <td>...</td>\n",
       "      <td>14331.0</td>\n",
       "      <td>14948.0</td>\n",
       "      <td>15549.0</td>\n",
       "      <td>1518.0</td>\n",
       "      <td>1500.0</td>\n",
       "      <td>1000.0</td>\n",
       "      <td>1000.0</td>\n",
       "      <td>1000.0</td>\n",
       "      <td>5000.0</td>\n",
       "      <td>0</td>\n",
       "    </tr>\n",
       "    <tr>\n",
       "      <th>3</th>\n",
       "      <td>50000.0</td>\n",
       "      <td>2</td>\n",
       "      <td>2</td>\n",
       "      <td>1</td>\n",
       "      <td>37</td>\n",
       "      <td>0</td>\n",
       "      <td>0</td>\n",
       "      <td>0</td>\n",
       "      <td>0</td>\n",
       "      <td>0</td>\n",
       "      <td>...</td>\n",
       "      <td>28314.0</td>\n",
       "      <td>28959.0</td>\n",
       "      <td>29547.0</td>\n",
       "      <td>2000.0</td>\n",
       "      <td>2019.0</td>\n",
       "      <td>1200.0</td>\n",
       "      <td>1100.0</td>\n",
       "      <td>1069.0</td>\n",
       "      <td>1000.0</td>\n",
       "      <td>0</td>\n",
       "    </tr>\n",
       "    <tr>\n",
       "      <th>4</th>\n",
       "      <td>50000.0</td>\n",
       "      <td>1</td>\n",
       "      <td>2</td>\n",
       "      <td>1</td>\n",
       "      <td>57</td>\n",
       "      <td>-1</td>\n",
       "      <td>0</td>\n",
       "      <td>-1</td>\n",
       "      <td>0</td>\n",
       "      <td>0</td>\n",
       "      <td>...</td>\n",
       "      <td>20940.0</td>\n",
       "      <td>19146.0</td>\n",
       "      <td>19131.0</td>\n",
       "      <td>2000.0</td>\n",
       "      <td>36681.0</td>\n",
       "      <td>10000.0</td>\n",
       "      <td>9000.0</td>\n",
       "      <td>689.0</td>\n",
       "      <td>679.0</td>\n",
       "      <td>0</td>\n",
       "    </tr>\n",
       "  </tbody>\n",
       "</table>\n",
       "<p>5 rows × 24 columns</p>\n",
       "</div>"
      ],
      "text/plain": [
       "   LIMIT_BAL  SEX  EDUCATION  MARRIAGE  AGE  PAY_0  PAY_2  PAY_3  PAY_4  \\\n",
       "0    20000.0    2          2         1   24      2      2     -1     -1   \n",
       "1   120000.0    2          2         2   26     -1      2      0      0   \n",
       "2    90000.0    2          2         2   34      0      0      0      0   \n",
       "3    50000.0    2          2         1   37      0      0      0      0   \n",
       "4    50000.0    1          2         1   57     -1      0     -1      0   \n",
       "\n",
       "   PAY_5  ...  BILL_AMT4  BILL_AMT5  BILL_AMT6  PAY_AMT1  PAY_AMT2  PAY_AMT3  \\\n",
       "0     -2  ...        0.0        0.0        0.0       0.0     689.0       0.0   \n",
       "1      0  ...     3272.0     3455.0     3261.0       0.0    1000.0    1000.0   \n",
       "2      0  ...    14331.0    14948.0    15549.0    1518.0    1500.0    1000.0   \n",
       "3      0  ...    28314.0    28959.0    29547.0    2000.0    2019.0    1200.0   \n",
       "4      0  ...    20940.0    19146.0    19131.0    2000.0   36681.0   10000.0   \n",
       "\n",
       "   PAY_AMT4  PAY_AMT5  PAY_AMT6  default.payment.next.month  \n",
       "0       0.0       0.0       0.0                           1  \n",
       "1    1000.0       0.0    2000.0                           1  \n",
       "2    1000.0    1000.0    5000.0                           0  \n",
       "3    1100.0    1069.0    1000.0                           0  \n",
       "4    9000.0     689.0     679.0                           0  \n",
       "\n",
       "[5 rows x 24 columns]"
      ]
     },
     "execution_count": 351,
     "metadata": {},
     "output_type": "execute_result"
    }
   ],
   "source": [
    "df_sub.head()"
   ]
  },
  {
   "cell_type": "code",
   "execution_count": 349,
   "metadata": {},
   "outputs": [],
   "source": [
    "# 층화추출\n",
    "from sklearn.model_selection import StratifiedShuffleSplit\n",
    "\n",
    "split = StratifiedShuffleSplit(n_splits = 2, test_size = 0.2, random_state = 20190730)\n",
    "for train_index, test_index in split.split(df_sub, df_sub['default.payment.next.month']):\n",
    "    train_set = df_sub.iloc[train_index]\n",
    "    test_set = df_sub.iloc[test_index]"
   ]
  },
  {
   "cell_type": "code",
   "execution_count": 350,
   "metadata": {},
   "outputs": [
    {
     "data": {
      "text/plain": [
       "((23680, 24), (5921, 24))"
      ]
     },
     "execution_count": 350,
     "metadata": {},
     "output_type": "execute_result"
    }
   ],
   "source": [
    "train_set.shape, test_set.shape"
   ]
  },
  {
   "cell_type": "code",
   "execution_count": 352,
   "metadata": {},
   "outputs": [],
   "source": [
    "y_train_set = train_set['default.payment.next.month']\n",
    "x_train_set = train_set.drop(['default.payment.next.month'], axis=1)\n",
    "\n",
    "y_test_set = test_set['default.payment.next.month']\n",
    "x_test_set = test_set.drop(['default.payment.next.month'], axis=1)"
   ]
  },
  {
   "cell_type": "markdown",
   "metadata": {},
   "source": [
    "최적의 hyperparameter\n",
    "\n",
    "    더미변수 사용시 200,3\n",
    "    더미변수 미사용 99,3"
   ]
  },
  {
   "cell_type": "code",
   "execution_count": 353,
   "metadata": {},
   "outputs": [
    {
     "name": "stdout",
     "output_type": "stream",
     "text": [
      "accuracy : 0.8204695152845803\n"
     ]
    }
   ],
   "source": [
    "from sklearn.ensemble import RandomForestClassifier\n",
    "from sklearn import metrics\n",
    "\n",
    "np.random.seed(20190730)\n",
    "tf.set_random_seed(20190730)\n",
    "\n",
    "forest = RandomForestClassifier(n_estimators = 99, min_samples_leaf=3)\n",
    "forest.fit(x_train_set, y_train_set)\n",
    "\n",
    "y_pred = forest.predict(x_test_set)\n",
    "\n",
    "print('accuracy :', metrics.accuracy_score(y_test_set, y_pred))"
   ]
  },
  {
   "cell_type": "code",
   "execution_count": 361,
   "metadata": {
    "scrolled": true
   },
   "outputs": [
    {
     "data": {
      "text/plain": [
       "18150    0\n",
       "25227    0\n",
       "6951     1\n",
       "11454    0\n",
       "20127    1\n",
       "5731     0\n",
       "28742    0\n",
       "20938    0\n",
       "26590    0\n",
       "164      0\n",
       "5366     0\n",
       "22972    1\n",
       "22372    0\n",
       "27932    1\n",
       "10501    0\n",
       "23684    0\n",
       "27479    0\n",
       "9117     0\n",
       "17509    0\n",
       "8786     0\n",
       "8249     1\n",
       "20565    0\n",
       "23393    0\n",
       "24414    0\n",
       "25865    0\n",
       "14212    0\n",
       "617      0\n",
       "29263    0\n",
       "626      0\n",
       "1619     1\n",
       "        ..\n",
       "22320    0\n",
       "6593     0\n",
       "27426    0\n",
       "9055     0\n",
       "11894    0\n",
       "1538     1\n",
       "24084    0\n",
       "16864    0\n",
       "1523     1\n",
       "21198    1\n",
       "7649     0\n",
       "17744    0\n",
       "8340     1\n",
       "6095     0\n",
       "14228    0\n",
       "6848     0\n",
       "3070     0\n",
       "29788    0\n",
       "19523    0\n",
       "11941    0\n",
       "19328    1\n",
       "24144    0\n",
       "1048     0\n",
       "17632    0\n",
       "20538    0\n",
       "1253     0\n",
       "9933     1\n",
       "24953    1\n",
       "18993    0\n",
       "12527    0\n",
       "Name: default.payment.next.month, Length: 23680, dtype: int64"
      ]
     },
     "execution_count": 361,
     "metadata": {},
     "output_type": "execute_result"
    }
   ],
   "source": []
  },
  {
   "cell_type": "code",
   "execution_count": null,
   "metadata": {},
   "outputs": [],
   "source": []
  },
  {
   "cell_type": "markdown",
   "metadata": {},
   "source": [
    "## DNN (keras)"
   ]
  },
  {
   "cell_type": "markdown",
   "metadata": {},
   "source": [
    "    1. 데이터 표준화\n",
    "        standard와 minmax대조 결과 미미하게 minmaxscaler가 더 좋은 성능을 보임"
   ]
  },
  {
   "cell_type": "code",
   "execution_count": 436,
   "metadata": {
    "scrolled": true
   },
   "outputs": [],
   "source": [
    "df_sub_scale = df_sub.copy()"
   ]
  },
  {
   "cell_type": "code",
   "execution_count": 438,
   "metadata": {},
   "outputs": [],
   "source": [
    "from sklearn.preprocessing import StandardScaler\n",
    "\n",
    "scaler = StandardScaler()\n",
    "df_sub_scale[['LIMIT_BAL','SEX', 'EDUCATION','MARRIAGE', 'AGE', 'PAY_0', 'PAY_2', 'PAY_3', 'PAY_4', 'PAY_5', 'PAY_6',\n",
    "       'BILL_AMT1', 'BILL_AMT2', 'BILL_AMT3', 'BILL_AMT4', 'BILL_AMT5',\n",
    "       'BILL_AMT6', 'PAY_AMT1', 'PAY_AMT2', 'PAY_AMT3', 'PAY_AMT4', 'PAY_AMT5',\n",
    "       'PAY_AMT6']] = scaler.fit_transform(df_sub_scale[['LIMIT_BAL','SEX', 'EDUCATION','MARRIAGE', 'AGE', 'PAY_0', 'PAY_2', 'PAY_3', 'PAY_4', 'PAY_5', 'PAY_6',\n",
    "       'BILL_AMT1', 'BILL_AMT2', 'BILL_AMT3', 'BILL_AMT4', 'BILL_AMT5',\n",
    "       'BILL_AMT6', 'PAY_AMT1', 'PAY_AMT2', 'PAY_AMT3', 'PAY_AMT4', 'PAY_AMT5',\n",
    "       'PAY_AMT6']])"
   ]
  },
  {
   "cell_type": "code",
   "execution_count": 429,
   "metadata": {},
   "outputs": [],
   "source": [
    "from sklearn.preprocessing import MinMaxScaler\n",
    "\n",
    "scaler = MinMaxScaler()\n",
    "df_sub_scale[['LIMIT_BAL', 'PAY_0', 'PAY_2', 'PAY_3', 'PAY_4', 'PAY_5', 'PAY_6',\n",
    "       'BILL_AMT1', 'BILL_AMT2', 'BILL_AMT3', 'BILL_AMT4', 'BILL_AMT5',\n",
    "       'BILL_AMT6', 'PAY_AMT1', 'PAY_AMT2', 'PAY_AMT3', 'PAY_AMT4', 'PAY_AMT5',\n",
    "       'PAY_AMT6']] = scaler.fit_transform(df_sub_scale[['LIMIT_BAL', 'PAY_0', 'PAY_2', 'PAY_3', 'PAY_4', 'PAY_5', 'PAY_6',\n",
    "       'BILL_AMT1', 'BILL_AMT2', 'BILL_AMT3', 'BILL_AMT4', 'BILL_AMT5',\n",
    "       'BILL_AMT6', 'PAY_AMT1', 'PAY_AMT2', 'PAY_AMT3', 'PAY_AMT4', 'PAY_AMT5',\n",
    "       'PAY_AMT6']])"
   ]
  },
  {
   "cell_type": "code",
   "execution_count": 439,
   "metadata": {},
   "outputs": [],
   "source": [
    "# 층화추출\n",
    "from sklearn.model_selection import StratifiedShuffleSplit\n",
    "\n",
    "split = StratifiedShuffleSplit(n_splits = 2, test_size = 0.2, random_state = 20190730)\n",
    "for train_index, test_index in split.split(df_sub_scale, df_sub_scale['default.payment.next.month']):\n",
    "    train_set = df_sub_scale.iloc[train_index]\n",
    "    test_set = df_sub_scale.iloc[test_index]"
   ]
  },
  {
   "cell_type": "code",
   "execution_count": 440,
   "metadata": {},
   "outputs": [],
   "source": [
    "y_train_set = train_set['default.payment.next.month']\n",
    "x_train_set = train_set.drop(['default.payment.next.month'], axis=1)\n",
    "\n",
    "y_test_set = test_set['default.payment.next.month']\n",
    "x_test_set = test_set.drop(['default.payment.next.month'], axis=1)"
   ]
  },
  {
   "cell_type": "markdown",
   "metadata": {},
   "source": [
    "    input 양식에 맞게 데이터 변환 과정"
   ]
  },
  {
   "cell_type": "code",
   "execution_count": 441,
   "metadata": {
    "scrolled": true
   },
   "outputs": [],
   "source": [
    "y_train_set = y_train_set.astype('float32')\n",
    "y_test_set = y_test_set.astype('float32')"
   ]
  },
  {
   "cell_type": "code",
   "execution_count": 442,
   "metadata": {},
   "outputs": [],
   "source": [
    "y_train_set = np.array(y_train_set).reshape(-1,1)\n",
    "y_test_set = np.array(y_test_set).reshape(-1,1)"
   ]
  },
  {
   "cell_type": "code",
   "execution_count": 542,
   "metadata": {
    "scrolled": true
   },
   "outputs": [
    {
     "name": "stdout",
     "output_type": "stream",
     "text": [
      "Train on 23680 samples, validate on 5921 samples\n",
      "Epoch 1/10\n",
      "23680/23680 [==============================] - 4s 159us/step - loss: 0.5259 - acc: 0.7697 - val_loss: 0.4715 - val_acc: 0.8092\n",
      "Epoch 2/10\n",
      "23680/23680 [==============================] - 1s 24us/step - loss: 0.4572 - acc: 0.8130 - val_loss: 0.4589 - val_acc: 0.8144\n",
      "Epoch 3/10\n",
      "23680/23680 [==============================] - 1s 24us/step - loss: 0.4472 - acc: 0.8166 - val_loss: 0.4556 - val_acc: 0.8171\n",
      "Epoch 4/10\n",
      "23680/23680 [==============================] - 1s 23us/step - loss: 0.4424 - acc: 0.8193 - val_loss: 0.4521 - val_acc: 0.8157\n",
      "Epoch 5/10\n",
      "23680/23680 [==============================] - 1s 23us/step - loss: 0.4394 - acc: 0.8195 - val_loss: 0.4513 - val_acc: 0.8171\n",
      "Epoch 6/10\n",
      "23680/23680 [==============================] - 1s 24us/step - loss: 0.4370 - acc: 0.8199 - val_loss: 0.4499 - val_acc: 0.8164\n",
      "Epoch 7/10\n",
      "23680/23680 [==============================] - 1s 24us/step - loss: 0.4357 - acc: 0.8215 - val_loss: 0.4482 - val_acc: 0.8157\n",
      "Epoch 8/10\n",
      "23680/23680 [==============================] - 1s 24us/step - loss: 0.4339 - acc: 0.8204 - val_loss: 0.4476 - val_acc: 0.8174\n",
      "Epoch 9/10\n",
      "23680/23680 [==============================] - 1s 24us/step - loss: 0.4327 - acc: 0.8204 - val_loss: 0.4484 - val_acc: 0.8162\n",
      "Epoch 10/10\n",
      "23680/23680 [==============================] - 1s 24us/step - loss: 0.4321 - acc: 0.8213 - val_loss: 0.4470 - val_acc: 0.8184\n"
     ]
    }
   ],
   "source": [
    "tf.set_random_seed(20190730)  # for reproducibility\n",
    "from keras.models import Sequential\n",
    "from keras.layers import Dense, Dropout\n",
    "\n",
    "model = Sequential()\n",
    "# glorot_uniform, glorot_normal, he\n",
    "# model.add(Dense(84, activation = 'relu',init = 'glorot_uniform', input_shape = (23,)))\n",
    "# model.add(Dropout(0.4))\n",
    "model.add(Dense(84, activation = 'relu', input_shape = (23,)))\n",
    "# model.add(Dropout(0.4))\n",
    "# model.add(Dense(256, activation = 'relu',init = 'glorot_uniform'))\n",
    "model.add(Dense(1, activation = 'sigmoid'))\n",
    "\n",
    "# sgd, rmsprop, nadam\n",
    "model.compile(optimizer = 'rmsprop',\n",
    "             loss = 'binary_crossentropy',\n",
    "             metrics = ['accuracy'])\n",
    "\n",
    "history = model.fit(x_train_set, y_train_set, epochs=10, batch_size = 185,\n",
    "         validation_data = (x_test_set, y_test_set))\n"
   ]
  },
  {
   "cell_type": "code",
   "execution_count": 532,
   "metadata": {},
   "outputs": [
    {
     "name": "stdout",
     "output_type": "stream",
     "text": [
      "test_acc: 0.8172605978719811\n"
     ]
    }
   ],
   "source": [
    "# test_loss, test_acc = model.evaluate(x_test_set, y_test_set, verbose=0)\n",
    "# print('test_acc:', test_acc)"
   ]
  },
  {
   "cell_type": "code",
   "execution_count": 543,
   "metadata": {},
   "outputs": [
    {
     "data": {
      "image/png": "[encoded data removed]",
      "text/plain": [
       "<Figure size 432x288 with 1 Axes>"
      ]
     },
     "metadata": {
      "needs_background": "light"
     },
     "output_type": "display_data"
    }
   ],
   "source": [
    "loss, val_loss = history.history['loss'], history.history['val_loss']\n",
    "acc, val_acc = history.history['acc'], history.history['val_acc']\n",
    "epochs = range(1, len(loss)+1)\n",
    "\n",
    "plt.plot(epochs, loss, 'b', label='Training loss')\n",
    "plt.plot(epochs, val_loss, 'bo', label='Validation loss')\n",
    "plt.plot(epochs, acc, 'r', label='Training acc')\n",
    "plt.plot(epochs, val_acc, 'ro', label='Validation acc')\n",
    "plt.title('Learning history')\n",
    "plt.xlabel('Epochs')\n",
    "plt.ylabel('Accuracy/Loss')\n",
    "plt.xticks(epochs)\n",
    "plt.legend()\n",
    "\n",
    "plt.show()"
   ]
  },
  {
   "cell_type": "markdown",
   "metadata": {},
   "source": [
    "### 실험 과정 정리 및 결론\n",
    "\n",
    "##### logistic regression\n",
    "1. stats과 sklearn을 활용해 ANOVA Table의 결정계수 $R^2$, 변수별 유의검정, 모델 적합도를 확인하고, 종속변수 y의 class 0과 1 각각의 f1 score, accuracy를 확인\n",
    "2. MinMax, MaxAbs, Standard, Robust scale을 비교한 결과 분포가 한쪽으로 치우친 데이터의 로지스틱 회귀분석에서는 standard scale이 가장 좋은 결과를 보임\n",
    "2. accuracy는 82%를 보였지만, 종속변수의 class 비율에 따라 f1 score값이 상이해 SMOTE를 활용하여 비율을 맞추고 분석.\n",
    "3. 그 결과 accuracy와 f1 score가 trade off 관계를 보임\n",
    "(이는 데이터 특성에 따른 관계로 비추어짐. 즉, 일반화 가능성은 확인된 바 없음)\n",
    "##### Random Forest\n",
    "1. 데이터가 적은 특성에 따라 Neural Network을 사용하기 보다 머신러닝 기법을 활용한 분석을 채택\n",
    "2. Decision Tree의 경우 직관적 해석이 가능하다는 장점을 보유하고 있으나, 성능면에서 Random Forest가 데이터와 변수를 다양하게 선택하여 특징 확인이 어려운 이 데이터에 더욱 적합할 것으로 판단.\n",
    "3. Tree류의 경우 표준화의 영향이 미미하나 시행하였고, 그결과 각각 다른 인자를 입력해주어야 최상의 accuracy를 산출할 수 있었음.\n",
    "##### DNN (keras 활용)\n",
    "1. 데이터가 많아야 좋은 성능을 발휘한다는 말에 동의하나 경험해볼 필요가 있다고 생각\n",
    "2. 기본 keras를 활용한 DNN을 활용하되 다양하게 튜닝을 시행\n",
    "3. layer의 경우 최대 3층까지 적용해보았으나 층이 깊어질수록 연산 시간이 오래걸리고 정보력 손실 또한 이루어져 validation의 accuracy가 떨어지는 것을 확인.\n",
    "4. activation function의 경우 relu를 default로 진행하였으며, -값이 있는 데이터의 정보을 보존하기 위해 elu를 사용하였지만, relu보다 accuracy의 진동폭이 불안정한 모습을 보임 (ex) 0.8118 - 0.8220 - 0.8002 epoch마다 이런식의 다소 큰 진동\n",
    "5. weight의 initializer의 경우 he와 glorot의 normal, uniform을 적용해보고 relu가 he initializer와 조합이 좋아 기대한 부분이 있지만 glorot의 normal와 Xavier가 가장 우수한 결과를 보임\n",
    "6. 결론적으로 DNN은 81.5%정도로 다른 분석 기법들의 82%라는 정확도보다 다소 약한 모습을 보임\n",
    "##### 최종 결론\n",
    "feature selection을 통해 일부 변수를 제거하기보다 모든 변수를 사용한 것이 더 좋은 결과를 도출하였고, 변수를 제거하기보다 데이터의 충분한 이해를 통해 각 변수의 곱 또는 나누거나 뺄셈 등을 통해 새로운 변수를 분석 feature로 생성하는 것이 성능 개선에 좋다고 판단."
   ]
  },
  {
   "cell_type": "code",
   "execution_count": null,
   "metadata": {},
   "outputs": [],
   "source": []
  }
 ],
 "metadata": {
  "kernelspec": {
   "display_name": "keras",
   "language": "python",
   "name": "keras"
  },
  "language_info": {
   "codemirror_mode": {
    "name": "ipython",
    "version": 3
   },
   "file_extension": ".py",
   "mimetype": "text/x-python",
   "name": "python",
   "nbconvert_exporter": "python",
   "pygments_lexer": "ipython3",
   "version": "3.6.8"
  },
  "widgets": {
   "state": {},
   "version": "1.1.2"
  }
 },
 "nbformat": 4,
 "nbformat_minor": 2
}
