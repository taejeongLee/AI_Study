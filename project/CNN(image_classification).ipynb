{
 "cells": [
  {
   "cell_type": "code",
   "execution_count": 2,
   "metadata": {},
   "outputs": [],
   "source": [
    "# 일부만 할당된 GPU 메모리를 실행하는 동안 필요한만큼 늘릴 수 있도록 함\n",
    "import tensorflow as tf\n",
    "\n",
    "config = tf.ConfigProto()\n",
    "config.gpu_options.allow_growth = True\n",
    "session = tf.Session(config=config)"
   ]
  },
  {
   "cell_type": "code",
   "execution_count": 3,
   "metadata": {},
   "outputs": [],
   "source": [
    "# 모델 학습 시 불필요한 출력을 끄도록 함 (warning)\n",
    "import tensorflow as tf\n",
    "\n",
    "tf.logging.set_verbosity(tf.logging.ERROR)"
   ]
  },
  {
   "cell_type": "code",
   "execution_count": 3,
   "metadata": {},
   "outputs": [],
   "source": [
    "# 학습 or 실행 도중 오류가 나서 session이 안닫혔을 경우\n",
    "# tf.reset_default_graph ()"
   ]
  },
  {
   "cell_type": "code",
   "execution_count": 3,
   "metadata": {},
   "outputs": [
    {
     "name": "stderr",
     "output_type": "stream",
     "text": [
      "Using TensorFlow backend.\n"
     ]
    },
    {
     "name": "stdout",
     "output_type": "stream",
     "text": [
      "A local file was found, but it seems to be incomplete or outdated because the auto file hash does not match the original value of 6d6bbae143d832006294945121d1f1fc so we will re-download the data.\n",
      "Downloading data from https://github.com/fchollet/deep-learning-models/releases/download/v0.1/vgg16_weights_tf_dim_ordering_tf_kernels_notop.h5\n",
      "58892288/58889256 [==============================] - 22s 0us/step\n"
     ]
    }
   ],
   "source": [
    "from keras.applications import VGG16\n",
    "\n",
    "conv_base = VGG16(weights='imagenet',\n",
    "                  include_top=False,\n",
    "                  input_shape=(150, 150, 3))"
   ]
  },
  {
   "cell_type": "code",
   "execution_count": 4,
   "metadata": {
    "scrolled": true
   },
   "outputs": [
    {
     "name": "stdout",
     "output_type": "stream",
     "text": [
      "_________________________________________________________________\n",
      "Layer (type)                 Output Shape              Param #   \n",
      "=================================================================\n",
      "input_1 (InputLayer)         (None, 150, 150, 3)       0         \n",
      "_________________________________________________________________\n",
      "block1_conv1 (Conv2D)        (None, 150, 150, 64)      1792      \n",
      "_________________________________________________________________\n",
      "block1_conv2 (Conv2D)        (None, 150, 150, 64)      36928     \n",
      "_________________________________________________________________\n",
      "block1_pool (MaxPooling2D)   (None, 75, 75, 64)        0         \n",
      "_________________________________________________________________\n",
      "block2_conv1 (Conv2D)        (None, 75, 75, 128)       73856     \n",
      "_________________________________________________________________\n",
      "block2_conv2 (Conv2D)        (None, 75, 75, 128)       147584    \n",
      "_________________________________________________________________\n",
      "block2_pool (MaxPooling2D)   (None, 37, 37, 128)       0         \n",
      "_________________________________________________________________\n",
      "block3_conv1 (Conv2D)        (None, 37, 37, 256)       295168    \n",
      "_________________________________________________________________\n",
      "block3_conv2 (Conv2D)        (None, 37, 37, 256)       590080    \n",
      "_________________________________________________________________\n",
      "block3_conv3 (Conv2D)        (None, 37, 37, 256)       590080    \n",
      "_________________________________________________________________\n",
      "block3_pool (MaxPooling2D)   (None, 18, 18, 256)       0         \n",
      "_________________________________________________________________\n",
      "block4_conv1 (Conv2D)        (None, 18, 18, 512)       1180160   \n",
      "_________________________________________________________________\n",
      "block4_conv2 (Conv2D)        (None, 18, 18, 512)       2359808   \n",
      "_________________________________________________________________\n",
      "block4_conv3 (Conv2D)        (None, 18, 18, 512)       2359808   \n",
      "_________________________________________________________________\n",
      "block4_pool (MaxPooling2D)   (None, 9, 9, 512)         0         \n",
      "_________________________________________________________________\n",
      "block5_conv1 (Conv2D)        (None, 9, 9, 512)         2359808   \n",
      "_________________________________________________________________\n",
      "block5_conv2 (Conv2D)        (None, 9, 9, 512)         2359808   \n",
      "_________________________________________________________________\n",
      "block5_conv3 (Conv2D)        (None, 9, 9, 512)         2359808   \n",
      "_________________________________________________________________\n",
      "block5_pool (MaxPooling2D)   (None, 4, 4, 512)         0         \n",
      "=================================================================\n",
      "Total params: 14,714,688\n",
      "Trainable params: 14,714,688\n",
      "Non-trainable params: 0\n",
      "_________________________________________________________________\n"
     ]
    }
   ],
   "source": [
    "conv_base.summary()"
   ]
  },
  {
   "cell_type": "code",
   "execution_count": 9,
   "metadata": {},
   "outputs": [
    {
     "name": "stdout",
     "output_type": "stream",
     "text": [
      "Found 2000 images belonging to 2 classes.\n",
      "Found 1000 images belonging to 2 classes.\n",
      "Found 1000 images belonging to 2 classes.\n"
     ]
    }
   ],
   "source": [
    "import os\n",
    "import numpy as np\n",
    "from keras.preprocessing.image import ImageDataGenerator\n",
    "\n",
    "base_dir = './cats_and_dogs_small'\n",
    "\n",
    "train_dir = os.path.join(base_dir, 'train')\n",
    "validation_dir = os.path.join(base_dir, 'validation')\n",
    "test_dir = os.path.join(base_dir, 'test')\n",
    "\n",
    "datagen = ImageDataGenerator(rescale = 1./255)\n",
    "batch_size = 20\n",
    "\n",
    "def extract_features(directory, sample_count):\n",
    "    features = np.zeros(shape = (sample_count, 4, 4, 512))\n",
    "    labels = np.zeros(shape = (sample_count))\n",
    "    generator = datagen.flow_from_directory(\n",
    "        directory,\n",
    "        target_size = (150, 150),\n",
    "        batch_size = batch_size,\n",
    "        class_mode = 'binary')\n",
    "    i = 0\n",
    "    for inputs_batch, labels_batch in generator:\n",
    "        features_batch = conv_base.predict(inputs_batch)\n",
    "        features[i * batch_size : (i + 1) * batch_size] = features_batch\n",
    "        labels[i * batch_size : (i + 1) * batch_size] = labels_batch\n",
    "        i += 1\n",
    "        if i *batch_size >= sample_count:\n",
    "            # 제너레이터는 루프 안에서 무한하게 데이터를 만들어내므로 모드 ㄴ이미지를 한 번씩 처리하고 나면 중지합니다\n",
    "            break\n",
    "    return features, labels\n",
    "\n",
    "train_features, train_labels = extract_features(train_dir, 2000)\n",
    "validation_features, validation_labels = extract_features(validation_dir, 1000)\n",
    "test_features, test_labels = extract_features(test_dir, 1000)"
   ]
  },
  {
   "cell_type": "code",
   "execution_count": 10,
   "metadata": {},
   "outputs": [],
   "source": [
    "train_features = np.reshape(train_features, (2000, 4 * 4 * 512))\n",
    "validation_features = np.reshape(validation_features, (1000, 4 * 4 * 512))\n",
    "test_features = np.reshape(test_features, (1000, 4 * 4 * 512))"
   ]
  },
  {
   "cell_type": "code",
   "execution_count": 14,
   "metadata": {
    "scrolled": true
   },
   "outputs": [
    {
     "name": "stdout",
     "output_type": "stream",
     "text": [
      "Train on 2000 samples, validate on 1000 samples\n",
      "Epoch 1/30\n",
      "2000/2000 [==============================] - 1s 664us/step - loss: 0.5845 - acc: 0.6690 - val_loss: 0.4305 - val_acc: 0.8320\n",
      "Epoch 2/30\n",
      "2000/2000 [==============================] - 1s 383us/step - loss: 0.4349 - acc: 0.7975 - val_loss: 0.3635 - val_acc: 0.8560\n",
      "Epoch 3/30\n",
      "2000/2000 [==============================] - 1s 383us/step - loss: 0.3591 - acc: 0.8460 - val_loss: 0.3240 - val_acc: 0.8770\n",
      "Epoch 4/30\n",
      "2000/2000 [==============================] - 1s 384us/step - loss: 0.3164 - acc: 0.8715 - val_loss: 0.2981 - val_acc: 0.8850\n",
      "Epoch 5/30\n",
      "2000/2000 [==============================] - 1s 396us/step - loss: 0.2814 - acc: 0.8905 - val_loss: 0.2815 - val_acc: 0.8910\n",
      "Epoch 6/30\n",
      "2000/2000 [==============================] - 1s 385us/step - loss: 0.2627 - acc: 0.8980 - val_loss: 0.2715 - val_acc: 0.8930\n",
      "Epoch 7/30\n",
      "2000/2000 [==============================] - 1s 386us/step - loss: 0.2540 - acc: 0.9010 - val_loss: 0.2641 - val_acc: 0.8920\n",
      "Epoch 8/30\n",
      "2000/2000 [==============================] - 1s 384us/step - loss: 0.2320 - acc: 0.9080 - val_loss: 0.2566 - val_acc: 0.8930\n",
      "Epoch 9/30\n",
      "2000/2000 [==============================] - 1s 387us/step - loss: 0.2168 - acc: 0.9200 - val_loss: 0.2517 - val_acc: 0.8970\n",
      "Epoch 10/30\n",
      "2000/2000 [==============================] - 1s 386us/step - loss: 0.1970 - acc: 0.9280 - val_loss: 0.2479 - val_acc: 0.8980\n",
      "Epoch 11/30\n",
      "2000/2000 [==============================] - 1s 385us/step - loss: 0.1976 - acc: 0.9290 - val_loss: 0.2467 - val_acc: 0.8990\n",
      "Epoch 12/30\n",
      "2000/2000 [==============================] - 1s 387us/step - loss: 0.1826 - acc: 0.9355 - val_loss: 0.2415 - val_acc: 0.9020\n",
      "Epoch 13/30\n",
      "2000/2000 [==============================] - 1s 392us/step - loss: 0.1718 - acc: 0.9385 - val_loss: 0.2442 - val_acc: 0.8970\n",
      "Epoch 14/30\n",
      "2000/2000 [==============================] - 1s 388us/step - loss: 0.1698 - acc: 0.9420 - val_loss: 0.2481 - val_acc: 0.8930\n",
      "Epoch 15/30\n",
      "2000/2000 [==============================] - 1s 388us/step - loss: 0.1669 - acc: 0.9420 - val_loss: 0.2488 - val_acc: 0.8970\n",
      "Epoch 16/30\n",
      "2000/2000 [==============================] - 1s 390us/step - loss: 0.1575 - acc: 0.9485 - val_loss: 0.2512 - val_acc: 0.8950\n",
      "Epoch 17/30\n",
      "2000/2000 [==============================] - 1s 385us/step - loss: 0.1466 - acc: 0.9500 - val_loss: 0.2352 - val_acc: 0.9040\n",
      "Epoch 18/30\n",
      "2000/2000 [==============================] - 1s 388us/step - loss: 0.1452 - acc: 0.9530 - val_loss: 0.2357 - val_acc: 0.9010\n",
      "Epoch 19/30\n",
      "2000/2000 [==============================] - 1s 405us/step - loss: 0.1391 - acc: 0.9545 - val_loss: 0.2385 - val_acc: 0.9010\n",
      "Epoch 20/30\n",
      "2000/2000 [==============================] - 1s 390us/step - loss: 0.1324 - acc: 0.9550 - val_loss: 0.2328 - val_acc: 0.9030\n",
      "Epoch 21/30\n",
      "2000/2000 [==============================] - 1s 388us/step - loss: 0.1251 - acc: 0.9570 - val_loss: 0.2340 - val_acc: 0.9030\n",
      "Epoch 22/30\n",
      "2000/2000 [==============================] - 1s 389us/step - loss: 0.1212 - acc: 0.9590 - val_loss: 0.2340 - val_acc: 0.9050\n",
      "Epoch 23/30\n",
      "2000/2000 [==============================] - 1s 389us/step - loss: 0.1163 - acc: 0.9625 - val_loss: 0.2351 - val_acc: 0.9020\n",
      "Epoch 24/30\n",
      "2000/2000 [==============================] - 1s 386us/step - loss: 0.1145 - acc: 0.9635 - val_loss: 0.2470 - val_acc: 0.9010\n",
      "Epoch 25/30\n",
      "2000/2000 [==============================] - 1s 394us/step - loss: 0.1059 - acc: 0.9660 - val_loss: 0.2401 - val_acc: 0.9040\n",
      "Epoch 26/30\n",
      "2000/2000 [==============================] - 1s 389us/step - loss: 0.1040 - acc: 0.9665 - val_loss: 0.2357 - val_acc: 0.9030\n",
      "Epoch 27/30\n",
      "2000/2000 [==============================] - 1s 389us/step - loss: 0.0994 - acc: 0.9680 - val_loss: 0.2370 - val_acc: 0.9010\n",
      "Epoch 28/30\n",
      "2000/2000 [==============================] - 1s 391us/step - loss: 0.0915 - acc: 0.9735 - val_loss: 0.2381 - val_acc: 0.9010\n",
      "Epoch 29/30\n",
      "2000/2000 [==============================] - 1s 394us/step - loss: 0.0901 - acc: 0.9720 - val_loss: 0.2388 - val_acc: 0.9020\n",
      "Epoch 30/30\n",
      "2000/2000 [==============================] - 1s 385us/step - loss: 0.0898 - acc: 0.9685 - val_loss: 0.2387 - val_acc: 0.9010\n"
     ]
    }
   ],
   "source": [
    "from keras import models\n",
    "from keras import layers\n",
    "from keras import optimizers\n",
    "\n",
    "model = models.Sequential()\n",
    "model.add(layers.Dense(256, activation = 'relu', input_dim = 4*4*512))\n",
    "model.add(layers.Dropout(0.5))\n",
    "model.add(layers.Dense(1, activation = 'sigmoid'))\n",
    "\n",
    "model.compile(optimizer = optimizers.RMSprop(lr = 2e-5),\n",
    "             loss = 'binary_crossentropy',\n",
    "             metrics = ['acc'])\n",
    "\n",
    "\n",
    "history = model.fit(train_features, train_labels,\n",
    "                   epochs = 30,\n",
    "                   batch_size = 20, \n",
    "                   validation_data = (validation_features, validation_labels))"
   ]
  },
  {
   "cell_type": "code",
   "execution_count": 17,
   "metadata": {},
   "outputs": [
    {
     "data": {
      "image/png": "[encoded data removed]",
      "text/plain": [
       "<Figure size 432x288 with 1 Axes>"
      ]
     },
     "metadata": {
      "needs_background": "light"
     },
     "output_type": "display_data"
    },
    {
     "data": {
      "image/png": "[encoded data removed]",
      "text/plain": [
       "<Figure size 432x288 with 1 Axes>"
      ]
     },
     "metadata": {
      "needs_background": "light"
     },
     "output_type": "display_data"
    }
   ],
   "source": [
    "import matplotlib.pyplot as plt\n",
    "\n",
    "acc = history.history['acc']\n",
    "val_acc = history.history['val_acc']\n",
    "loss = history.history['loss']\n",
    "val_loss = history.history['val_loss']\n",
    "\n",
    "epochs = range(len(acc))\n",
    "\n",
    "plt.plot(epochs, acc, 'bo', label = 'Training acc')\n",
    "plt.plot(epochs, val_acc, 'b', label = 'lValidation acc')\n",
    "plt.title('Training and validation accuracy')\n",
    "plt.legend()\n",
    "\n",
    "plt.figure()\n",
    "\n",
    "plt.plot(epochs, loss, 'bo', label = 'Training loss')\n",
    "plt.plot(epochs, val_loss, 'b', label = 'Validation loss')\n",
    "plt.title('Training and validation loss')\n",
    "plt.legend()\n",
    "\n",
    "plt.show()"
   ]
  },
  {
   "cell_type": "code",
   "execution_count": 19,
   "metadata": {},
   "outputs": [],
   "source": [
    "from keras import models\n",
    "from keras import layers\n",
    "\n",
    "model = models.Sequential()\n",
    "model.add(conv_base)\n",
    "model.add(layers.Flatten())\n",
    "model.add(layers.Dense(256, activation = 'relu'))\n",
    "model.add(layers.Dense(1, activation = 'sigmoid'))"
   ]
  },
  {
   "cell_type": "code",
   "execution_count": 20,
   "metadata": {},
   "outputs": [
    {
     "name": "stdout",
     "output_type": "stream",
     "text": [
      "_________________________________________________________________\n",
      "Layer (type)                 Output Shape              Param #   \n",
      "=================================================================\n",
      "vgg16 (Model)                (None, 4, 4, 512)         14714688  \n",
      "_________________________________________________________________\n",
      "flatten_1 (Flatten)          (None, 8192)              0         \n",
      "_________________________________________________________________\n",
      "dense_5 (Dense)              (None, 256)               2097408   \n",
      "_________________________________________________________________\n",
      "dense_6 (Dense)              (None, 1)                 257       \n",
      "=================================================================\n",
      "Total params: 16,812,353\n",
      "Trainable params: 16,812,353\n",
      "Non-trainable params: 0\n",
      "_________________________________________________________________\n"
     ]
    }
   ],
   "source": [
    "model.summary()"
   ]
  },
  {
   "cell_type": "code",
   "execution_count": 21,
   "metadata": {},
   "outputs": [
    {
     "name": "stdout",
     "output_type": "stream",
     "text": [
      "conv_base를 동결하기 전 훈련되는 가중치의 수 :  30\n"
     ]
    }
   ],
   "source": [
    "print('conv_base를 동결하기 전 훈련되는 가중치의 수 : ',\n",
    "     len(model.trainable_weights))"
   ]
  },
  {
   "cell_type": "code",
   "execution_count": 22,
   "metadata": {},
   "outputs": [],
   "source": [
    "conv_base.trainable = False"
   ]
  },
  {
   "cell_type": "code",
   "execution_count": 23,
   "metadata": {},
   "outputs": [
    {
     "name": "stdout",
     "output_type": "stream",
     "text": [
      "conv_base를 동결한 후 훈련되는 가중치의 수 :  4\n"
     ]
    }
   ],
   "source": [
    "print('conv_base를 동결한 후 훈련되는 가중치의 수 : ',\n",
    "     len(model.trainable_weights))"
   ]
  },
  {
   "cell_type": "code",
   "execution_count": 26,
   "metadata": {
    "scrolled": true
   },
   "outputs": [
    {
     "name": "stdout",
     "output_type": "stream",
     "text": [
      "Found 2000 images belonging to 2 classes.\n",
      "Found 1000 images belonging to 2 classes.\n",
      "Epoch 1/30\n",
      " - 23s - loss: 0.5443 - acc: 0.7495 - val_loss: 0.4197 - val_acc: 0.8430\n",
      "Epoch 2/30\n",
      " - 23s - loss: 0.4020 - acc: 0.8390 - val_loss: 0.3400 - val_acc: 0.8670\n",
      "Epoch 3/30\n",
      " - 24s - loss: 0.3472 - acc: 0.8530 - val_loss: 0.3077 - val_acc: 0.8770\n",
      "Epoch 4/30\n",
      " - 25s - loss: 0.3227 - acc: 0.8665 - val_loss: 0.2877 - val_acc: 0.8870\n",
      "Epoch 5/30\n",
      " - 26s - loss: 0.3003 - acc: 0.8795 - val_loss: 0.2843 - val_acc: 0.8840\n",
      "Epoch 6/30\n",
      " - 28s - loss: 0.2911 - acc: 0.8885 - val_loss: 0.2641 - val_acc: 0.8930\n",
      "Epoch 7/30\n",
      " - 28s - loss: 0.2770 - acc: 0.8935 - val_loss: 0.2572 - val_acc: 0.8960\n",
      "Epoch 8/30\n",
      " - 30s - loss: 0.2625 - acc: 0.9015 - val_loss: 0.2524 - val_acc: 0.8950\n",
      "Epoch 9/30\n",
      " - 30s - loss: 0.2542 - acc: 0.9035 - val_loss: 0.2540 - val_acc: 0.8960\n",
      "Epoch 10/30\n",
      " - 30s - loss: 0.2527 - acc: 0.8920 - val_loss: 0.2435 - val_acc: 0.9000\n",
      "Epoch 11/30\n",
      " - 30s - loss: 0.2451 - acc: 0.9020 - val_loss: 0.2495 - val_acc: 0.8960\n",
      "Epoch 12/30\n",
      " - 31s - loss: 0.2369 - acc: 0.9050 - val_loss: 0.2423 - val_acc: 0.8980\n",
      "Epoch 13/30\n",
      " - 32s - loss: 0.2386 - acc: 0.9000 - val_loss: 0.2573 - val_acc: 0.8900\n",
      "Epoch 14/30\n",
      " - 32s - loss: 0.2295 - acc: 0.9095 - val_loss: 0.2356 - val_acc: 0.9070\n",
      "Epoch 15/30\n",
      " - 31s - loss: 0.2261 - acc: 0.9120 - val_loss: 0.2409 - val_acc: 0.8980\n",
      "Epoch 16/30\n",
      " - 33s - loss: 0.2237 - acc: 0.9095 - val_loss: 0.2316 - val_acc: 0.9090\n",
      "Epoch 17/30\n",
      " - 28s - loss: 0.2152 - acc: 0.9110 - val_loss: 0.2344 - val_acc: 0.9090\n",
      "Epoch 18/30\n",
      " - 27s - loss: 0.2107 - acc: 0.9210 - val_loss: 0.2340 - val_acc: 0.9100\n",
      "Epoch 19/30\n",
      " - 27s - loss: 0.2105 - acc: 0.9210 - val_loss: 0.2404 - val_acc: 0.9080\n",
      "Epoch 20/30\n",
      " - 27s - loss: 0.1992 - acc: 0.9255 - val_loss: 0.2329 - val_acc: 0.9060\n",
      "Epoch 21/30\n",
      " - 27s - loss: 0.2058 - acc: 0.9200 - val_loss: 0.2358 - val_acc: 0.9030\n",
      "Epoch 22/30\n",
      " - 27s - loss: 0.2037 - acc: 0.9150 - val_loss: 0.2377 - val_acc: 0.9070\n",
      "Epoch 23/30\n",
      " - 27s - loss: 0.2002 - acc: 0.9215 - val_loss: 0.2334 - val_acc: 0.9110\n",
      "Epoch 24/30\n",
      " - 28s - loss: 0.1959 - acc: 0.9215 - val_loss: 0.2359 - val_acc: 0.9080\n",
      "Epoch 25/30\n",
      " - 27s - loss: 0.1897 - acc: 0.9290 - val_loss: 0.2318 - val_acc: 0.9100\n",
      "Epoch 26/30\n",
      " - 27s - loss: 0.1869 - acc: 0.9245 - val_loss: 0.2323 - val_acc: 0.9050\n",
      "Epoch 27/30\n",
      " - 28s - loss: 0.1952 - acc: 0.9215 - val_loss: 0.2351 - val_acc: 0.9040\n",
      "Epoch 28/30\n",
      " - 27s - loss: 0.1883 - acc: 0.9270 - val_loss: 0.2334 - val_acc: 0.9040\n",
      "Epoch 29/30\n",
      " - 27s - loss: 0.1822 - acc: 0.9265 - val_loss: 0.2319 - val_acc: 0.9090\n",
      "Epoch 30/30\n",
      " - 27s - loss: 0.1835 - acc: 0.9260 - val_loss: 0.2285 - val_acc: 0.9120\n"
     ]
    }
   ],
   "source": [
    "from keras.preprocessing.image import ImageDataGenerator\n",
    "\n",
    "train_datagen = ImageDataGenerator(\n",
    "    rescale = 1./255,\n",
    "    rotation_range = 20,\n",
    "    width_shift_range = 0.1,\n",
    "    height_shift_range = 0.1,\n",
    "    shear_range = 0.1,\n",
    "    zoom_range = 0.1,\n",
    "    horizontal_flip = True,\n",
    "    fill_mode = 'nearest')\n",
    "\n",
    "# 검증 데이터는 증식되어서는 안됩니다.\n",
    "test_datagen = ImageDataGenerator(rescale = 1./255)\n",
    "\n",
    "train_generator = train_datagen.flow_from_directory(\n",
    "    # 타깃 디렉터리\n",
    "    train_dir,\n",
    "    # 모든 이미지의 크기를 150x150로 변경합니다\n",
    "    target_size = (150, 150),\n",
    "    batch_size = 20,\n",
    "    # binary_crossentropy 손실을 사용하므로 이진 레이블이 필요합니다\n",
    "    class_mode = 'binary')\n",
    "\n",
    "validation_generator = test_datagen.flow_from_directory(\n",
    "    validation_dir,\n",
    "    target_size = (150, 150),\n",
    "    batch_size = 20,\n",
    "    class_mode = 'binary')\n",
    "\n",
    "model.compile(loss = 'binary_crossentropy',\n",
    "             optimizer = optimizers.RMSprop(lr = 2e-5),\n",
    "             metrics = ['acc'])\n",
    "\n",
    "history = model.fit_generator(\n",
    "    train_generator,\n",
    "    steps_per_epoch = 100,\n",
    "    epochs = 30,\n",
    "    validation_data = validation_generator,\n",
    "    validation_steps = 50,\n",
    "    verbose = 2)"
   ]
  },
  {
   "cell_type": "code",
   "execution_count": 27,
   "metadata": {},
   "outputs": [],
   "source": [
    "model.save('cats_and_dogs_small_3.h5')"
   ]
  },
  {
   "cell_type": "code",
   "execution_count": 28,
   "metadata": {},
   "outputs": [
    {
     "data": {
      "image/png": "[encoded data removed]",
      "text/plain": [
       "<Figure size 432x288 with 1 Axes>"
      ]
     },
     "metadata": {
      "needs_background": "light"
     },
     "output_type": "display_data"
    },
    {
     "data": {
      "image/png": "[encoded data removed]",
      "text/plain": [
       "<Figure size 432x288 with 1 Axes>"
      ]
     },
     "metadata": {
      "needs_background": "light"
     },
     "output_type": "display_data"
    }
   ],
   "source": [
    "acc = history.history['acc']\n",
    "val_acc = history.history['val_acc']\n",
    "loss = history.history['loss']\n",
    "val_loss = history.history['val_loss']\n",
    "\n",
    "epochs = range(len(acc))\n",
    "\n",
    "plt.plot(epochs, acc, 'bo', label='Training acc')\n",
    "plt.plot(epochs, val_acc, 'b', label='Validation acc')\n",
    "plt.title('Training and validation accuracy')\n",
    "plt.legend()\n",
    "\n",
    "\n",
    "plt.figure()\n",
    "\n",
    "plt.plot(epochs, loss, 'bo', label='Training loss')\n",
    "plt.plot(epochs, val_loss, 'b', label='Validation loss')\n",
    "plt.title('Training and validation loss')\n",
    "plt.legend()\n",
    "\n",
    "plt.show()"
   ]
  },
  {
   "cell_type": "markdown",
   "metadata": {},
   "source": [
    "미세 조정"
   ]
  },
  {
   "cell_type": "code",
   "execution_count": 29,
   "metadata": {
    "scrolled": true
   },
   "outputs": [
    {
     "name": "stdout",
     "output_type": "stream",
     "text": [
      "_________________________________________________________________\n",
      "Layer (type)                 Output Shape              Param #   \n",
      "=================================================================\n",
      "input_1 (InputLayer)         (None, 150, 150, 3)       0         \n",
      "_________________________________________________________________\n",
      "block1_conv1 (Conv2D)        (None, 150, 150, 64)      1792      \n",
      "_________________________________________________________________\n",
      "block1_conv2 (Conv2D)        (None, 150, 150, 64)      36928     \n",
      "_________________________________________________________________\n",
      "block1_pool (MaxPooling2D)   (None, 75, 75, 64)        0         \n",
      "_________________________________________________________________\n",
      "block2_conv1 (Conv2D)        (None, 75, 75, 128)       73856     \n",
      "_________________________________________________________________\n",
      "block2_conv2 (Conv2D)        (None, 75, 75, 128)       147584    \n",
      "_________________________________________________________________\n",
      "block2_pool (MaxPooling2D)   (None, 37, 37, 128)       0         \n",
      "_________________________________________________________________\n",
      "block3_conv1 (Conv2D)        (None, 37, 37, 256)       295168    \n",
      "_________________________________________________________________\n",
      "block3_conv2 (Conv2D)        (None, 37, 37, 256)       590080    \n",
      "_________________________________________________________________\n",
      "block3_conv3 (Conv2D)        (None, 37, 37, 256)       590080    \n",
      "_________________________________________________________________\n",
      "block3_pool (MaxPooling2D)   (None, 18, 18, 256)       0         \n",
      "_________________________________________________________________\n",
      "block4_conv1 (Conv2D)        (None, 18, 18, 512)       1180160   \n",
      "_________________________________________________________________\n",
      "block4_conv2 (Conv2D)        (None, 18, 18, 512)       2359808   \n",
      "_________________________________________________________________\n",
      "block4_conv3 (Conv2D)        (None, 18, 18, 512)       2359808   \n",
      "_________________________________________________________________\n",
      "block4_pool (MaxPooling2D)   (None, 9, 9, 512)         0         \n",
      "_________________________________________________________________\n",
      "block5_conv1 (Conv2D)        (None, 9, 9, 512)         2359808   \n",
      "_________________________________________________________________\n",
      "block5_conv2 (Conv2D)        (None, 9, 9, 512)         2359808   \n",
      "_________________________________________________________________\n",
      "block5_conv3 (Conv2D)        (None, 9, 9, 512)         2359808   \n",
      "_________________________________________________________________\n",
      "block5_pool (MaxPooling2D)   (None, 4, 4, 512)         0         \n",
      "=================================================================\n",
      "Total params: 14,714,688\n",
      "Trainable params: 0\n",
      "Non-trainable params: 14,714,688\n",
      "_________________________________________________________________\n"
     ]
    }
   ],
   "source": [
    "conv_base.summary()"
   ]
  },
  {
   "cell_type": "code",
   "execution_count": 30,
   "metadata": {},
   "outputs": [],
   "source": [
    "conv_base.trainable = True\n",
    "\n",
    "set_trainable = False\n",
    "for layer in conv_base.layers:\n",
    "    if layer.name == 'block5_conv1':\n",
    "        set_trainable = True\n",
    "    if set_trainable:\n",
    "        layer.trainable = True\n",
    "    else:\n",
    "        layer.trainable = False"
   ]
  },
  {
   "cell_type": "code",
   "execution_count": 31,
   "metadata": {},
   "outputs": [
    {
     "name": "stdout",
     "output_type": "stream",
     "text": [
      "Epoch 1/100\n",
      "100/100 [==============================] - 28s 277ms/step - loss: 0.1867 - acc: 0.9260 - val_loss: 0.2500 - val_acc: 0.9060\n",
      "Epoch 2/100\n",
      "100/100 [==============================] - 27s 271ms/step - loss: 0.1538 - acc: 0.9405 - val_loss: 0.2292 - val_acc: 0.9140\n",
      "Epoch 3/100\n",
      "100/100 [==============================] - 29s 286ms/step - loss: 0.1441 - acc: 0.9405 - val_loss: 0.2091 - val_acc: 0.9150\n",
      "Epoch 4/100\n",
      "100/100 [==============================] - 30s 300ms/step - loss: 0.1286 - acc: 0.9455 - val_loss: 0.2211 - val_acc: 0.9120\n",
      "Epoch 5/100\n",
      "100/100 [==============================] - 31s 307ms/step - loss: 0.1004 - acc: 0.9625 - val_loss: 0.2301 - val_acc: 0.9200\n",
      "Epoch 6/100\n",
      "100/100 [==============================] - 32s 317ms/step - loss: 0.0991 - acc: 0.9595 - val_loss: 0.1913 - val_acc: 0.9310\n",
      "Epoch 7/100\n",
      "100/100 [==============================] - 32s 324ms/step - loss: 0.0854 - acc: 0.9705 - val_loss: 0.2040 - val_acc: 0.9300\n",
      "Epoch 8/100\n",
      "100/100 [==============================] - 33s 327ms/step - loss: 0.0717 - acc: 0.9745 - val_loss: 0.2322 - val_acc: 0.9230\n",
      "Epoch 9/100\n",
      "100/100 [==============================] - 34s 336ms/step - loss: 0.0682 - acc: 0.9715 - val_loss: 0.2725 - val_acc: 0.9060\n",
      "Epoch 10/100\n",
      "100/100 [==============================] - 35s 347ms/step - loss: 0.0625 - acc: 0.9765 - val_loss: 0.2007 - val_acc: 0.9280\n",
      "Epoch 11/100\n",
      "100/100 [==============================] - 35s 354ms/step - loss: 0.0464 - acc: 0.9855 - val_loss: 0.2077 - val_acc: 0.9270\n",
      "Epoch 12/100\n",
      "100/100 [==============================] - 36s 363ms/step - loss: 0.0446 - acc: 0.9840 - val_loss: 0.2416 - val_acc: 0.9270\n",
      "Epoch 13/100\n",
      "100/100 [==============================] - 37s 375ms/step - loss: 0.0433 - acc: 0.9845 - val_loss: 0.2019 - val_acc: 0.9310\n",
      "Epoch 14/100\n",
      "100/100 [==============================] - 38s 380ms/step - loss: 0.0349 - acc: 0.9880 - val_loss: 0.2716 - val_acc: 0.9140\n",
      "Epoch 15/100\n",
      "100/100 [==============================] - 39s 388ms/step - loss: 0.0350 - acc: 0.9880 - val_loss: 0.3398 - val_acc: 0.9120\n",
      "Epoch 16/100\n",
      "100/100 [==============================] - 40s 401ms/step - loss: 0.0320 - acc: 0.9890 - val_loss: 0.2688 - val_acc: 0.9070\n",
      "Epoch 17/100\n",
      "100/100 [==============================] - 41s 407ms/step - loss: 0.0251 - acc: 0.9925 - val_loss: 0.2677 - val_acc: 0.9330\n",
      "Epoch 18/100\n",
      "100/100 [==============================] - 41s 413ms/step - loss: 0.0312 - acc: 0.9870 - val_loss: 0.2384 - val_acc: 0.9230\n",
      "Epoch 19/100\n",
      "100/100 [==============================] - 42s 423ms/step - loss: 0.0226 - acc: 0.9915 - val_loss: 0.2670 - val_acc: 0.9290\n",
      "Epoch 20/100\n",
      "100/100 [==============================] - 43s 431ms/step - loss: 0.0213 - acc: 0.9925 - val_loss: 0.2428 - val_acc: 0.9310\n",
      "Epoch 21/100\n",
      "100/100 [==============================] - 44s 444ms/step - loss: 0.0263 - acc: 0.9910 - val_loss: 0.2758 - val_acc: 0.9200\n",
      "Epoch 22/100\n",
      "100/100 [==============================] - 44s 443ms/step - loss: 0.0227 - acc: 0.9920 - val_loss: 0.2410 - val_acc: 0.9250\n",
      "Epoch 23/100\n",
      "100/100 [==============================] - 45s 448ms/step - loss: 0.0173 - acc: 0.9930 - val_loss: 0.3302 - val_acc: 0.9130\n",
      "Epoch 24/100\n",
      "100/100 [==============================] - 45s 452ms/step - loss: 0.0254 - acc: 0.9905 - val_loss: 0.2349 - val_acc: 0.9320\n",
      "Epoch 25/100\n",
      "100/100 [==============================] - 47s 466ms/step - loss: 0.0168 - acc: 0.9935 - val_loss: 0.2493 - val_acc: 0.9390\n",
      "Epoch 26/100\n",
      "100/100 [==============================] - 48s 478ms/step - loss: 0.0120 - acc: 0.9960 - val_loss: 0.3119 - val_acc: 0.9230\n",
      "Epoch 27/100\n",
      "100/100 [==============================] - 48s 484ms/step - loss: 0.0145 - acc: 0.9960 - val_loss: 0.2389 - val_acc: 0.9360\n",
      "Epoch 28/100\n",
      "100/100 [==============================] - 47s 467ms/step - loss: 0.0151 - acc: 0.9935 - val_loss: 0.2857 - val_acc: 0.9250\n",
      "Epoch 29/100\n",
      "100/100 [==============================] - 48s 485ms/step - loss: 0.0079 - acc: 0.9980 - val_loss: 0.2506 - val_acc: 0.9340\n",
      "Epoch 30/100\n",
      "100/100 [==============================] - 48s 485ms/step - loss: 0.0093 - acc: 0.9975 - val_loss: 0.2552 - val_acc: 0.9360\n",
      "Epoch 31/100\n",
      "100/100 [==============================] - 48s 484ms/step - loss: 0.0113 - acc: 0.9970 - val_loss: 0.2413 - val_acc: 0.9400\n",
      "Epoch 32/100\n",
      "100/100 [==============================] - 49s 486ms/step - loss: 0.0073 - acc: 0.9980 - val_loss: 0.2999 - val_acc: 0.9320\n",
      "Epoch 33/100\n",
      "100/100 [==============================] - 48s 485ms/step - loss: 0.0136 - acc: 0.9950 - val_loss: 0.2777 - val_acc: 0.9260\n",
      "Epoch 34/100\n",
      "100/100 [==============================] - 49s 485ms/step - loss: 0.0094 - acc: 0.9955 - val_loss: 0.3266 - val_acc: 0.9190\n",
      "Epoch 35/100\n",
      "100/100 [==============================] - 48s 478ms/step - loss: 0.0068 - acc: 0.9980 - val_loss: 0.2775 - val_acc: 0.9370\n",
      "Epoch 36/100\n",
      "100/100 [==============================] - 50s 496ms/step - loss: 0.0084 - acc: 0.9965 - val_loss: 0.2577 - val_acc: 0.9390\n",
      "Epoch 37/100\n",
      "100/100 [==============================] - 49s 491ms/step - loss: 0.0147 - acc: 0.9955 - val_loss: 0.2741 - val_acc: 0.9260\n",
      "Epoch 38/100\n",
      "100/100 [==============================] - 50s 499ms/step - loss: 0.0051 - acc: 0.9985 - val_loss: 0.2680 - val_acc: 0.9380\n",
      "Epoch 39/100\n",
      "100/100 [==============================] - 49s 494ms/step - loss: 0.0095 - acc: 0.9960 - val_loss: 0.3099 - val_acc: 0.9200\n",
      "Epoch 40/100\n",
      "100/100 [==============================] - 50s 500ms/step - loss: 0.0031 - acc: 0.9995 - val_loss: 0.2964 - val_acc: 0.9270\n",
      "Epoch 41/100\n",
      "100/100 [==============================] - 48s 485ms/step - loss: 0.0052 - acc: 0.9985 - val_loss: 0.2957 - val_acc: 0.9370\n",
      "Epoch 42/100\n",
      "100/100 [==============================] - 49s 491ms/step - loss: 0.0113 - acc: 0.9955 - val_loss: 0.3128 - val_acc: 0.9290\n",
      "Epoch 43/100\n",
      "100/100 [==============================] - 49s 486ms/step - loss: 0.0031 - acc: 0.9990 - val_loss: 0.2399 - val_acc: 0.9400\n",
      "Epoch 44/100\n",
      "100/100 [==============================] - 49s 489ms/step - loss: 0.0079 - acc: 0.9975 - val_loss: 0.3504 - val_acc: 0.9280\n",
      "Epoch 45/100\n",
      "100/100 [==============================] - 50s 502ms/step - loss: 0.0074 - acc: 0.9975 - val_loss: 0.3327 - val_acc: 0.9410\n",
      "Epoch 46/100\n",
      "100/100 [==============================] - 50s 500ms/step - loss: 0.0054 - acc: 0.9985 - val_loss: 0.3150 - val_acc: 0.9370\n",
      "Epoch 47/100\n",
      "100/100 [==============================] - 50s 504ms/step - loss: 0.0041 - acc: 0.9995 - val_loss: 0.2961 - val_acc: 0.9280\n",
      "Epoch 48/100\n",
      "100/100 [==============================] - 50s 503ms/step - loss: 0.0056 - acc: 0.9975 - val_loss: 0.3375 - val_acc: 0.9270\n",
      "Epoch 49/100\n",
      "100/100 [==============================] - 50s 504ms/step - loss: 0.0042 - acc: 0.9990 - val_loss: 0.2635 - val_acc: 0.9420\n",
      "Epoch 50/100\n",
      "100/100 [==============================] - 50s 498ms/step - loss: 0.0152 - acc: 0.9975 - val_loss: 0.2885 - val_acc: 0.9350\n",
      "Epoch 51/100\n",
      "100/100 [==============================] - 50s 496ms/step - loss: 0.0051 - acc: 0.9985 - val_loss: 0.2936 - val_acc: 0.9340\n",
      "Epoch 52/100\n",
      "100/100 [==============================] - 49s 488ms/step - loss: 0.0028 - acc: 1.0000 - val_loss: 0.2421 - val_acc: 0.9530\n",
      "Epoch 53/100\n",
      "100/100 [==============================] - 50s 495ms/step - loss: 0.0043 - acc: 0.9985 - val_loss: 0.3620 - val_acc: 0.9300\n",
      "Epoch 54/100\n",
      "100/100 [==============================] - 49s 494ms/step - loss: 0.0065 - acc: 0.9985 - val_loss: 0.2653 - val_acc: 0.9370\n",
      "Epoch 55/100\n",
      "100/100 [==============================] - 49s 486ms/step - loss: 0.0075 - acc: 0.9980 - val_loss: 0.3553 - val_acc: 0.9300\n",
      "Epoch 56/100\n",
      "100/100 [==============================] - 50s 495ms/step - loss: 0.0019 - acc: 0.9995 - val_loss: 0.2896 - val_acc: 0.9300\n",
      "Epoch 57/100\n",
      "100/100 [==============================] - 49s 494ms/step - loss: 0.0054 - acc: 0.9980 - val_loss: 0.3241 - val_acc: 0.9360\n",
      "Epoch 58/100\n",
      "100/100 [==============================] - 50s 497ms/step - loss: 0.0080 - acc: 0.9980 - val_loss: 0.3169 - val_acc: 0.9310\n",
      "Epoch 59/100\n",
      "100/100 [==============================] - 52s 521ms/step - loss: 0.0059 - acc: 0.9985 - val_loss: 0.3584 - val_acc: 0.9260\n",
      "Epoch 60/100\n",
      "100/100 [==============================] - 52s 522ms/step - loss: 0.0034 - acc: 0.9990 - val_loss: 0.3637 - val_acc: 0.9280\n"
     ]
    },
    {
     "name": "stdout",
     "output_type": "stream",
     "text": [
      "Epoch 61/100\n",
      "100/100 [==============================] - 52s 523ms/step - loss: 0.0044 - acc: 0.9980 - val_loss: 0.3410 - val_acc: 0.9300\n",
      "Epoch 62/100\n",
      "100/100 [==============================] - 53s 525ms/step - loss: 0.0059 - acc: 0.9985 - val_loss: 0.3796 - val_acc: 0.9270\n",
      "Epoch 63/100\n",
      "100/100 [==============================] - 52s 524ms/step - loss: 9.3770e-04 - acc: 1.0000 - val_loss: 0.3501 - val_acc: 0.9410\n",
      "Epoch 64/100\n",
      "100/100 [==============================] - 53s 532ms/step - loss: 0.0082 - acc: 0.9985 - val_loss: 0.3198 - val_acc: 0.9340\n",
      "Epoch 65/100\n",
      "100/100 [==============================] - 53s 526ms/step - loss: 0.0064 - acc: 0.9980 - val_loss: 0.3425 - val_acc: 0.9280\n",
      "Epoch 66/100\n",
      "100/100 [==============================] - 52s 523ms/step - loss: 0.0059 - acc: 0.9980 - val_loss: 0.3162 - val_acc: 0.9380\n",
      "Epoch 67/100\n",
      "100/100 [==============================] - 52s 525ms/step - loss: 0.0018 - acc: 0.9990 - val_loss: 0.3818 - val_acc: 0.9240\n",
      "Epoch 68/100\n",
      "100/100 [==============================] - 52s 517ms/step - loss: 0.0038 - acc: 0.9990 - val_loss: 0.3748 - val_acc: 0.9310\n",
      "Epoch 69/100\n",
      "100/100 [==============================] - 53s 532ms/step - loss: 0.0032 - acc: 0.9985 - val_loss: 0.3422 - val_acc: 0.9280\n",
      "Epoch 70/100\n",
      "100/100 [==============================] - 53s 527ms/step - loss: 0.0039 - acc: 0.9995 - val_loss: 0.3279 - val_acc: 0.9390\n",
      "Epoch 71/100\n",
      "100/100 [==============================] - 54s 537ms/step - loss: 8.2004e-04 - acc: 1.0000 - val_loss: 0.3734 - val_acc: 0.9360\n",
      "Epoch 72/100\n",
      "100/100 [==============================] - 53s 531ms/step - loss: 4.2243e-04 - acc: 1.0000 - val_loss: 0.3928 - val_acc: 0.9320\n",
      "Epoch 73/100\n",
      "100/100 [==============================] - 54s 541ms/step - loss: 0.0023 - acc: 0.9995 - val_loss: 0.4152 - val_acc: 0.9360\n",
      "Epoch 74/100\n",
      "100/100 [==============================] - 54s 542ms/step - loss: 0.0013 - acc: 0.9995 - val_loss: 0.3105 - val_acc: 0.9410\n",
      "Epoch 75/100\n",
      "100/100 [==============================] - 54s 536ms/step - loss: 0.0047 - acc: 0.9985 - val_loss: 0.3507 - val_acc: 0.9330\n",
      "Epoch 76/100\n",
      "100/100 [==============================] - 54s 541ms/step - loss: 0.0039 - acc: 0.9980 - val_loss: 0.4636 - val_acc: 0.9190\n",
      "Epoch 77/100\n",
      "100/100 [==============================] - 53s 534ms/step - loss: 0.0038 - acc: 0.9980 - val_loss: 0.4861 - val_acc: 0.9210\n",
      "Epoch 78/100\n",
      "100/100 [==============================] - 55s 548ms/step - loss: 0.0029 - acc: 0.9990 - val_loss: 0.3278 - val_acc: 0.9320\n",
      "Epoch 79/100\n",
      "100/100 [==============================] - 55s 549ms/step - loss: 8.3952e-04 - acc: 1.0000 - val_loss: 0.3114 - val_acc: 0.9350\n",
      "Epoch 80/100\n",
      "100/100 [==============================] - 54s 539ms/step - loss: 0.0043 - acc: 0.9990 - val_loss: 0.3669 - val_acc: 0.9270\n",
      "Epoch 81/100\n",
      "100/100 [==============================] - 53s 530ms/step - loss: 0.0056 - acc: 0.9975 - val_loss: 0.3468 - val_acc: 0.9330\n",
      "Epoch 82/100\n",
      "100/100 [==============================] - 56s 558ms/step - loss: 0.0016 - acc: 0.9995 - val_loss: 0.4185 - val_acc: 0.9340\n",
      "Epoch 83/100\n",
      "100/100 [==============================] - 56s 556ms/step - loss: 3.7996e-04 - acc: 1.0000 - val_loss: 0.4009 - val_acc: 0.9340\n",
      "Epoch 84/100\n",
      "100/100 [==============================] - 54s 538ms/step - loss: 0.0017 - acc: 1.0000 - val_loss: 0.3651 - val_acc: 0.9400\n",
      "Epoch 85/100\n",
      "100/100 [==============================] - 57s 566ms/step - loss: 0.0055 - acc: 0.9985 - val_loss: 0.3376 - val_acc: 0.9350\n",
      "Epoch 86/100\n",
      "100/100 [==============================] - 59s 593ms/step - loss: 0.0017 - acc: 0.9995 - val_loss: 0.4593 - val_acc: 0.9260\n",
      "Epoch 87/100\n",
      "100/100 [==============================] - 58s 581ms/step - loss: 0.0064 - acc: 0.9970 - val_loss: 0.3713 - val_acc: 0.9290\n",
      "Epoch 88/100\n",
      "100/100 [==============================] - 59s 595ms/step - loss: 7.7206e-04 - acc: 1.0000 - val_loss: 0.4550 - val_acc: 0.9280\n",
      "Epoch 89/100\n",
      "100/100 [==============================] - 60s 596ms/step - loss: 0.0052 - acc: 0.9985 - val_loss: 0.4137 - val_acc: 0.9270\n",
      "Epoch 90/100\n",
      "100/100 [==============================] - 60s 603ms/step - loss: 5.1889e-04 - acc: 1.0000 - val_loss: 0.3317 - val_acc: 0.9380\n",
      "Epoch 91/100\n",
      "100/100 [==============================] - 59s 594ms/step - loss: 0.0038 - acc: 0.9990 - val_loss: 0.4512 - val_acc: 0.9180\n",
      "Epoch 92/100\n",
      "100/100 [==============================] - 60s 598ms/step - loss: 0.0014 - acc: 0.9995 - val_loss: 0.3712 - val_acc: 0.9240\n",
      "Epoch 93/100\n",
      "100/100 [==============================] - 59s 591ms/step - loss: 2.4344e-04 - acc: 1.0000 - val_loss: 0.5000 - val_acc: 0.9280\n",
      "Epoch 94/100\n",
      "100/100 [==============================] - 61s 615ms/step - loss: 4.6993e-04 - acc: 1.0000 - val_loss: 0.4137 - val_acc: 0.9280\n",
      "Epoch 95/100\n",
      "100/100 [==============================] - 61s 605ms/step - loss: 0.0051 - acc: 0.9990 - val_loss: 0.6237 - val_acc: 0.9080\n",
      "Epoch 96/100\n",
      "100/100 [==============================] - 61s 613ms/step - loss: 1.8803e-04 - acc: 1.0000 - val_loss: 0.7186 - val_acc: 0.9080\n",
      "Epoch 97/100\n",
      "100/100 [==============================] - 61s 606ms/step - loss: 0.0028 - acc: 0.9995 - val_loss: 0.3594 - val_acc: 0.9470\n",
      "Epoch 98/100\n",
      "100/100 [==============================] - 59s 593ms/step - loss: 5.5458e-04 - acc: 1.0000 - val_loss: 0.5173 - val_acc: 0.9200\n",
      "Epoch 99/100\n",
      "100/100 [==============================] - 60s 601ms/step - loss: 0.0029 - acc: 0.9990 - val_loss: 0.4361 - val_acc: 0.9240\n",
      "Epoch 100/100\n",
      "100/100 [==============================] - 59s 588ms/step - loss: 5.6500e-04 - acc: 1.0000 - val_loss: 0.7133 - val_acc: 0.8960\n"
     ]
    }
   ],
   "source": [
    "model.compile(loss='binary_crossentropy',\n",
    "              optimizer=optimizers.RMSprop(lr=1e-5),\n",
    "              metrics=['acc'])\n",
    "\n",
    "history = model.fit_generator(\n",
    "      train_generator,\n",
    "      steps_per_epoch=100,\n",
    "      epochs=100,\n",
    "      validation_data=validation_generator,\n",
    "      validation_steps=50)"
   ]
  },
  {
   "cell_type": "code",
   "execution_count": 32,
   "metadata": {},
   "outputs": [],
   "source": [
    "model.save('cats_and_dogs_small_4.h5')"
   ]
  },
  {
   "cell_type": "code",
   "execution_count": 33,
   "metadata": {},
   "outputs": [
    {
     "data": {
      "image/png": "[encoded data removed]",
      "text/plain": [
       "<Figure size 432x288 with 1 Axes>"
      ]
     },
     "metadata": {
      "needs_background": "light"
     },
     "output_type": "display_data"
    },
    {
     "data": {
      "image/png": "[encoded data removed]",
      "text/plain": [
       "<Figure size 432x288 with 1 Axes>"
      ]
     },
     "metadata": {
      "needs_background": "light"
     },
     "output_type": "display_data"
    }
   ],
   "source": [
    "acc = history.history['acc']\n",
    "val_acc = history.history['val_acc']\n",
    "loss = history.history['loss']\n",
    "val_loss = history.history['val_loss']\n",
    "\n",
    "epochs = range(len(acc))\n",
    "\n",
    "plt.plot(epochs, acc, 'bo', label='Training acc')\n",
    "plt.plot(epochs, val_acc, 'b', label='Validation acc')\n",
    "plt.title('Training and validation accuracy')\n",
    "plt.legend()\n",
    "\n",
    "plt.figure()\n",
    "\n",
    "plt.plot(epochs, loss, 'bo', label='Training loss')\n",
    "plt.plot(epochs, val_loss, 'b', label='Validation loss')\n",
    "plt.title('Training and validation loss')\n",
    "plt.legend()\n",
    "\n",
    "plt.show()"
   ]
  },
  {
   "cell_type": "code",
   "execution_count": 34,
   "metadata": {},
   "outputs": [
    {
     "data": {
      "image/png": "[encoded data removed]",
      "text/plain": [
       "<Figure size 432x288 with 1 Axes>"
      ]
     },
     "metadata": {
      "needs_background": "light"
     },
     "output_type": "display_data"
    },
    {
     "data": {
      "image/png": "[encoded data removed]",
      "text/plain": [
       "<Figure size 432x288 with 1 Axes>"
      ]
     },
     "metadata": {
      "needs_background": "light"
     },
     "output_type": "display_data"
    }
   ],
   "source": [
    "def smooth_curve(points, factor=0.8):\n",
    "  smoothed_points = []\n",
    "  for point in points:\n",
    "    if smoothed_points:\n",
    "      previous = smoothed_points[-1]\n",
    "      smoothed_points.append(previous * factor + point * (1 - factor))\n",
    "    else:\n",
    "      smoothed_points.append(point)\n",
    "  return smoothed_points\n",
    "\n",
    "plt.plot(epochs,\n",
    "         smooth_curve(acc), 'bo', label='Smoothed training acc')\n",
    "plt.plot(epochs,\n",
    "         smooth_curve(val_acc), 'b', label='Smoothed validation acc')\n",
    "plt.title('Training and validation accuracy')\n",
    "plt.legend()\n",
    "\n",
    "plt.figure()\n",
    "\n",
    "plt.plot(epochs,\n",
    "         smooth_curve(loss), 'bo', label='Smoothed training loss')\n",
    "plt.plot(epochs,\n",
    "         smooth_curve(val_loss), 'b', label='Smoothed validation loss')\n",
    "plt.title('Training and validation loss')\n",
    "plt.legend()\n",
    "\n",
    "plt.show()"
   ]
  },
  {
   "cell_type": "code",
   "execution_count": 35,
   "metadata": {},
   "outputs": [
    {
     "name": "stdout",
     "output_type": "stream",
     "text": [
      "Found 1000 images belonging to 2 classes.\n",
      "test acc: 0.920999995470047\n"
     ]
    }
   ],
   "source": [
    "\n",
    "test_generator = test_datagen.flow_from_directory(\n",
    "        test_dir,\n",
    "        target_size=(150, 150),\n",
    "        batch_size=20,\n",
    "        class_mode='binary')\n",
    "\n",
    "test_loss, test_acc = model.evaluate_generator(test_generator, steps=50)\n",
    "print('test acc:', test_acc)"
   ]
  },
  {
   "cell_type": "code",
   "execution_count": null,
   "metadata": {},
   "outputs": [],
   "source": []
  },
  {
   "cell_type": "code",
   "execution_count": null,
   "metadata": {},
   "outputs": [],
   "source": []
  },
  {
   "cell_type": "code",
   "execution_count": null,
   "metadata": {},
   "outputs": [],
   "source": []
  },
  {
   "cell_type": "code",
   "execution_count": null,
   "metadata": {},
   "outputs": [],
   "source": []
  },
  {
   "cell_type": "markdown",
   "metadata": {},
   "source": [
    "# 수행평가 ( fresh and rotten)"
   ]
  },
  {
   "cell_type": "code",
   "execution_count": 8,
   "metadata": {},
   "outputs": [],
   "source": [
    "import os, shutil\n",
    "import numpy as np\n",
    "np.random.seed(777)"
   ]
  },
  {
   "cell_type": "code",
   "execution_count": null,
   "metadata": {},
   "outputs": [],
   "source": [
    "file_size = []\n",
    "file_size.append(len(listdir))\n",
    "min(file_size) 로 작읍값에 맞추거나\n",
    "큰값으로 generator 돌리기"
   ]
  },
  {
   "cell_type": "code",
   "execution_count": 4,
   "metadata": {},
   "outputs": [],
   "source": [
    "# 튜닝 시 디렉터리 경로 실행 해주기\n",
    "base_dir = './dataset/dataset/CNN'\n",
    "train_dir = os.path.join(base_dir, 'train')\n",
    "validation_dir = os.path.join(base_dir, 'validation')\n",
    "test_dir = os.path.join(base_dir, 'test')\n",
    "\n",
    "train_freshapple_dir = os.path.join(train_dir, 'freshapples')\n",
    "train_freshbanana_dir = os.path.join(train_dir, 'freshbanana')\n",
    "train_freshorange_dir = os.path.join(train_dir, 'freshoranges')\n",
    "train_rottenapple_dir = os.path.join(train_dir, 'rottenapples')\n",
    "train_rottenbanana_dir = os.path.join(train_dir, 'rottenbanana')\n",
    "train_rottenorange_dir = os.path.join(train_dir, 'rottenoranges')\n",
    "\n",
    "validation_freshapple_dir = os.path.join(validation_dir, 'freshapples')\n",
    "validation_freshbanana_dir = os.path.join(validation_dir, 'freshbanana')\n",
    "validation_freshorange_dir = os.path.join(validation_dir, 'freshoranges')\n",
    "validation_rottenapple_dir = os.path.join(validation_dir, 'rottenapples')\n",
    "validation_rottenbanana_dir = os.path.join(validation_dir, 'rottenbanana')\n",
    "validation_rottenorange_dir = os.path.join(validation_dir, 'rottenoranges')\n",
    "\n",
    "test_freshapple_dir = os.path.join(test_dir, 'freshapples')\n",
    "test_freshbanana_dir = os.path.join(test_dir, 'freshbanana')\n",
    "test_freshorange_dir = os.path.join(test_dir, 'freshoranges')\n",
    "test_rottenapple_dir = os.path.join(test_dir, 'rottenapples')\n",
    "test_rottenbanana_dir = os.path.join(test_dir, 'rottenbanana')\n",
    "test_rottenorange_dir = os.path.join(test_dir, 'rottenoranges')"
   ]
  },
  {
   "cell_type": "code",
   "execution_count": 19,
   "metadata": {},
   "outputs": [],
   "source": [
    "\n",
    "# original_dataset_dir = './datasets/datasets'\n",
    "np.random.seed(777)\n",
    "\n",
    "base_dir = './dataset/dataset/CNN'\n",
    "os.mkdir(base_dir)\n",
    "\n",
    "train_dir = os.path.join(base_dir, 'train')\n",
    "os.mkdir(train_dir)\n",
    "\n",
    "validation_dir = os.path.join(base_dir, 'validation')\n",
    "os.mkdir(validation_dir)\n",
    "\n",
    "test_dir = os.path.join(base_dir, 'test')\n",
    "os.mkdir(test_dir)\n",
    "\n",
    "\n",
    "\n",
    "train_freshapple_dir = os.path.join(train_dir, 'freshapples')\n",
    "os.mkdir(train_freshapple_dir)\n",
    "\n",
    "train_freshbanana_dir = os.path.join(train_dir, 'freshbanana')\n",
    "os.mkdir(train_freshbanana_dir)\n",
    "\n",
    "train_freshorange_dir = os.path.join(train_dir, 'freshoranges')\n",
    "os.mkdir(train_freshorange_dir)\n",
    "\n",
    "train_rottenapple_dir = os.path.join(train_dir, 'rottenapples')\n",
    "os.mkdir(train_rottenapple_dir)\n",
    "\n",
    "train_rottenbanana_dir = os.path.join(train_dir, 'rottenbanana')\n",
    "os.mkdir(train_rottenbanana_dir)\n",
    "\n",
    "train_rottenorange_dir = os.path.join(train_dir, 'rottenoranges')\n",
    "os.mkdir(train_rottenorange_dir)\n",
    "\n",
    "\n",
    "validation_freshapple_dir = os.path.join(validation_dir, 'freshapples')\n",
    "os.mkdir(validation_freshapple_dir)\n",
    "\n",
    "validation_freshbanana_dir = os.path.join(validation_dir, 'freshbanana')\n",
    "os.mkdir(validation_freshbanana_dir)\n",
    "\n",
    "validation_freshorange_dir = os.path.join(validation_dir, 'freshoranges')\n",
    "os.mkdir(validation_freshorange_dir)\n",
    "\n",
    "validation_rottenapple_dir = os.path.join(validation_dir, 'rottenapples')\n",
    "os.mkdir(validation_rottenapple_dir)\n",
    "\n",
    "validation_rottenbanana_dir = os.path.join(validation_dir, 'rottenbanana')\n",
    "os.mkdir(validation_rottenbanana_dir)\n",
    "\n",
    "validation_rottenorange_dir = os.path.join(validation_dir, 'rottenoranges')\n",
    "os.mkdir(validation_rottenorange_dir)\n",
    "\n",
    "\n",
    "test_freshapple_dir = os.path.join(test_dir, 'freshapples')\n",
    "os.mkdir(test_freshapple_dir)\n",
    "\n",
    "test_freshbanana_dir = os.path.join(test_dir, 'freshbanana')\n",
    "os.mkdir(test_freshbanana_dir)\n",
    "\n",
    "test_freshorange_dir = os.path.join(test_dir, 'freshoranges')\n",
    "os.mkdir(test_freshorange_dir)\n",
    "\n",
    "test_rottenapple_dir = os.path.join(test_dir, 'rottenapples')\n",
    "os.mkdir(test_rottenapple_dir)\n",
    "\n",
    "test_rottenbanana_dir = os.path.join(test_dir, 'rottenbanana')\n",
    "os.mkdir(test_rottenbanana_dir)\n",
    "\n",
    "test_rottenorange_dir = os.path.join(test_dir, 'rottenoranges')\n",
    "os.mkdir(test_rottenorange_dir)"
   ]
  },
  {
   "cell_type": "code",
   "execution_count": 20,
   "metadata": {},
   "outputs": [],
   "source": [
    "from random import *\n",
    "\n",
    "# train\n",
    "directory = 'C:/Users/Affinity/Documents/dataset/dataset/train/'\n",
    "folders = os.listdir(directory)\n",
    "for folder in folders:\n",
    "    file_select = directory + folder + '/'\n",
    "    files = os.listdir(file_select)\n",
    "    random_select = sample(files, 1000) # 100개의 파일명을 랜덤으로 추출\n",
    "    for i in random_select:\n",
    "        src = file_select + i\n",
    "        dst = os.path.join(train_dir, folder) + '/'\n",
    "        shutil.move(src, dst)\n",
    "\n",
    "# validation\n",
    "directory = 'C:/Users/Affinity/Documents/dataset/dataset/train/'\n",
    "folders = os.listdir(directory)\n",
    "for folder in folders:\n",
    "    file_select = directory + folder + '/'\n",
    "    files = os.listdir(file_select)\n",
    "    random_select = sample(files, 380) # 100개의 파일명을 랜덤으로 추출\n",
    "    for i in random_select:\n",
    "        src = file_select + i\n",
    "        dst = os.path.join(validation_dir, folder) + '/'\n",
    "        shutil.move(src, dst)\n",
    "        \n",
    "# test\n",
    "directory = 'C:/Users/Affinity/Documents/dataset/dataset/test/'\n",
    "folders = os.listdir(directory)\n",
    "for folder in folders:\n",
    "    file_select = directory + folder + '/'\n",
    "    files = os.listdir(file_select)\n",
    "    random_select = sample(files, 380) # 100개의 파일명을 랜덤으로 추출\n",
    "    for i in random_select:\n",
    "        src = file_select + i\n",
    "        dst = os.path.join(test_dir, folder) + '/'\n",
    "        shutil.move(src, dst)\n",
    "# 각 폴더에서 500개씩 뽑아서 validation으로 보냄 -> validation 총 3000개 사용\n",
    "# test 2698개 \n",
    "    "
   ]
  },
  {
   "cell_type": "code",
   "execution_count": 5,
   "metadata": {},
   "outputs": [
    {
     "name": "stdout",
     "output_type": "stream",
     "text": [
      "훈련용 신선한 사과 이미지 전체 개수: 1000\n",
      "훈련용 신선한 바나나 이미지 전체 개수: 1000\n",
      "훈련용 신선한 오렌지 이미지 전체 개수: 1000\n",
      "훈련용 상한 사과 이미지 전체 개수: 1000\n",
      "훈련용 상한 바나나 이미지 전체 개수: 1000\n",
      "훈련용 상한 오렌지 이미지 전체 개수: 1000\n",
      "검증용 신선한 사과 이미지 전체 개수: 380\n",
      "검증용 신선한 바나나 이미지 전체 개수: 380\n",
      "검증용 신선한 오렌지 이미지 전체 개수: 380\n",
      "검증용 상한 사과 이미지 전체 개수: 380\n",
      "검증용 상한 바나나 이미지 전체 개수: 380\n",
      "검증용 상한 오렌지 이미지 전체 개수: 380\n",
      "테스트용 신선한 사과 이미지 전체 개수: 380\n",
      "테스트용 신선한 바나나 이미지 전체 개수: 380\n",
      "테스트용 신선한 오렌지 이미지 전체 개수: 380\n",
      "테스트용 상한 사과 이미지 전체 개수: 380\n",
      "테스트용 상한 바나나 이미지 전체 개수: 380\n",
      "테스트용 상한 오렌지 이미지 전체 개수: 380\n"
     ]
    }
   ],
   "source": [
    "print('훈련용 신선한 사과 이미지 전체 개수:', len(os.listdir(train_freshapple_dir)))\n",
    "print('훈련용 신선한 바나나 이미지 전체 개수:', len(os.listdir(train_freshbanana_dir)))\n",
    "print('훈련용 신선한 오렌지 이미지 전체 개수:', len(os.listdir(train_freshorange_dir)))\n",
    "print('훈련용 상한 사과 이미지 전체 개수:', len(os.listdir(train_rottenapple_dir)))\n",
    "print('훈련용 상한 바나나 이미지 전체 개수:', len(os.listdir(train_rottenbanana_dir)))\n",
    "print('훈련용 상한 오렌지 이미지 전체 개수:', len(os.listdir(train_rottenorange_dir)))\n",
    "\n",
    "print('검증용 신선한 사과 이미지 전체 개수:', len(os.listdir(validation_freshapple_dir)))\n",
    "print('검증용 신선한 바나나 이미지 전체 개수:', len(os.listdir(validation_freshbanana_dir)))\n",
    "print('검증용 신선한 오렌지 이미지 전체 개수:', len(os.listdir(validation_freshorange_dir)))\n",
    "print('검증용 상한 사과 이미지 전체 개수:', len(os.listdir(validation_rottenapple_dir)))\n",
    "print('검증용 상한 바나나 이미지 전체 개수:', len(os.listdir(validation_rottenbanana_dir)))\n",
    "print('검증용 상한 오렌지 이미지 전체 개수:', len(os.listdir(validation_rottenorange_dir)))\n",
    "\n",
    "print('테스트용 신선한 사과 이미지 전체 개수:', len(os.listdir(test_freshapple_dir)))\n",
    "print('테스트용 신선한 바나나 이미지 전체 개수:', len(os.listdir(test_freshbanana_dir)))\n",
    "print('테스트용 신선한 오렌지 이미지 전체 개수:', len(os.listdir(test_freshorange_dir)))\n",
    "print('테스트용 상한 사과 이미지 전체 개수:', len(os.listdir(test_rottenapple_dir)))\n",
    "print('테스트용 상한 바나나 이미지 전체 개수:', len(os.listdir(test_rottenbanana_dir)))\n",
    "print('테스트용 상한 오렌지 이미지 전체 개수:', len(os.listdir(test_rottenorange_dir)))"
   ]
  },
  {
   "cell_type": "markdown",
   "metadata": {},
   "source": [
    "1. 네트워크 구성하기"
   ]
  },
  {
   "cell_type": "code",
   "execution_count": 53,
   "metadata": {},
   "outputs": [],
   "source": [
    "from keras.layers.advanced_activations import LeakyReLU"
   ]
  },
  {
   "cell_type": "code",
   "execution_count": 41,
   "metadata": {},
   "outputs": [],
   "source": [
    "from keras import layers\n",
    "from keras import models\n",
    "\n",
    "model = models.Sequential()\n",
    "model.add(layers.Conv2D(36, (3, 3), activation='relu',\n",
    "                        input_shape=(150, 150, 3)))\n",
    "model.add(layers.MaxPooling2D((2, 2)))\n",
    "model.add(layers.Conv2D(72, (3, 3), activation='relu'))\n",
    "model.add(layers.MaxPooling2D((2, 2)))\n",
    "model.add(layers.Conv2D(288, (3, 3), activation='relu'))\n",
    "model.add(layers.MaxPooling2D((2, 2)))\n",
    "model.add(layers.Conv2D(288, (3, 3), activation='relu'))\n",
    "model.add(layers.MaxPooling2D((2, 2)))\n",
    "model.add(layers.Flatten())\n",
    "model.add(layers.Dense(576, activation='relu'))\n",
    "model.add(layers.Dense(6, activation='softmax'))"
   ]
  },
  {
   "cell_type": "code",
   "execution_count": 42,
   "metadata": {},
   "outputs": [
    {
     "name": "stdout",
     "output_type": "stream",
     "text": [
      "_________________________________________________________________\n",
      "Layer (type)                 Output Shape              Param #   \n",
      "=================================================================\n",
      "conv2d_5 (Conv2D)            (None, 148, 148, 36)      1008      \n",
      "_________________________________________________________________\n",
      "max_pooling2d_5 (MaxPooling2 (None, 74, 74, 36)        0         \n",
      "_________________________________________________________________\n",
      "conv2d_6 (Conv2D)            (None, 72, 72, 72)        23400     \n",
      "_________________________________________________________________\n",
      "max_pooling2d_6 (MaxPooling2 (None, 36, 36, 72)        0         \n",
      "_________________________________________________________________\n",
      "conv2d_7 (Conv2D)            (None, 34, 34, 288)       186912    \n",
      "_________________________________________________________________\n",
      "max_pooling2d_7 (MaxPooling2 (None, 17, 17, 288)       0         \n",
      "_________________________________________________________________\n",
      "conv2d_8 (Conv2D)            (None, 15, 15, 288)       746784    \n",
      "_________________________________________________________________\n",
      "max_pooling2d_8 (MaxPooling2 (None, 7, 7, 288)         0         \n",
      "_________________________________________________________________\n",
      "flatten_2 (Flatten)          (None, 14112)             0         \n",
      "_________________________________________________________________\n",
      "dense_3 (Dense)              (None, 576)               8129088   \n",
      "_________________________________________________________________\n",
      "dense_4 (Dense)              (None, 6)                 3462      \n",
      "=================================================================\n",
      "Total params: 9,090,654\n",
      "Trainable params: 9,090,654\n",
      "Non-trainable params: 0\n",
      "_________________________________________________________________\n"
     ]
    }
   ],
   "source": [
    "model.summary()"
   ]
  },
  {
   "cell_type": "code",
   "execution_count": 8,
   "metadata": {},
   "outputs": [],
   "source": [
    "from keras import optimizers\n",
    "\n",
    "model.compile(loss = 'categorical_crossentropy',\n",
    "             optimizer = optimizers.RMSprop(lr = 1e-3),\n",
    "             metrics = ['acc'])"
   ]
  },
  {
   "cell_type": "markdown",
   "metadata": {},
   "source": [
    "2. 데이터 전처리"
   ]
  },
  {
   "cell_type": "code",
   "execution_count": 5,
   "metadata": {},
   "outputs": [
    {
     "name": "stdout",
     "output_type": "stream",
     "text": [
      "Found 6000 images belonging to 6 classes.\n",
      "Found 2280 images belonging to 6 classes.\n"
     ]
    }
   ],
   "source": [
    "from keras.preprocessing.image import ImageDataGenerator\n",
    "\n",
    "# 모든 이미지를 1/255로 스케일을 조정합니다\n",
    "train_datagen = ImageDataGenerator(rescale=1./255)\n",
    "test_datagen = ImageDataGenerator(rescale=1./255)\n",
    "\n",
    "train_generator = train_datagen.flow_from_directory(\n",
    "        # 타깃 디렉터리\n",
    "        train_dir,\n",
    "#            train_dir = os.path.join(base_dir, 'train')\n",
    "#            os.mkdir(train_dir)\n",
    "        # 모든 이미지를 150 × 150 크기로 바꿉니다\n",
    "        target_size=(150, 150),\n",
    "        batch_size=60,\n",
    "        # binary_crossentropy 손실을 사용하기 때문에 이진 레이블이 필요합니다\n",
    "        class_mode='categorical')\n",
    "\n",
    "validation_generator = test_datagen.flow_from_directory(\n",
    "        validation_dir,\n",
    "        target_size=(150, 150),\n",
    "        batch_size=20,\n",
    "        class_mode='categorical')"
   ]
  },
  {
   "cell_type": "code",
   "execution_count": 6,
   "metadata": {},
   "outputs": [
    {
     "name": "stdout",
     "output_type": "stream",
     "text": [
      "배치 데이터 크기: (60, 150, 150, 3)\n",
      "배치 레이블 크기: (60, 6)\n"
     ]
    }
   ],
   "source": [
    "for data_batch, labels_batch in train_generator:\n",
    "    print('배치 데이터 크기:', data_batch.shape)\n",
    "    print('배치 레이블 크기:', labels_batch.shape)\n",
    "    break"
   ]
  },
  {
   "cell_type": "markdown",
   "metadata": {},
   "source": [
    "3. 분석하기"
   ]
  },
  {
   "cell_type": "markdown",
   "metadata": {},
   "source": [
    "    all relu, batch 20"
   ]
  },
  {
   "cell_type": "code",
   "execution_count": 37,
   "metadata": {},
   "outputs": [
    {
     "name": "stdout",
     "output_type": "stream",
     "text": [
      "Epoch 1/5\n",
      "300/300 [==============================] - 423s 1s/step - loss: 1.6851 - acc: 0.5843 - val_loss: 0.4396 - val_acc: 0.8518\n",
      "Epoch 2/5\n",
      "300/300 [==============================] - 428s 1s/step - loss: 0.4695 - acc: 0.8382 - val_loss: 0.7909 - val_acc: 0.7096\n",
      "Epoch 3/5\n",
      "300/300 [==============================] - 428s 1s/step - loss: 0.3213 - acc: 0.8920 - val_loss: 0.6200 - val_acc: 0.8009\n",
      "Epoch 4/5\n",
      "300/300 [==============================] - 432s 1s/step - loss: 0.2611 - acc: 0.9148 - val_loss: 0.3165 - val_acc: 0.8811\n",
      "Epoch 5/5\n",
      "300/300 [==============================] - 435s 1s/step - loss: 0.2170 - acc: 0.9370 - val_loss: 0.1823 - val_acc: 0.9338\n"
     ]
    }
   ],
   "source": [
    "history = model.fit_generator(\n",
    "      train_generator,\n",
    "      steps_per_epoch=300,\n",
    "    # 한 epoch에 사용한 스텝 수를 지정합니다. 총 45개의 훈련 샘플이 있고\n",
    "    # 배치사이즈가 3이므로 15 스텝으로 지정합니다.\n",
    "    # train 고양이 1000개, 강아지 1000개 -> batch가 20이므로 2000/20 = steps\n",
    "      epochs=5,\n",
    "      validation_data=validation_generator,\n",
    "      validation_steps=114)\n",
    "    # 한 epoch 종료 시 마다 검증할 때 사용되는 검증 스텝 수를 지정합니다.\n",
    "    # 홍 15개의 검증 샘플이 있고 배치사이즈가 3이므로 5 스텝으로 지정합니다.\n",
    "    # 검증 데이터 1000개 -> steps 50이므로 -> 배치는 각 20개가 됨\n",
    "    \n",
    "    # batch size = 20"
   ]
  },
  {
   "cell_type": "markdown",
   "metadata": {},
   "source": [
    "    all relu, batch 60"
   ]
  },
  {
   "cell_type": "code",
   "execution_count": 41,
   "metadata": {},
   "outputs": [],
   "source": [
    "from keras import layers\n",
    "from keras import models\n",
    "\n",
    "model = models.Sequential()\n",
    "model.add(layers.Conv2D(36, (3, 3), activation='elu',\n",
    "                        input_shape=(150, 150, 3)))\n",
    "model.add(layers.MaxPooling2D((2, 2)))\n",
    "model.add(layers.Conv2D(72, (3, 3), activation='elu'))\n",
    "model.add(layers.MaxPooling2D((2, 2)))\n",
    "model.add(layers.Conv2D(288, (3, 3), activation='relu'))\n",
    "model.add(layers.MaxPooling2D((2, 2)))\n",
    "model.add(layers.Conv2D(288, (3, 3), activation='relu'))\n",
    "model.add(layers.MaxPooling2D((2, 2)))\n",
    "model.add(layers.Flatten())\n",
    "model.add(layers.Dense(576, activation='relu'))\n",
    "model.add(layers.Dense(6, activation='softmax'))"
   ]
  },
  {
   "cell_type": "code",
   "execution_count": 46,
   "metadata": {},
   "outputs": [
    {
     "name": "stdout",
     "output_type": "stream",
     "text": [
      "Epoch 1/8\n",
      "100/100 [==============================] - 437s 4s/step - loss: 1.6023 - acc: 0.4632 - val_loss: 2.7422 - val_acc: 0.3588\n",
      "Epoch 2/8\n",
      "100/100 [==============================] - 440s 4s/step - loss: 0.7544 - acc: 0.7402 - val_loss: 0.5405 - val_acc: 0.7952\n",
      "Epoch 3/8\n",
      "100/100 [==============================] - 440s 4s/step - loss: 0.5316 - acc: 0.8292 - val_loss: 0.2854 - val_acc: 0.8987\n",
      "Epoch 4/8\n",
      "100/100 [==============================] - 445s 4s/step - loss: 0.3407 - acc: 0.8872 - val_loss: 0.1796 - val_acc: 0.9412\n",
      "Epoch 5/8\n",
      "100/100 [==============================] - 442s 4s/step - loss: 0.2780 - acc: 0.9085 - val_loss: 0.1684 - val_acc: 0.9390\n",
      "Epoch 6/8\n",
      "100/100 [==============================] - 440s 4s/step - loss: 0.3346 - acc: 0.9162 - val_loss: 0.2046 - val_acc: 0.9342\n",
      "Epoch 7/8\n",
      "100/100 [==============================] - 436s 4s/step - loss: 0.1609 - acc: 0.9533 - val_loss: 2.5482 - val_acc: 0.7162\n",
      "Epoch 8/8\n",
      "100/100 [==============================] - 434s 4s/step - loss: 0.2526 - acc: 0.9430 - val_loss: 0.1777 - val_acc: 0.9382\n"
     ]
    }
   ],
   "source": [
    "history = model.fit_generator(\n",
    "      train_generator,\n",
    "      steps_per_epoch=100,\n",
    "      epochs=8,\n",
    "      validation_data=validation_generator,\n",
    "      validation_steps=114)\n",
    "    \n",
    "    # batch size = 60"
   ]
  },
  {
   "cell_type": "markdown",
   "metadata": {},
   "source": [
    "    leakyrelu"
   ]
  },
  {
   "cell_type": "code",
   "execution_count": 33,
   "metadata": {},
   "outputs": [],
   "source": [
    "from keras import layers\n",
    "from keras import models\n",
    "\n",
    "model = models.Sequential()\n",
    "model.add(layers.Conv2D(36, (3, 3), activation='relu',\n",
    "                        input_shape=(150, 150, 3)))\n",
    "model.add(layers.MaxPooling2D((2, 2)))\n",
    "model.add(layers.Conv2D(72, (3, 3), activation='relu'))\n",
    "model.add(layers.MaxPooling2D((2, 2)))\n",
    "model.add(layers.Conv2D(72, (3, 3), activation='relu'))\n",
    "model.add(layers.MaxPooling2D((2, 2)))\n",
    "model.add(layers.Conv2D(288, (3, 3), activation='relu'))\n",
    "model.add(layers.MaxPooling2D((2, 2)))\n",
    "model.add(layers.Flatten())\n",
    "model.add(layers.Dense(576, activation='relu'))\n",
    "model.add(layers.Dense(360, activation='relu'))\n",
    "model.add(layers.Dense(6, activation='softmax'))\n",
    "\n",
    "model.compile(loss = 'categorical_crossentropy',\n",
    "             optimizer = optimizers.RMSprop(lr = 1e-3),\n",
    "             metrics = ['acc'])"
   ]
  },
  {
   "cell_type": "code",
   "execution_count": 29,
   "metadata": {},
   "outputs": [
    {
     "name": "stdout",
     "output_type": "stream",
     "text": [
      "_________________________________________________________________\n",
      "Layer (type)                 Output Shape              Param #   \n",
      "=================================================================\n",
      "conv2d_9 (Conv2D)            (None, 148, 148, 36)      1008      \n",
      "_________________________________________________________________\n",
      "max_pooling2d_9 (MaxPooling2 (None, 74, 74, 36)        0         \n",
      "_________________________________________________________________\n",
      "conv2d_10 (Conv2D)           (None, 72, 72, 72)        23400     \n",
      "_________________________________________________________________\n",
      "max_pooling2d_10 (MaxPooling (None, 36, 36, 72)        0         \n",
      "_________________________________________________________________\n",
      "conv2d_11 (Conv2D)           (None, 34, 34, 72)        46728     \n",
      "_________________________________________________________________\n",
      "max_pooling2d_11 (MaxPooling (None, 17, 17, 72)        0         \n",
      "_________________________________________________________________\n",
      "conv2d_12 (Conv2D)           (None, 15, 15, 288)       186912    \n",
      "_________________________________________________________________\n",
      "max_pooling2d_12 (MaxPooling (None, 7, 7, 288)         0         \n",
      "_________________________________________________________________\n",
      "flatten_3 (Flatten)          (None, 14112)             0         \n",
      "_________________________________________________________________\n",
      "dense_7 (Dense)              (None, 576)               8129088   \n",
      "_________________________________________________________________\n",
      "dense_8 (Dense)              (None, 360)               207720    \n",
      "_________________________________________________________________\n",
      "dense_9 (Dense)              (None, 6)                 2166      \n",
      "=================================================================\n",
      "Total params: 8,597,022\n",
      "Trainable params: 8,597,022\n",
      "Non-trainable params: 0\n",
      "_________________________________________________________________\n"
     ]
    }
   ],
   "source": [
    "model.summary()"
   ]
  },
  {
   "cell_type": "code",
   "execution_count": 34,
   "metadata": {
    "scrolled": true
   },
   "outputs": [
    {
     "name": "stdout",
     "output_type": "stream",
     "text": [
      "Epoch 1/20\n",
      "100/100 [==============================] - 30s 299ms/step - loss: 1.4124 - acc: 0.4638 - val_loss: 0.6692 - val_acc: 0.7575\n",
      "Epoch 2/20\n",
      "100/100 [==============================] - 33s 329ms/step - loss: 0.7197 - acc: 0.7473 - val_loss: 0.7792 - val_acc: 0.7096\n",
      "Epoch 3/20\n",
      "100/100 [==============================] - 38s 380ms/step - loss: 0.4943 - acc: 0.8273 - val_loss: 0.3870 - val_acc: 0.8596\n",
      "Epoch 4/20\n",
      "100/100 [==============================] - 41s 408ms/step - loss: 0.3642 - acc: 0.8782 - val_loss: 0.5919 - val_acc: 0.8061\n",
      "Epoch 5/20\n",
      "100/100 [==============================] - 43s 426ms/step - loss: 0.2996 - acc: 0.8973 - val_loss: 0.1751 - val_acc: 0.9404\n",
      "Epoch 6/20\n",
      "100/100 [==============================] - 46s 455ms/step - loss: 0.2322 - acc: 0.9278 - val_loss: 0.2440 - val_acc: 0.9154\n",
      "Epoch 7/20\n",
      "100/100 [==============================] - 46s 456ms/step - loss: 0.2021 - acc: 0.9387 - val_loss: 0.2049 - val_acc: 0.9373\n",
      "Epoch 8/20\n",
      "100/100 [==============================] - 48s 482ms/step - loss: 0.1381 - acc: 0.9578 - val_loss: 0.1049 - val_acc: 0.9645\n",
      "Epoch 9/20\n",
      "100/100 [==============================] - 49s 486ms/step - loss: 0.1509 - acc: 0.9573 - val_loss: 0.1210 - val_acc: 0.9623\n",
      "Epoch 10/20\n",
      "100/100 [==============================] - 49s 490ms/step - loss: 0.1118 - acc: 0.9683 - val_loss: 0.1126 - val_acc: 0.9649\n",
      "Epoch 11/20\n",
      "100/100 [==============================] - 49s 489ms/step - loss: 0.0935 - acc: 0.9762 - val_loss: 0.1421 - val_acc: 0.9557\n",
      "Epoch 12/20\n",
      "100/100 [==============================] - 50s 501ms/step - loss: 0.0814 - acc: 0.9748 - val_loss: 0.2550 - val_acc: 0.9276\n",
      "Epoch 13/20\n",
      "100/100 [==============================] - 52s 522ms/step - loss: 0.0863 - acc: 0.9788 - val_loss: 0.1749 - val_acc: 0.9491\n",
      "Epoch 14/20\n",
      "100/100 [==============================] - 51s 507ms/step - loss: 0.1305 - acc: 0.9707 - val_loss: 0.1606 - val_acc: 0.9627\n",
      "Epoch 15/20\n",
      "100/100 [==============================] - 50s 496ms/step - loss: 0.1104 - acc: 0.9783 - val_loss: 0.1558 - val_acc: 0.9561\n",
      "Epoch 16/20\n",
      "100/100 [==============================] - 50s 504ms/step - loss: 0.0507 - acc: 0.9893 - val_loss: 0.1445 - val_acc: 0.9697\n",
      "Epoch 17/20\n",
      "100/100 [==============================] - 52s 517ms/step - loss: 0.1180 - acc: 0.9798 - val_loss: 0.1441 - val_acc: 0.9649\n",
      "Epoch 18/20\n",
      "100/100 [==============================] - 52s 525ms/step - loss: 0.0786 - acc: 0.9837 - val_loss: 0.1639 - val_acc: 0.9689\n",
      "Epoch 19/20\n",
      "100/100 [==============================] - 52s 516ms/step - loss: 0.1392 - acc: 0.9777 - val_loss: 0.1810 - val_acc: 0.9645\n",
      "Epoch 20/20\n",
      "100/100 [==============================] - 51s 512ms/step - loss: 0.1247 - acc: 0.9793 - val_loss: 0.2078 - val_acc: 0.9579\n"
     ]
    }
   ],
   "source": [
    "history = model.fit_generator(\n",
    "      train_generator,\n",
    "      steps_per_epoch=100,\n",
    "      epochs=20,\n",
    "      validation_data=validation_generator,\n",
    "      validation_steps=114)"
   ]
  },
  {
   "cell_type": "code",
   "execution_count": 16,
   "metadata": {},
   "outputs": [],
   "source": [
    "model.save('fresh_and_rotten_1.h5')"
   ]
  },
  {
   "cell_type": "code",
   "execution_count": 41,
   "metadata": {},
   "outputs": [],
   "source": [
    "from keras import layers\n",
    "from keras import models\n",
    "\n",
    "model_1 = models.Sequential()\n",
    "model_1.add(layers.Conv2D(36, (3, 3), activation='elu',\n",
    "                        input_shape=(150, 150, 3)))\n",
    "model_1.add(layers.MaxPooling2D((2, 2)))\n",
    "model_1.add(layers.Conv2D(72, (3, 3), activation='elu'))\n",
    "model_1.add(layers.MaxPooling2D((2, 2)))\n",
    "model_1.add(layers.Conv2D(72, (3, 3), activation='relu'))\n",
    "model_1.add(layers.MaxPooling2D((2, 2)))\n",
    "model_1.add(layers.Conv2D(288, (3, 3), activation='relu'))\n",
    "model_1.add(layers.MaxPooling2D((2, 2)))\n",
    "model_1.add(layers.Flatten())\n",
    "model_1.add(layers.Dense(576, activation='relu'))\n",
    "model_1.add(layers.Dense(576, activation='relu'))\n",
    "model_1.add(layers.Dense(6, activation='softmax'))\n",
    "\n",
    "model_1.compile(loss = 'categorical_crossentropy',\n",
    "             optimizer = optimizers.RMSprop(lr = 1e-3),\n",
    "             metrics = ['acc'])"
   ]
  },
  {
   "cell_type": "code",
   "execution_count": 30,
   "metadata": {},
   "outputs": [
    {
     "name": "stdout",
     "output_type": "stream",
     "text": [
      "_________________________________________________________________\n",
      "Layer (type)                 Output Shape              Param #   \n",
      "=================================================================\n",
      "conv2d_13 (Conv2D)           (None, 148, 148, 36)      1008      \n",
      "_________________________________________________________________\n",
      "max_pooling2d_13 (MaxPooling (None, 74, 74, 36)        0         \n",
      "_________________________________________________________________\n",
      "conv2d_14 (Conv2D)           (None, 72, 72, 72)        23400     \n",
      "_________________________________________________________________\n",
      "max_pooling2d_14 (MaxPooling (None, 36, 36, 72)        0         \n",
      "_________________________________________________________________\n",
      "conv2d_15 (Conv2D)           (None, 34, 34, 72)        46728     \n",
      "_________________________________________________________________\n",
      "max_pooling2d_15 (MaxPooling (None, 17, 17, 72)        0         \n",
      "_________________________________________________________________\n",
      "conv2d_16 (Conv2D)           (None, 15, 15, 288)       186912    \n",
      "_________________________________________________________________\n",
      "max_pooling2d_16 (MaxPooling (None, 7, 7, 288)         0         \n",
      "_________________________________________________________________\n",
      "flatten_4 (Flatten)          (None, 14112)             0         \n",
      "_________________________________________________________________\n",
      "dense_10 (Dense)             (None, 576)               8129088   \n",
      "_________________________________________________________________\n",
      "dense_11 (Dense)             (None, 576)               332352    \n",
      "_________________________________________________________________\n",
      "dense_12 (Dense)             (None, 6)                 3462      \n",
      "=================================================================\n",
      "Total params: 8,722,950\n",
      "Trainable params: 8,722,950\n",
      "Non-trainable params: 0\n",
      "_________________________________________________________________\n"
     ]
    }
   ],
   "source": [
    "model_1.summary()"
   ]
  },
  {
   "cell_type": "code",
   "execution_count": 42,
   "metadata": {
    "scrolled": false
   },
   "outputs": [
    {
     "name": "stdout",
     "output_type": "stream",
     "text": [
      "Epoch 1/10\n",
      "100/100 [==============================] - 33s 334ms/step - loss: 1.7028 - acc: 0.3440 - val_loss: 1.3986 - val_acc: 0.4513\n",
      "Epoch 2/10\n",
      "100/100 [==============================] - 41s 412ms/step - loss: 0.9760 - acc: 0.6888 - val_loss: 0.9708 - val_acc: 0.6500\n",
      "Epoch 3/10\n",
      "100/100 [==============================] - 46s 460ms/step - loss: 0.6103 - acc: 0.8022 - val_loss: 0.4096 - val_acc: 0.8465\n",
      "Epoch 4/10\n",
      "100/100 [==============================] - 47s 472ms/step - loss: 0.4514 - acc: 0.8517 - val_loss: 0.2180 - val_acc: 0.9254\n",
      "Epoch 5/10\n",
      "100/100 [==============================] - 52s 516ms/step - loss: 0.3442 - acc: 0.8913 - val_loss: 0.2028 - val_acc: 0.9338\n",
      "Epoch 6/10\n",
      "100/100 [==============================] - 54s 544ms/step - loss: 0.2614 - acc: 0.9142 - val_loss: 0.3447 - val_acc: 0.8811\n",
      "Epoch 7/10\n",
      "100/100 [==============================] - 51s 514ms/step - loss: 0.2331 - acc: 0.9273 - val_loss: 0.1670 - val_acc: 0.9421\n",
      "Epoch 8/10\n",
      "100/100 [==============================] - 50s 503ms/step - loss: 0.1818 - acc: 0.9473 - val_loss: 0.1609 - val_acc: 0.9408\n",
      "Epoch 9/10\n",
      "100/100 [==============================] - 54s 536ms/step - loss: 0.1726 - acc: 0.9532 - val_loss: 0.2689 - val_acc: 0.9246\n",
      "Epoch 10/10\n",
      "100/100 [==============================] - 53s 533ms/step - loss: 0.1588 - acc: 0.9583 - val_loss: 0.2004 - val_acc: 0.9408\n"
     ]
    }
   ],
   "source": [
    "history = model_1.fit_generator(\n",
    "      train_generator,\n",
    "      steps_per_epoch=100,\n",
    "      epochs=10,\n",
    "      validation_data=validation_generator,\n",
    "      validation_steps=114)"
   ]
  },
  {
   "cell_type": "code",
   "execution_count": null,
   "metadata": {},
   "outputs": [],
   "source": [
    "model_1.save('fresh_and_rotten_2.h5')"
   ]
  },
  {
   "cell_type": "code",
   "execution_count": 39,
   "metadata": {},
   "outputs": [
    {
     "name": "stdout",
     "output_type": "stream",
     "text": [
      "Found 2280 images belonging to 6 classes.\n"
     ]
    }
   ],
   "source": [
    "test_datagen = ImageDataGenerator(rescale=1./255)\n",
    "test_generator = test_datagen.flow_from_directory(\n",
    "    test_dir,\n",
    "    target_size = (150,150),\n",
    "    batch_size = 20,\n",
    "    class_mode = 'categorical')"
   ]
  },
  {
   "cell_type": "code",
   "execution_count": 43,
   "metadata": {},
   "outputs": [
    {
     "name": "stdout",
     "output_type": "stream",
     "text": [
      "test loss:  0.2953551594167948\n",
      "test acc:  0.9399999976158142\n"
     ]
    }
   ],
   "source": [
    "test_loss, test_acc = model.evaluate_generator(test_generator, steps=5)\n",
    "print('test loss: ', test_loss)\n",
    "print('test acc: ', test_acc)"
   ]
  },
  {
   "cell_type": "code",
   "execution_count": 21,
   "metadata": {},
   "outputs": [
    {
     "name": "stdout",
     "output_type": "stream",
     "text": [
      "test loss:  0.15089869544144677\n",
      "test acc:  0.9799999952316284\n"
     ]
    }
   ],
   "source": [
    "test_loss, test_acc = model_1.evaluate_generator(test_generator, steps=5)\n",
    "print('test loss: ', test_loss)\n",
    "print('test acc: ', test_acc)"
   ]
  },
  {
   "cell_type": "code",
   "execution_count": 64,
   "metadata": {},
   "outputs": [
    {
     "name": "stdout",
     "output_type": "stream",
     "text": [
      "test loss:  0.16727475922083326\n",
      "test acc:  0.9649122739047334\n"
     ]
    }
   ],
   "source": [
    "test_loss, test_acc = model_1.evaluate_generator(test_generator, steps=114)\n",
    "print('test loss: ', test_loss)\n",
    "print('test acc: ', test_acc)"
   ]
  },
  {
   "cell_type": "code",
   "execution_count": null,
   "metadata": {},
   "outputs": [],
   "source": []
  },
  {
   "cell_type": "code",
   "execution_count": null,
   "metadata": {},
   "outputs": [],
   "source": [
    "import numpy as np\n",
    "\n",
    "test_labels = test_labels.argmax(axis = -1)\n",
    "pred_labels = model.predict(test_images).argmax(axis = -1)\n",
    "print('target:', test_labels[0])\n",
    "print('predict:', pred_labels[0])"
   ]
  },
  {
   "cell_type": "code",
   "execution_count": 28,
   "metadata": {},
   "outputs": [
    {
     "name": "stdout",
     "output_type": "stream",
     "text": [
      "[[10 18 11 22 23 16]\n",
      " [ 0  0  0  0  0  0]\n",
      " [ 0  0  0  0  0  0]\n",
      " [ 0  0  0  0  0  0]\n",
      " [ 0  0  0  0  0  0]\n",
      " [ 0  0  0  0  0  0]]\n"
     ]
    }
   ],
   "source": [
    "from sklearn.metrics import classification_report, confusion_matrix\n",
    "\n",
    "predictions = model_1.predict_generator(test_generator, steps=5)\n",
    "test_preds = np.argmax(predictions, axis=-1)\n",
    "l=test_preds.shape[0]\n",
    "test_trues = validation_generator.classes\n",
    "cm =confusion_matrix(test_trues[:l], test_preds)\n",
    "print(cm)"
   ]
  },
  {
   "cell_type": "code",
   "execution_count": 25,
   "metadata": {},
   "outputs": [
    {
     "data": {
      "text/plain": [
       "array([[1.00000000e+00, 5.61545049e-21, 1.03870848e-17, 1.77873328e-14,\n",
       "        1.22656051e-34, 2.76288458e-19],\n",
       "       [1.38074910e-26, 3.54534474e-17, 5.37597055e-28, 1.83070941e-12,\n",
       "        1.00000000e+00, 7.99630019e-16],\n",
       "       [2.31965531e-16, 2.08078662e-15, 7.93849708e-11, 1.01197692e-07,\n",
       "        5.34079760e-11, 9.99999881e-01],\n",
       "       [7.64455387e-36, 4.13892595e-31, 3.43672068e-27, 1.26092723e-27,\n",
       "        0.00000000e+00, 1.00000000e+00],\n",
       "       [1.95793632e-06, 8.38264356e-08, 1.19278794e-02, 9.29113507e-01,\n",
       "        7.15136705e-09, 5.89566901e-02],\n",
       "       [6.40583586e-09, 2.15819900e-18, 7.91969528e-12, 1.00000000e+00,\n",
       "        1.44321479e-18, 2.04572782e-11],\n",
       "       [3.57157771e-13, 4.06782693e-18, 2.73345026e-17, 1.00000000e+00,\n",
       "        9.73954614e-17, 1.11129356e-10],\n",
       "       [6.06203412e-12, 1.00000000e+00, 5.76786882e-14, 2.37075679e-14,\n",
       "        4.66077741e-12, 6.57959554e-09],\n",
       "       [1.00000000e+00, 4.01866908e-12, 2.67231637e-09, 2.52687182e-09,\n",
       "        3.33487331e-20, 1.31970266e-08],\n",
       "       [2.27511911e-16, 5.35068300e-13, 1.00000000e+00, 6.18436591e-09,\n",
       "        4.63895651e-21, 1.47346562e-11],\n",
       "       [1.40881587e-32, 1.00000000e+00, 8.91563238e-28, 1.08352074e-37,\n",
       "        3.06910018e-21, 3.60542486e-16],\n",
       "       [2.22719947e-07, 3.67847652e-13, 4.38225411e-12, 9.99999762e-01,\n",
       "        2.54168810e-08, 1.91938287e-08],\n",
       "       [2.52041847e-01, 1.14626710e-05, 7.02644110e-01, 4.49093916e-02,\n",
       "        2.94895997e-10, 3.93143942e-04],\n",
       "       [1.16127701e-16, 1.59128093e-21, 2.81286496e-13, 1.00000000e+00,\n",
       "        6.22901334e-26, 8.68075482e-14],\n",
       "       [4.24570391e-30, 3.70033870e-18, 2.73809705e-30, 6.97374865e-17,\n",
       "        1.00000000e+00, 1.74555953e-12],\n",
       "       [3.37483682e-22, 1.00000000e+00, 2.77205170e-24, 4.67016947e-29,\n",
       "        1.73255492e-18, 3.15353860e-15],\n",
       "       [1.94197564e-05, 2.48713689e-10, 3.28237002e-06, 9.99975920e-01,\n",
       "        5.73173523e-11, 1.28405179e-06],\n",
       "       [7.22937377e-24, 1.00000000e+00, 1.18012796e-22, 7.26346348e-30,\n",
       "        7.75427803e-22, 7.41296977e-15],\n",
       "       [8.55520010e-09, 8.98362894e-12, 9.99964118e-01, 1.14019741e-07,\n",
       "        1.52777015e-19, 3.57292229e-05],\n",
       "       [3.09621469e-30, 3.49942977e-18, 5.15309922e-31, 3.23474513e-15,\n",
       "        1.00000000e+00, 3.15054476e-15],\n",
       "       [9.74676398e-38, 3.57994703e-24, 0.00000000e+00, 2.55186191e-18,\n",
       "        1.00000000e+00, 3.36970234e-23],\n",
       "       [3.71765026e-29, 3.18072928e-18, 3.53616567e-29, 7.41927763e-15,\n",
       "        1.00000000e+00, 5.62687544e-15],\n",
       "       [5.01408511e-23, 1.53868474e-10, 1.00000000e+00, 1.92096332e-14,\n",
       "        4.15723512e-23, 1.22674162e-10],\n",
       "       [7.34994443e-17, 1.00000000e+00, 4.86529653e-13, 2.01312018e-19,\n",
       "        3.70496319e-15, 1.46040993e-08],\n",
       "       [1.92237400e-22, 1.00000000e+00, 1.97076699e-19, 1.53868762e-25,\n",
       "        6.15483097e-16, 1.57779085e-12],\n",
       "       [5.26666554e-07, 2.83747036e-11, 3.39289166e-08, 9.99999404e-01,\n",
       "        6.61863210e-14, 1.04411207e-07],\n",
       "       [1.91493040e-37, 5.70333960e-35, 2.18152685e-31, 4.15218722e-34,\n",
       "        0.00000000e+00, 1.00000000e+00],\n",
       "       [1.00000000e+00, 3.32240825e-25, 6.41846760e-17, 5.75488796e-15,\n",
       "        0.00000000e+00, 6.23609396e-20],\n",
       "       [2.89529787e-14, 3.90003542e-21, 1.00000000e+00, 4.37941627e-11,\n",
       "        5.50115634e-33, 3.21351307e-10],\n",
       "       [1.06495645e-32, 6.97954321e-19, 3.94533297e-27, 2.98938023e-15,\n",
       "        1.00000000e+00, 7.93927125e-18],\n",
       "       [2.03862736e-22, 7.25611099e-11, 1.00000000e+00, 1.07411274e-15,\n",
       "        2.04030783e-22, 1.71141123e-13],\n",
       "       [1.01639750e-06, 2.71714387e-11, 6.03043837e-09, 9.99998927e-01,\n",
       "        1.36973468e-13, 1.48250123e-08],\n",
       "       [1.13456798e-21, 1.00000000e+00, 1.00366882e-15, 9.71702707e-23,\n",
       "        2.86876405e-14, 5.13998735e-15],\n",
       "       [7.33943880e-01, 8.64974425e-07, 1.11986659e-01, 1.54064879e-01,\n",
       "        2.49938199e-12, 3.68048950e-06],\n",
       "       [8.63675738e-18, 6.50084014e-18, 6.74974963e-12, 2.93965969e-13,\n",
       "        4.57001164e-23, 1.00000000e+00],\n",
       "       [1.00000000e+00, 3.06671965e-24, 5.93709237e-15, 6.07572432e-17,\n",
       "        0.00000000e+00, 2.41402868e-17],\n",
       "       [1.81008759e-13, 6.62422261e-20, 1.00000000e+00, 7.52058919e-12,\n",
       "        2.55438566e-32, 2.85724194e-10],\n",
       "       [1.59559177e-09, 1.59995953e-12, 9.99987006e-01, 5.94240873e-07,\n",
       "        1.52016616e-19, 1.24418511e-05],\n",
       "       [4.26173210e-06, 5.21782392e-14, 1.88371332e-11, 9.99995589e-01,\n",
       "        2.30420558e-10, 8.58548646e-08],\n",
       "       [5.22580141e-19, 1.00000000e+00, 2.10941703e-20, 5.88148236e-22,\n",
       "        3.82081113e-13, 6.10271653e-13],\n",
       "       [2.62457493e-17, 7.05731317e-28, 9.67763552e-22, 1.00000000e+00,\n",
       "        6.27972560e-22, 4.14237143e-15],\n",
       "       [2.26729571e-16, 1.00000000e+00, 2.91192553e-20, 6.48166773e-20,\n",
       "        7.53412469e-13, 5.87988047e-10],\n",
       "       [3.02505169e-33, 7.75890245e-20, 2.26392130e-34, 3.89988326e-15,\n",
       "        1.00000000e+00, 4.53107464e-16],\n",
       "       [0.00000000e+00, 4.01151538e-35, 0.00000000e+00, 1.05776260e-23,\n",
       "        1.00000000e+00, 9.45388815e-29],\n",
       "       [2.28370431e-21, 1.00000000e+00, 8.29341374e-18, 8.40142583e-25,\n",
       "        1.92218108e-13, 3.43067545e-12],\n",
       "       [6.60400108e-31, 7.48393623e-25, 4.03112203e-19, 1.83233033e-27,\n",
       "        0.00000000e+00, 1.00000000e+00],\n",
       "       [1.00000000e+00, 7.79317739e-24, 1.48464378e-17, 2.92722453e-15,\n",
       "        0.00000000e+00, 1.97619285e-21],\n",
       "       [0.00000000e+00, 3.57427792e-27, 0.00000000e+00, 3.53963509e-21,\n",
       "        1.00000000e+00, 1.85170939e-20],\n",
       "       [4.47884604e-25, 1.59209978e-22, 1.29394474e-20, 1.33115150e-24,\n",
       "        1.39450761e-32, 1.00000000e+00],\n",
       "       [4.68760044e-17, 1.00000000e+00, 2.50694160e-15, 1.38457632e-14,\n",
       "        1.20271215e-09, 1.43203791e-11],\n",
       "       [7.95217389e-24, 9.99971271e-01, 5.84232950e-25, 1.53730241e-29,\n",
       "        1.04228996e-18, 2.87436851e-05],\n",
       "       [1.74473370e-12, 1.43144895e-17, 9.99999881e-01, 4.09941137e-10,\n",
       "        2.30245888e-28, 7.48224451e-08],\n",
       "       [4.79664834e-07, 8.25011115e-10, 4.54504363e-04, 9.99544561e-01,\n",
       "        3.17687500e-14, 4.91059893e-07],\n",
       "       [4.16914083e-18, 5.75301919e-16, 4.41077220e-17, 3.61313898e-14,\n",
       "        1.82388478e-20, 1.00000000e+00],\n",
       "       [0.00000000e+00, 1.83660784e-25, 3.88246099e-28, 0.00000000e+00,\n",
       "        0.00000000e+00, 1.00000000e+00],\n",
       "       [1.44370000e-17, 1.00000000e+00, 3.35700630e-12, 1.59242947e-20,\n",
       "        1.75679530e-16, 5.67193070e-10],\n",
       "       [1.10696661e-07, 9.99999762e-01, 8.05702059e-15, 1.45170891e-15,\n",
       "        1.65597747e-13, 1.42839056e-07],\n",
       "       [2.61602883e-17, 1.04793079e-23, 1.00000000e+00, 6.83831735e-13,\n",
       "        3.59258931e-38, 4.19123894e-12],\n",
       "       [1.58787464e-19, 1.00000000e+00, 6.42931868e-26, 1.71615763e-24,\n",
       "        5.71700970e-16, 6.71131956e-18],\n",
       "       [4.59723015e-09, 3.65561227e-12, 7.74340947e-07, 9.99999285e-01,\n",
       "        2.59085127e-17, 2.40826514e-09],\n",
       "       [0.00000000e+00, 4.04287703e-24, 0.00000000e+00, 2.30172387e-26,\n",
       "        1.00000000e+00, 1.17295602e-22],\n",
       "       [1.00000000e+00, 9.27664872e-16, 3.05323301e-12, 7.58941798e-10,\n",
       "        9.38606328e-25, 1.95926697e-09],\n",
       "       [1.00000000e+00, 3.36529950e-21, 1.29671250e-19, 1.09042905e-14,\n",
       "        1.22685975e-27, 9.42356235e-16],\n",
       "       [9.99865413e-01, 3.54314625e-12, 2.23198003e-05, 1.12291542e-04,\n",
       "        1.22047366e-18, 2.74593326e-08],\n",
       "       [2.18828755e-09, 1.46159799e-12, 2.59680610e-10, 9.99478400e-01,\n",
       "        4.29042046e-09, 5.21662936e-04],\n",
       "       [6.25097186e-15, 7.02062881e-22, 6.58789470e-17, 1.00000000e+00,\n",
       "        6.33710701e-26, 2.95721564e-14],\n",
       "       [5.62188616e-05, 6.98873706e-08, 9.64855147e-08, 9.99918461e-01,\n",
       "        2.59367443e-08, 2.51338060e-05],\n",
       "       [0.00000000e+00, 3.15541744e-29, 0.00000000e+00, 9.92194931e-24,\n",
       "        1.00000000e+00, 5.08427164e-23],\n",
       "       [1.23347481e-05, 1.73120995e-09, 5.60409948e-11, 9.99958873e-01,\n",
       "        2.86926079e-05, 1.47591706e-07],\n",
       "       [2.74827999e-05, 9.56756809e-13, 9.99627233e-01, 3.45232984e-04,\n",
       "        5.69271643e-20, 1.54209812e-09],\n",
       "       [3.34621518e-06, 1.95489633e-06, 8.55877876e-01, 3.19205932e-02,\n",
       "        5.30115986e-11, 1.12196237e-01],\n",
       "       [2.56422615e-25, 1.00000000e+00, 6.20398609e-29, 7.73325775e-34,\n",
       "        6.29288425e-24, 8.09489416e-20],\n",
       "       [7.80657587e-29, 2.01657435e-16, 8.29837607e-27, 5.91615710e-15,\n",
       "        1.00000000e+00, 8.07433344e-14],\n",
       "       [7.39771039e-31, 1.32481738e-19, 1.80990749e-25, 2.75497851e-28,\n",
       "        1.65499569e-32, 1.00000000e+00],\n",
       "       [1.00000000e+00, 1.72628587e-20, 6.00828221e-18, 1.90285409e-14,\n",
       "        3.16096331e-34, 1.38640285e-17],\n",
       "       [7.29607607e-12, 1.00000000e+00, 9.93841745e-11, 3.25367828e-16,\n",
       "        1.17801114e-12, 5.55522313e-08],\n",
       "       [6.22110918e-10, 3.13524231e-14, 3.46139653e-12, 1.00000000e+00,\n",
       "        2.79761303e-15, 1.73174115e-08],\n",
       "       [1.70124807e-27, 3.88165132e-18, 6.24070134e-23, 3.94790173e-30,\n",
       "        3.22007392e-35, 1.00000000e+00],\n",
       "       [2.79351672e-31, 1.09848566e-16, 4.68344755e-27, 4.82260227e-17,\n",
       "        1.00000000e+00, 2.82955128e-17],\n",
       "       [1.00000000e+00, 5.69782520e-17, 1.28837396e-09, 3.38457845e-10,\n",
       "        9.93034054e-27, 8.26480540e-13],\n",
       "       [4.54362416e-05, 7.88748025e-07, 6.41868683e-05, 9.99586523e-01,\n",
       "        2.33149237e-07, 3.02824948e-04],\n",
       "       [1.52222346e-18, 1.00000000e+00, 1.06714827e-17, 2.63213680e-23,\n",
       "        4.08877373e-15, 1.34636045e-08],\n",
       "       [1.25927327e-20, 1.00000000e+00, 4.59628204e-26, 1.45331425e-25,\n",
       "        2.04735225e-18, 2.01080348e-18],\n",
       "       [4.95152852e-09, 1.96985389e-15, 4.37494138e-11, 1.00000000e+00,\n",
       "        2.16639545e-13, 1.19311636e-08],\n",
       "       [4.69521018e-23, 1.00000000e+00, 4.84877517e-18, 7.20333909e-22,\n",
       "        5.62893032e-17, 8.13388163e-16],\n",
       "       [1.04928192e-17, 1.86023783e-23, 1.00000000e+00, 3.51667675e-12,\n",
       "        1.59604633e-37, 2.08108270e-13],\n",
       "       [1.44274540e-35, 1.76253448e-16, 3.47284971e-31, 1.17515556e-21,\n",
       "        1.00000000e+00, 2.04498039e-17],\n",
       "       [5.42701994e-11, 4.57969412e-15, 9.99999046e-01, 1.37753808e-08,\n",
       "        1.11491132e-23, 9.27662029e-07],\n",
       "       [9.99999762e-01, 7.82683920e-17, 9.05552976e-13, 1.80049284e-07,\n",
       "        3.48492479e-24, 1.89114349e-12],\n",
       "       [4.15492241e-06, 1.00996822e-09, 5.61738329e-11, 9.97749507e-01,\n",
       "        2.23985408e-03, 6.44259626e-06],\n",
       "       [1.00000000e+00, 2.15209680e-20, 6.50947991e-13, 5.56100090e-08,\n",
       "        8.92496521e-26, 3.48825481e-14],\n",
       "       [1.13318678e-31, 8.12616599e-22, 6.79839047e-32, 6.26883049e-16,\n",
       "        1.00000000e+00, 6.55551197e-15],\n",
       "       [2.38239445e-24, 3.10571146e-24, 1.80770695e-13, 1.56659332e-20,\n",
       "        2.07235521e-33, 1.00000000e+00],\n",
       "       [5.44754629e-15, 1.70091356e-04, 8.50389298e-14, 4.46306530e-15,\n",
       "        4.10949893e-15, 9.99829888e-01],\n",
       "       [1.10605680e-19, 7.64641849e-14, 1.00000000e+00, 4.93389392e-11,\n",
       "        1.53311293e-21, 4.99959503e-13],\n",
       "       [1.67940852e-11, 9.99972582e-01, 7.83875898e-09, 6.10498197e-13,\n",
       "        4.96528998e-11, 2.73826554e-05],\n",
       "       [8.85797422e-19, 1.00000000e+00, 1.58502729e-23, 3.83070275e-22,\n",
       "        8.44016579e-10, 1.64644715e-10],\n",
       "       [2.18053597e-09, 3.60980137e-16, 1.21358913e-12, 1.00000000e+00,\n",
       "        3.23161914e-11, 3.90808808e-08],\n",
       "       [3.65593934e-07, 5.80787400e-08, 9.99937534e-01, 5.26383292e-06,\n",
       "        1.05017915e-14, 5.67071984e-05],\n",
       "       [1.00000000e+00, 3.03966625e-15, 6.60149290e-13, 4.89355472e-08,\n",
       "        1.49430720e-19, 2.83642242e-11]], dtype=float32)"
      ]
     },
     "execution_count": 25,
     "metadata": {},
     "output_type": "execute_result"
    }
   ],
   "source": [
    "predictions"
   ]
  },
  {
   "cell_type": "code",
   "execution_count": null,
   "metadata": {},
   "outputs": [],
   "source": []
  },
  {
   "cell_type": "markdown",
   "metadata": {},
   "source": [
    "과적합 확인"
   ]
  },
  {
   "cell_type": "code",
   "execution_count": 11,
   "metadata": {},
   "outputs": [],
   "source": [
    "import matplotlib.pyplot as plt"
   ]
  },
  {
   "cell_type": "code",
   "execution_count": 36,
   "metadata": {},
   "outputs": [
    {
     "data": {
      "image/png": "[encoded data removed]",
      "text/plain": [
       "<Figure size 432x288 with 1 Axes>"
      ]
     },
     "metadata": {
      "needs_background": "light"
     },
     "output_type": "display_data"
    },
    {
     "data": {
      "image/png": "[encoded data removed]",
      "text/plain": [
       "<Figure size 432x288 with 1 Axes>"
      ]
     },
     "metadata": {
      "needs_background": "light"
     },
     "output_type": "display_data"
    }
   ],
   "source": [
    "acc = history.history['acc']\n",
    "val_acc = history.history['val_acc']\n",
    "loss = history.history['loss']\n",
    "val_loss = history.history['val_loss']\n",
    "\n",
    "epochs = range(len(acc))\n",
    "\n",
    "plt.plot(epochs, acc, 'bo', label='Training acc')\n",
    "plt.plot(epochs, val_acc, 'b', label='Validation acc')\n",
    "plt.title('Training and validation accuracy')\n",
    "plt.legend()\n",
    "\n",
    "plt.figure()\n",
    "\n",
    "plt.plot(epochs, loss, 'ro', label='Training loss')\n",
    "plt.plot(epochs, val_loss, 'r', label='Validation loss')\n",
    "plt.title('Training and validation loss')\n",
    "plt.legend()\n",
    "\n",
    "plt.show()"
   ]
  },
  {
   "cell_type": "code",
   "execution_count": null,
   "metadata": {},
   "outputs": [],
   "source": [
    "from PIL import Image as Im # pip install Pillow (png파일 읽을 떄 전용함수)\n",
    "import numpy as np\n",
    "import tensorflow as tf\n",
    "import matplotlib.pyplot as plt\n",
    "\n",
    "Lena = Im.open('C:/Users/Affinity/Desktop/study/Module05/lena.jpg') # 이미지열기\n",
    "Lena.size # 이미지 크리 출력 (40000나옴)\n",
    "# Lena.show() # 이미지 보기\n",
    "Lena = Lena.resize((200,200)) # 크기를 200x200 으로\n",
    "Lena = Lena.convert('L') # 흑백화면으로\n",
    "Lena = np.array(Lena, dtype = np.float32) # 행렬로\n",
    "Lena = Lena.reshape(1, 200, 200, 1)\n",
    "Lena.shape # [1,200,200,1]=[batch, ht, wdth, channel 수]\n",
    "K1 = tf.constant([[[[-1.]],[[-1.]],[[-1.]]],[[[-1.]],[[9.]],[[-1.]]],[[[-1.]],[[-1.]],[[-1.]]]])\n",
    "# K1 size = (3,3,1,1) = [ht, wdth, channel, 개수]\n",
    "a1 = tf.nn.conv2d(Lena, K1, strides = [1,1,1,1], padding = 'VALID')\n",
    "\n",
    "sess = tf.Session()\n",
    "a1 = sess.run(a1)\n",
    "a1.shape # = [1, 9=198, 198, 1] = [channel수, ht, wdth, batch]\n",
    "a1_img = np.swapaxes(a1, 0, 3)\n",
    "a1_img.shape # axis 0과 3을 서로 바꾸기 => [1, 198, 198, 1] = [batch,ht,wdth,channel수]\n",
    "\n",
    "# 최대값 풀링(2)\n",
    "h1 = tf.nn.max_pool(a1_img, ksize = [1,2,2,1],\n",
    "                    strides = [1,2,2,1], padding = 'VALID')\n",
    "\n",
    "h1 = sess.run(h1)\n",
    "h1.shape # [1, 99, 99, 1]\n",
    "plt.subplot(1,3,1)\n",
    "plt.imshow(Lena.reshape(200, 200), cmap = 'Greys')\n",
    "plt.subplot(1,3,2)\n",
    "plt.imshow(a1_img.reshape(198,198), cmap = 'Greys')\n",
    "plt.subplot(1,3,3)\n",
    "plt.imshow(h1.reshape(99,99), cmap = 'Greys')"
   ]
  },
  {
   "cell_type": "markdown",
   "metadata": {},
   "source": [
    "### 저장한 모델 로드하기"
   ]
  },
  {
   "cell_type": "code",
   "execution_count": 6,
   "metadata": {},
   "outputs": [
    {
     "name": "stderr",
     "output_type": "stream",
     "text": [
      "Using TensorFlow backend.\n"
     ]
    },
    {
     "name": "stdout",
     "output_type": "stream",
     "text": [
      "_________________________________________________________________\n",
      "Layer (type)                 Output Shape              Param #   \n",
      "=================================================================\n",
      "conv2d_9 (Conv2D)            (None, 148, 148, 36)      1008      \n",
      "_________________________________________________________________\n",
      "max_pooling2d_9 (MaxPooling2 (None, 74, 74, 36)        0         \n",
      "_________________________________________________________________\n",
      "conv2d_10 (Conv2D)           (None, 72, 72, 72)        23400     \n",
      "_________________________________________________________________\n",
      "max_pooling2d_10 (MaxPooling (None, 36, 36, 72)        0         \n",
      "_________________________________________________________________\n",
      "conv2d_11 (Conv2D)           (None, 34, 34, 72)        46728     \n",
      "_________________________________________________________________\n",
      "max_pooling2d_11 (MaxPooling (None, 17, 17, 72)        0         \n",
      "_________________________________________________________________\n",
      "conv2d_12 (Conv2D)           (None, 15, 15, 288)       186912    \n",
      "_________________________________________________________________\n",
      "max_pooling2d_12 (MaxPooling (None, 7, 7, 288)         0         \n",
      "_________________________________________________________________\n",
      "flatten_3 (Flatten)          (None, 14112)             0         \n",
      "_________________________________________________________________\n",
      "dense_7 (Dense)              (None, 576)               8129088   \n",
      "_________________________________________________________________\n",
      "dense_8 (Dense)              (None, 360)               207720    \n",
      "_________________________________________________________________\n",
      "dense_9 (Dense)              (None, 6)                 2166      \n",
      "=================================================================\n",
      "Total params: 8,597,022\n",
      "Trainable params: 8,597,022\n",
      "Non-trainable params: 0\n",
      "_________________________________________________________________\n"
     ]
    }
   ],
   "source": [
    "from keras.models import load_model\n",
    "\n",
    "model_1 = load_model('fresh_and_rotten_1.h5')\n",
    "model_1.summary()"
   ]
  },
  {
   "cell_type": "markdown",
   "metadata": {},
   "source": [
    "다른 과일 사진 가져와서 predict 해보기"
   ]
  },
  {
   "cell_type": "code",
   "execution_count": 62,
   "metadata": {},
   "outputs": [
    {
     "name": "stdout",
     "output_type": "stream",
     "text": [
      "Found 4 images belonging to 1 classes.\n"
     ]
    }
   ],
   "source": [
    "\n",
    "from keras.preprocessing.image import ImageDataGenerator\n",
    "test_datagen = ImageDataGenerator(rescale=1./255)\n",
    "testing_apple = test_datagen.flow_from_directory('C:/Users/Affinity/Documents/fresh_fruit_test', target_size=(150, 150))"
   ]
  },
  {
   "cell_type": "code",
   "execution_count": 63,
   "metadata": {
    "scrolled": true
   },
   "outputs": [
    {
     "data": {
      "text/plain": [
       "array([1, 0, 0, 4], dtype=int64)"
      ]
     },
     "execution_count": 63,
     "metadata": {},
     "output_type": "execute_result"
    }
   ],
   "source": [
    "model_1.predict_generator(testing_apple, steps = 1).argmax(axis = 1)"
   ]
  },
  {
   "cell_type": "code",
   "execution_count": 40,
   "metadata": {},
   "outputs": [
    {
     "name": "stdout",
     "output_type": "stream",
     "text": [
      "{'freshapples': 0, 'freshbanana': 1, 'freshoranges': 2, 'rottenapples': 3, 'rottenbanana': 4, 'rottenoranges': 5}\n"
     ]
    }
   ],
   "source": [
    "print(test_generator.class_indices)"
   ]
  },
  {
   "cell_type": "code",
   "execution_count": null,
   "metadata": {},
   "outputs": [],
   "source": [
    "img_path = 'C:/Users/Affinity/Documents/fresh_fruit_test/딱따구리/6.jpg'\n",
    "\n",
    "# 이미지를 4D 텐서로 변경합니다.\n",
    "from keras.preprocessing import image\n",
    "import numpy as np\n",
    "\n",
    "img = image.load_img"
   ]
  },
  {
   "cell_type": "code",
   "execution_count": null,
   "metadata": {},
   "outputs": [],
   "source": []
  },
  {
   "cell_type": "code",
   "execution_count": 65,
   "metadata": {},
   "outputs": [
    {
     "name": "stdout",
     "output_type": "stream",
     "text": [
      "_________________________________________________________________\n",
      "Layer (type)                 Output Shape              Param #   \n",
      "=================================================================\n",
      "conv2d_9 (Conv2D)            (None, 148, 148, 32)      896       \n",
      "_________________________________________________________________\n",
      "max_pooling2d_7 (MaxPooling2 (None, 74, 74, 32)        0         \n",
      "_________________________________________________________________\n",
      "conv2d_10 (Conv2D)           (None, 72, 72, 64)        18496     \n",
      "_________________________________________________________________\n",
      "max_pooling2d_8 (MaxPooling2 (None, 36, 36, 64)        0         \n",
      "_________________________________________________________________\n",
      "conv2d_11 (Conv2D)           (None, 34, 34, 128)       73856     \n",
      "_________________________________________________________________\n",
      "max_pooling2d_9 (MaxPooling2 (None, 17, 17, 128)       0         \n",
      "_________________________________________________________________\n",
      "conv2d_12 (Conv2D)           (None, 15, 15, 128)       147584    \n",
      "_________________________________________________________________\n",
      "max_pooling2d_10 (MaxPooling (None, 7, 7, 128)         0         \n",
      "_________________________________________________________________\n",
      "flatten_3 (Flatten)          (None, 6272)              0         \n",
      "_________________________________________________________________\n",
      "dropout_1 (Dropout)          (None, 6272)              0         \n",
      "_________________________________________________________________\n",
      "dense_5 (Dense)              (None, 512)               3211776   \n",
      "_________________________________________________________________\n",
      "dense_6 (Dense)              (None, 1)                 513       \n",
      "=================================================================\n",
      "Total params: 3,453,121\n",
      "Trainable params: 3,453,121\n",
      "Non-trainable params: 0\n",
      "_________________________________________________________________\n"
     ]
    }
   ],
   "source": [
    "\n",
    "from keras.models import load_model\n",
    "\n",
    "model = load_model('cats_and_dogs_small_2.h5')\n",
    "model.summary()  # 기억을 되살리기 위해서 모델 구조를 출력합니다"
   ]
  },
  {
   "cell_type": "code",
   "execution_count": null,
   "metadata": {},
   "outputs": [],
   "source": []
  },
  {
   "cell_type": "code",
   "execution_count": 66,
   "metadata": {},
   "outputs": [],
   "source": [
    "from keras import models\n",
    "\n",
    "# 상위 8개 층의 출력을 추출합니다:\n",
    "layer_outputs = [layer.output for layer in model.layers[:8]]\n",
    "# 입력에 대해 8개 층의 출력을 반환하는 모델을 만듭니다:\n",
    "activation_model = models.Model(inputs=model.input, outputs=layer_outputs)"
   ]
  },
  {
   "cell_type": "code",
   "execution_count": 69,
   "metadata": {},
   "outputs": [
    {
     "data": {
      "text/plain": [
       "<keras.engine.training.Model at 0x1c994f45898>"
      ]
     },
     "execution_count": 69,
     "metadata": {},
     "output_type": "execute_result"
    }
   ],
   "source": [
    "activation_model"
   ]
  },
  {
   "cell_type": "code",
   "execution_count": null,
   "metadata": {},
   "outputs": [],
   "source": []
  },
  {
   "cell_type": "code",
   "execution_count": null,
   "metadata": {},
   "outputs": [],
   "source": []
  }
 ],
 "metadata": {
  "kernelspec": {
   "display_name": "keras",
   "language": "python",
   "name": "keras"
  },
  "language_info": {
   "codemirror_mode": {
    "name": "ipython",
    "version": 3
   },
   "file_extension": ".py",
   "mimetype": "text/x-python",
   "name": "python",
   "nbconvert_exporter": "python",
   "pygments_lexer": "ipython3",
   "version": "3.6.8"
  },
  "widgets": {
   "state": {},
   "version": "1.1.2"
  }
 },
 "nbformat": 4,
 "nbformat_minor": 2
}
